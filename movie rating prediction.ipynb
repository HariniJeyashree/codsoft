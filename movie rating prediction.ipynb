{
 "cells": [
  {
   "cell_type": "markdown",
   "id": "4668969d",
   "metadata": {
    "papermill": {
     "duration": 0.028989,
     "end_time": "2024-09-02T07:54:56.291795",
     "exception": false,
     "start_time": "2024-09-02T07:54:56.262806",
     "status": "completed"
    },
    "tags": []
   },
   "source": [
    "# Importing  libraries and reading data"
   ]
  },
  {
   "cell_type": "code",
   "execution_count": 1,
   "id": "5645c709",
   "metadata": {
    "ExecuteTime": {
     "end_time": "2024-06-23T23:34:45.812756Z",
     "start_time": "2024-06-23T23:34:45.807501Z"
    },
    "execution": {
     "iopub.execute_input": "2024-09-02T07:54:56.353779Z",
     "iopub.status.busy": "2024-09-02T07:54:56.353238Z",
     "iopub.status.idle": "2024-09-02T07:55:00.119487Z",
     "shell.execute_reply": "2024-09-02T07:55:00.118166Z"
    },
    "papermill": {
     "duration": 3.802417,
     "end_time": "2024-09-02T07:55:00.122594",
     "exception": false,
     "start_time": "2024-09-02T07:54:56.320177",
     "status": "completed"
    },
    "tags": []
   },
   "outputs": [],
   "source": [
    "import pandas as pd \n",
    "import numpy as np\n",
    "from scipy import stats\n",
    "import matplotlib.pyplot as plt\n",
    "import seaborn as sns\n",
    "\n",
    "import plotly.express as px\n",
    "from plotly.offline import iplot\n",
    "from plotly.subplots import make_subplots\n",
    "\n",
    "import warnings\n",
    "warnings.simplefilter(action=\"ignore\")\n",
    "sns.set_theme(palette=sns.color_palette(\"muted\"),style=\"darkgrid\")"
   ]
  },
  {
   "cell_type": "code",
   "execution_count": 2,
   "id": "ee7b55e0",
   "metadata": {
    "ExecuteTime": {
     "end_time": "2024-06-23T23:34:45.855219Z",
     "start_time": "2024-06-23T23:34:45.815769Z"
    },
    "execution": {
     "iopub.execute_input": "2024-09-02T07:55:00.178760Z",
     "iopub.status.busy": "2024-09-02T07:55:00.178096Z",
     "iopub.status.idle": "2024-09-02T07:55:00.278520Z",
     "shell.execute_reply": "2024-09-02T07:55:00.277133Z"
    },
    "papermill": {
     "duration": 0.131479,
     "end_time": "2024-09-02T07:55:00.281567",
     "exception": false,
     "start_time": "2024-09-02T07:55:00.150088",
     "status": "completed"
    },
    "tags": []
   },
   "outputs": [],
   "source": [
    "data = pd.read_csv(\"/kaggle/input/imdb-india-movies/IMDb Movies India.csv\",encoding='latin-1')"
   ]
  },
  {
   "cell_type": "code",
   "execution_count": 3,
   "id": "8c9e4e55",
   "metadata": {
    "ExecuteTime": {
     "end_time": "2024-06-23T23:34:45.869673Z",
     "start_time": "2024-06-23T23:34:45.857739Z"
    },
    "execution": {
     "iopub.execute_input": "2024-09-02T07:55:00.337549Z",
     "iopub.status.busy": "2024-09-02T07:55:00.337102Z",
     "iopub.status.idle": "2024-09-02T07:55:00.380892Z",
     "shell.execute_reply": "2024-09-02T07:55:00.379659Z"
    },
    "papermill": {
     "duration": 0.075027,
     "end_time": "2024-09-02T07:55:00.383712",
     "exception": false,
     "start_time": "2024-09-02T07:55:00.308685",
     "status": "completed"
    },
    "tags": []
   },
   "outputs": [
    {
     "data": {
      "text/html": [
       "<div>\n",
       "<style scoped>\n",
       "    .dataframe tbody tr th:only-of-type {\n",
       "        vertical-align: middle;\n",
       "    }\n",
       "\n",
       "    .dataframe tbody tr th {\n",
       "        vertical-align: top;\n",
       "    }\n",
       "\n",
       "    .dataframe thead th {\n",
       "        text-align: right;\n",
       "    }\n",
       "</style>\n",
       "<table border=\"1\" class=\"dataframe\">\n",
       "  <thead>\n",
       "    <tr style=\"text-align: right;\">\n",
       "      <th></th>\n",
       "      <th>Name</th>\n",
       "      <th>Year</th>\n",
       "      <th>Duration</th>\n",
       "      <th>Genre</th>\n",
       "      <th>Rating</th>\n",
       "      <th>Votes</th>\n",
       "      <th>Director</th>\n",
       "      <th>Actor 1</th>\n",
       "      <th>Actor 2</th>\n",
       "      <th>Actor 3</th>\n",
       "    </tr>\n",
       "  </thead>\n",
       "  <tbody>\n",
       "    <tr>\n",
       "      <th>15295</th>\n",
       "      <td>Yehi Hai High Society</td>\n",
       "      <td>(2005)</td>\n",
       "      <td>132 min</td>\n",
       "      <td>Thriller</td>\n",
       "      <td>4.8</td>\n",
       "      <td>14</td>\n",
       "      <td>Ravi Sinha</td>\n",
       "      <td>Aaryan</td>\n",
       "      <td>Abhay Bhargava</td>\n",
       "      <td>Dinesh Hingoo</td>\n",
       "    </tr>\n",
       "    <tr>\n",
       "      <th>14328</th>\n",
       "      <td>Three Losses</td>\n",
       "      <td>(2021)</td>\n",
       "      <td>60 min</td>\n",
       "      <td>Documentary</td>\n",
       "      <td>NaN</td>\n",
       "      <td>NaN</td>\n",
       "      <td>Rahul Sharma</td>\n",
       "      <td>Shimi Dolkar</td>\n",
       "      <td>Mathias Durand</td>\n",
       "      <td>Florence Galinier</td>\n",
       "    </tr>\n",
       "    <tr>\n",
       "      <th>10010</th>\n",
       "      <td>Nashilee Jawani</td>\n",
       "      <td>(1986)</td>\n",
       "      <td>NaN</td>\n",
       "      <td>Romance</td>\n",
       "      <td>4.5</td>\n",
       "      <td>8</td>\n",
       "      <td>I.V. Sasi</td>\n",
       "      <td>Krishna Ghattamaneni</td>\n",
       "      <td>Sridevi</td>\n",
       "      <td>NaN</td>\n",
       "    </tr>\n",
       "    <tr>\n",
       "      <th>13965</th>\n",
       "      <td>Thakur Bhavani Singh</td>\n",
       "      <td>(1993)</td>\n",
       "      <td>NaN</td>\n",
       "      <td>Action</td>\n",
       "      <td>NaN</td>\n",
       "      <td>NaN</td>\n",
       "      <td>Gautami</td>\n",
       "      <td>Vijayakanth</td>\n",
       "      <td>NaN</td>\n",
       "      <td>NaN</td>\n",
       "    </tr>\n",
       "    <tr>\n",
       "      <th>2843</th>\n",
       "      <td>Chandidas</td>\n",
       "      <td>(1934)</td>\n",
       "      <td>128 min</td>\n",
       "      <td>NaN</td>\n",
       "      <td>6.6</td>\n",
       "      <td>5</td>\n",
       "      <td>Nitin Bose</td>\n",
       "      <td>K.L. Saigal</td>\n",
       "      <td>Umasashi</td>\n",
       "      <td>Pahadi Sanyal</td>\n",
       "    </tr>\n",
       "    <tr>\n",
       "      <th>15371</th>\n",
       "      <td>Zamaana Deewana</td>\n",
       "      <td>(1995)</td>\n",
       "      <td>162 min</td>\n",
       "      <td>Action, Comedy, Drama</td>\n",
       "      <td>4.9</td>\n",
       "      <td>1,925</td>\n",
       "      <td>Ramesh Sippy</td>\n",
       "      <td>Jeetendra</td>\n",
       "      <td>Shatrughan Sinha</td>\n",
       "      <td>Shah Rukh Khan</td>\n",
       "    </tr>\n",
       "    <tr>\n",
       "      <th>14262</th>\n",
       "      <td>The Test</td>\n",
       "      <td>NaN</td>\n",
       "      <td>NaN</td>\n",
       "      <td>Comedy</td>\n",
       "      <td>NaN</td>\n",
       "      <td>NaN</td>\n",
       "      <td>David Bonner</td>\n",
       "      <td>NaN</td>\n",
       "      <td>NaN</td>\n",
       "      <td>NaN</td>\n",
       "    </tr>\n",
       "    <tr>\n",
       "      <th>10008</th>\n",
       "      <td>Nasheela Shabaab</td>\n",
       "      <td>(2002)</td>\n",
       "      <td>65 min</td>\n",
       "      <td>Thriller</td>\n",
       "      <td>NaN</td>\n",
       "      <td>NaN</td>\n",
       "      <td>Shakeela</td>\n",
       "      <td>Sindhu</td>\n",
       "      <td>NaN</td>\n",
       "      <td>NaN</td>\n",
       "    </tr>\n",
       "    <tr>\n",
       "      <th>5276</th>\n",
       "      <td>Gun Fight</td>\n",
       "      <td>(1960)</td>\n",
       "      <td>NaN</td>\n",
       "      <td>Action</td>\n",
       "      <td>NaN</td>\n",
       "      <td>NaN</td>\n",
       "      <td>Shyam Kumar</td>\n",
       "      <td>Amar Nath</td>\n",
       "      <td>Nilofer</td>\n",
       "      <td>Tun Tun</td>\n",
       "    </tr>\n",
       "    <tr>\n",
       "      <th>4641</th>\n",
       "      <td>Farz Aur Khoon</td>\n",
       "      <td>(1978)</td>\n",
       "      <td>NaN</td>\n",
       "      <td>Action</td>\n",
       "      <td>NaN</td>\n",
       "      <td>NaN</td>\n",
       "      <td>Bharati Devi</td>\n",
       "      <td>Shivaji Ganesan</td>\n",
       "      <td>NaN</td>\n",
       "      <td>NaN</td>\n",
       "    </tr>\n",
       "  </tbody>\n",
       "</table>\n",
       "</div>"
      ],
      "text/plain": [
       "                        Name    Year Duration                  Genre  Rating  \\\n",
       "15295  Yehi Hai High Society  (2005)  132 min               Thriller     4.8   \n",
       "14328           Three Losses  (2021)   60 min            Documentary     NaN   \n",
       "10010        Nashilee Jawani  (1986)      NaN                Romance     4.5   \n",
       "13965   Thakur Bhavani Singh  (1993)      NaN                 Action     NaN   \n",
       "2843               Chandidas  (1934)  128 min                    NaN     6.6   \n",
       "15371        Zamaana Deewana  (1995)  162 min  Action, Comedy, Drama     4.9   \n",
       "14262               The Test     NaN      NaN                 Comedy     NaN   \n",
       "10008       Nasheela Shabaab  (2002)   65 min               Thriller     NaN   \n",
       "5276               Gun Fight  (1960)      NaN                 Action     NaN   \n",
       "4641          Farz Aur Khoon  (1978)      NaN                 Action     NaN   \n",
       "\n",
       "       Votes      Director               Actor 1           Actor 2  \\\n",
       "15295     14    Ravi Sinha                Aaryan    Abhay Bhargava   \n",
       "14328    NaN  Rahul Sharma          Shimi Dolkar    Mathias Durand   \n",
       "10010      8     I.V. Sasi  Krishna Ghattamaneni           Sridevi   \n",
       "13965    NaN       Gautami           Vijayakanth               NaN   \n",
       "2843       5    Nitin Bose           K.L. Saigal          Umasashi   \n",
       "15371  1,925  Ramesh Sippy             Jeetendra  Shatrughan Sinha   \n",
       "14262    NaN  David Bonner                   NaN               NaN   \n",
       "10008    NaN      Shakeela                Sindhu               NaN   \n",
       "5276     NaN   Shyam Kumar             Amar Nath           Nilofer   \n",
       "4641     NaN  Bharati Devi       Shivaji Ganesan               NaN   \n",
       "\n",
       "                 Actor 3  \n",
       "15295      Dinesh Hingoo  \n",
       "14328  Florence Galinier  \n",
       "10010                NaN  \n",
       "13965                NaN  \n",
       "2843       Pahadi Sanyal  \n",
       "15371     Shah Rukh Khan  \n",
       "14262                NaN  \n",
       "10008                NaN  \n",
       "5276             Tun Tun  \n",
       "4641                 NaN  "
      ]
     },
     "execution_count": 3,
     "metadata": {},
     "output_type": "execute_result"
    }
   ],
   "source": [
    "data.sample(10)"
   ]
  },
  {
   "cell_type": "code",
   "execution_count": 4,
   "id": "c8bf8461",
   "metadata": {
    "ExecuteTime": {
     "end_time": "2024-06-23T23:34:45.888364Z",
     "start_time": "2024-06-23T23:34:45.871679Z"
    },
    "execution": {
     "iopub.execute_input": "2024-09-02T07:55:00.442158Z",
     "iopub.status.busy": "2024-09-02T07:55:00.441770Z",
     "iopub.status.idle": "2024-09-02T07:55:00.481742Z",
     "shell.execute_reply": "2024-09-02T07:55:00.480499Z"
    },
    "papermill": {
     "duration": 0.072197,
     "end_time": "2024-09-02T07:55:00.484456",
     "exception": false,
     "start_time": "2024-09-02T07:55:00.412259",
     "status": "completed"
    },
    "tags": []
   },
   "outputs": [
    {
     "name": "stdout",
     "output_type": "stream",
     "text": [
      "<class 'pandas.core.frame.DataFrame'>\n",
      "RangeIndex: 15509 entries, 0 to 15508\n",
      "Data columns (total 10 columns):\n",
      " #   Column    Non-Null Count  Dtype  \n",
      "---  ------    --------------  -----  \n",
      " 0   Name      15509 non-null  object \n",
      " 1   Year      14981 non-null  object \n",
      " 2   Duration  7240 non-null   object \n",
      " 3   Genre     13632 non-null  object \n",
      " 4   Rating    7919 non-null   float64\n",
      " 5   Votes     7920 non-null   object \n",
      " 6   Director  14984 non-null  object \n",
      " 7   Actor 1   13892 non-null  object \n",
      " 8   Actor 2   13125 non-null  object \n",
      " 9   Actor 3   12365 non-null  object \n",
      "dtypes: float64(1), object(9)\n",
      "memory usage: 1.2+ MB\n"
     ]
    }
   ],
   "source": [
    "data.info()"
   ]
  },
  {
   "cell_type": "markdown",
   "id": "507ecc80",
   "metadata": {
    "papermill": {
     "duration": 0.027016,
     "end_time": "2024-09-02T07:55:00.538726",
     "exception": false,
     "start_time": "2024-09-02T07:55:00.511710",
     "status": "completed"
    },
    "tags": []
   },
   "source": [
    "# Data cleaning"
   ]
  },
  {
   "cell_type": "code",
   "execution_count": 5,
   "id": "6863f724",
   "metadata": {
    "ExecuteTime": {
     "end_time": "2024-06-23T23:34:45.901834Z",
     "start_time": "2024-06-23T23:34:45.891373Z"
    },
    "execution": {
     "iopub.execute_input": "2024-09-02T07:55:00.596294Z",
     "iopub.status.busy": "2024-09-02T07:55:00.595869Z",
     "iopub.status.idle": "2024-09-02T07:55:00.620524Z",
     "shell.execute_reply": "2024-09-02T07:55:00.619302Z"
    },
    "papermill": {
     "duration": 0.056917,
     "end_time": "2024-09-02T07:55:00.623204",
     "exception": false,
     "start_time": "2024-09-02T07:55:00.566287",
     "status": "completed"
    },
    "tags": []
   },
   "outputs": [
    {
     "data": {
      "text/plain": [
       "Name           0\n",
       "Year         528\n",
       "Duration    8269\n",
       "Genre       1877\n",
       "Rating      7590\n",
       "Votes       7589\n",
       "Director     525\n",
       "Actor 1     1617\n",
       "Actor 2     2384\n",
       "Actor 3     3144\n",
       "dtype: int64"
      ]
     },
     "execution_count": 5,
     "metadata": {},
     "output_type": "execute_result"
    }
   ],
   "source": [
    "data.isna().sum()"
   ]
  },
  {
   "cell_type": "markdown",
   "id": "1a22d2d5",
   "metadata": {
    "papermill": {
     "duration": 0.02864,
     "end_time": "2024-09-02T07:55:00.682185",
     "exception": false,
     "start_time": "2024-09-02T07:55:00.653545",
     "status": "completed"
    },
    "tags": []
   },
   "source": [
    "## Removing Null values"
   ]
  },
  {
   "cell_type": "code",
   "execution_count": 6,
   "id": "092d701f",
   "metadata": {
    "ExecuteTime": {
     "end_time": "2024-06-23T23:34:45.920757Z",
     "start_time": "2024-06-23T23:34:45.903842Z"
    },
    "execution": {
     "iopub.execute_input": "2024-09-02T07:55:00.741026Z",
     "iopub.status.busy": "2024-09-02T07:55:00.740553Z",
     "iopub.status.idle": "2024-09-02T07:55:00.764861Z",
     "shell.execute_reply": "2024-09-02T07:55:00.763581Z"
    },
    "papermill": {
     "duration": 0.057391,
     "end_time": "2024-09-02T07:55:00.767651",
     "exception": false,
     "start_time": "2024-09-02T07:55:00.710260",
     "status": "completed"
    },
    "tags": []
   },
   "outputs": [],
   "source": [
    "data= data.dropna(subset=[\"Year\",\"Genre\",\"Director\",\"Actor 1\",\"Actor 2\",\"Actor 3\",\"Rating\"])"
   ]
  },
  {
   "cell_type": "code",
   "execution_count": 7,
   "id": "2427bdfd",
   "metadata": {
    "ExecuteTime": {
     "end_time": "2024-06-23T23:34:45.94162Z",
     "start_time": "2024-06-23T23:34:45.923767Z"
    },
    "execution": {
     "iopub.execute_input": "2024-09-02T07:55:00.825302Z",
     "iopub.status.busy": "2024-09-02T07:55:00.824889Z",
     "iopub.status.idle": "2024-09-02T07:55:00.842004Z",
     "shell.execute_reply": "2024-09-02T07:55:00.840692Z"
    },
    "papermill": {
     "duration": 0.04932,
     "end_time": "2024-09-02T07:55:00.844885",
     "exception": false,
     "start_time": "2024-09-02T07:55:00.795565",
     "status": "completed"
    },
    "tags": []
   },
   "outputs": [],
   "source": [
    "data = data.dropna().reset_index(drop=True)"
   ]
  },
  {
   "cell_type": "code",
   "execution_count": 8,
   "id": "383e9cc5",
   "metadata": {
    "ExecuteTime": {
     "end_time": "2024-06-23T23:34:45.951249Z",
     "start_time": "2024-06-23T23:34:45.942628Z"
    },
    "execution": {
     "iopub.execute_input": "2024-09-02T07:55:00.903472Z",
     "iopub.status.busy": "2024-09-02T07:55:00.903031Z",
     "iopub.status.idle": "2024-09-02T07:55:00.910639Z",
     "shell.execute_reply": "2024-09-02T07:55:00.909410Z"
    },
    "papermill": {
     "duration": 0.04025,
     "end_time": "2024-09-02T07:55:00.913296",
     "exception": false,
     "start_time": "2024-09-02T07:55:00.873046",
     "status": "completed"
    },
    "tags": []
   },
   "outputs": [
    {
     "data": {
      "text/plain": [
       "(5659, 10)"
      ]
     },
     "execution_count": 8,
     "metadata": {},
     "output_type": "execute_result"
    }
   ],
   "source": [
    "data.shape"
   ]
  },
  {
   "cell_type": "markdown",
   "id": "94ccc743",
   "metadata": {
    "papermill": {
     "duration": 0.02945,
     "end_time": "2024-09-02T07:55:01.033446",
     "exception": false,
     "start_time": "2024-09-02T07:55:01.003996",
     "status": "completed"
    },
    "tags": []
   },
   "source": [
    "## Changing duration and votes to numeric"
   ]
  },
  {
   "cell_type": "code",
   "execution_count": 9,
   "id": "a2413cda",
   "metadata": {
    "ExecuteTime": {
     "end_time": "2024-06-23T23:34:45.967782Z",
     "start_time": "2024-06-23T23:34:45.953256Z"
    },
    "execution": {
     "iopub.execute_input": "2024-09-02T07:55:01.094198Z",
     "iopub.status.busy": "2024-09-02T07:55:01.093773Z",
     "iopub.status.idle": "2024-09-02T07:55:01.112636Z",
     "shell.execute_reply": "2024-09-02T07:55:01.111389Z"
    },
    "papermill": {
     "duration": 0.051757,
     "end_time": "2024-09-02T07:55:01.115495",
     "exception": false,
     "start_time": "2024-09-02T07:55:01.063738",
     "status": "completed"
    },
    "tags": []
   },
   "outputs": [],
   "source": [
    "data[\"Duration\"] = data.loc[:,\"Duration\"].str.replace(\" min\",\"\")\n",
    "data[\"Duration\"] = pd.to_numeric(data.loc[:,\"Duration\"])"
   ]
  },
  {
   "cell_type": "code",
   "execution_count": 10,
   "id": "95ed2443",
   "metadata": {
    "ExecuteTime": {
     "end_time": "2024-06-23T23:34:45.983143Z",
     "start_time": "2024-06-23T23:34:45.971015Z"
    },
    "execution": {
     "iopub.execute_input": "2024-09-02T07:55:01.174698Z",
     "iopub.status.busy": "2024-09-02T07:55:01.174227Z",
     "iopub.status.idle": "2024-09-02T07:55:01.192201Z",
     "shell.execute_reply": "2024-09-02T07:55:01.190786Z"
    },
    "papermill": {
     "duration": 0.051925,
     "end_time": "2024-09-02T07:55:01.195315",
     "exception": false,
     "start_time": "2024-09-02T07:55:01.143390",
     "status": "completed"
    },
    "tags": []
   },
   "outputs": [],
   "source": [
    "data[\"Votes\"] = data.loc[:,\"Votes\"].str.replace(\",\",\"\")\n",
    "data[\"Votes\"] = pd.to_numeric(data.loc[:,\"Votes\"])"
   ]
  },
  {
   "cell_type": "code",
   "execution_count": 11,
   "id": "da22dbe9",
   "metadata": {
    "ExecuteTime": {
     "end_time": "2024-06-23T23:34:45.99119Z",
     "start_time": "2024-06-23T23:34:45.985153Z"
    },
    "execution": {
     "iopub.execute_input": "2024-09-02T07:55:01.255681Z",
     "iopub.status.busy": "2024-09-02T07:55:01.254296Z",
     "iopub.status.idle": "2024-09-02T07:55:01.263419Z",
     "shell.execute_reply": "2024-09-02T07:55:01.261997Z"
    },
    "papermill": {
     "duration": 0.042907,
     "end_time": "2024-09-02T07:55:01.266925",
     "exception": false,
     "start_time": "2024-09-02T07:55:01.224018",
     "status": "completed"
    },
    "tags": []
   },
   "outputs": [
    {
     "data": {
      "text/plain": [
       "(5659, 10)"
      ]
     },
     "execution_count": 11,
     "metadata": {},
     "output_type": "execute_result"
    }
   ],
   "source": [
    "data.shape"
   ]
  },
  {
   "cell_type": "markdown",
   "id": "9a92915f",
   "metadata": {
    "papermill": {
     "duration": 0.03027,
     "end_time": "2024-09-02T07:55:01.326405",
     "exception": false,
     "start_time": "2024-09-02T07:55:01.296135",
     "status": "completed"
    },
    "tags": []
   },
   "source": [
    "## Removing duplicated data"
   ]
  },
  {
   "cell_type": "code",
   "execution_count": 12,
   "id": "2f39fad6",
   "metadata": {
    "ExecuteTime": {
     "end_time": "2024-06-23T23:34:46.006261Z",
     "start_time": "2024-06-23T23:34:45.993204Z"
    },
    "execution": {
     "iopub.execute_input": "2024-09-02T07:55:01.387598Z",
     "iopub.status.busy": "2024-09-02T07:55:01.386424Z",
     "iopub.status.idle": "2024-09-02T07:55:01.397435Z",
     "shell.execute_reply": "2024-09-02T07:55:01.396425Z"
    },
    "papermill": {
     "duration": 0.045786,
     "end_time": "2024-09-02T07:55:01.400218",
     "exception": false,
     "start_time": "2024-09-02T07:55:01.354432",
     "status": "completed"
    },
    "tags": []
   },
   "outputs": [
    {
     "data": {
      "text/plain": [
       "2"
      ]
     },
     "execution_count": 12,
     "metadata": {},
     "output_type": "execute_result"
    }
   ],
   "source": [
    "data.duplicated(subset=[\"Name\",\"Year\"]).sum()"
   ]
  },
  {
   "cell_type": "code",
   "execution_count": 13,
   "id": "f23effda",
   "metadata": {
    "ExecuteTime": {
     "end_time": "2024-06-23T23:34:46.016661Z",
     "start_time": "2024-06-23T23:34:46.007785Z"
    },
    "execution": {
     "iopub.execute_input": "2024-09-02T07:55:01.459843Z",
     "iopub.status.busy": "2024-09-02T07:55:01.459446Z",
     "iopub.status.idle": "2024-09-02T07:55:01.471416Z",
     "shell.execute_reply": "2024-09-02T07:55:01.470165Z"
    },
    "papermill": {
     "duration": 0.045093,
     "end_time": "2024-09-02T07:55:01.474293",
     "exception": false,
     "start_time": "2024-09-02T07:55:01.429200",
     "status": "completed"
    },
    "tags": []
   },
   "outputs": [],
   "source": [
    "data=data.drop_duplicates(keep=\"first\",subset=[\"Name\",\"Year\"]).reset_index(drop=True)"
   ]
  },
  {
   "cell_type": "code",
   "execution_count": 14,
   "id": "e39ccc59",
   "metadata": {
    "ExecuteTime": {
     "end_time": "2024-06-23T23:34:46.026251Z",
     "start_time": "2024-06-23T23:34:46.020743Z"
    },
    "execution": {
     "iopub.execute_input": "2024-09-02T07:55:01.536809Z",
     "iopub.status.busy": "2024-09-02T07:55:01.536401Z",
     "iopub.status.idle": "2024-09-02T07:55:01.544868Z",
     "shell.execute_reply": "2024-09-02T07:55:01.543361Z"
    },
    "papermill": {
     "duration": 0.044483,
     "end_time": "2024-09-02T07:55:01.547761",
     "exception": false,
     "start_time": "2024-09-02T07:55:01.503278",
     "status": "completed"
    },
    "tags": []
   },
   "outputs": [
    {
     "data": {
      "text/plain": [
       "Index(['Name', 'Year', 'Duration', 'Genre', 'Rating', 'Votes', 'Director',\n",
       "       'Actor 1', 'Actor 2', 'Actor 3'],\n",
       "      dtype='object')"
      ]
     },
     "execution_count": 14,
     "metadata": {},
     "output_type": "execute_result"
    }
   ],
   "source": [
    "data.columns"
   ]
  },
  {
   "cell_type": "markdown",
   "id": "72e4cf83",
   "metadata": {
    "papermill": {
     "duration": 0.029327,
     "end_time": "2024-09-02T07:55:01.607099",
     "exception": false,
     "start_time": "2024-09-02T07:55:01.577772",
     "status": "completed"
    },
    "tags": []
   },
   "source": [
    "## Cleaning Genre and year columns and adding new genre column for further analysis"
   ]
  },
  {
   "cell_type": "code",
   "execution_count": 15,
   "id": "d77d5eea",
   "metadata": {
    "ExecuteTime": {
     "end_time": "2024-06-23T23:34:46.048905Z",
     "start_time": "2024-06-23T23:34:46.027776Z"
    },
    "execution": {
     "iopub.execute_input": "2024-09-02T07:55:01.667610Z",
     "iopub.status.busy": "2024-09-02T07:55:01.667160Z",
     "iopub.status.idle": "2024-09-02T07:55:01.696993Z",
     "shell.execute_reply": "2024-09-02T07:55:01.695452Z"
    },
    "papermill": {
     "duration": 0.063189,
     "end_time": "2024-09-02T07:55:01.700083",
     "exception": false,
     "start_time": "2024-09-02T07:55:01.636894",
     "status": "completed"
    },
    "tags": []
   },
   "outputs": [],
   "source": [
    "data[\"Year\"] = data.loc[:,\"Year\"].str.extract(r\"(\\d{4})\")\n",
    "data[\"Year\"] = pd.to_numeric(data.loc[:,\"Year\"])"
   ]
  },
  {
   "cell_type": "code",
   "execution_count": 16,
   "id": "cd875e5a",
   "metadata": {
    "ExecuteTime": {
     "end_time": "2024-06-23T23:34:46.062102Z",
     "start_time": "2024-06-23T23:34:46.050914Z"
    },
    "execution": {
     "iopub.execute_input": "2024-09-02T07:55:01.759459Z",
     "iopub.status.busy": "2024-09-02T07:55:01.759008Z",
     "iopub.status.idle": "2024-09-02T07:55:01.769130Z",
     "shell.execute_reply": "2024-09-02T07:55:01.767881Z"
    },
    "papermill": {
     "duration": 0.042897,
     "end_time": "2024-09-02T07:55:01.772077",
     "exception": false,
     "start_time": "2024-09-02T07:55:01.729180",
     "status": "completed"
    },
    "tags": []
   },
   "outputs": [],
   "source": [
    "data[\"Genre\"] = data.loc[:,\"Genre\"].str.replace(\"Musical\",\"Music\")"
   ]
  },
  {
   "cell_type": "code",
   "execution_count": 17,
   "id": "444e1c16",
   "metadata": {
    "ExecuteTime": {
     "end_time": "2024-06-23T23:34:46.077624Z",
     "start_time": "2024-06-23T23:34:46.06411Z"
    },
    "execution": {
     "iopub.execute_input": "2024-09-02T07:55:01.836475Z",
     "iopub.status.busy": "2024-09-02T07:55:01.835987Z",
     "iopub.status.idle": "2024-09-02T07:55:01.861726Z",
     "shell.execute_reply": "2024-09-02T07:55:01.859911Z"
    },
    "papermill": {
     "duration": 0.062642,
     "end_time": "2024-09-02T07:55:01.864799",
     "exception": false,
     "start_time": "2024-09-02T07:55:01.802157",
     "status": "completed"
    },
    "tags": []
   },
   "outputs": [],
   "source": [
    "data[\"Main_genre\"] = data.loc[:,\"Genre\"].str.extract(\"(^\\w{1,11})\")"
   ]
  },
  {
   "cell_type": "code",
   "execution_count": 18,
   "id": "7ed7f77e",
   "metadata": {
    "ExecuteTime": {
     "end_time": "2024-06-23T23:34:46.089148Z",
     "start_time": "2024-06-23T23:34:46.080142Z"
    },
    "execution": {
     "iopub.execute_input": "2024-09-02T07:55:01.926319Z",
     "iopub.status.busy": "2024-09-02T07:55:01.925854Z",
     "iopub.status.idle": "2024-09-02T07:55:01.935825Z",
     "shell.execute_reply": "2024-09-02T07:55:01.934313Z"
    },
    "papermill": {
     "duration": 0.043216,
     "end_time": "2024-09-02T07:55:01.938831",
     "exception": false,
     "start_time": "2024-09-02T07:55:01.895615",
     "status": "completed"
    },
    "tags": []
   },
   "outputs": [
    {
     "data": {
      "text/plain": [
       "array(['Drama', 'Comedy', 'Horror', 'Action', 'Crime', 'Thriller',\n",
       "       'Adventure', 'Sport', 'Biography', 'Documentary', 'Mystery',\n",
       "       'Music', 'Romance', 'Fantasy', 'Sci', 'Family', 'History',\n",
       "       'Animation', 'War'], dtype=object)"
      ]
     },
     "execution_count": 18,
     "metadata": {},
     "output_type": "execute_result"
    }
   ],
   "source": [
    "data[\"Main_genre\"].unique()"
   ]
  },
  {
   "cell_type": "markdown",
   "id": "a321b958",
   "metadata": {
    "papermill": {
     "duration": 0.028866,
     "end_time": "2024-09-02T07:55:01.998033",
     "exception": false,
     "start_time": "2024-09-02T07:55:01.969167",
     "status": "completed"
    },
    "tags": []
   },
   "source": [
    "## Removing outliers using zscore method"
   ]
  },
  {
   "cell_type": "code",
   "execution_count": 19,
   "id": "d0009ed3",
   "metadata": {
    "ExecuteTime": {
     "end_time": "2024-06-23T23:34:46.108686Z",
     "start_time": "2024-06-23T23:34:46.091157Z"
    },
    "execution": {
     "iopub.execute_input": "2024-09-02T07:55:02.057432Z",
     "iopub.status.busy": "2024-09-02T07:55:02.057021Z",
     "iopub.status.idle": "2024-09-02T07:55:02.085349Z",
     "shell.execute_reply": "2024-09-02T07:55:02.083985Z"
    },
    "papermill": {
     "duration": 0.061543,
     "end_time": "2024-09-02T07:55:02.088117",
     "exception": false,
     "start_time": "2024-09-02T07:55:02.026574",
     "status": "completed"
    },
    "tags": []
   },
   "outputs": [
    {
     "data": {
      "text/html": [
       "<div>\n",
       "<style scoped>\n",
       "    .dataframe tbody tr th:only-of-type {\n",
       "        vertical-align: middle;\n",
       "    }\n",
       "\n",
       "    .dataframe tbody tr th {\n",
       "        vertical-align: top;\n",
       "    }\n",
       "\n",
       "    .dataframe thead th {\n",
       "        text-align: right;\n",
       "    }\n",
       "</style>\n",
       "<table border=\"1\" class=\"dataframe\">\n",
       "  <thead>\n",
       "    <tr style=\"text-align: right;\">\n",
       "      <th></th>\n",
       "      <th>Year</th>\n",
       "      <th>Duration</th>\n",
       "      <th>Rating</th>\n",
       "      <th>Votes</th>\n",
       "    </tr>\n",
       "  </thead>\n",
       "  <tbody>\n",
       "    <tr>\n",
       "      <th>count</th>\n",
       "      <td>5657.000000</td>\n",
       "      <td>5657.00000</td>\n",
       "      <td>5657.000000</td>\n",
       "      <td>5657.00000</td>\n",
       "    </tr>\n",
       "    <tr>\n",
       "      <th>mean</th>\n",
       "      <td>1996.254198</td>\n",
       "      <td>133.44087</td>\n",
       "      <td>5.897967</td>\n",
       "      <td>2698.59802</td>\n",
       "    </tr>\n",
       "    <tr>\n",
       "      <th>std</th>\n",
       "      <td>19.729583</td>\n",
       "      <td>25.32374</td>\n",
       "      <td>1.381035</td>\n",
       "      <td>13653.82378</td>\n",
       "    </tr>\n",
       "    <tr>\n",
       "      <th>min</th>\n",
       "      <td>1931.000000</td>\n",
       "      <td>21.00000</td>\n",
       "      <td>1.100000</td>\n",
       "      <td>5.00000</td>\n",
       "    </tr>\n",
       "    <tr>\n",
       "      <th>25%</th>\n",
       "      <td>1983.000000</td>\n",
       "      <td>119.00000</td>\n",
       "      <td>5.000000</td>\n",
       "      <td>30.00000</td>\n",
       "    </tr>\n",
       "    <tr>\n",
       "      <th>50%</th>\n",
       "      <td>2002.000000</td>\n",
       "      <td>135.00000</td>\n",
       "      <td>6.100000</td>\n",
       "      <td>131.00000</td>\n",
       "    </tr>\n",
       "    <tr>\n",
       "      <th>75%</th>\n",
       "      <td>2013.000000</td>\n",
       "      <td>150.00000</td>\n",
       "      <td>6.900000</td>\n",
       "      <td>923.00000</td>\n",
       "    </tr>\n",
       "    <tr>\n",
       "      <th>max</th>\n",
       "      <td>2021.000000</td>\n",
       "      <td>321.00000</td>\n",
       "      <td>10.000000</td>\n",
       "      <td>591417.00000</td>\n",
       "    </tr>\n",
       "  </tbody>\n",
       "</table>\n",
       "</div>"
      ],
      "text/plain": [
       "              Year    Duration       Rating         Votes\n",
       "count  5657.000000  5657.00000  5657.000000    5657.00000\n",
       "mean   1996.254198   133.44087     5.897967    2698.59802\n",
       "std      19.729583    25.32374     1.381035   13653.82378\n",
       "min    1931.000000    21.00000     1.100000       5.00000\n",
       "25%    1983.000000   119.00000     5.000000      30.00000\n",
       "50%    2002.000000   135.00000     6.100000     131.00000\n",
       "75%    2013.000000   150.00000     6.900000     923.00000\n",
       "max    2021.000000   321.00000    10.000000  591417.00000"
      ]
     },
     "execution_count": 19,
     "metadata": {},
     "output_type": "execute_result"
    }
   ],
   "source": [
    "data.describe()"
   ]
  },
  {
   "cell_type": "code",
   "execution_count": 20,
   "id": "72a983af",
   "metadata": {
    "ExecuteTime": {
     "end_time": "2024-06-23T23:34:46.119944Z",
     "start_time": "2024-06-23T23:34:46.110699Z"
    },
    "execution": {
     "iopub.execute_input": "2024-09-02T07:55:02.150041Z",
     "iopub.status.busy": "2024-09-02T07:55:02.149640Z",
     "iopub.status.idle": "2024-09-02T07:55:02.164363Z",
     "shell.execute_reply": "2024-09-02T07:55:02.163164Z"
    },
    "papermill": {
     "duration": 0.050446,
     "end_time": "2024-09-02T07:55:02.167283",
     "exception": false,
     "start_time": "2024-09-02T07:55:02.116837",
     "status": "completed"
    },
    "tags": []
   },
   "outputs": [],
   "source": [
    "data = data[(np.abs(stats.zscore(data[['Rating','Votes','Duration']])) < 3).all(axis=1)]"
   ]
  },
  {
   "cell_type": "code",
   "execution_count": 21,
   "id": "ef097936",
   "metadata": {
    "ExecuteTime": {
     "end_time": "2024-06-23T23:34:46.127462Z",
     "start_time": "2024-06-23T23:34:46.121953Z"
    },
    "execution": {
     "iopub.execute_input": "2024-09-02T07:55:02.228935Z",
     "iopub.status.busy": "2024-09-02T07:55:02.228536Z",
     "iopub.status.idle": "2024-09-02T07:55:02.235964Z",
     "shell.execute_reply": "2024-09-02T07:55:02.234812Z"
    },
    "papermill": {
     "duration": 0.042162,
     "end_time": "2024-09-02T07:55:02.238786",
     "exception": false,
     "start_time": "2024-09-02T07:55:02.196624",
     "status": "completed"
    },
    "tags": []
   },
   "outputs": [
    {
     "data": {
      "text/plain": [
       "(5545, 11)"
      ]
     },
     "execution_count": 21,
     "metadata": {},
     "output_type": "execute_result"
    }
   ],
   "source": [
    "data.shape"
   ]
  },
  {
   "cell_type": "markdown",
   "id": "72c3943f",
   "metadata": {
    "papermill": {
     "duration": 0.028478,
     "end_time": "2024-09-02T07:55:02.295992",
     "exception": false,
     "start_time": "2024-09-02T07:55:02.267514",
     "status": "completed"
    },
    "tags": []
   },
   "source": [
    "# Univariate analysis"
   ]
  },
  {
   "cell_type": "code",
   "execution_count": 22,
   "id": "61af9c34",
   "metadata": {
    "ExecuteTime": {
     "end_time": "2024-06-23T23:34:46.188278Z",
     "start_time": "2024-06-23T23:34:46.128986Z"
    },
    "execution": {
     "iopub.execute_input": "2024-09-02T07:55:02.355189Z",
     "iopub.status.busy": "2024-09-02T07:55:02.354784Z",
     "iopub.status.idle": "2024-09-02T07:55:04.705520Z",
     "shell.execute_reply": "2024-09-02T07:55:04.704025Z"
    },
    "papermill": {
     "duration": 2.3835,
     "end_time": "2024-09-02T07:55:04.708091",
     "exception": false,
     "start_time": "2024-09-02T07:55:02.324591",
     "status": "completed"
    },
    "tags": []
   },
   "outputs": [
    {
     "data": {
      "text/html": [
       "        <script type=\"text/javascript\">\n",
       "        window.PlotlyConfig = {MathJaxConfig: 'local'};\n",
       "        if (window.MathJax && window.MathJax.Hub && window.MathJax.Hub.Config) {window.MathJax.Hub.Config({SVG: {font: \"STIX-Web\"}});}\n",
       "        if (typeof require !== 'undefined') {\n",
       "        require.undef(\"plotly\");\n",
       "        requirejs.config({\n",
       "            paths: {\n",
       "                'plotly': ['https://cdn.plot.ly/plotly-2.27.0.min']\n",
       "            }\n",
       "        });\n",
       "        require(['plotly'], function(Plotly) {\n",
       "            window._Plotly = Plotly;\n",
       "        });\n",
       "        }\n",
       "        </script>\n",
       "        "
      ]
     },
     "metadata": {},
     "output_type": "display_data"
    },
    {
     "data": {
      "text/html": [
       "<div>                            <div id=\"f2045bad-59ab-46ec-9f38-8ce50626b6c3\" class=\"plotly-graph-div\" style=\"height:525px; width:100%;\"></div>            <script type=\"text/javascript\">                require([\"plotly\"], function(Plotly) {                    window.PLOTLYENV=window.PLOTLYENV || {};                                    if (document.getElementById(\"f2045bad-59ab-46ec-9f38-8ce50626b6c3\")) {                    Plotly.newPlot(                        \"f2045bad-59ab-46ec-9f38-8ce50626b6c3\",                        [{\"alignmentgroup\":\"True\",\"box\":{\"visible\":false},\"hovertemplate\":\"Rating=%{x}\\u003cextra\\u003e\\u003c\\u002fextra\\u003e\",\"legendgroup\":\"\",\"marker\":{\"color\":\"#636efa\"},\"name\":\"\",\"offsetgroup\":\"\",\"orientation\":\"h\",\"scalegroup\":\"True\",\"showlegend\":false,\"x\":[7.0,4.4,4.7,7.4,5.6,4.0,6.2,5.9,6.5,5.7,7.4,6.3,7.2,4.4,6.6,7.3,7.1,5.6,6.9,3.5,4.5,6.4,4.1,4.8,4.5,7.2,8.1,4.0,5.5,6.8,5.0,6.9,6.2,3.5,6.1,6.1,7.7,6.1,5.1,6.9,5.0,3.3,7.8,6.9,6.9,4.3,5.8,5.7,7.5,5.7,5.6,5.6,3.6,6.3,7.3,4.8,7.8,5.7,6.5,4.6,4.2,6.2,5.3,5.0,5.7,6.2,6.1,4.1,5.3,5.3,5.4,6.6,4.7,5.3,7.3,7.4,4.8,8.1,6.3,7.5,6.8,4.5,3.0,6.3,6.2,8.0,7.3,6.0,3.1,3.8,7.9,5.5,8.0,5.0,7.2,4.4,2.7,6.8,2.4,5.5,7.4,5.5,5.1,7.6,6.4,5.4,6.7,6.8,6.5,6.7,6.2,5.0,7.6,5.4,4.2,5.3,7.4,4.6,4.1,5.3,4.8,4.8,3.4,5.0,3.1,5.0,4.2,7.2,6.0,6.0,6.8,5.5,5.6,4.7,5.1,5.3,3.5,4.3,3.1,5.8,5.0,3.3,5.6,4.4,6.2,6.7,7.1,5.2,4.1,5.0,4.9,6.3,6.9,7.3,2.8,6.3,7.9,7.0,5.4,7.2,3.0,7.7,4.8,7.7,6.5,6.4,6.4,6.4,5.7,5.6,6.4,8.1,6.1,7.4,4.8,6.6,6.7,7.4,6.4,6.5,4.2,5.1,6.6,5.7,7.0,6.3,3.6,6.3,3.1,5.6,5.2,4.5,6.1,6.1,6.2,6.7,6.6,6.6,4.6,5.4,6.5,5.3,7.1,6.7,3.8,4.3,5.5,6.3,7.0,3.7,7.3,6.1,5.2,4.8,5.5,6.8,4.5,7.2,6.4,3.9,5.2,4.4,4.5,5.8,4.2,3.8,6.4,7.0,5.1,6.1,5.4,6.6,4.4,5.0,6.6,7.6,4.0,4.8,7.8,5.8,4.0,4.6,3.2,6.3,6.4,4.8,7.0,5.4,6.8,7.9,7.0,4.6,6.7,5.8,4.0,6.8,4.0,6.5,5.0,4.5,3.3,4.2,3.6,6.9,6.4,6.6,6.7,5.4,4.7,6.8,7.3,5.0,6.9,3.3,5.5,6.6,4.7,6.2,4.6,5.8,4.6,4.5,6.6,6.5,7.8,3.6,5.9,7.1,6.3,6.4,6.6,5.7,5.2,7.1,5.1,3.1,5.6,7.7,6.9,7.8,6.0,6.1,3.6,4.6,4.6,6.2,2.9,7.2,5.9,4.1,7.0,7.0,5.7,6.6,5.0,6.6,4.1,6.9,6.6,5.3,4.4,4.2,6.4,5.8,6.5,3.7,6.7,6.9,6.4,5.3,5.0,6.9,6.3,6.6,5.0,7.7,5.5,7.0,5.6,5.1,5.3,5.8,4.8,3.6,6.7,5.9,4.6,6.4,3.8,6.9,6.8,6.6,3.7,7.0,7.5,5.5,5.9,6.4,6.2,6.7,6.5,6.3,7.8,3.8,7.9,4.8,6.2,6.1,4.3,5.4,3.7,4.0,4.7,6.5,6.6,7.0,6.8,6.6,6.1,8.2,4.4,6.5,4.9,7.5,2.8,4.2,6.9,4.4,6.6,6.6,4.9,5.4,6.2,5.6,8.1,6.6,7.0,7.3,6.9,8.7,5.9,7.1,8.3,7.6,7.1,7.9,4.8,6.2,5.0,7.2,5.4,5.3,7.2,6.7,4.4,6.8,6.8,6.1,5.1,6.8,5.5,5.0,6.4,4.3,5.3,6.3,8.3,6.1,4.4,7.3,7.0,6.1,7.2,7.1,6.4,5.3,6.9,5.6,5.8,3.9,5.8,3.4,4.8,7.1,4.1,7.2,8.0,5.5,6.5,8.0,7.5,5.6,7.3,7.0,7.9,4.9,7.1,7.7,4.9,6.3,7.4,6.3,6.9,6.6,6.4,4.5,7.3,6.6,6.3,7.2,7.3,5.5,7.1,4.4,5.2,6.7,3.4,7.4,6.6,6.6,6.7,6.8,6.6,5.4,5.7,7.4,3.5,6.2,6.8,5.3,6.5,6.0,5.6,6.2,6.8,6.1,6.8,7.3,7.5,6.1,7.6,6.5,8.2,7.2,3.6,5.2,4.3,6.8,6.8,5.2,4.3,5.3,6.3,6.2,7.9,8.2,6.9,7.0,4.4,7.0,7.1,3.4,6.7,4.9,6.3,5.2,7.6,3.7,4.8,9.3,6.5,4.3,7.5,7.3,7.3,5.4,8.8,4.3,5.4,2.9,6.0,5.9,6.4,8.2,6.9,5.3,3.8,4.3,6.0,4.2,6.5,7.2,7.4,4.2,4.8,5.9,6.4,4.5,6.5,5.7,6.0,6.0,7.2,7.9,5.9,6.2,5.1,6.2,7.3,8.7,3.6,7.0,6.2,5.1,6.4,6.2,5.5,7.6,7.2,7.2,5.0,7.1,5.7,8.8,6.4,2.1,8.3,6.4,5.1,5.4,6.9,4.9,4.2,5.2,4.8,2.1,5.7,6.1,7.3,7.0,6.2,6.0,6.4,5.3,6.2,7.2,3.2,6.4,5.1,6.8,7.3,3.2,6.6,7.3,6.4,6.3,6.5,7.7,7.5,6.7,7.1,7.3,4.8,5.9,6.9,2.7,2.7,6.1,6.3,8.2,6.2,3.3,3.5,5.0,6.7,7.0,4.9,6.7,6.3,3.6,6.0,5.8,8.0,4.5,6.9,5.4,4.4,5.4,6.7,6.2,7.8,7.6,7.4,4.7,4.8,6.0,2.5,4.3,4.6,7.1,6.6,6.1,5.9,7.7,6.4,7.2,7.4,5.5,4.7,5.7,7.1,7.6,7.1,8.8,6.0,6.5,6.5,6.3,6.8,6.7,7.3,7.4,9.3,5.3,7.2,7.7,2.7,4.2,2.3,7.3,5.6,6.8,6.9,8.1,7.5,5.6,4.3,3.6,6.0,7.2,6.1,3.2,4.2,6.7,6.1,7.2,5.1,4.8,7.2,7.1,5.8,7.9,6.2,7.7,7.1,6.1,7.6,5.9,5.6,4.5,5.1,4.9,5.9,3.7,6.0,6.2,6.8,5.6,5.9,5.6,4.9,5.1,6.0,4.7,7.3,7.7,5.4,6.3,6.9,3.7,5.9,3.7,6.8,6.5,7.1,6.8,7.2,7.5,2.8,6.0,6.3,7.0,8.0,6.9,6.8,7.3,4.8,3.1,4.8,3.9,5.6,7.1,5.1,3.9,5.6,5.6,5.9,2.8,6.9,3.7,4.6,7.0,6.8,4.4,7.3,5.3,6.1,6.2,6.8,6.3,5.4,3.6,6.3,6.6,4.4,4.8,5.8,6.8,7.6,5.1,4.4,5.6,4.9,6.3,5.5,5.2,6.7,6.1,7.0,7.3,4.0,5.2,3.6,4.1,6.7,5.4,8.3,2.5,6.0,6.5,4.6,5.6,6.1,4.3,8.7,6.0,4.4,5.1,4.9,3.8,5.7,3.2,6.0,5.8,4.6,7.8,5.3,7.1,7.5,4.6,4.6,6.2,5.5,5.1,6.0,6.2,6.8,4.9,5.7,6.6,6.8,5.8,7.6,4.3,6.6,4.3,3.4,4.9,6.4,6.2,7.6,4.7,6.2,6.1,5.9,4.9,7.0,4.8,5.0,7.1,7.3,5.3,6.5,5.8,6.5,4.0,2.5,5.4,6.6,6.3,6.5,7.1,7.2,8.0,7.8,6.7,4.6,5.6,7.4,7.5,5.0,6.5,7.0,3.8,6.4,4.4,7.5,4.5,6.2,6.9,5.7,3.8,6.0,4.5,5.1,3.9,7.6,5.9,6.2,5.5,7.1,4.1,6.9,5.8,5.7,7.0,8.2,6.2,6.7,8.5,7.4,6.6,8.6,5.4,6.7,4.1,7.1,6.2,5.0,3.7,5.7,6.5,7.7,6.5,6.6,7.1,5.5,4.8,4.7,6.3,5.5,6.1,7.9,6.0,4.8,6.1,5.2,6.4,7.0,4.5,6.9,6.5,6.0,6.7,4.6,6.8,5.6,5.1,2.3,4.2,8.0,7.9,2.9,5.1,6.4,7.5,7.6,6.9,6.9,5.2,5.7,6.3,6.2,3.9,6.5,7.6,7.3,7.2,6.7,2.6,7.0,7.6,7.4,5.4,6.6,6.8,7.8,6.9,3.6,5.0,6.0,6.1,4.8,6.8,6.2,6.1,5.4,5.4,4.1,7.3,5.8,3.4,4.5,5.7,4.2,6.8,5.6,4.2,6.5,7.0,7.7,7.0,6.8,7.2,5.7,3.4,4.1,7.9,7.8,3.5,5.5,3.9,6.8,5.8,6.1,4.0,7.7,4.1,4.5,8.6,5.9,5.8,7.4,4.7,5.6,5.6,6.8,4.2,6.8,6.4,3.8,4.6,4.9,4.7,6.1,7.0,6.1,8.6,6.5,5.9,6.8,4.4,6.0,6.6,5.7,8.0,7.0,6.6,7.0,7.5,4.0,4.3,5.5,4.7,6.8,6.4,6.8,6.7,5.0,4.7,4.8,4.6,6.7,6.8,7.6,6.9,4.0,4.3,4.1,8.3,6.9,7.1,8.1,6.7,5.6,8.0,6.5,5.3,7.1,4.5,4.9,5.4,8.0,5.9,6.8,3.9,6.5,6.4,6.8,5.7,5.8,3.8,6.1,7.5,7.7,6.2,3.1,7.6,6.8,6.8,7.4,5.1,6.3,8.3,7.1,8.3,4.6,5.7,6.2,5.5,6.5,5.2,5.7,3.7,5.5,4.7,6.6,6.1,8.3,6.7,4.6,8.4,5.3,5.6,6.4,7.2,6.7,7.5,6.6,7.1,6.8,4.6,4.0,6.0,7.8,6.8,6.5,7.5,3.9,7.3,4.8,5.8,7.4,6.5,6.9,4.7,6.1,6.5,4.2,6.5,4.5,5.8,7.7,4.8,5.0,5.4,7.0,5.3,7.1,7.4,3.1,6.1,6.8,5.3,4.9,2.4,6.8,8.3,5.4,3.7,6.7,7.4,6.8,5.8,2.3,3.5,7.3,6.9,6.3,5.9,7.0,5.6,7.7,4.2,6.2,5.3,5.7,7.9,7.1,6.5,9.0,4.0,6.2,5.4,6.6,6.6,6.7,6.5,4.8,7.7,6.8,5.3,5.6,6.2,3.1,5.7,5.1,7.3,6.9,6.1,8.3,6.8,4.4,4.6,6.2,6.5,7.0,7.0,4.8,6.0,3.9,3.1,5.1,4.5,7.1,6.1,6.3,6.2,4.8,3.0,6.5,5.0,4.8,7.2,6.4,3.8,7.7,4.9,6.2,7.4,6.3,5.5,5.3,4.7,3.9,3.8,5.0,4.9,3.3,7.0,4.0,7.8,6.7,6.1,6.6,2.6,3.9,3.7,3.9,5.7,7.0,8.3,5.4,7.5,6.1,7.0,5.2,5.1,6.5,5.6,3.8,7.2,6.3,5.4,7.7,7.1,7.8,4.9,6.0,4.3,5.3,6.4,3.8,6.9,4.7,7.1,6.8,7.8,7.4,5.9,6.1,5.7,6.2,7.2,6.5,8.1,7.3,7.2,5.5,6.6,4.1,6.4,6.3,6.3,5.8,7.8,6.6,7.5,7.5,7.1,4.3,7.6,4.6,6.5,8.1,6.9,2.4,6.7,5.7,5.0,4.7,5.3,6.6,6.4,4.5,7.4,6.1,5.6,5.9,7.6,6.2,5.6,6.1,5.9,3.1,6.2,4.9,5.5,6.0,3.6,5.7,4.0,6.4,7.7,6.2,6.9,8.0,4.2,7.2,7.1,7.6,6.2,7.9,6.6,7.8,5.8,5.2,2.6,5.7,3.5,5.5,3.7,5.1,4.5,6.5,4.4,7.3,5.4,6.5,5.0,3.4,7.3,4.3,4.4,6.0,3.5,6.3,6.7,7.0,5.8,5.8,6.7,7.3,7.0,6.4,7.8,7.0,6.5,7.0,6.2,6.3,6.3,4.5,6.7,6.7,6.5,3.4,5.6,7.2,4.5,8.1,7.2,6.9,7.2,2.4,8.9,6.1,6.1,3.6,7.6,7.0,6.7,5.0,5.5,6.1,4.6,7.0,6.9,6.2,6.4,3.5,7.0,6.7,3.1,7.3,5.3,7.1,5.1,4.6,5.3,3.7,5.7,4.8,5.3,5.7,4.9,5.3,5.1,5.2,4.4,7.0,4.8,5.0,5.0,7.6,5.1,7.0,5.0,7.0,5.8,6.5,5.0,5.3,3.8,4.5,6.7,5.1,5.8,7.4,5.3,6.3,3.7,7.1,3.7,5.7,5.1,7.2,4.0,2.5,6.4,7.0,5.2,5.1,5.7,3.8,6.9,6.9,8.4,7.0,6.2,8.4,6.3,5.3,6.0,7.5,7.2,6.1,6.1,6.5,3.6,6.5,7.1,7.2,3.8,6.0,6.7,5.7,4.4,7.0,6.3,3.3,7.1,6.4,7.1,3.7,3.2,6.5,7.2,6.4,4.5,5.4,4.9,7.2,7.8,4.7,3.9,6.7,4.6,4.0,8.2,7.7,6.0,6.2,7.0,6.9,7.9,5.3,7.0,5.2,8.4,5.7,3.3,5.5,4.2,3.8,8.2,7.0,6.0,6.8,3.8,1.9,5.3,8.1,7.0,6.2,5.2,7.1,3.5,7.6,5.9,4.6,6.5,5.2,6.5,7.1,4.2,5.1,6.7,5.1,7.9,6.6,5.6,7.5,6.2,7.0,7.0,6.9,6.3,3.7,5.6,6.5,6.2,4.6,3.8,5.7,6.6,5.6,6.9,6.9,5.4,7.1,4.0,5.0,4.9,7.1,7.0,7.7,4.3,7.4,4.5,7.4,4.7,7.2,5.6,6.8,6.5,7.8,7.7,5.2,5.7,6.7,6.3,6.6,5.5,6.7,7.0,6.3,8.5,4.7,7.1,7.3,2.9,6.6,3.8,6.4,3.9,7.1,8.3,7.5,6.4,7.2,2.5,5.4,7.5,5.8,3.4,7.0,6.5,6.3,5.7,6.5,5.7,5.5,6.9,5.7,6.1,4.0,6.8,3.7,6.9,6.8,6.6,5.8,6.8,7.3,4.9,7.0,4.4,4.3,6.6,5.7,6.9,4.0,3.9,5.5,5.7,6.9,4.4,5.2,4.7,6.9,5.9,5.7,6.0,6.1,5.8,8.0,5.3,6.0,4.4,6.2,4.2,6.5,5.7,6.1,6.1,7.8,4.3,6.2,7.1,5.9,4.7,3.4,4.6,4.5,5.3,7.3,6.5,6.0,7.1,8.4,5.6,4.9,7.0,7.2,6.9,6.1,4.5,4.7,4.1,5.1,6.2,4.3,8.0,6.9,4.6,6.2,6.6,5.7,5.4,6.2,5.5,6.4,5.8,4.7,5.5,6.1,3.3,5.5,5.8,5.1,7.3,6.9,5.7,7.4,4.4,7.2,7.7,6.8,4.4,6.2,7.0,4.8,5.3,5.4,6.1,6.0,5.1,8.3,6.0,6.3,3.4,7.5,5.0,5.3,6.5,6.2,6.4,7.5,4.6,4.7,5.2,4.3,4.9,4.9,6.8,6.6,6.5,7.1,2.8,5.2,5.4,4.7,6.9,8.3,6.5,7.2,3.1,6.2,8.3,6.0,5.8,7.1,4.8,7.2,4.6,7.2,3.7,5.3,5.0,3.5,5.1,7.3,7.1,4.5,6.5,5.0,5.1,5.2,5.3,6.5,7.1,5.8,2.5,7.3,4.6,7.6,7.6,6.1,3.6,5.2,4.7,6.4,5.4,5.7,4.6,7.8,7.3,7.1,5.3,5.3,6.8,4.5,7.3,5.8,6.7,3.4,7.4,8.1,7.3,7.0,6.5,3.5,8.8,6.0,2.7,5.6,4.2,5.9,6.9,6.0,6.8,5.4,6.1,6.7,5.3,4.9,6.1,5.8,7.0,5.8,4.4,7.1,5.5,4.9,7.6,4.0,6.0,5.8,5.9,6.6,6.6,5.7,4.7,7.1,6.9,4.6,6.7,7.4,6.9,7.6,6.3,6.8,5.4,9.4,5.5,5.4,2.3,5.0,4.3,7.3,6.2,6.6,6.6,7.2,6.3,4.9,6.8,5.7,5.6,3.2,2.1,5.6,2.7,6.7,8.1,9.3,3.6,7.0,7.1,6.7,7.3,6.3,5.9,5.5,5.0,5.1,7.4,7.0,3.8,6.9,6.4,5.8,7.6,7.0,6.9,7.0,5.5,5.9,7.4,5.0,4.9,7.4,6.7,6.1,5.1,6.8,4.4,3.6,5.7,6.9,7.2,4.2,4.7,5.3,4.2,6.7,5.4,8.4,5.4,2.4,6.1,8.1,7.5,6.3,8.0,7.0,3.7,7.8,6.9,6.2,4.7,3.3,5.6,5.8,5.1,4.9,6.7,7.3,4.2,4.1,7.6,5.3,6.8,3.5,7.3,6.5,5.5,6.7,5.6,7.7,7.1,2.7,6.0,4.9,6.6,6.7,7.5,5.8,3.4,3.7,7.6,5.7,6.3,6.2,6.9,5.4,4.2,7.3,5.8,4.3,5.3,4.9,8.4,6.1,2.5,5.3,4.9,6.1,7.1,6.8,4.4,9.7,7.4,7.2,6.1,7.9,6.4,6.7,5.6,7.8,7.5,6.7,5.3,7.8,7.1,6.4,6.7,6.0,8.5,7.7,7.6,5.7,7.6,5.4,7.4,7.4,6.5,5.4,5.9,3.2,5.0,4.5,7.8,4.6,4.6,4.4,5.2,6.6,6.4,7.9,6.4,7.7,6.5,7.2,5.5,7.5,6.2,1.9,5.7,6.9,6.8,4.4,6.2,6.7,5.4,4.7,5.3,4.4,4.5,3.3,7.9,6.0,5.6,4.2,6.9,4.1,5.6,4.1,6.3,6.7,6.2,3.3,7.4,5.5,2.7,6.2,6.5,7.1,7.9,5.1,7.0,5.1,4.0,3.4,5.6,3.3,4.7,5.6,2.7,6.3,3.8,6.0,4.3,6.4,6.8,5.3,6.7,3.5,4.8,6.2,6.2,5.5,5.1,5.3,2.9,7.9,6.3,6.0,7.5,4.2,5.4,5.4,7.6,3.7,6.8,6.4,4.5,5.0,5.1,4.5,4.3,6.6,7.9,6.2,5.3,5.9,5.4,2.9,5.4,6.1,3.8,4.3,7.4,5.9,7.2,7.0,3.1,6.5,5.6,6.1,6.3,3.5,4.2,4.7,5.2,5.1,5.0,6.2,5.8,3.8,7.1,5.5,5.8,7.3,6.4,5.5,5.3,5.0,3.5,6.9,6.4,6.1,4.6,7.1,7.0,6.4,6.8,5.7,7.5,5.8,5.7,7.5,6.6,7.5,6.3,7.1,6.2,4.8,5.5,7.4,4.2,3.6,4.4,7.2,6.5,5.6,5.3,6.5,5.7,6.3,3.5,6.0,4.5,5.8,2.7,7.0,4.7,4.6,5.9,6.4,5.3,3.6,5.4,7.5,4.9,6.7,5.2,4.8,6.9,6.0,6.4,5.3,6.1,1.8,7.5,7.0,6.9,7.2,6.8,5.2,6.1,6.8,6.0,6.5,8.0,5.7,7.2,8.6,5.4,7.3,6.0,5.6,3.5,3.4,4.1,4.6,6.9,5.4,5.9,4.5,6.5,3.6,4.7,6.0,6.1,9.2,7.4,5.4,5.7,5.3,7.4,7.1,5.9,7.1,7.1,5.4,8.2,4.5,7.0,3.0,7.3,7.2,6.0,6.9,6.0,5.8,7.4,5.7,4.7,4.8,4.2,3.9,5.4,6.8,6.5,6.4,4.6,3.0,7.4,4.6,6.8,6.9,6.2,6.8,6.8,5.1,3.8,2.6,5.0,6.5,4.8,5.8,8.1,4.7,6.3,6.7,5.0,5.4,4.7,6.5,2.6,7.3,3.8,6.9,4.0,3.1,5.8,6.8,5.7,5.5,6.0,4.8,4.1,7.3,5.7,5.4,6.4,7.5,4.4,6.7,4.5,6.7,7.3,6.8,5.0,3.5,6.9,4.5,4.3,7.4,4.5,7.2,7.0,5.8,5.0,5.3,4.1,6.5,4.2,7.2,5.8,6.9,4.1,7.3,4.1,5.6,5.9,4.7,6.6,5.3,5.9,4.6,4.8,8.4,2.7,3.3,3.8,4.8,7.5,6.5,6.8,6.1,5.8,6.1,2.8,5.0,6.0,6.3,4.2,5.3,6.9,6.8,6.2,5.6,6.5,4.4,7.5,2.0,8.1,6.1,6.6,6.5,6.4,5.1,6.8,3.9,6.4,6.1,7.8,5.6,5.1,5.2,7.9,5.2,5.1,7.2,3.6,6.2,5.3,3.6,5.0,6.2,5.3,5.6,5.2,5.8,6.7,5.7,6.0,5.7,7.0,7.1,6.6,7.5,7.1,4.0,4.0,4.4,2.9,6.2,6.7,2.7,4.2,5.9,6.2,2.8,6.9,6.5,6.0,3.9,5.8,5.6,6.6,5.2,7.6,6.0,5.6,2.9,4.6,5.0,5.6,5.3,5.8,4.2,5.5,5.4,4.8,4.4,4.8,6.7,4.6,5.9,6.9,5.9,5.7,4.8,4.1,3.8,6.6,4.9,6.3,7.1,7.3,5.1,8.0,7.2,6.5,7.2,6.9,7.1,7.2,8.2,6.3,5.9,3.7,5.7,6.1,4.7,6.6,4.6,7.0,5.9,4.4,5.2,4.9,2.5,6.4,3.4,8.6,4.9,7.4,5.2,3.0,3.6,5.7,8.2,6.1,3.5,5.8,7.4,6.2,7.3,6.4,6.8,6.8,6.8,5.6,7.5,7.8,6.0,4.9,7.3,2.4,7.5,7.2,5.1,9.0,6.2,6.2,5.7,4.6,2.1,3.1,6.6,6.1,5.9,3.9,5.9,6.1,3.6,6.2,6.5,6.1,4.0,2.3,3.7,9.4,4.0,4.2,5.6,6.1,6.2,7.3,5.6,3.1,7.6,5.6,4.2,5.6,5.4,6.8,5.4,4.6,7.9,5.3,5.6,5.8,4.2,7.6,8.0,5.9,5.0,7.1,6.5,9.1,6.1,7.1,7.6,3.9,8.0,8.9,6.2,4.6,6.7,7.7,4.2,6.4,6.3,3.4,5.0,6.8,3.3,2.7,6.4,4.6,6.6,4.2,7.3,3.8,6.5,4.8,6.3,5.0,3.6,5.4,6.8,6.6,6.2,6.1,7.8,4.3,6.2,7.4,7.1,4.8,3.7,3.1,6.8,7.8,5.9,6.4,6.0,6.1,7.0,6.6,5.3,6.8,7.1,6.8,8.1,5.8,5.7,6.6,5.8,6.9,5.2,6.0,5.6,5.7,7.5,6.9,6.3,7.8,5.4,6.2,6.6,2.8,7.9,6.9,6.7,6.2,3.6,6.3,6.0,5.5,7.4,5.7,7.1,5.6,6.4,6.3,3.6,6.3,5.8,6.2,5.7,8.0,6.7,5.1,6.7,7.2,7.8,6.5,5.2,4.1,6.5,3.9,7.4,7.1,7.2,5.1,5.8,6.0,8.2,6.2,6.8,6.6,6.7,3.7,5.8,7.9,3.1,5.6,6.3,4.6,7.3,6.9,8.2,7.7,5.5,7.1,4.0,6.8,4.2,6.2,6.5,4.8,6.1,6.5,2.7,6.7,7.4,2.9,5.0,4.4,4.4,7.0,7.1,5.1,3.0,7.7,7.6,7.5,3.9,2.1,6.6,5.1,4.5,5.1,5.7,4.3,5.9,7.0,5.4,6.7,7.1,6.0,6.9,7.8,5.6,6.9,7.2,6.4,7.8,5.6,4.9,5.1,5.9,3.2,6.1,3.8,5.5,7.8,6.4,7.1,6.7,5.0,6.9,6.8,5.7,3.3,4.7,5.7,7.4,8.1,2.3,5.6,5.9,5.6,7.4,7.2,5.7,4.0,3.7,6.3,4.6,7.5,7.7,3.3,7.7,3.5,7.5,4.0,5.9,6.2,6.5,4.0,6.9,7.2,5.8,5.1,5.0,4.8,7.5,5.7,4.4,6.6,7.0,8.1,6.4,4.0,7.5,6.2,5.2,7.2,5.8,7.2,7.2,5.2,4.3,6.0,6.8,7.2,7.1,6.8,5.1,5.3,6.4,5.7,6.6,4.8,4.1,6.1,2.7,5.6,4.1,5.5,2.8,8.3,4.7,6.2,7.5,6.3,7.6,6.5,7.4,8.1,3.2,6.9,5.1,5.8,5.8,5.8,4.1,7.1,4.4,4.6,5.5,5.9,7.8,4.1,5.8,5.3,4.6,4.3,6.3,6.7,7.1,6.3,5.1,6.3,7.5,2.5,5.7,5.6,5.3,6.1,6.3,5.9,5.1,3.7,5.2,7.4,6.1,4.2,4.2,4.5,4.6,7.1,3.3,4.6,7.4,7.4,6.1,4.5,6.0,6.8,4.5,6.7,5.5,5.4,5.2,2.4,3.5,7.9,4.7,3.5,7.1,6.3,7.4,7.4,7.3,8.6,3.8,6.9,5.4,6.2,7.2,3.8,6.3,7.4,4.6,4.2,5.8,7.8,5.7,4.7,6.6,6.5,5.2,6.5,5.1,4.4,6.5,6.4,5.2,5.9,6.7,4.3,4.2,8.5,3.8,4.6,2.5,5.4,4.3,5.6,7.5,3.4,3.7,6.9,4.5,5.1,8.5,5.3,6.6,6.5,5.8,5.1,7.2,5.7,4.2,5.7,6.0,4.7,4.3,8.9,7.4,5.9,3.6,6.1,3.9,6.1,1.9,4.9,5.4,5.6,4.2,5.8,5.8,5.4,7.3,8.0,3.4,3.2,7.1,4.4,6.4,3.6,5.8,3.6,6.0,5.9,6.2,5.2,6.5,4.5,6.3,2.8,6.1,3.4,8.0,7.8,6.7,7.3,6.9,4.4,5.4,6.8,7.0,4.7,5.0,7.9,7.9,3.2,5.7,6.2,6.5,6.3,6.7,7.4,4.6,5.0,7.4,7.3,5.8,5.8,6.0,8.8,3.4,6.6,6.5,6.0,6.6,5.2,6.2,5.3,7.3,6.6,8.9,4.9,7.5,6.7,5.1,6.1,5.7,6.3,5.7,6.8,8.2,5.9,4.4,7.4,5.4,5.5,5.3,5.8,7.1,6.6,6.4,5.9,7.1,5.6,6.8,6.6,8.6,5.1,6.1,5.8,5.1,6.5,5.8,6.1,6.0,5.5,7.8,7.0,4.4,3.8,6.4,5.3,5.7,7.7,6.8,3.3,7.6,7.3,5.1,7.0,5.9,5.7,4.7,6.8,7.4,7.4,3.8,5.1,5.8,5.2,5.3,6.0,4.3,6.5,3.1,3.6,6.8,4.2,6.6,6.0,5.7,5.5,7.6,7.2,10.0,4.4,7.4,9.3,6.5,2.6,5.8,5.3,3.0,5.3,6.0,4.5,5.1,7.1,7.5,4.8,7.1,7.1,6.2,5.1,4.7,7.6,6.3,5.6,6.4,4.8,4.7,6.6,5.3,5.5,6.2,5.6,3.9,5.1,5.0,5.9,7.2,6.5,7.5,6.6,5.1,4.4,4.6,3.5,7.8,7.0,5.7,5.4,3.1,3.7,6.3,8.6,5.4,4.5,5.8,8.6,2.3,2.7,7.6,4.6,3.7,5.3,6.2,6.2,6.3,4.6,3.2,8.0,5.4,7.0,3.6,7.7,5.1,5.0,6.5,6.4,5.7,6.1,6.9,7.3,5.3,6.8,4.9,7.1,6.6,7.6,4.1,5.0,7.1,5.6,7.7,8.0,6.3,6.2,6.7,6.8,4.3,4.8,6.3,6.6,5.2,5.2,7.2,5.8,7.4,7.0,7.3,6.5,5.3,4.2,4.0,4.5,6.5,5.1,4.7,6.7,4.1,7.8,7.2,3.7,5.5,5.1,5.4,2.8,7.7,8.1,5.3,5.2,6.0,7.0,6.5,6.6,7.7,6.8,5.7,5.2,6.9,7.3,5.2,6.5,7.5,5.9,6.6,6.2,6.5,3.6,6.4,8.0,7.2,6.7,7.1,7.1,7.6,6.8,7.4,6.0,6.0,6.9,4.2,8.1,5.9,6.2,4.2,7.4,7.3,7.4,7.2,4.8,6.4,3.6,3.5,4.9,5.1,5.4,4.9,6.1,6.8,7.1,8.2,8.2,5.2,4.1,6.2,7.3,5.3,5.8,5.2,8.4,5.8,7.2,5.4,5.2,6.8,4.8,6.5,6.2,5.1,3.3,2.4,4.8,7.7,5.6,7.7,8.1,4.7,2.8,4.3,4.2,5.4,3.5,4.7,7.0,5.4,6.5,6.9,5.9,2.7,6.7,8.5,6.5,5.7,3.6,7.9,6.7,6.9,7.2,6.2,6.6,5.5,7.2,5.3,6.6,6.1,6.7,6.5,3.5,3.4,5.9,7.2,6.6,7.5,6.8,3.8,6.4,7.2,7.4,7.6,7.2,6.1,3.6,4.4,5.6,4.8,7.0,4.7,5.8,4.1,3.8,4.6,8.8,4.9,7.6,3.9,5.2,4.7,5.5,7.4,6.6,5.4,5.6,5.8,6.4,5.0,3.5,6.7,7.0,6.4,6.9,3.5,5.6,6.9,6.1,6.3,7.3,5.3,6.6,5.1,5.1,3.9,6.5,5.6,7.3,3.2,7.1,5.0,6.0,5.7,5.3,6.0,6.2,6.8,5.0,6.0,4.1,6.6,2.5,7.5,6.2,6.2,6.5,7.7,3.9,6.1,7.0,4.1,7.3,4.6,7.1,4.3,6.1,7.5,6.4,6.3,4.5,5.4,3.2,7.6,5.8,4.3,3.4,6.7,6.5,3.8,7.1,6.8,6.9,5.3,4.7,6.4,8.0,6.5,5.6,5.5,5.3,4.5,6.7,3.5,5.3,6.8,7.1,7.1,6.8,5.7,7.0,5.3,4.2,6.2,4.8,7.3,5.9,2.7,5.5,3.3,6.6,7.4,5.8,4.4,9.0,6.7,4.7,7.9,4.3,8.0,4.8,7.0,3.6,5.3,3.6,7.2,6.4,4.2,5.4,4.3,4.0,7.8,6.8,4.8,6.6,5.5,6.7,7.4,4.2,3.3,5.5,7.0,3.8,6.3,5.8,6.6,2.5,7.3,6.5,4.8,6.6,6.7,5.8,2.5,5.5,8.6,7.2,3.9,6.0,6.5,6.6,5.0,6.1,6.9,6.7,6.9,7.0,7.2,6.9,4.8,6.8,2.7,4.8,5.9,5.7,5.2,7.7,4.9,6.1,3.3,6.6,6.4,5.2,4.9,7.4,5.3,3.2,3.3,4.0,6.5,4.2,5.5,4.8,7.5,5.4,6.2,4.9,7.4,5.5,4.8,6.3,4.4,7.0,5.7,7.1,7.6,5.5,6.7,5.5,7.2,6.2,7.4,7.5,4.7,6.2,4.6,4.4,5.3,6.4,3.1,6.9,6.1,6.5,5.7,7.2,5.4,5.0,4.2,4.1,5.8,5.6,4.4,5.5,6.0,7.5,5.9,5.9,4.3,6.3,4.5,5.8,4.5,6.7,4.8,6.7,7.1,7.9,6.8,5.6,6.7,6.3,6.5,6.3,7.4,6.3,4.3,6.8,7.5,6.4,5.9,3.3,5.0,6.1,4.1,7.3,7.3,2.2,7.1,7.4,7.6,5.4,8.2,6.0,6.2,5.9,5.4,8.6,7.4,6.8,7.0,6.5,6.5,7.1,5.3,5.6,3.8,3.2,5.1,6.2,4.9,6.2,6.8,2.5,5.4,5.6,6.6,7.4,6.4,6.2,6.5,5.8,7.1,6.5,4.4,5.8,8.0,5.5,7.0,4.4,6.9,7.8,5.4,6.3,3.9,4.7,6.9,7.8,3.2,6.8,7.7,6.8,6.1,7.4,6.5,7.6,5.5,3.8,5.4,3.2,7.6,7.7,7.4,7.7,6.8,7.7,2.7,6.1,5.2,4.3,6.2,8.3,7.5,4.9,4.0,3.9,7.7,9.1,5.5,5.9,9.1,6.3,5.4,4.9,5.9,2.9,7.6,4.2,6.6,6.3,7.2,4.3,7.3,5.8,7.2,3.9,6.0,6.0,5.0,6.9,7.6,5.6,6.3,4.3,5.7,5.1,5.3,3.3,6.2,6.6,5.1,7.5,8.2,5.4,8.0,6.3,4.2,5.4,5.2,7.1,5.5,6.7,7.2,8.1,4.9,7.0,6.7,7.4,4.6,5.4,4.2,7.5,5.0,5.6,7.0,3.1,5.3,6.1,6.4,7.4,6.9,6.2,3.5,5.5,8.0,4.7,7.0,6.6,7.0,8.5,3.3,4.8,7.7,3.9,6.8,7.2,6.5,8.2,7.7,6.2,4.1,5.1,5.0,5.2,5.4,3.8,7.6,4.9,3.3,6.7,7.9,7.1,7.1,7.0,2.4,8.1,7.2,3.2,5.8,3.9,7.3,6.9,6.7,4.5,7.6,6.5,7.0,6.4,6.3,6.5,4.1,4.9,6.5,6.5,4.6,6.5,5.5,7.6,5.3,6.5,6.4,3.9,8.6,7.3,6.8,5.2,6.8,5.3,3.7,4.6,5.5,7.6,2.2,6.5,6.0,5.9,6.7,6.5,5.7,5.0,6.2,6.4,4.3,6.2,7.6,6.4,7.1,7.0,7.0,6.2,8.1,4.8,6.6,7.5,7.2,7.8,7.2,6.3,7.6,6.6,5.8,7.2,6.8,6.9,6.8,2.2,7.6,6.9,7.2,5.7,7.1,6.2,5.5,6.4,4.1,4.6,6.2,7.1,5.7,4.0,5.6,7.8,5.8,4.3,3.8,4.6,6.6,5.6,6.6,8.0,7.0,5.6,4.4,5.5,7.1,4.2,2.8,7.2,7.0,6.4,7.4,4.4,5.7,4.9,6.4,4.4,5.5,6.2,4.8,8.3,7.1,6.3,6.6,6.0,7.3,3.8,6.7,5.9,7.5,4.8,5.0,6.1,7.2,6.2,7.0,6.2,6.1,5.4,7.5,2.7,5.8,6.6,6.9,6.5,5.4,5.8,6.3,6.2,4.4,5.7,3.9,3.2,7.6,6.9,6.0,5.4,5.8,6.2,6.3,6.1,6.7,7.6,8.0,7.9,8.1,8.4,8.7,5.9,6.3,5.0,6.7,4.5,8.3,2.7,6.2,5.5,4.1,3.7,5.4,4.1,3.1,6.5,5.2,4.5,3.4,6.6,4.1,4.1,5.0,4.6,7.0,5.2,6.8,7.8,4.0,6.4,5.4,6.9,5.6,8.0,4.9,6.2,4.3,6.8,5.9,5.5,6.0,7.0,5.5,4.9,7.4,6.5,6.7,6.2,4.1,5.2,7.7,5.9,6.6,6.3,7.6,5.9,6.9,2.1,4.4,7.2,6.5,6.1,6.1,5.7,3.5,5.5,4.2,4.4,7.7,5.8,4.6,6.7,7.4,7.0,6.2,6.6,6.4,6.6,7.4,4.7,6.0,6.3,7.8,7.4,6.4,8.4,5.2,6.3,6.5,5.9,3.9,4.6,7.6,7.2,6.1,4.3,6.4,3.6,6.7,6.1,6.7,3.3,6.1,6.7,5.7,5.9,6.5,8.4,3.3,5.3,7.4,6.3,6.9,6.3,6.3,3.8,6.1,6.5,6.8,6.2,4.4,6.2,5.6,5.6,7.4,6.1,3.6,7.1,3.3,6.8,5.0,5.7,6.1,7.1,4.0,6.0,5.2,3.1,7.0,6.0,7.5,4.7,5.1,5.8,7.0,5.2,4.7,5.1,5.4,8.1,6.5,7.4,6.2,7.5,3.6,6.3,6.3,7.6,4.9,5.7,7.1,7.3,7.6,5.2,6.3,4.3,5.4,6.2,5.2,6.5,4.0,4.4,5.6,7.8,4.3,6.7,5.4,1.9,4.8,7.3,7.9,2.9,6.8,3.6,3.4,6.9,4.3,4.9,3.8,7.6,5.6,6.8,7.0,5.8,5.4,7.4,8.0,7.2,7.5,7.9,7.6,6.2,6.1,6.1,5.3,4.3,6.9,6.3,3.7,6.0,6.2,3.7,3.4,6.1,6.3,4.6,2.9,2.3,4.5,7.0,5.8,7.1,7.3,3.3,6.4,3.1,6.8,5.1,6.5,6.6,3.7,7.6,6.5,3.1,2.9,4.7,5.8,7.6,4.7,5.3,6.5,7.4,6.3,6.7,5.4,6.6,6.8,7.2,3.7,8.0,5.8,6.0,6.7,3.9,3.4,7.5,5.7,4.5,5.9,4.7,6.7,5.4,6.4,7.6,6.8,6.9,6.1,3.6,7.3,4.8,7.1,6.2,7.5,2.3,5.0,5.6,5.1,6.7,5.8,7.2,6.9,6.2,7.7,5.7,4.2,4.3,2.9,5.7,7.2,3.5,5.9,4.8,6.8,6.4,6.3,2.8,3.3,9.0,3.9,9.3,5.4,5.5,5.9,7.6,3.2,8.0,7.7,5.2,4.5,7.0,6.8,4.9,4.6,7.0,8.4,5.1,8.5,4.5,6.9,6.4,6.7,7.6,3.5,6.5,4.6,6.6,7.0,6.8,6.7,4.6,6.4,8.7,5.6,7.4,6.8,5.2,7.8,5.6,4.2,5.0,7.7,7.5,7.4,7.7,6.9,3.9,6.8,5.2,4.2,6.9,6.6,3.9,4.3,2.6,3.5,4.9,6.1,6.8,6.3,6.9,5.8,6.8,6.0,5.7,3.3,5.5,7.2,2.7,6.5,7.7,6.4,4.8,5.7,7.5,6.5,6.6,4.0,5.4,3.7,6.3,7.1,6.2,6.2,6.4,5.7,5.4,7.1,7.2,7.2,6.4,6.0,4.9,7.6,6.3,7.7,8.2,5.8,3.1,8.2,7.1,5.6,6.5,5.9,5.7,7.1,7.2,6.2,6.8,5.1,6.7,2.8,5.2,5.1,5.8,5.1,5.7,4.8,4.4,3.5,6.5,3.4,6.0,6.8,2.9,7.5,6.7,7.3,4.5,8.6,5.8,6.5,7.1,7.2,6.6,4.5,8.4,7.2,6.1,6.4,5.6,6.0,6.6,7.2,4.4,6.8,4.7,4.8,8.3,5.7,4.2,6.1,6.7,7.1,4.1,6.6,5.4,5.8,5.8,8.0,6.2,6.4,7.6,3.6,5.6,7.3,6.9,6.6,6.2,7.5,7.1,6.7,6.9,5.4,6.7,7.8,7.4,5.8,6.2,6.1,6.0,5.5,4.8,5.4,3.2,4.8,7.4,6.9,6.3,5.4,7.3,4.2,5.6,6.8,6.7,3.2,7.0,6.9,6.2,7.0,6.2,5.0,6.4,6.6,7.3,7.9,6.5,6.7,2.8,5.8,6.7,7.1,6.8,3.3,7.2,5.2,7.2,6.8,4.5,7.3,6.4,7.3,4.7,7.9,4.1,6.6,5.2,8.1,6.8,6.9,6.2,7.5,3.9,7.0,7.6,4.9,6.7,4.8,5.3,5.4,6.7,6.3,5.0,5.3,6.8,7.2,8.2,5.9,5.9,7.2,8.2,7.1,5.2,5.7,4.0,7.2,3.8,7.2,5.8,3.8,4.7,6.0,6.2,6.1,6.5,6.3,7.6,6.3,5.5,7.6,6.2,2.5,5.3,6.0,4.1,3.8,7.5,7.8,8.1,6.8,7.5,6.8,6.8,4.4,6.8,7.7,6.9,6.8,5.3,5.2,4.1,5.1,6.9,5.6,7.6,3.5,4.1,4.9,6.0,7.1,3.5,5.4,5.1,6.6,6.2,5.6,7.4,7.1,7.2,7.9,6.8,6.3,4.6,8.2,6.9,7.4,5.0,7.1,5.4,7.2,4.3,4.8,4.9,2.3,3.2,6.8,6.0,7.7,2.6,6.7,6.1,6.3,3.5,6.5,6.6,6.8,6.8,5.2,7.2,6.5,5.6,5.5,6.0,4.3,5.5,7.4,6.6,7.1,5.8,4.9,6.8,4.6,5.5,4.9,7.0,6.7,6.4,3.5,4.6,6.1,6.9,7.2,6.1,7.3,7.4,7.2,3.9,6.5,4.2,8.5,5.4,4.0,5.1,4.5,3.6,6.6,3.8,4.6,5.7,5.6,7.0,4.9,5.6,4.6,8.1,7.0,4.8,4.2,8.1,3.9,4.6,4.7,6.2,4.2,6.2,5.2,7.3,6.5,7.7,6.8,5.0,7.1,5.9,7.2,7.2,6.6,5.7,2.3,6.4,3.4,6.5,3.6,7.3,6.3,8.0,7.5,7.0,7.2,4.8,8.2,7.0,6.4,6.6,5.0,6.3,6.9,5.8,6.0,7.9,6.4,5.1,7.2,6.6,6.2,7.5,7.3,6.4,3.9,4.5,2.9,6.2,6.6,4.0,7.3,2.5,8.5,5.6,5.1,9.3,5.1,6.5,5.0,5.7,5.6,6.8,5.5,5.7,5.1,4.2,7.7,6.2,3.4,5.8,5.1,6.5,7.5,5.5,6.9,6.3,5.3,6.6,7.1,6.5,6.5,5.9,4.3,7.4,7.2,6.1,5.9,6.9,6.2,7.0,6.0,5.1,5.5,2.8,4.0,3.5,5.3,8.1,6.0,4.8,7.2,6.7,7.1,7.4,5.6,6.3,6.1,5.8,5.6,7.1,5.8,5.7,5.3,4.7,6.1,5.9,2.9,6.5,4.9,7.8,4.6,8.5,4.4,7.8,6.3,7.5,8.2,6.2,5.6,6.2,5.8,4.9,7.5,7.6,3.6,5.2,3.7,6.3,6.9,6.5,5.3,2.2,2.6,6.7,5.4,6.5,8.2,7.2,3.7,4.0,6.7,5.7,4.8,6.1,6.4,6.8,7.3,7.1,3.2,5.6,7.0,6.2,7.1,6.9,6.3,5.4,5.9,5.3,6.6,6.8,5.4,5.6,4.5,2.5,8.6,6.5,6.8,4.3,5.9,8.0,1.9,4.6,5.5,4.5,8.0,6.0,6.4,6.8,6.7,5.7,5.9,7.3,4.1,6.3,5.4,4.5,7.3,6.5,6.8,6.3,6.7,5.5,6.7,7.4,6.1,3.4,4.2,8.7,5.6,6.7,7.3,4.8,4.5,4.4,7.2,4.7,5.6,4.7,5.7,5.4,5.3,7.5,6.6,5.0,5.7,6.1,4.6,5.4,6.7,7.2,4.7,4.3,6.6,5.5,5.4,8.2,4.0,4.4,6.8,7.6,7.3,5.1,5.6,8.4,6.0,7.6,8.7,7.5,6.8,7.6,7.2,6.0,6.3,6.5,7.3,5.5,6.9,6.9,4.5,7.6,4.6,5.0,7.2,8.1,3.8,5.6,3.8,4.5,3.9,6.9,4.4,2.6,7.4,7.1,5.2,6.9,6.3,7.3,6.4,7.3,4.0,6.8,5.8,6.9,4.1,6.3,6.4,7.5,2.6,6.3,5.2,6.4,2.6,7.9,7.7,5.9,6.3,6.3,2.5,5.5,5.4,1.8,3.0,6.0,4.9,4.0,2.6,7.2,4.3,5.1,7.4,2.4,5.3,5.3,7.2,6.2,5.8,5.9,6.2,6.1,3.1,7.0,5.7,6.7,5.0,5.4,4.7,5.3,6.8,6.2,4.0,7.0,3.9,5.2,5.9,5.7,5.6,6.1,4.7,7.9,6.8,6.7,4.2,4.8,6.3,6.0,7.3,7.1,5.7,6.8,6.9,6.1,7.4,5.6,5.4,8.0,5.9,6.8,7.6,7.7,6.4,5.9,6.1,2.4,6.6,3.6,6.0,6.0,7.5,5.1,6.9,6.4,6.0,3.4,6.2,5.4,5.0,5.2,7.6,4.4,7.1,6.1,6.5,6.2,7.1,6.5,4.1,5.3,3.5,8.0,7.2,6.8,6.8,7.2,6.4,6.4,6.0,6.6,6.1,4.7,7.9,5.9,7.3,8.1,2.0,7.2,6.2,7.8,7.9,4.6,4.4,7.0,4.0,5.8,6.4,6.2,5.3,3.5,5.7,8.7,5.7,6.8,6.8,4.5,8.6,7.3,9.4,2.9,6.9,7.0,6.6,8.0,4.9,6.7,7.7,7.3,6.4,6.8,7.6,5.9,5.7,7.2,7.4,7.1,7.8,7.3,8.1,6.4,4.4,4.3,5.7,4.6,5.7,6.5,6.9,6.0,6.7,7.4,5.2,4.5,7.0,6.8,5.9,3.3,7.3,4.2,6.6,5.5,4.4,4.4,4.9,7.0,5.9,5.9,7.3,6.4,6.6,5.9,5.8,7.1,4.1,6.4,5.9,7.3,7.9,5.9,4.1,1.8,5.4,6.3,6.9,5.0,4.1,7.6,4.3,6.7,4.4,6.9,5.1,5.2,5.5,7.2,3.2,7.9,4.9,5.7,3.4,4.2,5.7,5.4,2.6,6.8,4.2,5.0,7.6,6.3,6.7,6.5,5.6,6.7,7.6,5.3,6.1,6.3,7.0,4.8,5.1,2.4,7.3,7.2,6.0,7.7,5.2,7.3,8.0,5.2,3.8,4.5,6.4,6.2,6.6,6.0,4.8,7.5,7.0,3.9,4.7,5.0,5.6,4.6,2.4,8.3,5.6,6.1,7.0,5.6,7.0,4.5,6.5,5.9,5.1,8.1,5.5,5.0,6.9,4.8,6.8,5.9,5.8,6.6,4.5,8.1,3.5,5.0,7.8,8.0,3.7,6.8,6.2,6.9,6.5,7.0,4.4,5.5,4.2,6.6,5.5,5.5,6.6,8.2,6.6,5.8,5.1,5.7,4.2,7.3,6.5,3.3,7.0,7.8,7.2,7.5,6.7,7.4,6.9,6.8,5.2,3.8,7.4,4.4,5.6,6.9,6.0,4.2,4.1,4.8,4.9,6.9,5.6,4.8,4.5,5.8,8.0,5.0,5.3,6.8,8.5,7.7,7.3,5.5,7.0,7.0,4.7,8.2,6.0,7.4,4.5,5.1,3.7,4.5,7.0,6.8,7.2,6.5,6.4,6.6,5.3,3.2,2.8,5.7,6.0,5.8,5.0,6.7,6.0,6.7,5.4,6.7,6.9,7.8,7.1,5.3,3.8,7.2,5.2,6.5,7.1,7.2,5.6,5.0,7.3,6.1,7.3,3.7,6.2,5.3,5.6,8.9,7.5,2.9,4.3,7.1,4.9,5.1,7.2,8.1,5.9,5.3,6.5,6.6,5.6,5.4,6.6,3.7,6.7,3.8,3.7,4.5,5.4,5.5,7.2,4.4,6.9,6.7,7.6,6.6,6.6,6.5,4.5,7.8,6.0,6.3,5.9,6.8,6.5,5.4,6.8,6.4,4.6,7.1,4.1,5.7,7.7,7.1,5.6,4.8,4.9,3.8,6.9,4.3,4.2,7.5,6.0,7.9,5.2,6.9,7.3,5.4,6.5,5.0,4.6,4.9,7.3,4.9,5.8,5.5,6.8,5.1,3.9,6.0,4.5,9.0,6.4,4.8,6.2,7.6,4.6,7.6,6.4,7.1,6.4,3.3,7.6,8.1,3.9,2.7,5.2,5.7,7.7,5.9,6.5,4.4,5.4,3.5,3.7,4.2,6.3,5.6,7.1,2.7,7.0,6.0,6.6,5.1,7.2,7.0,5.1,3.3,5.4,6.7,3.2,3.4,4.5,4.7,5.4,6.1,4.4,6.3,6.4,4.6,3.4,7.6,5.8,3.9,4.3,5.4,6.4,6.0,4.7,6.8,3.6,6.6,5.2,4.7,4.4,3.3,7.1,5.2,4.4,6.1,3.8,3.7,4.9,4.1,3.4,6.0,8.0,7.5,8.6,6.5,7.2,3.0,5.2,4.8,6.4,6.8,7.2,4.6,7.8,5.1,5.7,5.9,7.0,6.2,7.7,7.4,4.8,4.1,4.9,5.3,4.6,7.9,6.2,4.0,5.0,4.7,5.6,6.0,4.9,3.8,6.8,6.3,5.5,5.3,6.0,5.5,6.2,3.0,3.3,7.6,3.2,7.6,6.3,7.7,6.4,6.4,5.4,7.1,5.4,4.7,4.4,6.9,5.8,3.6,4.8,5.3,4.9,7.1,3.9,7.1,6.5,7.0,6.8,2.8,2.7,6.0,8.2,3.7,5.5,4.4,6.0,5.7,4.0,5.7,4.3,5.6,6.1,6.2,5.8,4.5,6.2],\"x0\":\" \",\"xaxis\":\"x\",\"y0\":\" \",\"yaxis\":\"y\",\"type\":\"violin\"}],                        {\"legend\":{\"tracegroupgap\":0},\"margin\":{\"t\":60},\"template\":{\"data\":{\"barpolar\":[{\"marker\":{\"line\":{\"color\":\"#E5ECF6\",\"width\":0.5},\"pattern\":{\"fillmode\":\"overlay\",\"size\":10,\"solidity\":0.2}},\"type\":\"barpolar\"}],\"bar\":[{\"error_x\":{\"color\":\"#2a3f5f\"},\"error_y\":{\"color\":\"#2a3f5f\"},\"marker\":{\"line\":{\"color\":\"#E5ECF6\",\"width\":0.5},\"pattern\":{\"fillmode\":\"overlay\",\"size\":10,\"solidity\":0.2}},\"type\":\"bar\"}],\"carpet\":[{\"aaxis\":{\"endlinecolor\":\"#2a3f5f\",\"gridcolor\":\"white\",\"linecolor\":\"white\",\"minorgridcolor\":\"white\",\"startlinecolor\":\"#2a3f5f\"},\"baxis\":{\"endlinecolor\":\"#2a3f5f\",\"gridcolor\":\"white\",\"linecolor\":\"white\",\"minorgridcolor\":\"white\",\"startlinecolor\":\"#2a3f5f\"},\"type\":\"carpet\"}],\"choropleth\":[{\"colorbar\":{\"outlinewidth\":0,\"ticks\":\"\"},\"type\":\"choropleth\"}],\"contourcarpet\":[{\"colorbar\":{\"outlinewidth\":0,\"ticks\":\"\"},\"type\":\"contourcarpet\"}],\"contour\":[{\"colorbar\":{\"outlinewidth\":0,\"ticks\":\"\"},\"colorscale\":[[0.0,\"#0d0887\"],[0.1111111111111111,\"#46039f\"],[0.2222222222222222,\"#7201a8\"],[0.3333333333333333,\"#9c179e\"],[0.4444444444444444,\"#bd3786\"],[0.5555555555555556,\"#d8576b\"],[0.6666666666666666,\"#ed7953\"],[0.7777777777777778,\"#fb9f3a\"],[0.8888888888888888,\"#fdca26\"],[1.0,\"#f0f921\"]],\"type\":\"contour\"}],\"heatmapgl\":[{\"colorbar\":{\"outlinewidth\":0,\"ticks\":\"\"},\"colorscale\":[[0.0,\"#0d0887\"],[0.1111111111111111,\"#46039f\"],[0.2222222222222222,\"#7201a8\"],[0.3333333333333333,\"#9c179e\"],[0.4444444444444444,\"#bd3786\"],[0.5555555555555556,\"#d8576b\"],[0.6666666666666666,\"#ed7953\"],[0.7777777777777778,\"#fb9f3a\"],[0.8888888888888888,\"#fdca26\"],[1.0,\"#f0f921\"]],\"type\":\"heatmapgl\"}],\"heatmap\":[{\"colorbar\":{\"outlinewidth\":0,\"ticks\":\"\"},\"colorscale\":[[0.0,\"#0d0887\"],[0.1111111111111111,\"#46039f\"],[0.2222222222222222,\"#7201a8\"],[0.3333333333333333,\"#9c179e\"],[0.4444444444444444,\"#bd3786\"],[0.5555555555555556,\"#d8576b\"],[0.6666666666666666,\"#ed7953\"],[0.7777777777777778,\"#fb9f3a\"],[0.8888888888888888,\"#fdca26\"],[1.0,\"#f0f921\"]],\"type\":\"heatmap\"}],\"histogram2dcontour\":[{\"colorbar\":{\"outlinewidth\":0,\"ticks\":\"\"},\"colorscale\":[[0.0,\"#0d0887\"],[0.1111111111111111,\"#46039f\"],[0.2222222222222222,\"#7201a8\"],[0.3333333333333333,\"#9c179e\"],[0.4444444444444444,\"#bd3786\"],[0.5555555555555556,\"#d8576b\"],[0.6666666666666666,\"#ed7953\"],[0.7777777777777778,\"#fb9f3a\"],[0.8888888888888888,\"#fdca26\"],[1.0,\"#f0f921\"]],\"type\":\"histogram2dcontour\"}],\"histogram2d\":[{\"colorbar\":{\"outlinewidth\":0,\"ticks\":\"\"},\"colorscale\":[[0.0,\"#0d0887\"],[0.1111111111111111,\"#46039f\"],[0.2222222222222222,\"#7201a8\"],[0.3333333333333333,\"#9c179e\"],[0.4444444444444444,\"#bd3786\"],[0.5555555555555556,\"#d8576b\"],[0.6666666666666666,\"#ed7953\"],[0.7777777777777778,\"#fb9f3a\"],[0.8888888888888888,\"#fdca26\"],[1.0,\"#f0f921\"]],\"type\":\"histogram2d\"}],\"histogram\":[{\"marker\":{\"pattern\":{\"fillmode\":\"overlay\",\"size\":10,\"solidity\":0.2}},\"type\":\"histogram\"}],\"mesh3d\":[{\"colorbar\":{\"outlinewidth\":0,\"ticks\":\"\"},\"type\":\"mesh3d\"}],\"parcoords\":[{\"line\":{\"colorbar\":{\"outlinewidth\":0,\"ticks\":\"\"}},\"type\":\"parcoords\"}],\"pie\":[{\"automargin\":true,\"type\":\"pie\"}],\"scatter3d\":[{\"line\":{\"colorbar\":{\"outlinewidth\":0,\"ticks\":\"\"}},\"marker\":{\"colorbar\":{\"outlinewidth\":0,\"ticks\":\"\"}},\"type\":\"scatter3d\"}],\"scattercarpet\":[{\"marker\":{\"colorbar\":{\"outlinewidth\":0,\"ticks\":\"\"}},\"type\":\"scattercarpet\"}],\"scattergeo\":[{\"marker\":{\"colorbar\":{\"outlinewidth\":0,\"ticks\":\"\"}},\"type\":\"scattergeo\"}],\"scattergl\":[{\"marker\":{\"colorbar\":{\"outlinewidth\":0,\"ticks\":\"\"}},\"type\":\"scattergl\"}],\"scattermapbox\":[{\"marker\":{\"colorbar\":{\"outlinewidth\":0,\"ticks\":\"\"}},\"type\":\"scattermapbox\"}],\"scatterpolargl\":[{\"marker\":{\"colorbar\":{\"outlinewidth\":0,\"ticks\":\"\"}},\"type\":\"scatterpolargl\"}],\"scatterpolar\":[{\"marker\":{\"colorbar\":{\"outlinewidth\":0,\"ticks\":\"\"}},\"type\":\"scatterpolar\"}],\"scatter\":[{\"fillpattern\":{\"fillmode\":\"overlay\",\"size\":10,\"solidity\":0.2},\"type\":\"scatter\"}],\"scatterternary\":[{\"marker\":{\"colorbar\":{\"outlinewidth\":0,\"ticks\":\"\"}},\"type\":\"scatterternary\"}],\"surface\":[{\"colorbar\":{\"outlinewidth\":0,\"ticks\":\"\"},\"colorscale\":[[0.0,\"#0d0887\"],[0.1111111111111111,\"#46039f\"],[0.2222222222222222,\"#7201a8\"],[0.3333333333333333,\"#9c179e\"],[0.4444444444444444,\"#bd3786\"],[0.5555555555555556,\"#d8576b\"],[0.6666666666666666,\"#ed7953\"],[0.7777777777777778,\"#fb9f3a\"],[0.8888888888888888,\"#fdca26\"],[1.0,\"#f0f921\"]],\"type\":\"surface\"}],\"table\":[{\"cells\":{\"fill\":{\"color\":\"#EBF0F8\"},\"line\":{\"color\":\"white\"}},\"header\":{\"fill\":{\"color\":\"#C8D4E3\"},\"line\":{\"color\":\"white\"}},\"type\":\"table\"}]},\"layout\":{\"annotationdefaults\":{\"arrowcolor\":\"#2a3f5f\",\"arrowhead\":0,\"arrowwidth\":1},\"autotypenumbers\":\"strict\",\"coloraxis\":{\"colorbar\":{\"outlinewidth\":0,\"ticks\":\"\"}},\"colorscale\":{\"diverging\":[[0,\"#8e0152\"],[0.1,\"#c51b7d\"],[0.2,\"#de77ae\"],[0.3,\"#f1b6da\"],[0.4,\"#fde0ef\"],[0.5,\"#f7f7f7\"],[0.6,\"#e6f5d0\"],[0.7,\"#b8e186\"],[0.8,\"#7fbc41\"],[0.9,\"#4d9221\"],[1,\"#276419\"]],\"sequential\":[[0.0,\"#0d0887\"],[0.1111111111111111,\"#46039f\"],[0.2222222222222222,\"#7201a8\"],[0.3333333333333333,\"#9c179e\"],[0.4444444444444444,\"#bd3786\"],[0.5555555555555556,\"#d8576b\"],[0.6666666666666666,\"#ed7953\"],[0.7777777777777778,\"#fb9f3a\"],[0.8888888888888888,\"#fdca26\"],[1.0,\"#f0f921\"]],\"sequentialminus\":[[0.0,\"#0d0887\"],[0.1111111111111111,\"#46039f\"],[0.2222222222222222,\"#7201a8\"],[0.3333333333333333,\"#9c179e\"],[0.4444444444444444,\"#bd3786\"],[0.5555555555555556,\"#d8576b\"],[0.6666666666666666,\"#ed7953\"],[0.7777777777777778,\"#fb9f3a\"],[0.8888888888888888,\"#fdca26\"],[1.0,\"#f0f921\"]]},\"colorway\":[\"#636efa\",\"#EF553B\",\"#00cc96\",\"#ab63fa\",\"#FFA15A\",\"#19d3f3\",\"#FF6692\",\"#B6E880\",\"#FF97FF\",\"#FECB52\"],\"font\":{\"color\":\"#2a3f5f\"},\"geo\":{\"bgcolor\":\"white\",\"lakecolor\":\"white\",\"landcolor\":\"#E5ECF6\",\"showlakes\":true,\"showland\":true,\"subunitcolor\":\"white\"},\"hoverlabel\":{\"align\":\"left\"},\"hovermode\":\"closest\",\"mapbox\":{\"style\":\"light\"},\"paper_bgcolor\":\"white\",\"plot_bgcolor\":\"#E5ECF6\",\"polar\":{\"angularaxis\":{\"gridcolor\":\"white\",\"linecolor\":\"white\",\"ticks\":\"\"},\"bgcolor\":\"#E5ECF6\",\"radialaxis\":{\"gridcolor\":\"white\",\"linecolor\":\"white\",\"ticks\":\"\"}},\"scene\":{\"xaxis\":{\"backgroundcolor\":\"#E5ECF6\",\"gridcolor\":\"white\",\"gridwidth\":2,\"linecolor\":\"white\",\"showbackground\":true,\"ticks\":\"\",\"zerolinecolor\":\"white\"},\"yaxis\":{\"backgroundcolor\":\"#E5ECF6\",\"gridcolor\":\"white\",\"gridwidth\":2,\"linecolor\":\"white\",\"showbackground\":true,\"ticks\":\"\",\"zerolinecolor\":\"white\"},\"zaxis\":{\"backgroundcolor\":\"#E5ECF6\",\"gridcolor\":\"white\",\"gridwidth\":2,\"linecolor\":\"white\",\"showbackground\":true,\"ticks\":\"\",\"zerolinecolor\":\"white\"}},\"shapedefaults\":{\"line\":{\"color\":\"#2a3f5f\"}},\"ternary\":{\"aaxis\":{\"gridcolor\":\"white\",\"linecolor\":\"white\",\"ticks\":\"\"},\"baxis\":{\"gridcolor\":\"white\",\"linecolor\":\"white\",\"ticks\":\"\"},\"bgcolor\":\"#E5ECF6\",\"caxis\":{\"gridcolor\":\"white\",\"linecolor\":\"white\",\"ticks\":\"\"}},\"title\":{\"x\":0.05},\"xaxis\":{\"automargin\":true,\"gridcolor\":\"white\",\"linecolor\":\"white\",\"ticks\":\"\",\"title\":{\"standoff\":15},\"zerolinecolor\":\"white\",\"zerolinewidth\":2},\"yaxis\":{\"automargin\":true,\"gridcolor\":\"white\",\"linecolor\":\"white\",\"ticks\":\"\",\"title\":{\"standoff\":15},\"zerolinecolor\":\"white\",\"zerolinewidth\":2}}},\"violinmode\":\"group\",\"xaxis\":{\"anchor\":\"y\",\"domain\":[0.0,1.0],\"title\":{\"text\":\"Rating\"}},\"yaxis\":{\"anchor\":\"x\",\"domain\":[0.0,1.0]}},                        {\"responsive\": true}                    ).then(function(){\n",
       "                            \n",
       "var gd = document.getElementById('f2045bad-59ab-46ec-9f38-8ce50626b6c3');\n",
       "var x = new MutationObserver(function (mutations, observer) {{\n",
       "        var display = window.getComputedStyle(gd).display;\n",
       "        if (!display || display === 'none') {{\n",
       "            console.log([gd, 'removed!']);\n",
       "            Plotly.purge(gd);\n",
       "            observer.disconnect();\n",
       "        }}\n",
       "}});\n",
       "\n",
       "// Listen for the removal of the full notebook cells\n",
       "var notebookContainer = gd.closest('#notebook-container');\n",
       "if (notebookContainer) {{\n",
       "    x.observe(notebookContainer, {childList: true});\n",
       "}}\n",
       "\n",
       "// Listen for the clearing of the current output cell\n",
       "var outputEl = gd.closest('.output');\n",
       "if (outputEl) {{\n",
       "    x.observe(outputEl, {childList: true});\n",
       "}}\n",
       "\n",
       "                        })                };                });            </script>        </div>"
      ]
     },
     "metadata": {},
     "output_type": "display_data"
    }
   ],
   "source": [
    "iplot(px.violin(data_frame=data,x=\"Rating\"))"
   ]
  },
  {
   "cell_type": "code",
   "execution_count": 23,
   "id": "07ceadc7",
   "metadata": {
    "ExecuteTime": {
     "end_time": "2024-06-23T23:34:46.248549Z",
     "start_time": "2024-06-23T23:34:46.1903Z"
    },
    "execution": {
     "iopub.execute_input": "2024-09-02T07:55:04.770113Z",
     "iopub.status.busy": "2024-09-02T07:55:04.769652Z",
     "iopub.status.idle": "2024-09-02T07:55:04.869638Z",
     "shell.execute_reply": "2024-09-02T07:55:04.868419Z"
    },
    "papermill": {
     "duration": 0.133831,
     "end_time": "2024-09-02T07:55:04.872313",
     "exception": false,
     "start_time": "2024-09-02T07:55:04.738482",
     "status": "completed"
    },
    "tags": []
   },
   "outputs": [
    {
     "data": {
      "text/html": [
       "<div>                            <div id=\"c2665082-8222-492b-9a7f-f31cfa28bd07\" class=\"plotly-graph-div\" style=\"height:525px; width:100%;\"></div>            <script type=\"text/javascript\">                require([\"plotly\"], function(Plotly) {                    window.PLOTLYENV=window.PLOTLYENV || {};                                    if (document.getElementById(\"c2665082-8222-492b-9a7f-f31cfa28bd07\")) {                    Plotly.newPlot(                        \"c2665082-8222-492b-9a7f-f31cfa28bd07\",                        [{\"alignmentgroup\":\"True\",\"box\":{\"visible\":false},\"hovertemplate\":\"Duration=%{x}\\u003cextra\\u003e\\u003c\\u002fextra\\u003e\",\"legendgroup\":\"\",\"marker\":{\"color\":\"#636efa\"},\"name\":\"\",\"offsetgroup\":\"\",\"orientation\":\"h\",\"scalegroup\":\"True\",\"showlegend\":false,\"x\":[109,110,147,142,82,116,96,120,161,166,102,87,132,105,116,146,116,168,158,126,94,138,120,124,144,157,136,107,113,80,122,149,148,149,130,124,121,126,188,115,103,114,115,122,100,99,109,140,122,128,93,102,125,145,121,75,113,111,134,110,104,92,136,126,115,100,137,127,120,130,122,115,119,124,135,128,90,105,145,110,150,103,151,109,145,95,127,140,112,143,104,177,121,117,148,158,123,120,144,170,72,105,132,107,154,157,115,175,153,142,168,158,78,138,145,148,138,139,133,170,180,137,138,151,78,117,153,150,135,149,150,116,144,164,153,147,170,128,123,157,128,132,137,162,137,121,164,148,149,120,171,126,153,160,138,139,144,115,116,177,152,107,150,99,163,143,130,177,149,160,138,133,144,136,145,94,170,165,154,150,141,140,119,145,153,115,122,128,180,145,148,145,125,180,164,129,146,156,157,175,171,123,120,150,160,115,136,152,132,109,146,132,105,145,172,88,150,161,132,113,155,167,139,155,107,100,153,107,146,128,111,170,125,147,128,133,78,125,129,106,127,193,137,160,136,140,127,135,141,122,140,168,154,132,105,96,160,142,108,158,144,129,120,139,138,137,126,151,88,150,130,150,145,106,122,120,151,153,135,158,152,153,134,134,168,195,145,121,92,161,153,139,157,138,153,142,161,174,174,137,130,142,123,140,126,124,130,81,145,103,141,122,144,120,126,132,125,133,160,157,152,116,150,115,139,146,142,104,165,178,125,108,149,136,180,139,58,160,165,146,132,184,135,127,160,144,132,174,123,136,124,144,145,158,110,100,109,154,145,163,120,135,114,126,97,128,144,123,149,160,133,126,140,152,137,153,149,148,166,143,143,121,133,184,134,153,141,95,100,140,155,110,135,110,117,119,137,102,168,96,113,125,122,176,127,166,171,144,169,175,93,145,148,166,167,148,144,155,110,129,152,165,176,127,141,114,131,106,116,145,121,153,155,127,154,136,170,152,151,110,133,168,143,135,151,172,107,151,129,131,149,163,122,153,77,142,148,164,132,91,134,125,86,154,141,150,120,150,180,145,114,160,84,136,127,139,90,148,125,141,113,147,144,154,137,173,97,110,173,134,133,173,155,120,123,124,128,122,131,154,169,90,130,154,133,150,107,96,130,158,153,126,178,144,138,130,118,181,135,128,177,139,105,90,142,141,104,103,86,97,180,128,145,109,102,120,127,120,127,165,138,135,155,126,171,142,152,160,136,142,137,154,149,149,119,97,96,127,144,156,171,70,150,193,149,150,134,158,126,101,131,104,173,131,146,152,137,102,163,154,153,140,130,117,95,125,136,103,180,169,175,136,156,133,137,143,157,79,127,65,138,152,130,141,124,133,135,148,108,145,140,180,137,143,141,125,183,175,133,113,148,142,162,129,122,99,130,152,133,120,135,118,120,144,146,150,166,136,146,146,138,140,124,155,146,130,156,122,129,112,118,134,134,123,158,142,119,83,128,95,100,139,103,91,144,159,181,137,145,170,139,171,160,120,156,167,132,147,133,168,125,165,72,110,158,176,163,68,81,133,137,137,111,117,120,176,142,136,136,102,122,128,126,141,145,139,145,154,159,124,139,126,135,157,129,152,119,132,153,135,145,137,120,108,148,129,97,119,155,80,169,127,140,159,89,171,166,142,142,151,150,169,146,165,150,139,146,112,131,161,201,125,130,138,148,120,125,93,135,146,125,158,141,130,128,128,88,120,133,121,140,142,117,126,158,121,123,156,147,121,139,143,171,162,188,166,135,145,112,144,151,145,172,127,119,160,99,64,120,137,128,118,115,145,165,168,107,89,101,157,113,158,160,147,136,138,136,147,151,172,131,118,136,164,133,162,145,154,140,138,156,83,84,115,131,135,120,150,160,170,74,128,154,114,135,105,113,95,142,157,95,129,143,157,122,100,128,165,109,174,159,136,113,133,145,85,85,114,155,150,129,100,96,89,93,140,153,114,142,96,160,144,141,128,74,140,113,148,137,138,154,133,131,131,139,115,91,139,145,82,100,116,126,149,159,156,122,134,154,143,105,83,120,152,145,126,138,107,109,119,134,114,137,135,137,168,121,125,130,85,155,164,150,125,124,81,103,153,154,104,164,105,97,127,120,132,149,174,100,137,90,176,107,143,115,136,137,68,157,118,101,82,122,139,156,114,116,89,114,93,138,112,145,175,94,95,119,124,137,138,126,124,130,98,170,78,137,127,95,146,123,95,120,128,131,176,126,90,134,150,77,150,161,110,119,137,154,83,164,165,151,140,155,117,120,155,136,131,137,134,119,161,155,92,118,138,140,120,152,130,111,138,127,136,115,128,60,150,130,95,155,140,150,167,100,173,111,171,108,136,105,140,147,122,149,154,116,169,150,120,137,129,166,186,150,207,152,136,136,109,136,135,147,136,118,156,159,140,100,102,103,121,145,130,123,154,88,85,140,133,106,136,140,102,140,135,102,141,146,136,112,120,90,170,144,143,97,88,130,97,65,97,103,141,140,151,155,137,123,175,127,94,127,90,112,110,160,135,175,151,116,155,150,115,80,135,90,105,120,105,160,114,85,100,137,107,127,99,145,139,142,138,158,135,115,160,165,149,135,124,99,108,95,135,98,100,164,146,164,143,113,126,145,98,165,127,137,125,146,90,132,92,117,149,124,144,133,142,155,140,92,117,104,104,177,143,146,142,161,116,120,140,163,108,134,123,121,84,119,86,130,107,91,138,171,139,149,146,152,128,130,163,140,145,89,118,115,126,120,160,158,137,133,154,134,102,97,118,120,145,149,155,161,127,93,120,134,160,108,110,122,175,106,153,85,124,150,153,130,108,103,85,105,145,159,152,76,146,113,107,128,128,121,108,123,140,178,124,117,84,106,119,131,173,141,145,122,113,125,180,150,143,155,137,173,75,155,153,162,135,140,126,102,95,111,91,145,151,100,152,130,130,153,168,174,185,130,140,130,97,164,158,169,126,105,141,110,138,98,103,88,96,141,94,141,148,130,158,165,145,122,139,114,139,140,172,144,87,156,148,185,139,159,146,117,161,79,89,178,177,135,167,148,138,161,146,136,132,146,167,123,152,95,148,159,155,129,165,120,159,128,163,150,126,125,128,158,117,100,117,145,155,122,153,129,152,128,131,126,139,147,152,139,130,153,106,145,155,97,59,120,172,164,156,137,148,187,170,134,169,121,112,148,157,154,185,128,164,144,130,124,157,150,136,120,110,162,158,123,135,173,150,148,110,163,151,150,139,180,143,135,127,150,138,165,142,140,159,130,188,146,121,123,160,172,158,120,130,130,135,135,119,124,133,180,171,155,143,132,150,131,141,120,149,112,135,127,135,160,126,128,147,136,139,161,140,135,158,165,130,145,139,110,90,106,135,144,156,170,98,126,129,171,166,112,139,83,168,99,153,138,135,119,137,153,147,141,164,162,163,152,130,136,104,138,102,92,101,124,92,137,124,83,132,110,120,171,147,162,130,130,156,160,133,141,152,159,170,158,165,143,166,110,128,169,139,166,95,137,164,147,143,116,155,110,162,155,120,145,146,138,153,129,156,177,82,110,125,105,138,98,133,147,116,111,141,123,115,142,71,120,153,139,132,137,142,147,100,109,133,143,122,139,133,146,95,105,122,167,137,100,105,140,120,144,130,145,151,120,143,126,162,120,138,110,136,180,131,145,135,136,150,155,132,134,125,158,146,180,140,115,73,120,150,132,135,164,120,132,140,151,136,97,140,105,94,99,146,144,159,133,180,149,145,150,137,134,133,170,102,103,90,144,120,146,114,115,139,166,135,127,150,104,142,168,136,137,131,147,129,126,170,139,148,167,119,68,113,98,134,145,97,140,128,123,122,136,140,151,133,145,117,80,102,101,158,104,87,84,87,100,88,165,150,131,170,97,105,116,84,106,144,148,115,164,137,127,86,160,134,112,145,109,120,129,85,152,145,109,90,114,100,134,139,74,141,169,138,180,104,148,169,128,111,170,152,127,148,152,122,145,109,120,119,165,154,169,131,135,146,148,140,107,108,136,128,97,137,152,128,112,102,157,142,145,187,157,110,123,126,124,127,102,129,129,146,105,153,146,90,125,152,98,124,131,119,111,138,151,130,150,135,147,150,105,165,139,167,137,121,139,130,153,156,155,120,142,155,148,158,157,94,136,136,154,141,138,108,158,91,163,127,162,144,105,108,120,118,130,144,162,123,124,162,199,138,126,103,125,95,126,123,120,110,111,145,90,152,110,140,150,151,136,160,155,140,135,150,110,115,134,138,142,174,79,132,143,161,150,155,128,150,114,145,64,110,154,137,134,90,134,121,160,130,124,138,139,132,120,119,132,139,140,96,124,154,151,107,142,155,149,117,135,110,154,149,169,136,129,140,125,178,112,134,114,173,107,174,159,162,166,139,150,134,147,136,86,126,152,124,174,160,102,137,75,170,156,156,139,125,118,134,140,102,120,125,120,185,107,97,122,135,79,168,114,142,92,117,128,165,82,118,129,141,108,170,149,121,127,144,88,135,108,89,105,120,135,126,135,123,134,180,136,184,148,166,121,173,135,137,109,90,100,165,149,138,160,108,90,134,160,141,135,147,165,131,149,140,130,126,131,133,140,140,110,151,131,136,129,143,102,93,129,120,148,123,176,170,186,120,131,142,159,127,133,135,129,139,102,104,130,107,125,109,184,164,142,173,145,152,146,134,139,149,146,113,186,106,144,116,105,136,102,133,117,120,152,138,137,149,179,120,130,132,152,128,125,180,98,138,101,124,180,120,144,160,130,151,128,160,118,96,115,91,147,111,118,140,135,130,130,102,104,112,130,127,144,145,140,145,153,172,130,152,149,149,107,184,168,206,149,143,177,156,164,154,121,126,145,142,163,168,119,161,169,144,122,137,163,138,177,143,119,145,137,153,143,125,134,142,114,165,126,174,118,91,124,155,128,149,133,173,120,142,159,153,141,156,85,118,125,129,95,118,117,88,90,101,102,80,100,120,129,98,127,122,108,87,126,92,131,127,134,161,164,133,140,131,152,156,152,153,126,143,117,132,178,63,123,143,118,121,158,139,135,125,152,144,129,140,162,155,136,150,135,133,146,141,180,185,145,82,143,150,124,144,155,159,138,127,138,175,116,132,130,109,131,155,129,152,120,103,131,95,161,125,148,135,120,134,122,134,132,118,118,140,139,92,135,129,108,148,130,137,131,138,154,138,140,93,104,138,105,135,156,172,127,173,122,134,165,156,136,142,155,170,160,140,139,137,180,150,127,153,132,155,175,94,131,155,139,110,165,153,154,170,124,172,155,129,143,141,139,136,94,158,125,98,132,112,112,163,161,135,139,138,137,138,173,141,149,135,85,127,100,129,162,103,145,90,160,195,131,134,168,152,122,126,130,112,144,185,94,134,92,114,157,150,124,162,175,140,110,140,139,150,135,140,126,138,125,139,160,119,134,157,82,135,111,120,143,163,130,119,124,123,173,150,137,144,93,125,132,152,133,180,149,123,120,137,159,136,140,140,136,186,104,143,143,97,140,142,112,177,147,138,148,142,133,136,139,171,99,93,144,142,132,154,147,144,141,167,136,130,125,90,174,161,127,140,116,133,172,150,122,134,145,138,140,135,151,171,159,104,135,137,169,100,162,137,107,138,127,184,155,167,149,137,121,138,145,115,149,145,144,159,149,93,146,147,143,146,133,139,115,78,141,123,155,103,150,139,134,146,109,135,156,162,135,120,90,144,166,139,135,170,143,149,109,109,148,127,168,126,162,176,119,137,112,90,90,157,79,73,136,134,135,151,101,127,150,138,140,106,149,125,136,132,153,193,158,157,95,177,173,123,135,109,105,95,143,141,144,145,108,137,142,158,135,136,95,147,150,127,112,131,138,131,165,138,120,172,131,120,93,123,132,112,140,156,127,162,134,120,140,160,163,158,164,126,145,143,166,145,131,112,129,70,143,135,122,124,152,126,130,148,110,142,130,120,95,88,124,157,113,140,144,139,175,137,135,150,104,162,103,150,149,114,90,132,117,86,120,175,115,127,145,99,185,130,110,156,193,110,97,130,180,168,135,124,97,160,114,159,173,142,96,150,107,157,145,156,131,121,134,148,168,151,152,141,110,148,167,199,84,119,135,127,119,154,112,123,130,90,127,139,121,150,116,132,162,116,119,125,150,128,119,157,167,119,174,190,140,121,147,74,130,101,100,123,127,96,160,122,79,171,130,136,158,106,134,103,125,156,128,157,124,103,171,92,152,174,139,90,130,97,168,120,157,157,141,162,138,160,113,116,158,153,130,141,172,151,117,126,117,87,127,130,97,135,145,132,82,131,126,193,133,91,160,169,167,158,140,155,155,132,161,120,90,115,100,152,126,146,135,127,160,139,111,142,171,146,132,142,133,84,100,142,137,160,149,143,153,143,137,129,90,171,119,142,123,122,140,124,123,146,117,151,173,153,135,150,142,102,141,124,128,165,171,140,137,125,85,125,140,100,145,166,187,142,140,159,159,110,130,65,180,156,130,117,124,96,144,141,159,154,152,187,92,105,143,65,140,120,143,169,104,171,116,125,112,164,186,150,107,109,128,150,137,134,137,86,133,161,129,165,121,143,98,155,120,142,145,172,124,136,131,160,165,169,87,122,155,147,130,126,189,117,125,106,148,117,140,161,137,126,125,172,145,68,139,119,132,140,202,120,63,170,113,136,155,133,134,115,186,180,135,123,148,134,131,147,142,152,187,92,107,176,108,74,118,92,160,110,120,90,113,125,176,166,115,140,171,109,149,163,125,108,77,104,137,145,125,132,116,130,155,145,119,81,164,100,85,174,117,108,105,126,69,103,160,138,92,125,153,160,120,88,149,90,77,146,100,68,105,110,132,136,156,107,152,145,142,128,90,107,120,160,156,122,141,107,114,91,136,143,164,126,132,131,130,146,157,133,94,120,122,101,161,180,129,152,140,102,106,133,91,155,175,141,156,127,133,117,180,149,126,110,120,106,180,140,130,144,124,112,118,125,138,145,120,137,148,130,151,137,132,162,160,152,145,113,137,139,144,116,128,113,123,124,120,148,133,130,119,124,128,121,133,122,133,110,106,130,102,130,145,128,137,109,131,181,130,163,105,137,92,165,147,130,164,145,114,159,106,80,82,137,105,144,155,162,119,136,130,148,160,130,147,179,127,175,134,120,197,150,147,128,146,151,100,120,129,154,145,180,178,127,136,106,165,172,136,137,135,128,130,150,150,142,90,120,137,131,167,136,150,122,121,121,148,120,130,161,141,110,137,158,112,92,120,113,112,132,166,177,135,134,113,103,100,110,132,152,160,130,94,109,155,106,122,154,109,80,135,117,136,162,107,111,156,165,130,118,153,143,151,152,178,166,103,96,119,98,92,151,99,156,161,130,120,95,150,115,110,105,130,150,107,106,99,103,155,170,124,109,96,80,110,155,139,155,152,129,150,79,140,151,134,163,153,128,162,99,152,126,172,148,113,137,113,104,138,115,127,120,155,151,135,160,150,142,157,162,140,128,141,129,150,142,164,140,163,138,139,101,161,180,112,153,165,142,129,119,164,108,141,167,158,153,131,148,150,117,110,164,102,90,131,117,149,97,135,146,170,141,111,109,98,114,150,87,160,105,128,107,113,145,130,119,129,120,135,161,148,113,90,102,154,133,105,120,113,130,154,130,117,110,104,119,155,163,91,143,100,108,134,180,126,102,127,146,150,130,100,112,155,177,104,113,150,100,146,118,138,124,106,92,114,115,138,93,110,105,85,142,172,114,118,130,95,136,157,133,123,140,127,110,179,179,93,148,162,138,165,118,130,120,120,133,126,108,119,158,150,96,106,134,120,197,111,156,132,114,155,135,133,95,135,95,106,163,132,142,150,140,156,73,100,100,130,120,125,134,136,135,146,146,77,90,121,163,124,128,140,136,127,162,189,171,189,130,127,124,149,151,130,101,127,135,132,163,132,134,136,95,120,106,119,96,95,104,190,117,100,87,122,143,103,120,134,115,132,158,150,182,132,136,136,157,129,177,125,137,129,147,129,127,128,66,131,156,126,143,126,150,139,180,137,158,128,134,104,116,121,117,134,128,122,101,148,171,146,141,128,84,112,152,146,108,133,133,115,130,122,110,125,150,140,197,138,140,132,122,139,148,120,137,170,108,128,130,104,142,126,120,137,119,99,157,112,142,173,124,132,118,151,187,136,124,138,96,130,65,122,122,116,160,140,154,134,122,147,125,165,125,208,150,176,123,153,106,95,146,140,108,137,100,146,135,130,110,133,100,128,95,95,131,110,138,137,139,140,146,158,123,136,139,128,108,110,117,120,130,100,115,135,169,117,125,155,123,104,107,105,80,118,115,117,99,120,92,160,105,135,101,172,162,98,155,130,101,122,134,160,169,139,114,124,89,129,97,135,150,126,144,98,126,109,107,146,60,99,150,152,59,124,114,125,123,131,133,146,135,130,137,132,120,168,160,153,115,141,122,150,130,140,98,129,164,162,157,135,149,98,112,139,114,123,108,131,140,188,166,145,88,139,165,138,100,154,145,160,127,150,156,141,129,113,131,134,149,131,165,98,143,143,111,130,138,83,125,170,152,155,101,147,137,142,125,116,129,128,191,152,190,120,112,136,145,125,154,130,165,129,139,155,110,129,162,93,112,116,127,134,148,100,93,138,143,120,109,159,141,126,120,140,143,125,83,155,157,150,155,136,152,139,114,132,115,157,109,159,165,116,114,95,138,173,131,156,140,128,127,148,137,125,128,141,141,136,115,150,136,108,146,100,138,134,160,153,132,142,118,168,109,105,146,112,122,146,173,163,115,117,148,110,110,127,110,96,120,158,138,113,155,91,123,188,175,136,130,85,120,126,150,134,132,132,144,107,135,149,150,110,163,136,110,146,138,158,127,155,141,146,132,161,138,136,100,138,115,128,120,109,166,126,137,120,83,141,150,159,164,125,150,126,121,125,137,167,160,150,87,149,200,157,156,192,156,164,183,102,137,148,156,114,162,138,136,121,130,157,120,164,166,138,133,110,97,133,140,161,149,153,142,144,136,139,137,120,135,148,140,149,137,137,136,144,116,132,77,162,165,123,156,123,133,157,146,137,106,161,147,135,154,135,148,161,148,153,147,136,130,187,134,146,150,133,129,130,136,100,130,110,125,145,135,96,113,141,139,162,180,133,97,157,146,156,147,109,135,128,85,140,153,113,109,138,140,129,133,127,149,135,100,104,110,130,139,132,151,139,128,151,138,116,149,150,160,118,122,120,110,143,149,122,100,151,93,119,123,70,120,139,133,151,122,120,162,120,106,117,136,157,171,168,117,145,161,127,146,165,158,148,141,144,150,140,123,146,178,117,163,110,125,120,138,152,163,133,90,162,125,135,120,135,128,127,90,164,126,111,171,169,130,122,122,174,144,112,104,140,157,178,180,120,142,148,170,98,123,154,141,150,115,122,139,125,98,93,150,180,133,142,162,129,170,144,135,148,80,137,152,132,123,124,180,128,122,118,116,153,145,110,120,125,131,148,124,101,65,207,89,125,160,131,105,88,138,80,139,158,82,159,80,159,145,105,132,106,135,158,78,86,158,164,155,123,129,117,122,80,95,134,135,95,93,107,123,168,143,145,150,102,159,151,125,119,115,180,139,141,119,134,135,90,190,125,120,153,159,130,100,143,140,146,120,128,143,126,117,106,137,107,152,136,114,102,149,110,139,148,131,144,106,140,136,186,150,181,121,134,153,109,138,146,109,110,101,137,120,83,144,171,139,117,156,175,138,130,150,123,142,180,135,135,132,140,132,108,132,144,162,135,114,109,143,160,135,138,109,134,130,137,155,200,141,137,129,120,135,139,150,118,140,142,133,119,152,133,135,145,150,147,132,138,165,129,77,113,158,120,111,109,149,128,165,139,162,126,148,145,136,129,128,155,183,161,125,105,138,144,152,160,120,170,154,151,125,152,150,156,144,127,139,156,134,122,150,148,120,155,113,125,165,139,129,131,112,161,146,150,155,162,168,158,100,137,130,159,156,131,164,175,139,116,157,174,145,135,106,118,117,126,124,130,125,135,148,164,114,135,137,115,153,160,170,142,152,131,175,172,141,140,158,110,132,131,153,97,139,144,135,123,155,136,153,130,115,111,111,104,120,85,58,105,130,150,124,104,116,140,162,142,114,125,150,114,126,127,152,134,90,145,137,129,122,140,94,181,144,145,140,154,150,98,99,143,164,150,173,175,123,129,121,73,89,138,121,121,79,128,140,129,126,120,170,166,155,76,127,137,160,149,147,155,145,146,120,130,140,137,142,128,140,180,128,120,115,108,135,155,126,122,164,136,134,136,144,168,157,127,125,149,144,113,115,120,133,62,112,110,125,145,135,139,118,160,139,162,110,162,125,129,139,140,150,111,161,160,125,153,153,100,105,67,135,165,138,100,147,122,155,170,112,125,132,146,101,142,95,108,139,109,168,139,136,93,152,143,146,145,160,126,138,119,117,141,114,90,144,99,142,76,123,96,110,144,180,100,105,136,134,182,150,157,158,124,64,162,135,141,135,134,143,141,142,161,138,99,151,160,135,125,125,188,112,133,138,97,107,118,154,169,137,145,137,143,142,104,94,156,135,140,128,94,80,141,102,127,143,171,163,97,85,138,131,153,168,154,114,99,132,151,160,136,131,135,134,102,103,155,166,174,204,163,96,147,120,153,96,89,148,110,100,139,128,146,148,96,135,128,100,146,146,121,157,107,180,130,105,139,145,164,145,160,143,130,122,161,89,138,120,170,166,128,143,138,125,131,135,143,175,100,114,127,169,60,110,121,142,90,154,83,133,95,123,66,120,136,149,155,131,139,132,148,100,134,161,140,129,140,151,160,164,151,161,170,116,130,104,153,179,101,180,163,133,108,154,135,134,168,117,139,143,138,164,140,121,143,157,182,140,153,157,175,65,83,132,165,113,127,127,139,115,139,120,142,135,155,122,113,128,133,144,108,162,120,110,111,171,144,122,136,156,140,104,131,128,136,99,120,127,113,121,101,160,103,133,118,116,123,136,115,160,126,121,140,125,158,120,135,127,160,151,111,159,172,143,169,116,125,152,153,108,143,155,148,107,106,95,104,127,149,122,138,120,175,146,130,103,132,120,125,73,68,195,155,140,117,120,130,104,157,173,121,120,163,162,151,141,125,120,142,103,65,165,135,112,110,99,149,94,116,153,90,110,101,154,90,142,129,134,144,125,102,93,144,121,135,138,125,87,151,144,87,92,119,95,88,161,116,120,112,92,105,110,117,90,77,160,100,80,89,137,102,100,106,82,118,98,122,117,90,140,147,155,138,107,124,117,97,109,132,89,108,117,141,106,96,120,97,111,154,90,97,164,115,130,113,108,110,101,122,130,124,96,106,91,115,160,143,119,128,107,95,90,134,87,145,138,133,134,99,105,75,129,72,90,86,90,115,106,118,120,107,113,125,134,160,138,140,140,145,160,135,150,140,137,121,124,121,135,164,130,161,94,151,98,88,113,113,135,168,144,136,116,111,113,159,75,122,159,150,155,137,124,174,138,112,95,136,87,112,133,130,108,107,135,104,130,97,111,105,107,95,173,137,187,157,113,114,127,117,167,131,120,96,153,136,106,155,88,162,134,147,158,148,135,129,140,128,150,150,104,139,136,150,160,156,128,108,120,121,72,138,127,92,145,100,156,140,90,128,134,123,136,148,128,117,109,124,120,137,120,134,135,151,151,126,188,98,93,142,125,102,114,90,106,106,145,113,137,122,175,112,151,110,150,153,134,144,139,85,145,120,155,180,134,138,140,122,101,153,150,145,106,118,121,164,133,150,135,155,98,145,93,135,136,161,158,132,169,130,165,85,175,100,135,125,135,131,166,61,129,127,95,144,142,104,106,122,126,100,78,160,168,135,148,118,120,172,163,151,130,136,146,82,159,110,150,165,111,143,132,99,152,169,148,145,128,174,160,120,130,137,100,150,110,120,190,125,130,92,136,180,130,138,79,147,145,90,178,148,156,156,153,154,119,133,122,109,95,136,149,117,103,115,110,108,124,159,131,152,126,117,78,109,133,144,92,115,98,195,101,192,116,154,112,94,153,130,121,135,94,145,93,120,139,121,140,156,142,150,82,120,92,121,97,105,152,137,120,153,171,128,153,155,138,130,108,138,145,150,137,151,115,170,138,116,90,192,77,120,154,145,125,132,117,175,173,129,106,126,117,150,147,152,116,98,155,107,134,95,90,128,165,148,108,160,147,140,133,160,135,139,149,117,150,137,130,92,136,138,146,159,132,133,163,145,142,119,133,175,84,124,155,75,161,154,151,131,159,163,125,132,151,125,131,120,169,162,127,175,154,172,154,134,133,136,137,166,145,137,168,115,149,140,141,132,131,164,129,126,150,170,142,142,136,116,125,112,131,157,120,139,118,130,134,120,117,126,120,120,140,109,100,157,150,115,153,125,129,130],\"x0\":\" \",\"xaxis\":\"x\",\"y0\":\" \",\"yaxis\":\"y\",\"type\":\"violin\"}],                        {\"legend\":{\"tracegroupgap\":0},\"margin\":{\"t\":60},\"template\":{\"data\":{\"barpolar\":[{\"marker\":{\"line\":{\"color\":\"#E5ECF6\",\"width\":0.5},\"pattern\":{\"fillmode\":\"overlay\",\"size\":10,\"solidity\":0.2}},\"type\":\"barpolar\"}],\"bar\":[{\"error_x\":{\"color\":\"#2a3f5f\"},\"error_y\":{\"color\":\"#2a3f5f\"},\"marker\":{\"line\":{\"color\":\"#E5ECF6\",\"width\":0.5},\"pattern\":{\"fillmode\":\"overlay\",\"size\":10,\"solidity\":0.2}},\"type\":\"bar\"}],\"carpet\":[{\"aaxis\":{\"endlinecolor\":\"#2a3f5f\",\"gridcolor\":\"white\",\"linecolor\":\"white\",\"minorgridcolor\":\"white\",\"startlinecolor\":\"#2a3f5f\"},\"baxis\":{\"endlinecolor\":\"#2a3f5f\",\"gridcolor\":\"white\",\"linecolor\":\"white\",\"minorgridcolor\":\"white\",\"startlinecolor\":\"#2a3f5f\"},\"type\":\"carpet\"}],\"choropleth\":[{\"colorbar\":{\"outlinewidth\":0,\"ticks\":\"\"},\"type\":\"choropleth\"}],\"contourcarpet\":[{\"colorbar\":{\"outlinewidth\":0,\"ticks\":\"\"},\"type\":\"contourcarpet\"}],\"contour\":[{\"colorbar\":{\"outlinewidth\":0,\"ticks\":\"\"},\"colorscale\":[[0.0,\"#0d0887\"],[0.1111111111111111,\"#46039f\"],[0.2222222222222222,\"#7201a8\"],[0.3333333333333333,\"#9c179e\"],[0.4444444444444444,\"#bd3786\"],[0.5555555555555556,\"#d8576b\"],[0.6666666666666666,\"#ed7953\"],[0.7777777777777778,\"#fb9f3a\"],[0.8888888888888888,\"#fdca26\"],[1.0,\"#f0f921\"]],\"type\":\"contour\"}],\"heatmapgl\":[{\"colorbar\":{\"outlinewidth\":0,\"ticks\":\"\"},\"colorscale\":[[0.0,\"#0d0887\"],[0.1111111111111111,\"#46039f\"],[0.2222222222222222,\"#7201a8\"],[0.3333333333333333,\"#9c179e\"],[0.4444444444444444,\"#bd3786\"],[0.5555555555555556,\"#d8576b\"],[0.6666666666666666,\"#ed7953\"],[0.7777777777777778,\"#fb9f3a\"],[0.8888888888888888,\"#fdca26\"],[1.0,\"#f0f921\"]],\"type\":\"heatmapgl\"}],\"heatmap\":[{\"colorbar\":{\"outlinewidth\":0,\"ticks\":\"\"},\"colorscale\":[[0.0,\"#0d0887\"],[0.1111111111111111,\"#46039f\"],[0.2222222222222222,\"#7201a8\"],[0.3333333333333333,\"#9c179e\"],[0.4444444444444444,\"#bd3786\"],[0.5555555555555556,\"#d8576b\"],[0.6666666666666666,\"#ed7953\"],[0.7777777777777778,\"#fb9f3a\"],[0.8888888888888888,\"#fdca26\"],[1.0,\"#f0f921\"]],\"type\":\"heatmap\"}],\"histogram2dcontour\":[{\"colorbar\":{\"outlinewidth\":0,\"ticks\":\"\"},\"colorscale\":[[0.0,\"#0d0887\"],[0.1111111111111111,\"#46039f\"],[0.2222222222222222,\"#7201a8\"],[0.3333333333333333,\"#9c179e\"],[0.4444444444444444,\"#bd3786\"],[0.5555555555555556,\"#d8576b\"],[0.6666666666666666,\"#ed7953\"],[0.7777777777777778,\"#fb9f3a\"],[0.8888888888888888,\"#fdca26\"],[1.0,\"#f0f921\"]],\"type\":\"histogram2dcontour\"}],\"histogram2d\":[{\"colorbar\":{\"outlinewidth\":0,\"ticks\":\"\"},\"colorscale\":[[0.0,\"#0d0887\"],[0.1111111111111111,\"#46039f\"],[0.2222222222222222,\"#7201a8\"],[0.3333333333333333,\"#9c179e\"],[0.4444444444444444,\"#bd3786\"],[0.5555555555555556,\"#d8576b\"],[0.6666666666666666,\"#ed7953\"],[0.7777777777777778,\"#fb9f3a\"],[0.8888888888888888,\"#fdca26\"],[1.0,\"#f0f921\"]],\"type\":\"histogram2d\"}],\"histogram\":[{\"marker\":{\"pattern\":{\"fillmode\":\"overlay\",\"size\":10,\"solidity\":0.2}},\"type\":\"histogram\"}],\"mesh3d\":[{\"colorbar\":{\"outlinewidth\":0,\"ticks\":\"\"},\"type\":\"mesh3d\"}],\"parcoords\":[{\"line\":{\"colorbar\":{\"outlinewidth\":0,\"ticks\":\"\"}},\"type\":\"parcoords\"}],\"pie\":[{\"automargin\":true,\"type\":\"pie\"}],\"scatter3d\":[{\"line\":{\"colorbar\":{\"outlinewidth\":0,\"ticks\":\"\"}},\"marker\":{\"colorbar\":{\"outlinewidth\":0,\"ticks\":\"\"}},\"type\":\"scatter3d\"}],\"scattercarpet\":[{\"marker\":{\"colorbar\":{\"outlinewidth\":0,\"ticks\":\"\"}},\"type\":\"scattercarpet\"}],\"scattergeo\":[{\"marker\":{\"colorbar\":{\"outlinewidth\":0,\"ticks\":\"\"}},\"type\":\"scattergeo\"}],\"scattergl\":[{\"marker\":{\"colorbar\":{\"outlinewidth\":0,\"ticks\":\"\"}},\"type\":\"scattergl\"}],\"scattermapbox\":[{\"marker\":{\"colorbar\":{\"outlinewidth\":0,\"ticks\":\"\"}},\"type\":\"scattermapbox\"}],\"scatterpolargl\":[{\"marker\":{\"colorbar\":{\"outlinewidth\":0,\"ticks\":\"\"}},\"type\":\"scatterpolargl\"}],\"scatterpolar\":[{\"marker\":{\"colorbar\":{\"outlinewidth\":0,\"ticks\":\"\"}},\"type\":\"scatterpolar\"}],\"scatter\":[{\"fillpattern\":{\"fillmode\":\"overlay\",\"size\":10,\"solidity\":0.2},\"type\":\"scatter\"}],\"scatterternary\":[{\"marker\":{\"colorbar\":{\"outlinewidth\":0,\"ticks\":\"\"}},\"type\":\"scatterternary\"}],\"surface\":[{\"colorbar\":{\"outlinewidth\":0,\"ticks\":\"\"},\"colorscale\":[[0.0,\"#0d0887\"],[0.1111111111111111,\"#46039f\"],[0.2222222222222222,\"#7201a8\"],[0.3333333333333333,\"#9c179e\"],[0.4444444444444444,\"#bd3786\"],[0.5555555555555556,\"#d8576b\"],[0.6666666666666666,\"#ed7953\"],[0.7777777777777778,\"#fb9f3a\"],[0.8888888888888888,\"#fdca26\"],[1.0,\"#f0f921\"]],\"type\":\"surface\"}],\"table\":[{\"cells\":{\"fill\":{\"color\":\"#EBF0F8\"},\"line\":{\"color\":\"white\"}},\"header\":{\"fill\":{\"color\":\"#C8D4E3\"},\"line\":{\"color\":\"white\"}},\"type\":\"table\"}]},\"layout\":{\"annotationdefaults\":{\"arrowcolor\":\"#2a3f5f\",\"arrowhead\":0,\"arrowwidth\":1},\"autotypenumbers\":\"strict\",\"coloraxis\":{\"colorbar\":{\"outlinewidth\":0,\"ticks\":\"\"}},\"colorscale\":{\"diverging\":[[0,\"#8e0152\"],[0.1,\"#c51b7d\"],[0.2,\"#de77ae\"],[0.3,\"#f1b6da\"],[0.4,\"#fde0ef\"],[0.5,\"#f7f7f7\"],[0.6,\"#e6f5d0\"],[0.7,\"#b8e186\"],[0.8,\"#7fbc41\"],[0.9,\"#4d9221\"],[1,\"#276419\"]],\"sequential\":[[0.0,\"#0d0887\"],[0.1111111111111111,\"#46039f\"],[0.2222222222222222,\"#7201a8\"],[0.3333333333333333,\"#9c179e\"],[0.4444444444444444,\"#bd3786\"],[0.5555555555555556,\"#d8576b\"],[0.6666666666666666,\"#ed7953\"],[0.7777777777777778,\"#fb9f3a\"],[0.8888888888888888,\"#fdca26\"],[1.0,\"#f0f921\"]],\"sequentialminus\":[[0.0,\"#0d0887\"],[0.1111111111111111,\"#46039f\"],[0.2222222222222222,\"#7201a8\"],[0.3333333333333333,\"#9c179e\"],[0.4444444444444444,\"#bd3786\"],[0.5555555555555556,\"#d8576b\"],[0.6666666666666666,\"#ed7953\"],[0.7777777777777778,\"#fb9f3a\"],[0.8888888888888888,\"#fdca26\"],[1.0,\"#f0f921\"]]},\"colorway\":[\"#636efa\",\"#EF553B\",\"#00cc96\",\"#ab63fa\",\"#FFA15A\",\"#19d3f3\",\"#FF6692\",\"#B6E880\",\"#FF97FF\",\"#FECB52\"],\"font\":{\"color\":\"#2a3f5f\"},\"geo\":{\"bgcolor\":\"white\",\"lakecolor\":\"white\",\"landcolor\":\"#E5ECF6\",\"showlakes\":true,\"showland\":true,\"subunitcolor\":\"white\"},\"hoverlabel\":{\"align\":\"left\"},\"hovermode\":\"closest\",\"mapbox\":{\"style\":\"light\"},\"paper_bgcolor\":\"white\",\"plot_bgcolor\":\"#E5ECF6\",\"polar\":{\"angularaxis\":{\"gridcolor\":\"white\",\"linecolor\":\"white\",\"ticks\":\"\"},\"bgcolor\":\"#E5ECF6\",\"radialaxis\":{\"gridcolor\":\"white\",\"linecolor\":\"white\",\"ticks\":\"\"}},\"scene\":{\"xaxis\":{\"backgroundcolor\":\"#E5ECF6\",\"gridcolor\":\"white\",\"gridwidth\":2,\"linecolor\":\"white\",\"showbackground\":true,\"ticks\":\"\",\"zerolinecolor\":\"white\"},\"yaxis\":{\"backgroundcolor\":\"#E5ECF6\",\"gridcolor\":\"white\",\"gridwidth\":2,\"linecolor\":\"white\",\"showbackground\":true,\"ticks\":\"\",\"zerolinecolor\":\"white\"},\"zaxis\":{\"backgroundcolor\":\"#E5ECF6\",\"gridcolor\":\"white\",\"gridwidth\":2,\"linecolor\":\"white\",\"showbackground\":true,\"ticks\":\"\",\"zerolinecolor\":\"white\"}},\"shapedefaults\":{\"line\":{\"color\":\"#2a3f5f\"}},\"ternary\":{\"aaxis\":{\"gridcolor\":\"white\",\"linecolor\":\"white\",\"ticks\":\"\"},\"baxis\":{\"gridcolor\":\"white\",\"linecolor\":\"white\",\"ticks\":\"\"},\"bgcolor\":\"#E5ECF6\",\"caxis\":{\"gridcolor\":\"white\",\"linecolor\":\"white\",\"ticks\":\"\"}},\"title\":{\"x\":0.05},\"xaxis\":{\"automargin\":true,\"gridcolor\":\"white\",\"linecolor\":\"white\",\"ticks\":\"\",\"title\":{\"standoff\":15},\"zerolinecolor\":\"white\",\"zerolinewidth\":2},\"yaxis\":{\"automargin\":true,\"gridcolor\":\"white\",\"linecolor\":\"white\",\"ticks\":\"\",\"title\":{\"standoff\":15},\"zerolinecolor\":\"white\",\"zerolinewidth\":2}}},\"violinmode\":\"group\",\"xaxis\":{\"anchor\":\"y\",\"domain\":[0.0,1.0],\"title\":{\"text\":\"Duration\"}},\"yaxis\":{\"anchor\":\"x\",\"domain\":[0.0,1.0]}},                        {\"responsive\": true}                    ).then(function(){\n",
       "                            \n",
       "var gd = document.getElementById('c2665082-8222-492b-9a7f-f31cfa28bd07');\n",
       "var x = new MutationObserver(function (mutations, observer) {{\n",
       "        var display = window.getComputedStyle(gd).display;\n",
       "        if (!display || display === 'none') {{\n",
       "            console.log([gd, 'removed!']);\n",
       "            Plotly.purge(gd);\n",
       "            observer.disconnect();\n",
       "        }}\n",
       "}});\n",
       "\n",
       "// Listen for the removal of the full notebook cells\n",
       "var notebookContainer = gd.closest('#notebook-container');\n",
       "if (notebookContainer) {{\n",
       "    x.observe(notebookContainer, {childList: true});\n",
       "}}\n",
       "\n",
       "// Listen for the clearing of the current output cell\n",
       "var outputEl = gd.closest('.output');\n",
       "if (outputEl) {{\n",
       "    x.observe(outputEl, {childList: true});\n",
       "}}\n",
       "\n",
       "                        })                };                });            </script>        </div>"
      ]
     },
     "metadata": {},
     "output_type": "display_data"
    }
   ],
   "source": [
    "iplot(px.violin(data_frame=data,x=\"Duration\"))"
   ]
  },
  {
   "cell_type": "code",
   "execution_count": 24,
   "id": "0d51e6ba",
   "metadata": {
    "ExecuteTime": {
     "end_time": "2024-06-23T23:34:46.306842Z",
     "start_time": "2024-06-23T23:34:46.250556Z"
    },
    "execution": {
     "iopub.execute_input": "2024-09-02T07:55:04.936884Z",
     "iopub.status.busy": "2024-09-02T07:55:04.936477Z",
     "iopub.status.idle": "2024-09-02T07:55:05.033350Z",
     "shell.execute_reply": "2024-09-02T07:55:05.032122Z"
    },
    "papermill": {
     "duration": 0.132629,
     "end_time": "2024-09-02T07:55:05.035905",
     "exception": false,
     "start_time": "2024-09-02T07:55:04.903276",
     "status": "completed"
    },
    "tags": []
   },
   "outputs": [
    {
     "data": {
      "text/html": [
       "<div>                            <div id=\"5cc37557-016f-4b77-b119-4110c29de1c8\" class=\"plotly-graph-div\" style=\"height:525px; width:100%;\"></div>            <script type=\"text/javascript\">                require([\"plotly\"], function(Plotly) {                    window.PLOTLYENV=window.PLOTLYENV || {};                                    if (document.getElementById(\"5cc37557-016f-4b77-b119-4110c29de1c8\")) {                    Plotly.newPlot(                        \"5cc37557-016f-4b77-b119-4110c29de1c8\",                        [{\"alignmentgroup\":\"True\",\"box\":{\"visible\":false},\"hovertemplate\":\"Votes=%{x}\\u003cextra\\u003e\\u003c\\u002fextra\\u003e\",\"legendgroup\":\"\",\"marker\":{\"color\":\"#636efa\"},\"name\":\"\",\"offsetgroup\":\"\",\"orientation\":\"h\",\"scalegroup\":\"True\",\"showlegend\":false,\"x\":[8,35,827,1086,326,11,17,59,983,512,6619,162,72,63,26,6329,1002,15,1235,10,16,3100,1559,1811,1069,3223,1892,20,106,21,33,24034,21938,112,94,8,52,361,642,194,514,165,2322,35,358,6,238,4373,392,252,93,80,1128,6,2548,9,21,75,36,19,171,31,281,7,398,10,5640,34,449,249,5459,21,66,9,2767,1901,38,412,10,4637,179,202,4145,181,5227,33,17,80,142,627,24,1621,249,866,348,115,339,16,264,21,150,28,18,69,19,568,9,196,97,66,149,142,62,34,266,17,357,227,13,93,101,21,7,52,7,381,274,275,25,448,94,281,52,586,40,144,23,31,14,65,26,15,79,30,2998,14,1283,78,53,21,34,7,122,39,17,44,887,3464,26,2192,922,72,1238,10862,81,53,37,211,2907,102,58,1406,49,30,38,15,1898,12574,28,24,160,584,80,32,420,27,863,39,2366,38,17,273,44,230,5170,13,250,67,191,1445,23,199,1259,64,403,1569,85,1661,27357,61,203,10,8,12,6,56,88,32,172,99,776,2166,16,735,79,623,170,213,7,14,31,109,346,35,85,80,6,32,8379,1344,6,1494,74,6458,189,21,64,10,24,2665,326,28,70,109,284,213,245,114,677,858,3461,5814,49,36,284,28,13,533,11,2393,240,8,335,102,76,12,7,506,140,21661,1013,1261,18,12,57,1025,783,19,43,152,30,84,7210,120,29,14,26,8500,22895,33,22,684,53,24,361,19,620,213,53,10,45,1491,38,52,3953,68,7,149,9721,4167,1765,520,13194,52,174,187,4133,973,8164,1214,39,12429,1857,32,421,38,10,4780,11,881,13,1627,1152,417,327,15,2839,86,1172,7,8,161,737,82,428,349,37,14,46,27,137,11,6402,1513,384,31,5786,303,7,132,1622,1295,552,41,23,232,162,38,17,1592,25,14,16,7336,308,41,65,16,1585,90,47,347,11,7,871,194,169,856,328,1928,1636,278,31937,85,140,740,429,36,636,72,54,2359,498,275,402,16,53,666,30,56,13,249,297,30,793,84,4924,53,167,11700,2749,28,77,40,120,12,6093,48,6416,71,12,363,324,109,366,325,10673,46,1823,1185,398,128,63,5,9,43,29,1765,18,13,94,19,16,9,26,44,94,105,51,26,656,109,7,124,617,137,11,416,115,196,376,160,904,5733,6,4384,231,164,25,1921,75,2868,43,13,164,14,71,6,68,32,1722,50,1599,866,21,797,1204,1534,19,1096,1614,9,97,74,1308,25706,137,283,307,49,243,577,81,542,44,522,49,12,8,7,13502,38,257,645,33,86,5,204,278,36,20,7,5383,1763,138,25,36,583,24,36,3985,30,59,16,44,355,223,976,64,58,44,27,571,3813,150,46,17,7775,6737,21,5,1979,104,34,116,40,27,432,136,82,52,11,5328,5,3702,419,1877,446,302,3157,17279,4454,208,7912,9625,10309,1390,10,16,20,356,303,28,6423,179,37,13,165,69,116,93,344,4831,343,60,65,2248,26583,6,83,64,72,9,10,1974,71,202,10674,31,9,12,6,17,22,34,10,1281,62,118,1289,66,2787,29518,673,7,14,11,9,7,13,23890,11,22324,123,59,6466,25,30,133,805,10,10865,14,72,66,8,15518,6,63,18,93,77,54,23,10,69,17,16,42,24,3036,343,29,729,32073,85,113,13,9,12370,54,16,229,24,17,8,179,50,13,1533,315,24,231,73,21,15583,298,1852,85,36,100,7,27,756,17,47,4518,140,22436,1168,100,1105,2603,7,6,18,1166,36,661,149,9,315,84,626,1135,596,1193,312,117,12,503,586,21,33,32,133,10092,1118,101,4685,206,288,3793,36,6,481,15,88,8,148,10,341,156,7185,2626,1873,14,439,75,27,192,386,251,32,39,29,349,42,32,30,114,5355,1956,532,104,44,10,31,80,104,2393,58,75,30,3938,35,7,58,2148,70,68,963,18,131,47,30,84,26,21,11651,18,227,57,169,10,10,68,353,24,24,37,9,5,15,29,533,35,19,13,11,35,11,15,34,287,24,58,22598,13,9,132,48,7479,76,114,6,8,24,18,40,11444,1302,9,673,74,9,1257,12,23,143,22777,1755,3476,96,106,9,513,4236,5030,8460,60,367,1968,58,147,403,119,2782,585,400,2807,54,23,781,22,34,53,41,11078,26,31,255,17,22,18,8,882,33,51,11,27,365,45,857,5464,206,33782,570,25,19493,23,24,38,43,199,618,9671,933,981,4674,51,201,3446,112,5950,1776,2189,37,23602,24,8367,760,20,257,12,115,85,25,154,381,83,557,480,5124,417,1106,5685,1584,1361,10,780,14399,7,10583,10,13,60,19,366,4033,2237,33,20125,554,12018,17,456,6,2346,356,244,1393,78,633,10143,323,25,75,49,3787,982,616,41,82,6550,16,890,1037,66,647,17,175,6,480,862,2236,36,141,13,212,11,13,260,42,2589,1859,8102,31,162,122,2676,74,1489,17,474,603,26,393,8,656,38,213,12575,24,1214,27,141,28,3089,40,101,292,45,3128,47,66,346,336,676,185,3081,522,39,14779,54,1514,5866,5846,2108,1580,529,519,521,2805,13,24,52,35,20,54,16,9,43,1657,2486,39,676,26,11,39,70,20,60,24,11,44,176,336,58,159,87,4981,2328,7,15,25,299,82,4997,2229,22,140,53,86,475,27,45,81,74,15830,201,25070,954,39,42,38581,94,145,142,117,22,119,155,11,24,239,35,67,3868,39,86,79,30,524,12,15,879,7296,1430,201,62,189,51,191,4063,5,941,618,134,1558,1906,4826,7,4293,53,22,24,225,1124,146,14,44,475,837,5,4464,136,39,16,84,102,7,85,22,10,142,9171,11923,112,463,9,4828,355,5084,126,317,433,17,13486,101,1827,58,1662,171,4757,3015,2425,14795,668,15,223,230,191,282,2123,4843,678,1957,787,4338,179,105,4059,119,1308,450,1965,23,54,100,29,1188,218,30,20,32,159,438,670,21,75,115,257,571,22,5500,146,30194,16920,15817,270,24,30,191,1886,362,40,7,180,285,15,189,50,7,7,5,17,105,980,52,406,3185,127,267,128,25,613,24,847,19,65,9,506,727,5175,64,8,191,8,329,589,62,3207,1962,9,37,22635,936,89,50,337,110,316,122,293,122,61,6140,57,1006,35,834,2608,6,548,15,252,9525,7758,7329,808,10,585,384,390,10,18,37149,22,6978,578,198,418,40,10361,6298,339,2488,953,25,587,4622,2620,66,26,29,284,38,24,28299,395,1631,7256,48,965,1608,50,11,536,12,13203,126,15,21107,76,1332,29283,31,81,50,39573,91,1731,17,15,260,16,172,16,21,13,1313,68,9399,6953,12,13878,14,57,2410,252,55,11,16,140,21,2118,715,289,94,34,295,87,357,16,235,810,388,12695,455,5501,6,22,158,18768,24610,87,751,242,19,90,78,58,529,247,47,17,31,88,7,170,5017,1536,30,20,3902,146,15722,33,119,473,2793,129,114,4087,1720,122,102,332,103,417,191,1615,6,653,12,494,1102,1808,1716,28,91,213,21,27393,720,94,185,21182,3723,17,22,454,21,18,10,23,1559,64,1076,18,176,30,1134,2755,32366,58,66,575,1291,145,986,7100,7,199,117,421,1710,954,34,1857,15,20,20,5232,66,88,100,71,1130,1411,22,5,24,7,59,54,104,273,9,6,69,24,29,325,129,6,59,505,2880,4755,46,35121,11591,60,155,17,118,7,53,47,33,1336,168,15,5785,13,222,36,1552,71,46,2462,44,3642,37,62,2860,77,18,128,6,8,12276,12,15,84,6418,390,135,850,276,13,31,90,2487,19,40,3238,62,2610,1597,18540,3860,192,78,31,33,143,7174,50,33,17,4976,1556,44,104,301,1841,38,17,652,25,213,200,577,7523,27,199,126,1247,325,455,95,556,8,10,10,1601,16,46,47,18,8,13,41,30,6,17,124,4874,554,14,5,52,78,257,1330,1081,14,78,104,18,6992,136,186,106,51,10,595,43,1073,3934,17,6485,10,7,63,1700,43,46,207,6,30,37,22,44,155,62,47,15,8,5,115,31627,4006,18,15,448,327,52,2973,394,502,3191,21,36,854,49,698,12,582,126,40,147,11,34289,164,58,472,323,2958,9,2963,64,27,158,96,45,16,427,1866,8,43273,31437,314,8,14,128,174,14,100,37,9,11918,119,12,14,432,77,19,27,5138,28,645,2470,41,1403,243,23,62,3371,9,6225,2081,1081,5773,685,26,261,95,71,47,1110,4526,3894,11,83,359,13,365,1906,57,287,824,7301,5048,23,57,19,52,553,677,2642,19,48,927,14142,191,71,783,155,1008,10762,6,4890,476,72,97,47,17,50,23209,9,10264,96,454,195,90,726,77,596,106,181,62,149,356,53,2175,25,8,89,8,207,1594,56,29,741,225,376,6,65,17,146,7,581,16172,296,5645,26,106,30,30,15,68,14431,950,807,689,398,64,40,109,85,58,11,36,781,56,108,45,148,127,910,113,1823,42,435,4797,192,16,10,42,75,207,67,130,360,25,65,13,11,24,43,53,196,640,71,3326,55,4114,4960,137,27,47,2708,27,225,1288,4620,10997,8,5,1120,474,34,51,64,3872,790,344,23,184,144,11942,76,46,3998,58,37,202,11932,12,506,7644,8423,7236,15556,1222,1710,15644,80,44,32,118,33,195,814,124,38,102,3609,533,326,27,85,35,5921,2393,47,102,1028,2248,672,864,336,49,1770,7629,3919,213,2078,14239,209,11364,33901,1456,94,1695,147,700,83,356,7,20,16,14,32,9990,345,40,523,25005,41,20,4687,1883,113,481,75,22476,382,18,7,150,9,7,17631,5,240,1277,2808,14,104,11,1148,28,131,42,314,1208,1754,25,52,18,8,31,26,10,1441,36,6621,7,484,378,2211,449,28,10,1799,43,8,5546,629,1055,390,29,10,44,18376,36,13,23,796,131,11,69,5046,3453,580,22,34890,1251,458,22,321,25,4199,8,8,3781,3764,957,17,770,10,45,111,314,103,68,13936,92,3040,108,10,35,3493,2087,3047,1470,50,269,625,460,390,492,31,17,2165,31,101,290,1686,1753,202,180,11,274,4744,458,192,147,60,9,1042,1981,3998,3167,115,132,1045,13,358,667,998,33,810,2398,308,263,2737,2059,4132,8372,169,11870,166,13705,11094,220,140,303,27168,312,92,31,196,43,18,275,26,3993,24676,120,7,14,33,1661,53,45,45,513,557,9,26163,196,600,33,51,2411,414,11,1747,33,579,15,291,97,10,78,2009,1486,36,311,37,13169,13576,8653,10908,200,442,140,416,83,7251,234,2794,1564,19669,37,286,17490,56,394,192,28,10,586,177,5476,399,322,1351,477,15,11,69,189,46,7359,37,47,48,19,384,13486,673,42,10,18,488,291,6610,46,115,26,3977,552,51,11840,3207,9,38,7840,13768,5798,7441,903,118,27,526,948,1185,897,3895,23,12,17,11,700,25,7675,20,648,1119,1824,152,115,63,38,117,631,147,95,7,36,27,62,177,338,63,348,7,577,17628,2213,1998,1991,218,5032,57,293,1446,189,2491,271,38,6,43,28,864,92,29,38,13,231,1295,262,79,52,131,342,29,32,48,153,30,10,85,62,2082,5,16185,41,1284,279,38,10,7,7145,143,59,751,10128,96,151,12,51,10,12,3937,151,167,10075,604,391,18,8,45,315,439,6,719,503,34,292,71,7875,9,985,80,10842,74,43,183,18,484,154,973,115,31,8,459,77,540,48,7,43,5,106,147,68,1705,13465,167,30,570,38,25819,40,48,8218,70,455,3240,116,2578,36,16,19349,278,120,26,14,24,1317,715,721,17,46,31,9428,156,17,140,42,27,23,8,2455,18411,55,37,28,623,5,827,118,19,271,87,1242,35,223,16,864,454,15,2479,162,33,375,149,409,61,27,14,28,358,662,64,11,20,9,5333,8,6080,44,121,250,3336,19,6371,20,8,5,37,464,8,7,652,1270,3375,26,31,99,70,728,17,18,47,22,82,55,2169,22,55,9,70,168,11,216,6,32,1771,672,105,1976,89,15,88,42,13,11,3043,771,1870,330,129,20,539,15,167,6,301,34,32,263,47,1187,435,2061,3290,646,71,22147,188,1116,2299,80,353,266,14,12,49,44,831,423,11795,9,36,760,5235,18466,23030,1038,12,9667,104,265,376,1619,34,21,2249,70,66,5419,5679,9622,137,182,261,404,311,22,18,233,364,75,1102,6,467,1658,8,503,531,708,129,482,176,31,23,30,495,75,28,29,34,24,31,38,24942,29,2219,97,274,6738,136,2136,203,119,5039,8163,2207,36,61,2612,1032,7,1412,260,9,13,7,131,590,85,10,4738,17,197,20,7,259,117,76,11886,18783,17567,158,20,1986,27731,9,27,16,3181,317,185,88,1428,34,1381,76,417,458,789,5,985,48,50,5159,32,7,9,90,14,18,24,14186,75,34048,104,54,131,404,779,308,18,65,435,111,7,203,262,35,277,16,29,221,11873,9,33,95,15,6,251,159,39,13,501,2566,17,750,510,6741,16640,55,212,12,10,22,8,5,9,16,45,7,39,415,135,146,1098,18,78,17,45,23991,1324,182,23,13394,64,56,1094,30,57,43,128,72,1946,125,105,16,237,55,11005,514,7,37,13986,2146,390,1238,29,27,63,53,131,15,115,49,13,23,487,937,29,1113,10,34,946,92,485,24,2856,46,29,49,458,18,101,3764,45,17,14,504,11446,48,1146,10,182,216,15660,869,8106,38,23,221,15192,3064,15,11,141,12,20,944,52,245,546,239,3110,1220,1159,14,19,1141,145,242,16,49,104,181,862,9891,361,34,26,27,541,467,367,49,10,222,1249,2238,7726,1769,6582,5748,19,327,272,449,221,758,7877,34,1024,84,7,9,21,21,39,41,8,22723,7,109,77,527,1621,1879,16142,27,100,365,330,293,9,17,320,254,1565,7,68,27,8,197,5407,26761,2328,3927,124,118,46,38,2735,79,270,140,5679,12,286,15,12,618,70,451,5334,93,10,557,8,1329,20,128,131,224,603,197,12605,299,2096,150,25,134,26,603,232,9,514,16,88,270,21982,304,51,241,15,1523,20,13,258,8445,865,394,47,1923,19,2028,6,28,31,318,23,188,1028,29,187,213,165,19091,21272,575,302,126,851,41,15,628,794,2224,18,569,820,278,70,315,139,46,6,243,614,16,40,887,368,7,531,4842,996,915,171,10,1844,1975,346,22,441,3296,4165,3748,2023,3775,1724,1158,56,2352,4115,4340,130,23,2230,151,7,20,27,125,9109,16,22,2027,55,611,514,522,87,39,25,2701,2534,43,17,932,129,126,69,37,10,1520,21444,588,14,16,117,9,88,8,18,626,2638,278,205,43,77,10,124,7,50,22,32,9,18,199,190,8,94,679,331,1111,5207,1404,19,116,14,949,37,880,47,11346,45,16,255,271,23,36,11,7,29,5137,6373,588,1417,207,12,102,510,156,2434,99,217,515,8,761,98,8,1653,4375,3677,45,2573,303,15188,14888,267,5,1267,87,6994,15191,26,828,205,126,1006,47,117,10,873,246,15,120,154,40,13,1567,304,867,60,7588,5,104,1570,79,377,2334,12,426,2092,7,365,552,42,5376,8210,2513,9678,23,2690,75,3457,32403,8808,2027,10011,1434,31,3690,81,67,8,611,14,110,14,103,12,88,22,14,19,28,23,1145,2079,26,10,15,491,13,224,155,17,399,94,93,235,761,13676,1383,77,17,3845,112,253,395,9,1273,146,287,27,23388,1909,60,10,16,36,423,21,77,497,19,21,387,112,21,420,108,976,146,35,29,36,12,92,14,530,1019,1588,34,347,38,699,43,48,33177,35,5725,185,118,4401,40,47,8139,7,127,47,51,2185,1125,4840,32,5,9,85,24,2083,124,850,6120,8972,23,406,116,21,32,80,6,5,129,744,29,9520,105,48,38,10230,18207,478,114,39,15,7563,214,3929,89,65,289,16,10024,83,1604,31,6647,11913,8198,3565,1890,16,3146,132,73,291,17,108,554,10089,61,24900,27,105,74,5,655,30,1317,284,3771,95,105,903,44,51,24,95,6068,91,6,2622,514,42,6035,2042,868,5258,10,25,6,76,8,202,278,2081,21,69,16,58,17,6,99,14,2925,7,384,126,12,115,109,14,623,13,18,22,119,144,351,299,23,47,41,98,44,4247,123,36,31,97,442,17,38,794,11,8,302,36,11,7,37,19,16,14,864,7,12,20,11,536,30,2058,13,8946,4535,45,191,26,53,59,168,902,93,196,31,55,53,2102,56,22,18,683,93,7,1210,8,283,10,4495,16,149,2639,3031,160,321,23,1739,411,225,1272,9,5078,855,1248,22,222,103,101,27,1739,12,34,17,17,3068,9,6,323,235,14,2074,74,1099,6531,12611,25,1934,245,2334,27,35,647,13,399,415,104,474,13,23,13,45,1601,153,32,119,10903,7623,75,45,390,13,9395,11,565,72,61,1071,23663,28,21,37,296,61,1059,54,8788,5,2180,526,6,466,500,6022,95,332,622,21,14451,31,53,1328,161,17,27,178,194,20,5,1833,110,6,114,378,424,202,11531,8431,7362,11192,6,3629,699,13,29,48,45,91,1135,25,3861,14312,388,27,66,14156,25,12,192,27,110,339,268,6034,114,7295,548,68,153,24,40,94,7,13,3022,24,20,171,36,48,2638,3763,6662,2423,100,1732,352,598,193,296,31,314,2773,28,82,258,1186,672,24,391,617,13,156,59,348,26,8,23,890,13,13,12421,9,2756,580,20,14,14,17,564,21,984,81,3892,34,5924,11,5,127,18,27,13,8,863,46,23,61,442,880,20,3737,28,773,15,30,30,7,1074,56,12,51,2420,1564,2644,20942,94,420,426,344,412,24,954,1373,16,980,27,21,11,13,1572,333,164,9,1214,32,32,7,25,141,290,346,13,30,103,151,8,18,4198,38,139,877,12,1102,53,147,13,98,14939,374,88,126,483,50,20,1476,182,75,278,12,15,28,21470,23,489,12,42,1095,25,62,173,10553,17734,35,15,295,218,5,6069,659,12,6,138,6,7,14,200,99,43,1622,10,22,10,564,491,11195,30,11199,2299,6928,221,46,1432,159,18,694,2253,845,1866,10,19,39,15,31,584,196,44,8,14013,13,13,91,20,1582,264,3883,438,1911,40120,2851,19631,12,869,193,16677,6839,4870,722,89,1055,39,15,1167,2511,1426,11,46,51,176,93,14,26,349,108,23,230,16,241,25,16700,80,641,11492,40,34161,2200,25,541,806,103,29,67,27,450,1660,26,138,22611,230,346,28573,185,6443,12,2118,31,31,6712,7043,10,786,33,12727,85,1671,7,11,142,11,26,8,1033,48,35,67,939,43,16,127,43,9,13,210,5455,4426,125,206,67,53,221,447,13,22,52,47,1055,87,28,41,46,28,4954,10,25,14018,103,12,2921,13,5900,827,53,3168,8867,23,21773,160,11787,494,71,930,188,284,1379,26,3824,72,19,306,17,26,342,15,29,447,6166,8,8780,64,24,7,151,29,57,1004,141,49,9,18,12,65,225,510,114,543,83,150,11954,152,60,325,18,7,783,6,230,1391,206,30,31,17,59,282,35,8714,5284,4492,186,3596,24,7103,19525,44,1983,206,81,9,271,87,2791,8,131,1348,218,64,20,26,1265,488,870,4505,189,16,6,11,23,31,2205,29786,2633,232,40953,33,6,16,693,627,210,8,7,11,1147,11,842,194,22,4181,5954,13,51,738,58,141,13,1374,55,10,42,18,22,1343,85,29,1446,8,349,1863,9,324,273,21,1265,47,128,71,37,105,24,18,11,27,220,220,67,12,150,114,68,230,212,153,19913,913,55,25,65,425,6,3711,2001,108,27,63,153,51,1917,248,69,103,77,27,13418,1229,316,15,830,863,492,34,250,762,41,15,335,3023,20388,14259,11,24,58,5,3038,14,4770,371,185,2998,807,59,44,5823,96,30,77,14,64,51,175,114,29,96,107,20,8,50,51,39,37,83,37,176,827,70,54,15,30,7382,18,25,5,7,202,62,10497,2202,109,802,823,5552,39039,6311,7,376,10,27,38,1095,77,7,66,30344,178,85,1020,15769,74,332,533,9,4245,137,20,3085,3528,1784,3396,26557,277,13516,15574,42457,12,17,7,304,41441,22,54,651,86,2489,2740,4599,12,12,28,20,249,15835,137,24,6,3652,4170,16,19,14,751,22,49,2654,211,7,7195,373,78,4038,37,344,257,436,277,164,1698,16737,670,6,10,10,7351,1878,41,22,608,4066,2645,15,20,162,21,5,296,14,12,862,475,18,3714,92,2406,20,61,1272,13,58,962,259,147,38,3531,201,456,59,1058,12,19114,3574,10,71,77,119,81,187,520,100,9370,215,176,3903,426,42,24,9,2476,616,7,7,283,6,2682,23,30,6,112,16937,241,339,167,219,306,62,28,467,1881,27,45,7713,8,1031,29,11,18,49,204,10,110,27,692,34,15,1678,604,895,75,527,404,13,921,559,20,25,11,9,44,12,1197,764,1660,1353,50,702,45,2006,21178,19343,1352,40835,593,317,7647,484,125,365,5120,28,6422,7,31,864,21,461,30,739,30,193,115,21097,7240,251,489,1157,71,215,596,1292,7,8,13,2440,23,25,837,23,24285,8,23,5,98,348,919,474,6267,42,1344,134,11638,13,4210,173,12,143,1781,1126,23,197,96,760,264,73,183,6734,75,9,1177,7445,15,913,11,43,19,215,68,80,8,4363,42,7,76,256,59,39,7711,25,2331,1345,66,133,75,3004,364,10,27,17,151,963,4028,744,3857,15,263,1557,191,3369,1158,18,61,9,223,421,62,36,8801,6981,9,456,39,26,6,34,110,14,31,466,9,1830,219,7,10,49,146,1227,15,20,139,87,1212,2936,152,10855,594,6489,819,96,522,150,5235,30,197,50,13,133,85,609,136,18,42,67,45,10,229,247,40,37,545,62,141,80,1041,60,65,24,117,127,4497,2361,715,3773,189,37,24454,159,33,33,20,116,39,16038,1905,7295,10,12,11,68,928,210,66,544,3139,13918,940,4964,103,690,999,90,6302,46,70,24,733,925,6,13,25,58,56,41,55,64,94,14,566,36,25,406,856,553,156,55,21923,13045,1117,20275,103,1768,119,44,2082,15,6382,246,11,1143,28,7,3882,13387,892,737,180,191,2596,5250,844,1359,32,56,136,20,1946,74,344,27,1945,9,15659,30,25,1043,21,19,8146,6,51,39,604,528,685,4669,1959,176,6,8456,529,61,10,23,7099,29,42,9804,26,5,25,101,11,90,2716,101,77,24,273,27,448,19,251,154,36,40,152,83,32,40,446,30,3995,15,53,34,13,5,92,9,20,56,81,28,111,6399,431,41,55,41,1061,9,1322,6922,229,178,1023,3399,330,49,29,9909,14,19,101,48,932,2932,31,8,9607,6439,337,3502,145,268,252,70,884,444,114,18,269,2612,6,6,92,135,19,68,139,29,7,16,9094,8208,8447,374,678,148,68,9,111,77,671,262,12,35,13,13,3324,696,2603,209,66,15244,3254,36,113,71,7891,14526,2200,14788,96,7675,14,387,5461,336,8,96,73,24,18422,86,210,1680,63,1154,49,276,270,680,86,7475,6,263,9,1589,2757,140,22,9,8,28,9060,189,980,9572,34,90,2528,77,20000,4648,60,2820,1019,34,82,826,167,196,55,43,9,31,513,222,8,29,203,52,330,6493,104,90,913,24,29,65,350,338,21,29900,5930,16,23206,15,1014,31,16038,17483,121,1859,9,31,41,13,35,44,1053,1755,29,43,45,7421,326,2478,359,54,41777,238,16,11,21,18,39,2619,30,93,30,128,6,147,663,31,20,136,33,23000,180,398,70,301,648,707,475,45,124,10,3011,95,188,68,16,923,26,196,374,87,1255,57,103,85,22,244,11,93,4409,5068,25,90,2781,21,11709,24,8,142,316,169,26,3703,8,161,12,50,195,36,19,40234,1411,34,155,6,56,32313,50,308,302,38,24623,37,29,5,1789,22344,20,26,13804,26843,48,20,35,414,31,43,37,47,589,73,9,233,67,31,6,27,9,11,5037,14,460,93,238,104,20,257,30,9418,37,12118,68,53,9,182,1457,10,10,27,11981,17,133,73,300,746,1135,525,89,27,351,3182,43,262,560,210,311,9,840,10234,860,13,394,8,52,243,223,483,4120,7,589,22,125,10,23,48,11,236,3873,36,71,9,3014,2026,2254,3005,583,1633,368,100,5433,698,15063,3608,10,100,60,6373,425,57,81,139,4752,11536,1952,198,2965,6847,126,1442,3316,540,19,478,944,18,8931,12,85,14,1707,265,137,84,291,16,41,13,114,192,12367,7312,58,532,619,179,39,60,528,2133,41,9,16,2139,10,894,27,34,12,89,7,1069,778,22,29,15250,2442,2375,112,10,39,3105,252,243,10,439,17,5868,17337,164,123,85,1544,640,84,22,14,249,16,15,793,280,32007,814,2906,87,92,293,64,157,7683,294,19,72,2808,21,9579,55,755,155,133,1082,81,24,62,17169,363,99,2541,1789,17,235,33,6,15,1608,847,2119,130,76,147,14,2390,188,38,101,13,108,228,7,68,378,18219,45,25732,1553,1785,338,35,730,19,22,1874,53,27,4483,100,10,2099,118,374,121,30,18889,557,485,719,34,11,746,12,34,11,5289,5649,2881,1361,9,2478,1544,144,245,11216,89,2508,1873,255,2516,75,266,63,48,3021,2086,6,73,13,1307,17774,574,370,11,18,83,1187,3259,87,24,879,1530,463,200,182,32920,11,19,4761,2787,121,717,80,16,369,43,744,34,75,57,45,2443,95,56,142,43199,43,21,28010,20709,710,61,10,4944,86,49,7,68,44,128,10,1858,1328,20,242,17,1885,3663,19,694,19,39,2057,9,78,550,736,64,420,28,13,34,35,39,101,361,306,101,32,42,151,6758,826,395,2293,10,12996,639,18,20,13120,373,85,47,1779,18,706,32,78,7,158,9,311,7598,8,115,34,257,222,718,711,12000,498,1533,21,84,5,165,26,299,159,7117,57,40589,191,34,481,360,12,57,488,254,219,648,275,15,504,3820,56,254,36,294,2533,1097,60,2050,66,65,636,39098,2314,73,1215,9288,1287,30,47,257,142,11,77,31,118,33,1699,1153,584,14,29167,28,22173,36,124,1244,1478,97,27,9478,20894,936,51,9,236,97,294,108,14461,17809,2975,13,82,185,19527,1123,5656,2413,11,9,133,3096,1747,597,673,191,2627,87,11486,34,2589,83,107,260,15,2442,113,70,310,122,23,1145,10,960,1307,30,32,17,14,106,57,50,631,798,905,278,106,3316,18,341,120,10,3955,239,1676,3187,9,32,504,244,216,85,698,29,419,15,11,1820,1100,344,13,14,10,197,132,10,115,1126,38,200,273,19,10,4348,86,29,233,9,175,2443,263,11,39863,76,15,10,32,1636,1214,685,17,49,3265,4489,500,34,311,146,9,14,115,12714,1063,162,1459,1843,803,102,15,174,10,8588,50,4147,561,101,102,3007,59,453,16,32,9,78,1925,9,146,47,66,1468,18,44,342,329,6,3729,2416,582,7,93,14,449,1937,81,24784,18,1105,44,1551,1301,9,6,3314,51,9,27,50,12,26,8,219,5,33,6,51,33,13,7,351,78,268,33,408,1496,44,655,20],\"x0\":\" \",\"xaxis\":\"x\",\"y0\":\" \",\"yaxis\":\"y\",\"type\":\"violin\"}],                        {\"legend\":{\"tracegroupgap\":0},\"margin\":{\"t\":60},\"template\":{\"data\":{\"barpolar\":[{\"marker\":{\"line\":{\"color\":\"#E5ECF6\",\"width\":0.5},\"pattern\":{\"fillmode\":\"overlay\",\"size\":10,\"solidity\":0.2}},\"type\":\"barpolar\"}],\"bar\":[{\"error_x\":{\"color\":\"#2a3f5f\"},\"error_y\":{\"color\":\"#2a3f5f\"},\"marker\":{\"line\":{\"color\":\"#E5ECF6\",\"width\":0.5},\"pattern\":{\"fillmode\":\"overlay\",\"size\":10,\"solidity\":0.2}},\"type\":\"bar\"}],\"carpet\":[{\"aaxis\":{\"endlinecolor\":\"#2a3f5f\",\"gridcolor\":\"white\",\"linecolor\":\"white\",\"minorgridcolor\":\"white\",\"startlinecolor\":\"#2a3f5f\"},\"baxis\":{\"endlinecolor\":\"#2a3f5f\",\"gridcolor\":\"white\",\"linecolor\":\"white\",\"minorgridcolor\":\"white\",\"startlinecolor\":\"#2a3f5f\"},\"type\":\"carpet\"}],\"choropleth\":[{\"colorbar\":{\"outlinewidth\":0,\"ticks\":\"\"},\"type\":\"choropleth\"}],\"contourcarpet\":[{\"colorbar\":{\"outlinewidth\":0,\"ticks\":\"\"},\"type\":\"contourcarpet\"}],\"contour\":[{\"colorbar\":{\"outlinewidth\":0,\"ticks\":\"\"},\"colorscale\":[[0.0,\"#0d0887\"],[0.1111111111111111,\"#46039f\"],[0.2222222222222222,\"#7201a8\"],[0.3333333333333333,\"#9c179e\"],[0.4444444444444444,\"#bd3786\"],[0.5555555555555556,\"#d8576b\"],[0.6666666666666666,\"#ed7953\"],[0.7777777777777778,\"#fb9f3a\"],[0.8888888888888888,\"#fdca26\"],[1.0,\"#f0f921\"]],\"type\":\"contour\"}],\"heatmapgl\":[{\"colorbar\":{\"outlinewidth\":0,\"ticks\":\"\"},\"colorscale\":[[0.0,\"#0d0887\"],[0.1111111111111111,\"#46039f\"],[0.2222222222222222,\"#7201a8\"],[0.3333333333333333,\"#9c179e\"],[0.4444444444444444,\"#bd3786\"],[0.5555555555555556,\"#d8576b\"],[0.6666666666666666,\"#ed7953\"],[0.7777777777777778,\"#fb9f3a\"],[0.8888888888888888,\"#fdca26\"],[1.0,\"#f0f921\"]],\"type\":\"heatmapgl\"}],\"heatmap\":[{\"colorbar\":{\"outlinewidth\":0,\"ticks\":\"\"},\"colorscale\":[[0.0,\"#0d0887\"],[0.1111111111111111,\"#46039f\"],[0.2222222222222222,\"#7201a8\"],[0.3333333333333333,\"#9c179e\"],[0.4444444444444444,\"#bd3786\"],[0.5555555555555556,\"#d8576b\"],[0.6666666666666666,\"#ed7953\"],[0.7777777777777778,\"#fb9f3a\"],[0.8888888888888888,\"#fdca26\"],[1.0,\"#f0f921\"]],\"type\":\"heatmap\"}],\"histogram2dcontour\":[{\"colorbar\":{\"outlinewidth\":0,\"ticks\":\"\"},\"colorscale\":[[0.0,\"#0d0887\"],[0.1111111111111111,\"#46039f\"],[0.2222222222222222,\"#7201a8\"],[0.3333333333333333,\"#9c179e\"],[0.4444444444444444,\"#bd3786\"],[0.5555555555555556,\"#d8576b\"],[0.6666666666666666,\"#ed7953\"],[0.7777777777777778,\"#fb9f3a\"],[0.8888888888888888,\"#fdca26\"],[1.0,\"#f0f921\"]],\"type\":\"histogram2dcontour\"}],\"histogram2d\":[{\"colorbar\":{\"outlinewidth\":0,\"ticks\":\"\"},\"colorscale\":[[0.0,\"#0d0887\"],[0.1111111111111111,\"#46039f\"],[0.2222222222222222,\"#7201a8\"],[0.3333333333333333,\"#9c179e\"],[0.4444444444444444,\"#bd3786\"],[0.5555555555555556,\"#d8576b\"],[0.6666666666666666,\"#ed7953\"],[0.7777777777777778,\"#fb9f3a\"],[0.8888888888888888,\"#fdca26\"],[1.0,\"#f0f921\"]],\"type\":\"histogram2d\"}],\"histogram\":[{\"marker\":{\"pattern\":{\"fillmode\":\"overlay\",\"size\":10,\"solidity\":0.2}},\"type\":\"histogram\"}],\"mesh3d\":[{\"colorbar\":{\"outlinewidth\":0,\"ticks\":\"\"},\"type\":\"mesh3d\"}],\"parcoords\":[{\"line\":{\"colorbar\":{\"outlinewidth\":0,\"ticks\":\"\"}},\"type\":\"parcoords\"}],\"pie\":[{\"automargin\":true,\"type\":\"pie\"}],\"scatter3d\":[{\"line\":{\"colorbar\":{\"outlinewidth\":0,\"ticks\":\"\"}},\"marker\":{\"colorbar\":{\"outlinewidth\":0,\"ticks\":\"\"}},\"type\":\"scatter3d\"}],\"scattercarpet\":[{\"marker\":{\"colorbar\":{\"outlinewidth\":0,\"ticks\":\"\"}},\"type\":\"scattercarpet\"}],\"scattergeo\":[{\"marker\":{\"colorbar\":{\"outlinewidth\":0,\"ticks\":\"\"}},\"type\":\"scattergeo\"}],\"scattergl\":[{\"marker\":{\"colorbar\":{\"outlinewidth\":0,\"ticks\":\"\"}},\"type\":\"scattergl\"}],\"scattermapbox\":[{\"marker\":{\"colorbar\":{\"outlinewidth\":0,\"ticks\":\"\"}},\"type\":\"scattermapbox\"}],\"scatterpolargl\":[{\"marker\":{\"colorbar\":{\"outlinewidth\":0,\"ticks\":\"\"}},\"type\":\"scatterpolargl\"}],\"scatterpolar\":[{\"marker\":{\"colorbar\":{\"outlinewidth\":0,\"ticks\":\"\"}},\"type\":\"scatterpolar\"}],\"scatter\":[{\"fillpattern\":{\"fillmode\":\"overlay\",\"size\":10,\"solidity\":0.2},\"type\":\"scatter\"}],\"scatterternary\":[{\"marker\":{\"colorbar\":{\"outlinewidth\":0,\"ticks\":\"\"}},\"type\":\"scatterternary\"}],\"surface\":[{\"colorbar\":{\"outlinewidth\":0,\"ticks\":\"\"},\"colorscale\":[[0.0,\"#0d0887\"],[0.1111111111111111,\"#46039f\"],[0.2222222222222222,\"#7201a8\"],[0.3333333333333333,\"#9c179e\"],[0.4444444444444444,\"#bd3786\"],[0.5555555555555556,\"#d8576b\"],[0.6666666666666666,\"#ed7953\"],[0.7777777777777778,\"#fb9f3a\"],[0.8888888888888888,\"#fdca26\"],[1.0,\"#f0f921\"]],\"type\":\"surface\"}],\"table\":[{\"cells\":{\"fill\":{\"color\":\"#EBF0F8\"},\"line\":{\"color\":\"white\"}},\"header\":{\"fill\":{\"color\":\"#C8D4E3\"},\"line\":{\"color\":\"white\"}},\"type\":\"table\"}]},\"layout\":{\"annotationdefaults\":{\"arrowcolor\":\"#2a3f5f\",\"arrowhead\":0,\"arrowwidth\":1},\"autotypenumbers\":\"strict\",\"coloraxis\":{\"colorbar\":{\"outlinewidth\":0,\"ticks\":\"\"}},\"colorscale\":{\"diverging\":[[0,\"#8e0152\"],[0.1,\"#c51b7d\"],[0.2,\"#de77ae\"],[0.3,\"#f1b6da\"],[0.4,\"#fde0ef\"],[0.5,\"#f7f7f7\"],[0.6,\"#e6f5d0\"],[0.7,\"#b8e186\"],[0.8,\"#7fbc41\"],[0.9,\"#4d9221\"],[1,\"#276419\"]],\"sequential\":[[0.0,\"#0d0887\"],[0.1111111111111111,\"#46039f\"],[0.2222222222222222,\"#7201a8\"],[0.3333333333333333,\"#9c179e\"],[0.4444444444444444,\"#bd3786\"],[0.5555555555555556,\"#d8576b\"],[0.6666666666666666,\"#ed7953\"],[0.7777777777777778,\"#fb9f3a\"],[0.8888888888888888,\"#fdca26\"],[1.0,\"#f0f921\"]],\"sequentialminus\":[[0.0,\"#0d0887\"],[0.1111111111111111,\"#46039f\"],[0.2222222222222222,\"#7201a8\"],[0.3333333333333333,\"#9c179e\"],[0.4444444444444444,\"#bd3786\"],[0.5555555555555556,\"#d8576b\"],[0.6666666666666666,\"#ed7953\"],[0.7777777777777778,\"#fb9f3a\"],[0.8888888888888888,\"#fdca26\"],[1.0,\"#f0f921\"]]},\"colorway\":[\"#636efa\",\"#EF553B\",\"#00cc96\",\"#ab63fa\",\"#FFA15A\",\"#19d3f3\",\"#FF6692\",\"#B6E880\",\"#FF97FF\",\"#FECB52\"],\"font\":{\"color\":\"#2a3f5f\"},\"geo\":{\"bgcolor\":\"white\",\"lakecolor\":\"white\",\"landcolor\":\"#E5ECF6\",\"showlakes\":true,\"showland\":true,\"subunitcolor\":\"white\"},\"hoverlabel\":{\"align\":\"left\"},\"hovermode\":\"closest\",\"mapbox\":{\"style\":\"light\"},\"paper_bgcolor\":\"white\",\"plot_bgcolor\":\"#E5ECF6\",\"polar\":{\"angularaxis\":{\"gridcolor\":\"white\",\"linecolor\":\"white\",\"ticks\":\"\"},\"bgcolor\":\"#E5ECF6\",\"radialaxis\":{\"gridcolor\":\"white\",\"linecolor\":\"white\",\"ticks\":\"\"}},\"scene\":{\"xaxis\":{\"backgroundcolor\":\"#E5ECF6\",\"gridcolor\":\"white\",\"gridwidth\":2,\"linecolor\":\"white\",\"showbackground\":true,\"ticks\":\"\",\"zerolinecolor\":\"white\"},\"yaxis\":{\"backgroundcolor\":\"#E5ECF6\",\"gridcolor\":\"white\",\"gridwidth\":2,\"linecolor\":\"white\",\"showbackground\":true,\"ticks\":\"\",\"zerolinecolor\":\"white\"},\"zaxis\":{\"backgroundcolor\":\"#E5ECF6\",\"gridcolor\":\"white\",\"gridwidth\":2,\"linecolor\":\"white\",\"showbackground\":true,\"ticks\":\"\",\"zerolinecolor\":\"white\"}},\"shapedefaults\":{\"line\":{\"color\":\"#2a3f5f\"}},\"ternary\":{\"aaxis\":{\"gridcolor\":\"white\",\"linecolor\":\"white\",\"ticks\":\"\"},\"baxis\":{\"gridcolor\":\"white\",\"linecolor\":\"white\",\"ticks\":\"\"},\"bgcolor\":\"#E5ECF6\",\"caxis\":{\"gridcolor\":\"white\",\"linecolor\":\"white\",\"ticks\":\"\"}},\"title\":{\"x\":0.05},\"xaxis\":{\"automargin\":true,\"gridcolor\":\"white\",\"linecolor\":\"white\",\"ticks\":\"\",\"title\":{\"standoff\":15},\"zerolinecolor\":\"white\",\"zerolinewidth\":2},\"yaxis\":{\"automargin\":true,\"gridcolor\":\"white\",\"linecolor\":\"white\",\"ticks\":\"\",\"title\":{\"standoff\":15},\"zerolinecolor\":\"white\",\"zerolinewidth\":2}}},\"violinmode\":\"group\",\"xaxis\":{\"anchor\":\"y\",\"domain\":[0.0,1.0],\"title\":{\"text\":\"Votes\"}},\"yaxis\":{\"anchor\":\"x\",\"domain\":[0.0,1.0]}},                        {\"responsive\": true}                    ).then(function(){\n",
       "                            \n",
       "var gd = document.getElementById('5cc37557-016f-4b77-b119-4110c29de1c8');\n",
       "var x = new MutationObserver(function (mutations, observer) {{\n",
       "        var display = window.getComputedStyle(gd).display;\n",
       "        if (!display || display === 'none') {{\n",
       "            console.log([gd, 'removed!']);\n",
       "            Plotly.purge(gd);\n",
       "            observer.disconnect();\n",
       "        }}\n",
       "}});\n",
       "\n",
       "// Listen for the removal of the full notebook cells\n",
       "var notebookContainer = gd.closest('#notebook-container');\n",
       "if (notebookContainer) {{\n",
       "    x.observe(notebookContainer, {childList: true});\n",
       "}}\n",
       "\n",
       "// Listen for the clearing of the current output cell\n",
       "var outputEl = gd.closest('.output');\n",
       "if (outputEl) {{\n",
       "    x.observe(outputEl, {childList: true});\n",
       "}}\n",
       "\n",
       "                        })                };                });            </script>        </div>"
      ]
     },
     "metadata": {},
     "output_type": "display_data"
    }
   ],
   "source": [
    "iplot(px.violin(data_frame=data,x=\"Votes\"))"
   ]
  },
  {
   "cell_type": "markdown",
   "id": "8eebd4da",
   "metadata": {
    "papermill": {
     "duration": 0.030406,
     "end_time": "2024-09-02T07:55:05.097379",
     "exception": false,
     "start_time": "2024-09-02T07:55:05.066973",
     "status": "completed"
    },
    "tags": []
   },
   "source": [
    "* Rating and duration are pretty much normally distributed\n",
    "* Votes are right skewed and has alot of outliers but we cannot remove them"
   ]
  },
  {
   "cell_type": "markdown",
   "id": "f192d106",
   "metadata": {
    "papermill": {
     "duration": 0.031476,
     "end_time": "2024-09-02T07:55:05.160001",
     "exception": false,
     "start_time": "2024-09-02T07:55:05.128525",
     "status": "completed"
    },
    "tags": []
   },
   "source": [
    "## Distribution of movies across Genres"
   ]
  },
  {
   "cell_type": "code",
   "execution_count": 25,
   "id": "da0107e1",
   "metadata": {
    "ExecuteTime": {
     "end_time": "2024-06-23T23:34:46.321011Z",
     "start_time": "2024-06-23T23:34:46.30894Z"
    },
    "execution": {
     "iopub.execute_input": "2024-09-02T07:55:05.224392Z",
     "iopub.status.busy": "2024-09-02T07:55:05.223957Z",
     "iopub.status.idle": "2024-09-02T07:55:05.238978Z",
     "shell.execute_reply": "2024-09-02T07:55:05.237837Z"
    },
    "papermill": {
     "duration": 0.050215,
     "end_time": "2024-09-02T07:55:05.241487",
     "exception": false,
     "start_time": "2024-09-02T07:55:05.191272",
     "status": "completed"
    },
    "tags": []
   },
   "outputs": [
    {
     "data": {
      "text/html": [
       "<div>\n",
       "<style scoped>\n",
       "    .dataframe tbody tr th:only-of-type {\n",
       "        vertical-align: middle;\n",
       "    }\n",
       "\n",
       "    .dataframe tbody tr th {\n",
       "        vertical-align: top;\n",
       "    }\n",
       "\n",
       "    .dataframe thead th {\n",
       "        text-align: right;\n",
       "    }\n",
       "</style>\n",
       "<table border=\"1\" class=\"dataframe\">\n",
       "  <thead>\n",
       "    <tr style=\"text-align: right;\">\n",
       "      <th></th>\n",
       "      <th>Genre</th>\n",
       "      <th>count</th>\n",
       "    </tr>\n",
       "  </thead>\n",
       "  <tbody>\n",
       "    <tr>\n",
       "      <th>0</th>\n",
       "      <td>Drama</td>\n",
       "      <td>833</td>\n",
       "    </tr>\n",
       "    <tr>\n",
       "      <th>1</th>\n",
       "      <td>Drama, Romance</td>\n",
       "      <td>325</td>\n",
       "    </tr>\n",
       "    <tr>\n",
       "      <th>2</th>\n",
       "      <td>Action, Crime, Drama</td>\n",
       "      <td>324</td>\n",
       "    </tr>\n",
       "    <tr>\n",
       "      <th>3</th>\n",
       "      <td>Action, Drama</td>\n",
       "      <td>202</td>\n",
       "    </tr>\n",
       "    <tr>\n",
       "      <th>4</th>\n",
       "      <td>Comedy, Drama</td>\n",
       "      <td>198</td>\n",
       "    </tr>\n",
       "    <tr>\n",
       "      <th>...</th>\n",
       "      <td>...</td>\n",
       "      <td>...</td>\n",
       "    </tr>\n",
       "    <tr>\n",
       "      <th>355</th>\n",
       "      <td>History, Romance</td>\n",
       "      <td>1</td>\n",
       "    </tr>\n",
       "    <tr>\n",
       "      <th>356</th>\n",
       "      <td>Drama, History, Sport</td>\n",
       "      <td>1</td>\n",
       "    </tr>\n",
       "    <tr>\n",
       "      <th>357</th>\n",
       "      <td>Animation, Comedy, Drama</td>\n",
       "      <td>1</td>\n",
       "    </tr>\n",
       "    <tr>\n",
       "      <th>358</th>\n",
       "      <td>Family, Drama, Thriller</td>\n",
       "      <td>1</td>\n",
       "    </tr>\n",
       "    <tr>\n",
       "      <th>359</th>\n",
       "      <td>Documentary, Biography, Music</td>\n",
       "      <td>1</td>\n",
       "    </tr>\n",
       "  </tbody>\n",
       "</table>\n",
       "<p>360 rows × 2 columns</p>\n",
       "</div>"
      ],
      "text/plain": [
       "                             Genre  count\n",
       "0                            Drama    833\n",
       "1                   Drama, Romance    325\n",
       "2             Action, Crime, Drama    324\n",
       "3                    Action, Drama    202\n",
       "4                    Comedy, Drama    198\n",
       "..                             ...    ...\n",
       "355               History, Romance      1\n",
       "356          Drama, History, Sport      1\n",
       "357       Animation, Comedy, Drama      1\n",
       "358        Family, Drama, Thriller      1\n",
       "359  Documentary, Biography, Music      1\n",
       "\n",
       "[360 rows x 2 columns]"
      ]
     },
     "execution_count": 25,
     "metadata": {},
     "output_type": "execute_result"
    }
   ],
   "source": [
    "data.Genre.value_counts().reset_index()"
   ]
  },
  {
   "cell_type": "code",
   "execution_count": 26,
   "id": "c71df609",
   "metadata": {
    "ExecuteTime": {
     "end_time": "2024-06-23T23:34:46.379765Z",
     "start_time": "2024-06-23T23:34:46.324023Z"
    },
    "execution": {
     "iopub.execute_input": "2024-09-02T07:55:05.306079Z",
     "iopub.status.busy": "2024-09-02T07:55:05.305631Z",
     "iopub.status.idle": "2024-09-02T07:55:05.429419Z",
     "shell.execute_reply": "2024-09-02T07:55:05.428116Z"
    },
    "papermill": {
     "duration": 0.159991,
     "end_time": "2024-09-02T07:55:05.432420",
     "exception": false,
     "start_time": "2024-09-02T07:55:05.272429",
     "status": "completed"
    },
    "tags": []
   },
   "outputs": [
    {
     "data": {
      "text/html": [
       "<div>                            <div id=\"a7fd1617-0329-4b92-b8ce-af656813e10f\" class=\"plotly-graph-div\" style=\"height:1050px; width:100%;\"></div>            <script type=\"text/javascript\">                require([\"plotly\"], function(Plotly) {                    window.PLOTLYENV=window.PLOTLYENV || {};                                    if (document.getElementById(\"a7fd1617-0329-4b92-b8ce-af656813e10f\")) {                    Plotly.newPlot(                        \"a7fd1617-0329-4b92-b8ce-af656813e10f\",                        [{\"domain\":{\"x\":[0.0,1.0],\"y\":[0.0,1.0]},\"hovertemplate\":\"Main_genre=%{label}\\u003cbr\\u003ecount=%{value}\\u003cextra\\u003e\\u003c\\u002fextra\\u003e\",\"labels\":[\"Drama\",\"Action\",\"Comedy\",\"Crime\",\"Romance\",\"Horror\",\"Adventure\",\"Music\",\"Thriller\",\"Biography\",\"Mystery\",\"Family\",\"Documentary\",\"Animation\",\"Fantasy\",\"History\",\"Sci\",\"War\",\"Sport\"],\"legendgroup\":\"\",\"name\":\"\",\"showlegend\":true,\"textinfo\":\"value+percent\",\"values\":[1813,1615,968,265,157,127,101,90,89,77,58,52,45,40,31,8,4,3,2],\"type\":\"pie\"}],                        {\"height\":1050,\"legend\":{\"tracegroupgap\":0},\"template\":{\"data\":{\"barpolar\":[{\"marker\":{\"line\":{\"color\":\"#E5ECF6\",\"width\":0.5},\"pattern\":{\"fillmode\":\"overlay\",\"size\":10,\"solidity\":0.2}},\"type\":\"barpolar\"}],\"bar\":[{\"error_x\":{\"color\":\"#2a3f5f\"},\"error_y\":{\"color\":\"#2a3f5f\"},\"marker\":{\"line\":{\"color\":\"#E5ECF6\",\"width\":0.5},\"pattern\":{\"fillmode\":\"overlay\",\"size\":10,\"solidity\":0.2}},\"type\":\"bar\"}],\"carpet\":[{\"aaxis\":{\"endlinecolor\":\"#2a3f5f\",\"gridcolor\":\"white\",\"linecolor\":\"white\",\"minorgridcolor\":\"white\",\"startlinecolor\":\"#2a3f5f\"},\"baxis\":{\"endlinecolor\":\"#2a3f5f\",\"gridcolor\":\"white\",\"linecolor\":\"white\",\"minorgridcolor\":\"white\",\"startlinecolor\":\"#2a3f5f\"},\"type\":\"carpet\"}],\"choropleth\":[{\"colorbar\":{\"outlinewidth\":0,\"ticks\":\"\"},\"type\":\"choropleth\"}],\"contourcarpet\":[{\"colorbar\":{\"outlinewidth\":0,\"ticks\":\"\"},\"type\":\"contourcarpet\"}],\"contour\":[{\"colorbar\":{\"outlinewidth\":0,\"ticks\":\"\"},\"colorscale\":[[0.0,\"#0d0887\"],[0.1111111111111111,\"#46039f\"],[0.2222222222222222,\"#7201a8\"],[0.3333333333333333,\"#9c179e\"],[0.4444444444444444,\"#bd3786\"],[0.5555555555555556,\"#d8576b\"],[0.6666666666666666,\"#ed7953\"],[0.7777777777777778,\"#fb9f3a\"],[0.8888888888888888,\"#fdca26\"],[1.0,\"#f0f921\"]],\"type\":\"contour\"}],\"heatmapgl\":[{\"colorbar\":{\"outlinewidth\":0,\"ticks\":\"\"},\"colorscale\":[[0.0,\"#0d0887\"],[0.1111111111111111,\"#46039f\"],[0.2222222222222222,\"#7201a8\"],[0.3333333333333333,\"#9c179e\"],[0.4444444444444444,\"#bd3786\"],[0.5555555555555556,\"#d8576b\"],[0.6666666666666666,\"#ed7953\"],[0.7777777777777778,\"#fb9f3a\"],[0.8888888888888888,\"#fdca26\"],[1.0,\"#f0f921\"]],\"type\":\"heatmapgl\"}],\"heatmap\":[{\"colorbar\":{\"outlinewidth\":0,\"ticks\":\"\"},\"colorscale\":[[0.0,\"#0d0887\"],[0.1111111111111111,\"#46039f\"],[0.2222222222222222,\"#7201a8\"],[0.3333333333333333,\"#9c179e\"],[0.4444444444444444,\"#bd3786\"],[0.5555555555555556,\"#d8576b\"],[0.6666666666666666,\"#ed7953\"],[0.7777777777777778,\"#fb9f3a\"],[0.8888888888888888,\"#fdca26\"],[1.0,\"#f0f921\"]],\"type\":\"heatmap\"}],\"histogram2dcontour\":[{\"colorbar\":{\"outlinewidth\":0,\"ticks\":\"\"},\"colorscale\":[[0.0,\"#0d0887\"],[0.1111111111111111,\"#46039f\"],[0.2222222222222222,\"#7201a8\"],[0.3333333333333333,\"#9c179e\"],[0.4444444444444444,\"#bd3786\"],[0.5555555555555556,\"#d8576b\"],[0.6666666666666666,\"#ed7953\"],[0.7777777777777778,\"#fb9f3a\"],[0.8888888888888888,\"#fdca26\"],[1.0,\"#f0f921\"]],\"type\":\"histogram2dcontour\"}],\"histogram2d\":[{\"colorbar\":{\"outlinewidth\":0,\"ticks\":\"\"},\"colorscale\":[[0.0,\"#0d0887\"],[0.1111111111111111,\"#46039f\"],[0.2222222222222222,\"#7201a8\"],[0.3333333333333333,\"#9c179e\"],[0.4444444444444444,\"#bd3786\"],[0.5555555555555556,\"#d8576b\"],[0.6666666666666666,\"#ed7953\"],[0.7777777777777778,\"#fb9f3a\"],[0.8888888888888888,\"#fdca26\"],[1.0,\"#f0f921\"]],\"type\":\"histogram2d\"}],\"histogram\":[{\"marker\":{\"pattern\":{\"fillmode\":\"overlay\",\"size\":10,\"solidity\":0.2}},\"type\":\"histogram\"}],\"mesh3d\":[{\"colorbar\":{\"outlinewidth\":0,\"ticks\":\"\"},\"type\":\"mesh3d\"}],\"parcoords\":[{\"line\":{\"colorbar\":{\"outlinewidth\":0,\"ticks\":\"\"}},\"type\":\"parcoords\"}],\"pie\":[{\"automargin\":true,\"type\":\"pie\"}],\"scatter3d\":[{\"line\":{\"colorbar\":{\"outlinewidth\":0,\"ticks\":\"\"}},\"marker\":{\"colorbar\":{\"outlinewidth\":0,\"ticks\":\"\"}},\"type\":\"scatter3d\"}],\"scattercarpet\":[{\"marker\":{\"colorbar\":{\"outlinewidth\":0,\"ticks\":\"\"}},\"type\":\"scattercarpet\"}],\"scattergeo\":[{\"marker\":{\"colorbar\":{\"outlinewidth\":0,\"ticks\":\"\"}},\"type\":\"scattergeo\"}],\"scattergl\":[{\"marker\":{\"colorbar\":{\"outlinewidth\":0,\"ticks\":\"\"}},\"type\":\"scattergl\"}],\"scattermapbox\":[{\"marker\":{\"colorbar\":{\"outlinewidth\":0,\"ticks\":\"\"}},\"type\":\"scattermapbox\"}],\"scatterpolargl\":[{\"marker\":{\"colorbar\":{\"outlinewidth\":0,\"ticks\":\"\"}},\"type\":\"scatterpolargl\"}],\"scatterpolar\":[{\"marker\":{\"colorbar\":{\"outlinewidth\":0,\"ticks\":\"\"}},\"type\":\"scatterpolar\"}],\"scatter\":[{\"fillpattern\":{\"fillmode\":\"overlay\",\"size\":10,\"solidity\":0.2},\"type\":\"scatter\"}],\"scatterternary\":[{\"marker\":{\"colorbar\":{\"outlinewidth\":0,\"ticks\":\"\"}},\"type\":\"scatterternary\"}],\"surface\":[{\"colorbar\":{\"outlinewidth\":0,\"ticks\":\"\"},\"colorscale\":[[0.0,\"#0d0887\"],[0.1111111111111111,\"#46039f\"],[0.2222222222222222,\"#7201a8\"],[0.3333333333333333,\"#9c179e\"],[0.4444444444444444,\"#bd3786\"],[0.5555555555555556,\"#d8576b\"],[0.6666666666666666,\"#ed7953\"],[0.7777777777777778,\"#fb9f3a\"],[0.8888888888888888,\"#fdca26\"],[1.0,\"#f0f921\"]],\"type\":\"surface\"}],\"table\":[{\"cells\":{\"fill\":{\"color\":\"#EBF0F8\"},\"line\":{\"color\":\"white\"}},\"header\":{\"fill\":{\"color\":\"#C8D4E3\"},\"line\":{\"color\":\"white\"}},\"type\":\"table\"}]},\"layout\":{\"annotationdefaults\":{\"arrowcolor\":\"#2a3f5f\",\"arrowhead\":0,\"arrowwidth\":1},\"autotypenumbers\":\"strict\",\"coloraxis\":{\"colorbar\":{\"outlinewidth\":0,\"ticks\":\"\"}},\"colorscale\":{\"diverging\":[[0,\"#8e0152\"],[0.1,\"#c51b7d\"],[0.2,\"#de77ae\"],[0.3,\"#f1b6da\"],[0.4,\"#fde0ef\"],[0.5,\"#f7f7f7\"],[0.6,\"#e6f5d0\"],[0.7,\"#b8e186\"],[0.8,\"#7fbc41\"],[0.9,\"#4d9221\"],[1,\"#276419\"]],\"sequential\":[[0.0,\"#0d0887\"],[0.1111111111111111,\"#46039f\"],[0.2222222222222222,\"#7201a8\"],[0.3333333333333333,\"#9c179e\"],[0.4444444444444444,\"#bd3786\"],[0.5555555555555556,\"#d8576b\"],[0.6666666666666666,\"#ed7953\"],[0.7777777777777778,\"#fb9f3a\"],[0.8888888888888888,\"#fdca26\"],[1.0,\"#f0f921\"]],\"sequentialminus\":[[0.0,\"#0d0887\"],[0.1111111111111111,\"#46039f\"],[0.2222222222222222,\"#7201a8\"],[0.3333333333333333,\"#9c179e\"],[0.4444444444444444,\"#bd3786\"],[0.5555555555555556,\"#d8576b\"],[0.6666666666666666,\"#ed7953\"],[0.7777777777777778,\"#fb9f3a\"],[0.8888888888888888,\"#fdca26\"],[1.0,\"#f0f921\"]]},\"colorway\":[\"#636efa\",\"#EF553B\",\"#00cc96\",\"#ab63fa\",\"#FFA15A\",\"#19d3f3\",\"#FF6692\",\"#B6E880\",\"#FF97FF\",\"#FECB52\"],\"font\":{\"color\":\"#2a3f5f\"},\"geo\":{\"bgcolor\":\"white\",\"lakecolor\":\"white\",\"landcolor\":\"#E5ECF6\",\"showlakes\":true,\"showland\":true,\"subunitcolor\":\"white\"},\"hoverlabel\":{\"align\":\"left\"},\"hovermode\":\"closest\",\"mapbox\":{\"style\":\"light\"},\"paper_bgcolor\":\"white\",\"plot_bgcolor\":\"#E5ECF6\",\"polar\":{\"angularaxis\":{\"gridcolor\":\"white\",\"linecolor\":\"white\",\"ticks\":\"\"},\"bgcolor\":\"#E5ECF6\",\"radialaxis\":{\"gridcolor\":\"white\",\"linecolor\":\"white\",\"ticks\":\"\"}},\"scene\":{\"xaxis\":{\"backgroundcolor\":\"#E5ECF6\",\"gridcolor\":\"white\",\"gridwidth\":2,\"linecolor\":\"white\",\"showbackground\":true,\"ticks\":\"\",\"zerolinecolor\":\"white\"},\"yaxis\":{\"backgroundcolor\":\"#E5ECF6\",\"gridcolor\":\"white\",\"gridwidth\":2,\"linecolor\":\"white\",\"showbackground\":true,\"ticks\":\"\",\"zerolinecolor\":\"white\"},\"zaxis\":{\"backgroundcolor\":\"#E5ECF6\",\"gridcolor\":\"white\",\"gridwidth\":2,\"linecolor\":\"white\",\"showbackground\":true,\"ticks\":\"\",\"zerolinecolor\":\"white\"}},\"shapedefaults\":{\"line\":{\"color\":\"#2a3f5f\"}},\"ternary\":{\"aaxis\":{\"gridcolor\":\"white\",\"linecolor\":\"white\",\"ticks\":\"\"},\"baxis\":{\"gridcolor\":\"white\",\"linecolor\":\"white\",\"ticks\":\"\"},\"bgcolor\":\"#E5ECF6\",\"caxis\":{\"gridcolor\":\"white\",\"linecolor\":\"white\",\"ticks\":\"\"}},\"title\":{\"x\":0.05},\"xaxis\":{\"automargin\":true,\"gridcolor\":\"white\",\"linecolor\":\"white\",\"ticks\":\"\",\"title\":{\"standoff\":15},\"zerolinecolor\":\"white\",\"zerolinewidth\":2},\"yaxis\":{\"automargin\":true,\"gridcolor\":\"white\",\"linecolor\":\"white\",\"ticks\":\"\",\"title\":{\"standoff\":15},\"zerolinecolor\":\"white\",\"zerolinewidth\":2}}},\"title\":{\"text\":\"Number of movies by Genre\"}},                        {\"responsive\": true}                    ).then(function(){\n",
       "                            \n",
       "var gd = document.getElementById('a7fd1617-0329-4b92-b8ce-af656813e10f');\n",
       "var x = new MutationObserver(function (mutations, observer) {{\n",
       "        var display = window.getComputedStyle(gd).display;\n",
       "        if (!display || display === 'none') {{\n",
       "            console.log([gd, 'removed!']);\n",
       "            Plotly.purge(gd);\n",
       "            observer.disconnect();\n",
       "        }}\n",
       "}});\n",
       "\n",
       "// Listen for the removal of the full notebook cells\n",
       "var notebookContainer = gd.closest('#notebook-container');\n",
       "if (notebookContainer) {{\n",
       "    x.observe(notebookContainer, {childList: true});\n",
       "}}\n",
       "\n",
       "// Listen for the clearing of the current output cell\n",
       "var outputEl = gd.closest('.output');\n",
       "if (outputEl) {{\n",
       "    x.observe(outputEl, {childList: true});\n",
       "}}\n",
       "\n",
       "                        })                };                });            </script>        </div>"
      ]
     },
     "metadata": {},
     "output_type": "display_data"
    }
   ],
   "source": [
    "genres = data.Main_genre.value_counts().reset_index()\n",
    "iplot(px.pie(data_frame=genres,names=genres.Main_genre,values=genres[\"count\"],title=\"Number of movies by Genre\",height=1050)\\\n",
    "      .update_traces(textinfo=\"value+percent\"))"
   ]
  },
  {
   "cell_type": "markdown",
   "id": "efd1ed3f",
   "metadata": {
    "papermill": {
     "duration": 0.030701,
     "end_time": "2024-09-02T07:55:05.494247",
     "exception": false,
     "start_time": "2024-09-02T07:55:05.463546",
     "status": "completed"
    },
    "tags": []
   },
   "source": [
    "* The top 3 genres in number of movies are Drama,Action and Comedy "
   ]
  },
  {
   "cell_type": "markdown",
   "id": "e0eaaa64",
   "metadata": {
    "papermill": {
     "duration": 0.03163,
     "end_time": "2024-09-02T07:55:05.559213",
     "exception": false,
     "start_time": "2024-09-02T07:55:05.527583",
     "status": "completed"
    },
    "tags": []
   },
   "source": [
    "# Multivariate analysis"
   ]
  },
  {
   "cell_type": "markdown",
   "id": "bb51538f",
   "metadata": {
    "papermill": {
     "duration": 0.033041,
     "end_time": "2024-09-02T07:55:05.626802",
     "exception": false,
     "start_time": "2024-09-02T07:55:05.593761",
     "status": "completed"
    },
    "tags": []
   },
   "source": [
    "## Which genres are the highest rated?"
   ]
  },
  {
   "cell_type": "code",
   "execution_count": 27,
   "id": "7aff47ad",
   "metadata": {
    "ExecuteTime": {
     "end_time": "2024-06-23T23:34:46.39198Z",
     "start_time": "2024-06-23T23:34:46.381778Z"
    },
    "execution": {
     "iopub.execute_input": "2024-09-02T07:55:05.692491Z",
     "iopub.status.busy": "2024-09-02T07:55:05.692057Z",
     "iopub.status.idle": "2024-09-02T07:55:05.706479Z",
     "shell.execute_reply": "2024-09-02T07:55:05.705177Z"
    },
    "papermill": {
     "duration": 0.050338,
     "end_time": "2024-09-02T07:55:05.709311",
     "exception": false,
     "start_time": "2024-09-02T07:55:05.658973",
     "status": "completed"
    },
    "tags": []
   },
   "outputs": [
    {
     "data": {
      "text/plain": [
       "Main_genre\n",
       "Documentary    7.566667\n",
       "History        7.225000\n",
       "Biography      6.598701\n",
       "Sci            6.325000\n",
       "Family         6.296154\n",
       "Fantasy        6.251613\n",
       "Drama          6.243574\n",
       "Adventure      6.132673\n",
       "Music          6.121111\n",
       "Crime          6.092075\n",
       "Animation      6.072500\n",
       "Mystery        5.815517\n",
       "Comedy         5.808368\n",
       "Sport          5.800000\n",
       "Romance        5.589809\n",
       "Action         5.509474\n",
       "Thriller       5.332584\n",
       "Horror         4.688976\n",
       "War            4.333333\n",
       "Name: Rating, dtype: float64"
      ]
     },
     "execution_count": 27,
     "metadata": {},
     "output_type": "execute_result"
    }
   ],
   "source": [
    "data.groupby(\"Main_genre\")[\"Rating\"].mean().sort_values(ascending = False)"
   ]
  },
  {
   "cell_type": "code",
   "execution_count": 28,
   "id": "482637da",
   "metadata": {
    "ExecuteTime": {
     "end_time": "2024-06-23T23:34:46.456856Z",
     "start_time": "2024-06-23T23:34:46.393991Z"
    },
    "execution": {
     "iopub.execute_input": "2024-09-02T07:55:05.774530Z",
     "iopub.status.busy": "2024-09-02T07:55:05.774074Z",
     "iopub.status.idle": "2024-09-02T07:55:05.917725Z",
     "shell.execute_reply": "2024-09-02T07:55:05.916607Z"
    },
    "papermill": {
     "duration": 0.179595,
     "end_time": "2024-09-02T07:55:05.920625",
     "exception": false,
     "start_time": "2024-09-02T07:55:05.741030",
     "status": "completed"
    },
    "tags": []
   },
   "outputs": [
    {
     "data": {
      "text/html": [
       "<div>                            <div id=\"fe9fcc82-f38e-4969-8712-09ef6c28e3ed\" class=\"plotly-graph-div\" style=\"height:525px; width:100%;\"></div>            <script type=\"text/javascript\">                require([\"plotly\"], function(Plotly) {                    window.PLOTLYENV=window.PLOTLYENV || {};                                    if (document.getElementById(\"fe9fcc82-f38e-4969-8712-09ef6c28e3ed\")) {                    Plotly.newPlot(                        \"fe9fcc82-f38e-4969-8712-09ef6c28e3ed\",                        [{\"alignmentgroup\":\"True\",\"hovertemplate\":\"variable=Rating\\u003cbr\\u003eMain_genre=%{x}\\u003cbr\\u003evalue=%{y}\\u003cextra\\u003e\\u003c\\u002fextra\\u003e\",\"legendgroup\":\"Rating\",\"marker\":{\"color\":\"#636efa\",\"pattern\":{\"shape\":\"\"}},\"name\":\"Rating\",\"offsetgroup\":\"Rating\",\"orientation\":\"v\",\"showlegend\":true,\"textposition\":\"auto\",\"x\":[\"Documentary\",\"History\",\"Biography\",\"Sci\",\"Family\",\"Fantasy\",\"Drama\",\"Adventure\",\"Music\",\"Crime\",\"Animation\",\"Mystery\",\"Comedy\",\"Sport\",\"Romance\",\"Action\",\"Thriller\",\"Horror\",\"War\"],\"xaxis\":\"x\",\"y\":[7.566666666666666,7.225,6.598701298701299,6.325,6.296153846153846,6.251612903225807,6.24357418643133,6.132673267326733,6.1211111111111105,6.092075471698114,6.0725,5.81551724137931,5.8083677685950414,5.8,5.589808917197453,5.509473684210526,5.332584269662922,4.688976377952756,4.333333333333333],\"yaxis\":\"y\",\"type\":\"bar\"}],                        {\"barmode\":\"relative\",\"legend\":{\"title\":{\"text\":\"variable\"},\"tracegroupgap\":0},\"margin\":{\"t\":60},\"template\":{\"data\":{\"barpolar\":[{\"marker\":{\"line\":{\"color\":\"#E5ECF6\",\"width\":0.5},\"pattern\":{\"fillmode\":\"overlay\",\"size\":10,\"solidity\":0.2}},\"type\":\"barpolar\"}],\"bar\":[{\"error_x\":{\"color\":\"#2a3f5f\"},\"error_y\":{\"color\":\"#2a3f5f\"},\"marker\":{\"line\":{\"color\":\"#E5ECF6\",\"width\":0.5},\"pattern\":{\"fillmode\":\"overlay\",\"size\":10,\"solidity\":0.2}},\"type\":\"bar\"}],\"carpet\":[{\"aaxis\":{\"endlinecolor\":\"#2a3f5f\",\"gridcolor\":\"white\",\"linecolor\":\"white\",\"minorgridcolor\":\"white\",\"startlinecolor\":\"#2a3f5f\"},\"baxis\":{\"endlinecolor\":\"#2a3f5f\",\"gridcolor\":\"white\",\"linecolor\":\"white\",\"minorgridcolor\":\"white\",\"startlinecolor\":\"#2a3f5f\"},\"type\":\"carpet\"}],\"choropleth\":[{\"colorbar\":{\"outlinewidth\":0,\"ticks\":\"\"},\"type\":\"choropleth\"}],\"contourcarpet\":[{\"colorbar\":{\"outlinewidth\":0,\"ticks\":\"\"},\"type\":\"contourcarpet\"}],\"contour\":[{\"colorbar\":{\"outlinewidth\":0,\"ticks\":\"\"},\"colorscale\":[[0.0,\"#0d0887\"],[0.1111111111111111,\"#46039f\"],[0.2222222222222222,\"#7201a8\"],[0.3333333333333333,\"#9c179e\"],[0.4444444444444444,\"#bd3786\"],[0.5555555555555556,\"#d8576b\"],[0.6666666666666666,\"#ed7953\"],[0.7777777777777778,\"#fb9f3a\"],[0.8888888888888888,\"#fdca26\"],[1.0,\"#f0f921\"]],\"type\":\"contour\"}],\"heatmapgl\":[{\"colorbar\":{\"outlinewidth\":0,\"ticks\":\"\"},\"colorscale\":[[0.0,\"#0d0887\"],[0.1111111111111111,\"#46039f\"],[0.2222222222222222,\"#7201a8\"],[0.3333333333333333,\"#9c179e\"],[0.4444444444444444,\"#bd3786\"],[0.5555555555555556,\"#d8576b\"],[0.6666666666666666,\"#ed7953\"],[0.7777777777777778,\"#fb9f3a\"],[0.8888888888888888,\"#fdca26\"],[1.0,\"#f0f921\"]],\"type\":\"heatmapgl\"}],\"heatmap\":[{\"colorbar\":{\"outlinewidth\":0,\"ticks\":\"\"},\"colorscale\":[[0.0,\"#0d0887\"],[0.1111111111111111,\"#46039f\"],[0.2222222222222222,\"#7201a8\"],[0.3333333333333333,\"#9c179e\"],[0.4444444444444444,\"#bd3786\"],[0.5555555555555556,\"#d8576b\"],[0.6666666666666666,\"#ed7953\"],[0.7777777777777778,\"#fb9f3a\"],[0.8888888888888888,\"#fdca26\"],[1.0,\"#f0f921\"]],\"type\":\"heatmap\"}],\"histogram2dcontour\":[{\"colorbar\":{\"outlinewidth\":0,\"ticks\":\"\"},\"colorscale\":[[0.0,\"#0d0887\"],[0.1111111111111111,\"#46039f\"],[0.2222222222222222,\"#7201a8\"],[0.3333333333333333,\"#9c179e\"],[0.4444444444444444,\"#bd3786\"],[0.5555555555555556,\"#d8576b\"],[0.6666666666666666,\"#ed7953\"],[0.7777777777777778,\"#fb9f3a\"],[0.8888888888888888,\"#fdca26\"],[1.0,\"#f0f921\"]],\"type\":\"histogram2dcontour\"}],\"histogram2d\":[{\"colorbar\":{\"outlinewidth\":0,\"ticks\":\"\"},\"colorscale\":[[0.0,\"#0d0887\"],[0.1111111111111111,\"#46039f\"],[0.2222222222222222,\"#7201a8\"],[0.3333333333333333,\"#9c179e\"],[0.4444444444444444,\"#bd3786\"],[0.5555555555555556,\"#d8576b\"],[0.6666666666666666,\"#ed7953\"],[0.7777777777777778,\"#fb9f3a\"],[0.8888888888888888,\"#fdca26\"],[1.0,\"#f0f921\"]],\"type\":\"histogram2d\"}],\"histogram\":[{\"marker\":{\"pattern\":{\"fillmode\":\"overlay\",\"size\":10,\"solidity\":0.2}},\"type\":\"histogram\"}],\"mesh3d\":[{\"colorbar\":{\"outlinewidth\":0,\"ticks\":\"\"},\"type\":\"mesh3d\"}],\"parcoords\":[{\"line\":{\"colorbar\":{\"outlinewidth\":0,\"ticks\":\"\"}},\"type\":\"parcoords\"}],\"pie\":[{\"automargin\":true,\"type\":\"pie\"}],\"scatter3d\":[{\"line\":{\"colorbar\":{\"outlinewidth\":0,\"ticks\":\"\"}},\"marker\":{\"colorbar\":{\"outlinewidth\":0,\"ticks\":\"\"}},\"type\":\"scatter3d\"}],\"scattercarpet\":[{\"marker\":{\"colorbar\":{\"outlinewidth\":0,\"ticks\":\"\"}},\"type\":\"scattercarpet\"}],\"scattergeo\":[{\"marker\":{\"colorbar\":{\"outlinewidth\":0,\"ticks\":\"\"}},\"type\":\"scattergeo\"}],\"scattergl\":[{\"marker\":{\"colorbar\":{\"outlinewidth\":0,\"ticks\":\"\"}},\"type\":\"scattergl\"}],\"scattermapbox\":[{\"marker\":{\"colorbar\":{\"outlinewidth\":0,\"ticks\":\"\"}},\"type\":\"scattermapbox\"}],\"scatterpolargl\":[{\"marker\":{\"colorbar\":{\"outlinewidth\":0,\"ticks\":\"\"}},\"type\":\"scatterpolargl\"}],\"scatterpolar\":[{\"marker\":{\"colorbar\":{\"outlinewidth\":0,\"ticks\":\"\"}},\"type\":\"scatterpolar\"}],\"scatter\":[{\"fillpattern\":{\"fillmode\":\"overlay\",\"size\":10,\"solidity\":0.2},\"type\":\"scatter\"}],\"scatterternary\":[{\"marker\":{\"colorbar\":{\"outlinewidth\":0,\"ticks\":\"\"}},\"type\":\"scatterternary\"}],\"surface\":[{\"colorbar\":{\"outlinewidth\":0,\"ticks\":\"\"},\"colorscale\":[[0.0,\"#0d0887\"],[0.1111111111111111,\"#46039f\"],[0.2222222222222222,\"#7201a8\"],[0.3333333333333333,\"#9c179e\"],[0.4444444444444444,\"#bd3786\"],[0.5555555555555556,\"#d8576b\"],[0.6666666666666666,\"#ed7953\"],[0.7777777777777778,\"#fb9f3a\"],[0.8888888888888888,\"#fdca26\"],[1.0,\"#f0f921\"]],\"type\":\"surface\"}],\"table\":[{\"cells\":{\"fill\":{\"color\":\"#EBF0F8\"},\"line\":{\"color\":\"white\"}},\"header\":{\"fill\":{\"color\":\"#C8D4E3\"},\"line\":{\"color\":\"white\"}},\"type\":\"table\"}]},\"layout\":{\"annotationdefaults\":{\"arrowcolor\":\"#2a3f5f\",\"arrowhead\":0,\"arrowwidth\":1},\"autotypenumbers\":\"strict\",\"coloraxis\":{\"colorbar\":{\"outlinewidth\":0,\"ticks\":\"\"}},\"colorscale\":{\"diverging\":[[0,\"#8e0152\"],[0.1,\"#c51b7d\"],[0.2,\"#de77ae\"],[0.3,\"#f1b6da\"],[0.4,\"#fde0ef\"],[0.5,\"#f7f7f7\"],[0.6,\"#e6f5d0\"],[0.7,\"#b8e186\"],[0.8,\"#7fbc41\"],[0.9,\"#4d9221\"],[1,\"#276419\"]],\"sequential\":[[0.0,\"#0d0887\"],[0.1111111111111111,\"#46039f\"],[0.2222222222222222,\"#7201a8\"],[0.3333333333333333,\"#9c179e\"],[0.4444444444444444,\"#bd3786\"],[0.5555555555555556,\"#d8576b\"],[0.6666666666666666,\"#ed7953\"],[0.7777777777777778,\"#fb9f3a\"],[0.8888888888888888,\"#fdca26\"],[1.0,\"#f0f921\"]],\"sequentialminus\":[[0.0,\"#0d0887\"],[0.1111111111111111,\"#46039f\"],[0.2222222222222222,\"#7201a8\"],[0.3333333333333333,\"#9c179e\"],[0.4444444444444444,\"#bd3786\"],[0.5555555555555556,\"#d8576b\"],[0.6666666666666666,\"#ed7953\"],[0.7777777777777778,\"#fb9f3a\"],[0.8888888888888888,\"#fdca26\"],[1.0,\"#f0f921\"]]},\"colorway\":[\"#636efa\",\"#EF553B\",\"#00cc96\",\"#ab63fa\",\"#FFA15A\",\"#19d3f3\",\"#FF6692\",\"#B6E880\",\"#FF97FF\",\"#FECB52\"],\"font\":{\"color\":\"#2a3f5f\"},\"geo\":{\"bgcolor\":\"white\",\"lakecolor\":\"white\",\"landcolor\":\"#E5ECF6\",\"showlakes\":true,\"showland\":true,\"subunitcolor\":\"white\"},\"hoverlabel\":{\"align\":\"left\"},\"hovermode\":\"closest\",\"mapbox\":{\"style\":\"light\"},\"paper_bgcolor\":\"white\",\"plot_bgcolor\":\"#E5ECF6\",\"polar\":{\"angularaxis\":{\"gridcolor\":\"white\",\"linecolor\":\"white\",\"ticks\":\"\"},\"bgcolor\":\"#E5ECF6\",\"radialaxis\":{\"gridcolor\":\"white\",\"linecolor\":\"white\",\"ticks\":\"\"}},\"scene\":{\"xaxis\":{\"backgroundcolor\":\"#E5ECF6\",\"gridcolor\":\"white\",\"gridwidth\":2,\"linecolor\":\"white\",\"showbackground\":true,\"ticks\":\"\",\"zerolinecolor\":\"white\"},\"yaxis\":{\"backgroundcolor\":\"#E5ECF6\",\"gridcolor\":\"white\",\"gridwidth\":2,\"linecolor\":\"white\",\"showbackground\":true,\"ticks\":\"\",\"zerolinecolor\":\"white\"},\"zaxis\":{\"backgroundcolor\":\"#E5ECF6\",\"gridcolor\":\"white\",\"gridwidth\":2,\"linecolor\":\"white\",\"showbackground\":true,\"ticks\":\"\",\"zerolinecolor\":\"white\"}},\"shapedefaults\":{\"line\":{\"color\":\"#2a3f5f\"}},\"ternary\":{\"aaxis\":{\"gridcolor\":\"white\",\"linecolor\":\"white\",\"ticks\":\"\"},\"baxis\":{\"gridcolor\":\"white\",\"linecolor\":\"white\",\"ticks\":\"\"},\"bgcolor\":\"#E5ECF6\",\"caxis\":{\"gridcolor\":\"white\",\"linecolor\":\"white\",\"ticks\":\"\"}},\"title\":{\"x\":0.05},\"xaxis\":{\"automargin\":true,\"gridcolor\":\"white\",\"linecolor\":\"white\",\"ticks\":\"\",\"title\":{\"standoff\":15},\"zerolinecolor\":\"white\",\"zerolinewidth\":2},\"yaxis\":{\"automargin\":true,\"gridcolor\":\"white\",\"linecolor\":\"white\",\"ticks\":\"\",\"title\":{\"standoff\":15},\"zerolinecolor\":\"white\",\"zerolinewidth\":2}}},\"xaxis\":{\"anchor\":\"y\",\"domain\":[0.0,1.0],\"title\":{\"text\":\"Main_genre\"}},\"yaxis\":{\"anchor\":\"x\",\"domain\":[0.0,1.0],\"title\":{\"text\":\"value\"}}},                        {\"responsive\": true}                    ).then(function(){\n",
       "                            \n",
       "var gd = document.getElementById('fe9fcc82-f38e-4969-8712-09ef6c28e3ed');\n",
       "var x = new MutationObserver(function (mutations, observer) {{\n",
       "        var display = window.getComputedStyle(gd).display;\n",
       "        if (!display || display === 'none') {{\n",
       "            console.log([gd, 'removed!']);\n",
       "            Plotly.purge(gd);\n",
       "            observer.disconnect();\n",
       "        }}\n",
       "}});\n",
       "\n",
       "// Listen for the removal of the full notebook cells\n",
       "var notebookContainer = gd.closest('#notebook-container');\n",
       "if (notebookContainer) {{\n",
       "    x.observe(notebookContainer, {childList: true});\n",
       "}}\n",
       "\n",
       "// Listen for the clearing of the current output cell\n",
       "var outputEl = gd.closest('.output');\n",
       "if (outputEl) {{\n",
       "    x.observe(outputEl, {childList: true});\n",
       "}}\n",
       "\n",
       "                        })                };                });            </script>        </div>"
      ]
     },
     "metadata": {},
     "output_type": "display_data"
    }
   ],
   "source": [
    "rating_by_genre = data.groupby(\"Main_genre\")[\"Rating\"].mean().sort_values(ascending = False)\n",
    "iplot(px.bar(data_frame=rating_by_genre))"
   ]
  },
  {
   "cell_type": "markdown",
   "id": "ffa36356",
   "metadata": {
    "papermill": {
     "duration": 0.031882,
     "end_time": "2024-09-02T07:55:05.984249",
     "exception": false,
     "start_time": "2024-09-02T07:55:05.952367",
     "status": "completed"
    },
    "tags": []
   },
   "source": [
    "## Distribution of movies over time"
   ]
  },
  {
   "cell_type": "code",
   "execution_count": 29,
   "id": "0ea8b20a",
   "metadata": {
    "ExecuteTime": {
     "end_time": "2024-06-23T23:34:46.519862Z",
     "start_time": "2024-06-23T23:34:46.458966Z"
    },
    "execution": {
     "iopub.execute_input": "2024-09-02T07:55:06.050003Z",
     "iopub.status.busy": "2024-09-02T07:55:06.049590Z",
     "iopub.status.idle": "2024-09-02T07:55:06.151226Z",
     "shell.execute_reply": "2024-09-02T07:55:06.150110Z"
    },
    "papermill": {
     "duration": 0.13743,
     "end_time": "2024-09-02T07:55:06.153814",
     "exception": false,
     "start_time": "2024-09-02T07:55:06.016384",
     "status": "completed"
    },
    "tags": []
   },
   "outputs": [
    {
     "data": {
      "text/html": [
       "<div>                            <div id=\"dc8abf70-cd1e-4c0b-9b73-f755cdebe6ee\" class=\"plotly-graph-div\" style=\"height:525px; width:100%;\"></div>            <script type=\"text/javascript\">                require([\"plotly\"], function(Plotly) {                    window.PLOTLYENV=window.PLOTLYENV || {};                                    if (document.getElementById(\"dc8abf70-cd1e-4c0b-9b73-f755cdebe6ee\")) {                    Plotly.newPlot(                        \"dc8abf70-cd1e-4c0b-9b73-f755cdebe6ee\",                        [{\"alignmentgroup\":\"True\",\"hovertemplate\":\"Year=%{x}\\u003cbr\\u003ecount=%{y}\\u003cextra\\u003e\\u003c\\u002fextra\\u003e\",\"legendgroup\":\"\",\"marker\":{\"color\":\"purple\",\"pattern\":{\"shape\":\"\"}},\"name\":\"\",\"offsetgroup\":\"\",\"orientation\":\"v\",\"showlegend\":false,\"textposition\":\"auto\",\"x\":[1931,1933,1934,1935,1936,1937,1938,1939,1940,1941,1942,1943,1944,1945,1946,1947,1948,1949,1950,1951,1952,1953,1954,1955,1956,1957,1958,1959,1960,1961,1962,1963,1964,1965,1966,1967,1968,1969,1970,1971,1972,1973,1974,1975,1976,1977,1978,1979,1980,1981,1982,1983,1984,1985,1986,1987,1988,1989,1990,1991,1992,1993,1994,1995,1996,1997,1998,1999,2000,2001,2002,2003,2004,2005,2006,2007,2008,2009,2010,2011,2012,2013,2014,2015,2016,2017,2018,2019,2020,2021],\"xaxis\":\"x\",\"y\":[2,1,2,5,7,6,5,2,7,5,6,8,4,3,6,6,10,13,18,15,16,20,19,25,21,31,30,27,26,25,29,29,35,35,42,41,50,46,45,54,52,46,56,51,45,60,51,54,70,67,65,61,67,83,73,51,67,88,71,70,86,85,76,63,70,75,73,80,81,87,90,107,107,141,109,110,106,114,130,122,134,160,161,171,168,207,192,224,131,60],\"yaxis\":\"y\",\"type\":\"bar\"}],                        {\"barmode\":\"relative\",\"legend\":{\"tracegroupgap\":0},\"template\":{\"data\":{\"barpolar\":[{\"marker\":{\"line\":{\"color\":\"#E5ECF6\",\"width\":0.5},\"pattern\":{\"fillmode\":\"overlay\",\"size\":10,\"solidity\":0.2}},\"type\":\"barpolar\"}],\"bar\":[{\"error_x\":{\"color\":\"#2a3f5f\"},\"error_y\":{\"color\":\"#2a3f5f\"},\"marker\":{\"line\":{\"color\":\"#E5ECF6\",\"width\":0.5},\"pattern\":{\"fillmode\":\"overlay\",\"size\":10,\"solidity\":0.2}},\"type\":\"bar\"}],\"carpet\":[{\"aaxis\":{\"endlinecolor\":\"#2a3f5f\",\"gridcolor\":\"white\",\"linecolor\":\"white\",\"minorgridcolor\":\"white\",\"startlinecolor\":\"#2a3f5f\"},\"baxis\":{\"endlinecolor\":\"#2a3f5f\",\"gridcolor\":\"white\",\"linecolor\":\"white\",\"minorgridcolor\":\"white\",\"startlinecolor\":\"#2a3f5f\"},\"type\":\"carpet\"}],\"choropleth\":[{\"colorbar\":{\"outlinewidth\":0,\"ticks\":\"\"},\"type\":\"choropleth\"}],\"contourcarpet\":[{\"colorbar\":{\"outlinewidth\":0,\"ticks\":\"\"},\"type\":\"contourcarpet\"}],\"contour\":[{\"colorbar\":{\"outlinewidth\":0,\"ticks\":\"\"},\"colorscale\":[[0.0,\"#0d0887\"],[0.1111111111111111,\"#46039f\"],[0.2222222222222222,\"#7201a8\"],[0.3333333333333333,\"#9c179e\"],[0.4444444444444444,\"#bd3786\"],[0.5555555555555556,\"#d8576b\"],[0.6666666666666666,\"#ed7953\"],[0.7777777777777778,\"#fb9f3a\"],[0.8888888888888888,\"#fdca26\"],[1.0,\"#f0f921\"]],\"type\":\"contour\"}],\"heatmapgl\":[{\"colorbar\":{\"outlinewidth\":0,\"ticks\":\"\"},\"colorscale\":[[0.0,\"#0d0887\"],[0.1111111111111111,\"#46039f\"],[0.2222222222222222,\"#7201a8\"],[0.3333333333333333,\"#9c179e\"],[0.4444444444444444,\"#bd3786\"],[0.5555555555555556,\"#d8576b\"],[0.6666666666666666,\"#ed7953\"],[0.7777777777777778,\"#fb9f3a\"],[0.8888888888888888,\"#fdca26\"],[1.0,\"#f0f921\"]],\"type\":\"heatmapgl\"}],\"heatmap\":[{\"colorbar\":{\"outlinewidth\":0,\"ticks\":\"\"},\"colorscale\":[[0.0,\"#0d0887\"],[0.1111111111111111,\"#46039f\"],[0.2222222222222222,\"#7201a8\"],[0.3333333333333333,\"#9c179e\"],[0.4444444444444444,\"#bd3786\"],[0.5555555555555556,\"#d8576b\"],[0.6666666666666666,\"#ed7953\"],[0.7777777777777778,\"#fb9f3a\"],[0.8888888888888888,\"#fdca26\"],[1.0,\"#f0f921\"]],\"type\":\"heatmap\"}],\"histogram2dcontour\":[{\"colorbar\":{\"outlinewidth\":0,\"ticks\":\"\"},\"colorscale\":[[0.0,\"#0d0887\"],[0.1111111111111111,\"#46039f\"],[0.2222222222222222,\"#7201a8\"],[0.3333333333333333,\"#9c179e\"],[0.4444444444444444,\"#bd3786\"],[0.5555555555555556,\"#d8576b\"],[0.6666666666666666,\"#ed7953\"],[0.7777777777777778,\"#fb9f3a\"],[0.8888888888888888,\"#fdca26\"],[1.0,\"#f0f921\"]],\"type\":\"histogram2dcontour\"}],\"histogram2d\":[{\"colorbar\":{\"outlinewidth\":0,\"ticks\":\"\"},\"colorscale\":[[0.0,\"#0d0887\"],[0.1111111111111111,\"#46039f\"],[0.2222222222222222,\"#7201a8\"],[0.3333333333333333,\"#9c179e\"],[0.4444444444444444,\"#bd3786\"],[0.5555555555555556,\"#d8576b\"],[0.6666666666666666,\"#ed7953\"],[0.7777777777777778,\"#fb9f3a\"],[0.8888888888888888,\"#fdca26\"],[1.0,\"#f0f921\"]],\"type\":\"histogram2d\"}],\"histogram\":[{\"marker\":{\"pattern\":{\"fillmode\":\"overlay\",\"size\":10,\"solidity\":0.2}},\"type\":\"histogram\"}],\"mesh3d\":[{\"colorbar\":{\"outlinewidth\":0,\"ticks\":\"\"},\"type\":\"mesh3d\"}],\"parcoords\":[{\"line\":{\"colorbar\":{\"outlinewidth\":0,\"ticks\":\"\"}},\"type\":\"parcoords\"}],\"pie\":[{\"automargin\":true,\"type\":\"pie\"}],\"scatter3d\":[{\"line\":{\"colorbar\":{\"outlinewidth\":0,\"ticks\":\"\"}},\"marker\":{\"colorbar\":{\"outlinewidth\":0,\"ticks\":\"\"}},\"type\":\"scatter3d\"}],\"scattercarpet\":[{\"marker\":{\"colorbar\":{\"outlinewidth\":0,\"ticks\":\"\"}},\"type\":\"scattercarpet\"}],\"scattergeo\":[{\"marker\":{\"colorbar\":{\"outlinewidth\":0,\"ticks\":\"\"}},\"type\":\"scattergeo\"}],\"scattergl\":[{\"marker\":{\"colorbar\":{\"outlinewidth\":0,\"ticks\":\"\"}},\"type\":\"scattergl\"}],\"scattermapbox\":[{\"marker\":{\"colorbar\":{\"outlinewidth\":0,\"ticks\":\"\"}},\"type\":\"scattermapbox\"}],\"scatterpolargl\":[{\"marker\":{\"colorbar\":{\"outlinewidth\":0,\"ticks\":\"\"}},\"type\":\"scatterpolargl\"}],\"scatterpolar\":[{\"marker\":{\"colorbar\":{\"outlinewidth\":0,\"ticks\":\"\"}},\"type\":\"scatterpolar\"}],\"scatter\":[{\"fillpattern\":{\"fillmode\":\"overlay\",\"size\":10,\"solidity\":0.2},\"type\":\"scatter\"}],\"scatterternary\":[{\"marker\":{\"colorbar\":{\"outlinewidth\":0,\"ticks\":\"\"}},\"type\":\"scatterternary\"}],\"surface\":[{\"colorbar\":{\"outlinewidth\":0,\"ticks\":\"\"},\"colorscale\":[[0.0,\"#0d0887\"],[0.1111111111111111,\"#46039f\"],[0.2222222222222222,\"#7201a8\"],[0.3333333333333333,\"#9c179e\"],[0.4444444444444444,\"#bd3786\"],[0.5555555555555556,\"#d8576b\"],[0.6666666666666666,\"#ed7953\"],[0.7777777777777778,\"#fb9f3a\"],[0.8888888888888888,\"#fdca26\"],[1.0,\"#f0f921\"]],\"type\":\"surface\"}],\"table\":[{\"cells\":{\"fill\":{\"color\":\"#EBF0F8\"},\"line\":{\"color\":\"white\"}},\"header\":{\"fill\":{\"color\":\"#C8D4E3\"},\"line\":{\"color\":\"white\"}},\"type\":\"table\"}]},\"layout\":{\"annotationdefaults\":{\"arrowcolor\":\"#2a3f5f\",\"arrowhead\":0,\"arrowwidth\":1},\"autotypenumbers\":\"strict\",\"coloraxis\":{\"colorbar\":{\"outlinewidth\":0,\"ticks\":\"\"}},\"colorscale\":{\"diverging\":[[0,\"#8e0152\"],[0.1,\"#c51b7d\"],[0.2,\"#de77ae\"],[0.3,\"#f1b6da\"],[0.4,\"#fde0ef\"],[0.5,\"#f7f7f7\"],[0.6,\"#e6f5d0\"],[0.7,\"#b8e186\"],[0.8,\"#7fbc41\"],[0.9,\"#4d9221\"],[1,\"#276419\"]],\"sequential\":[[0.0,\"#0d0887\"],[0.1111111111111111,\"#46039f\"],[0.2222222222222222,\"#7201a8\"],[0.3333333333333333,\"#9c179e\"],[0.4444444444444444,\"#bd3786\"],[0.5555555555555556,\"#d8576b\"],[0.6666666666666666,\"#ed7953\"],[0.7777777777777778,\"#fb9f3a\"],[0.8888888888888888,\"#fdca26\"],[1.0,\"#f0f921\"]],\"sequentialminus\":[[0.0,\"#0d0887\"],[0.1111111111111111,\"#46039f\"],[0.2222222222222222,\"#7201a8\"],[0.3333333333333333,\"#9c179e\"],[0.4444444444444444,\"#bd3786\"],[0.5555555555555556,\"#d8576b\"],[0.6666666666666666,\"#ed7953\"],[0.7777777777777778,\"#fb9f3a\"],[0.8888888888888888,\"#fdca26\"],[1.0,\"#f0f921\"]]},\"colorway\":[\"#636efa\",\"#EF553B\",\"#00cc96\",\"#ab63fa\",\"#FFA15A\",\"#19d3f3\",\"#FF6692\",\"#B6E880\",\"#FF97FF\",\"#FECB52\"],\"font\":{\"color\":\"#2a3f5f\"},\"geo\":{\"bgcolor\":\"white\",\"lakecolor\":\"white\",\"landcolor\":\"#E5ECF6\",\"showlakes\":true,\"showland\":true,\"subunitcolor\":\"white\"},\"hoverlabel\":{\"align\":\"left\"},\"hovermode\":\"closest\",\"mapbox\":{\"style\":\"light\"},\"paper_bgcolor\":\"white\",\"plot_bgcolor\":\"#E5ECF6\",\"polar\":{\"angularaxis\":{\"gridcolor\":\"white\",\"linecolor\":\"white\",\"ticks\":\"\"},\"bgcolor\":\"#E5ECF6\",\"radialaxis\":{\"gridcolor\":\"white\",\"linecolor\":\"white\",\"ticks\":\"\"}},\"scene\":{\"xaxis\":{\"backgroundcolor\":\"#E5ECF6\",\"gridcolor\":\"white\",\"gridwidth\":2,\"linecolor\":\"white\",\"showbackground\":true,\"ticks\":\"\",\"zerolinecolor\":\"white\"},\"yaxis\":{\"backgroundcolor\":\"#E5ECF6\",\"gridcolor\":\"white\",\"gridwidth\":2,\"linecolor\":\"white\",\"showbackground\":true,\"ticks\":\"\",\"zerolinecolor\":\"white\"},\"zaxis\":{\"backgroundcolor\":\"#E5ECF6\",\"gridcolor\":\"white\",\"gridwidth\":2,\"linecolor\":\"white\",\"showbackground\":true,\"ticks\":\"\",\"zerolinecolor\":\"white\"}},\"shapedefaults\":{\"line\":{\"color\":\"#2a3f5f\"}},\"ternary\":{\"aaxis\":{\"gridcolor\":\"white\",\"linecolor\":\"white\",\"ticks\":\"\"},\"baxis\":{\"gridcolor\":\"white\",\"linecolor\":\"white\",\"ticks\":\"\"},\"bgcolor\":\"#E5ECF6\",\"caxis\":{\"gridcolor\":\"white\",\"linecolor\":\"white\",\"ticks\":\"\"}},\"title\":{\"x\":0.05},\"xaxis\":{\"automargin\":true,\"gridcolor\":\"white\",\"linecolor\":\"white\",\"ticks\":\"\",\"title\":{\"standoff\":15},\"zerolinecolor\":\"white\",\"zerolinewidth\":2},\"yaxis\":{\"automargin\":true,\"gridcolor\":\"white\",\"linecolor\":\"white\",\"ticks\":\"\",\"title\":{\"standoff\":15},\"zerolinecolor\":\"white\",\"zerolinewidth\":2}}},\"title\":{\"text\":\"Number of Movies over the years\"},\"xaxis\":{\"anchor\":\"y\",\"domain\":[0.0,1.0],\"title\":{\"text\":\"Year\"}},\"yaxis\":{\"anchor\":\"x\",\"domain\":[0.0,1.0],\"title\":{\"text\":\"count\"}}},                        {\"responsive\": true}                    ).then(function(){\n",
       "                            \n",
       "var gd = document.getElementById('dc8abf70-cd1e-4c0b-9b73-f755cdebe6ee');\n",
       "var x = new MutationObserver(function (mutations, observer) {{\n",
       "        var display = window.getComputedStyle(gd).display;\n",
       "        if (!display || display === 'none') {{\n",
       "            console.log([gd, 'removed!']);\n",
       "            Plotly.purge(gd);\n",
       "            observer.disconnect();\n",
       "        }}\n",
       "}});\n",
       "\n",
       "// Listen for the removal of the full notebook cells\n",
       "var notebookContainer = gd.closest('#notebook-container');\n",
       "if (notebookContainer) {{\n",
       "    x.observe(notebookContainer, {childList: true});\n",
       "}}\n",
       "\n",
       "// Listen for the clearing of the current output cell\n",
       "var outputEl = gd.closest('.output');\n",
       "if (outputEl) {{\n",
       "    x.observe(outputEl, {childList: true});\n",
       "}}\n",
       "\n",
       "                        })                };                });            </script>        </div>"
      ]
     },
     "metadata": {},
     "output_type": "display_data"
    }
   ],
   "source": [
    "movies_by_year = data[\"Year\"].value_counts().reset_index().sort_values(by=\"Year\")\n",
    "\n",
    "iplot(px.bar(data_frame=movies_by_year,x=\"Year\",y=\"count\",title=\"Number of Movies over the years\",\\\n",
    "              color_discrete_sequence=[\"purple\"]))"
   ]
  },
  {
   "cell_type": "markdown",
   "id": "164458d6",
   "metadata": {
    "papermill": {
     "duration": 0.032055,
     "end_time": "2024-09-02T07:55:06.217613",
     "exception": false,
     "start_time": "2024-09-02T07:55:06.185558",
     "status": "completed"
    },
    "tags": []
   },
   "source": [
    "* The number of movies are increasing over the years peaking in 2019 at 224 movies"
   ]
  },
  {
   "cell_type": "markdown",
   "id": "dc9896f6",
   "metadata": {
    "papermill": {
     "duration": 0.03172,
     "end_time": "2024-09-02T07:55:06.281309",
     "exception": false,
     "start_time": "2024-09-02T07:55:06.249589",
     "status": "completed"
    },
    "tags": []
   },
   "source": [
    "## Rating  and number of votes  over the years"
   ]
  },
  {
   "cell_type": "code",
   "execution_count": 30,
   "id": "e92e1677",
   "metadata": {
    "ExecuteTime": {
     "end_time": "2024-06-23T23:34:46.52787Z",
     "start_time": "2024-06-23T23:34:46.521869Z"
    },
    "execution": {
     "iopub.execute_input": "2024-09-02T07:55:06.348634Z",
     "iopub.status.busy": "2024-09-02T07:55:06.348200Z",
     "iopub.status.idle": "2024-09-02T07:55:06.358203Z",
     "shell.execute_reply": "2024-09-02T07:55:06.356974Z"
    },
    "papermill": {
     "duration": 0.046783,
     "end_time": "2024-09-02T07:55:06.360896",
     "exception": false,
     "start_time": "2024-09-02T07:55:06.314113",
     "status": "completed"
    },
    "tags": []
   },
   "outputs": [],
   "source": [
    "Rating_by_years = data.groupby(\"Year\").agg({\"Rating\":\"mean\",\"Votes\":\"sum\"}).reset_index()"
   ]
  },
  {
   "cell_type": "code",
   "execution_count": 31,
   "id": "873731b5",
   "metadata": {
    "ExecuteTime": {
     "end_time": "2024-06-23T23:34:46.585123Z",
     "start_time": "2024-06-23T23:34:46.530009Z"
    },
    "execution": {
     "iopub.execute_input": "2024-09-02T07:55:06.431441Z",
     "iopub.status.busy": "2024-09-02T07:55:06.430991Z",
     "iopub.status.idle": "2024-09-02T07:55:06.573942Z",
     "shell.execute_reply": "2024-09-02T07:55:06.572671Z"
    },
    "papermill": {
     "duration": 0.183615,
     "end_time": "2024-09-02T07:55:06.576591",
     "exception": false,
     "start_time": "2024-09-02T07:55:06.392976",
     "status": "completed"
    },
    "tags": []
   },
   "outputs": [
    {
     "data": {
      "text/html": [
       "<div>                            <div id=\"7641d872-6cd4-49c4-a35b-080787b9d26c\" class=\"plotly-graph-div\" style=\"height:400px; width:100%;\"></div>            <script type=\"text/javascript\">                require([\"plotly\"], function(Plotly) {                    window.PLOTLYENV=window.PLOTLYENV || {};                                    if (document.getElementById(\"7641d872-6cd4-49c4-a35b-080787b9d26c\")) {                    Plotly.newPlot(                        \"7641d872-6cd4-49c4-a35b-080787b9d26c\",                        [{\"hovertemplate\":\"Year=%{x}\\u003cbr\\u003eRating=%{y}\\u003cextra\\u003e\\u003c\\u002fextra\\u003e\",\"legendgroup\":\"\",\"line\":{\"color\":\"orange\",\"dash\":\"solid\"},\"marker\":{\"symbol\":\"circle\"},\"mode\":\"lines+markers\",\"name\":\"\",\"orientation\":\"v\",\"showlegend\":false,\"x\":[1931,1933,1934,1935,1936,1937,1938,1939,1940,1941,1942,1943,1944,1945,1946,1947,1948,1949,1950,1951,1952,1953,1954,1955,1956,1957,1958,1959,1960,1961,1962,1963,1964,1965,1966,1967,1968,1969,1970,1971,1972,1973,1974,1975,1976,1977,1978,1979,1980,1981,1982,1983,1984,1985,1986,1987,1988,1989,1990,1991,1992,1993,1994,1995,1996,1997,1998,1999,2000,2001,2002,2003,2004,2005,2006,2007,2008,2009,2010,2011,2012,2013,2014,2015,2016,2017,2018,2019,2020,2021],\"xaxis\":\"x\",\"y\":[5.75,6.2,5.6,5.7,5.885714285714286,6.033333333333334,6.12,6.5,6.8999999999999995,6.58,6.783333333333334,6.7625,7.075,6.466666666666666,6.933333333333334,6.5,6.92,6.915384615384616,6.811111111111111,6.706666666666666,7.2125,6.955,6.536842105263158,6.848,6.4714285714285715,7.080645161290323,6.573333333333333,6.644444444444445,6.811538461538461,6.836,6.596551724137932,6.493103448275862,6.52,6.674285714285714,6.576190476190476,6.6414634146341465,6.53,6.436956521739131,6.633333333333334,6.701851851851852,6.380769230769231,6.423913043478261,6.698214285714286,6.484313725490196,6.402222222222223,6.368333333333334,6.511764705882354,6.472222222222222,6.385714285714286,6.437313432835821,6.443076923076923,6.391803278688524,6.043283582089552,6.108433734939759,6.127397260273972,5.747058823529412,5.847761194029851,5.668181818181818,5.523943661971831,5.321428571428571,5.591860465116278,5.365882352941177,5.280263157894737,5.266666666666667,5.351428571428571,5.457333333333334,5.427397260273972,5.376250000000001,5.117283950617284,5.366666666666666,5.2811111111111115,5.2401869158878505,4.989719626168224,5.433333333333334,5.292660550458716,5.542727272727273,5.373584905660378,5.459649122807018,5.452307692307692,5.511475409836065,5.554477611940298,5.648125,5.54223602484472,5.767251461988304,5.8202380952380945,5.998550724637681,6.133854166666667,6.253125,6.168702290076336,6.545],\"yaxis\":\"y\",\"type\":\"scatter\"}],                        {\"height\":400,\"legend\":{\"tracegroupgap\":0},\"margin\":{\"t\":60},\"template\":{\"data\":{\"barpolar\":[{\"marker\":{\"line\":{\"color\":\"#E5ECF6\",\"width\":0.5},\"pattern\":{\"fillmode\":\"overlay\",\"size\":10,\"solidity\":0.2}},\"type\":\"barpolar\"}],\"bar\":[{\"error_x\":{\"color\":\"#2a3f5f\"},\"error_y\":{\"color\":\"#2a3f5f\"},\"marker\":{\"line\":{\"color\":\"#E5ECF6\",\"width\":0.5},\"pattern\":{\"fillmode\":\"overlay\",\"size\":10,\"solidity\":0.2}},\"type\":\"bar\"}],\"carpet\":[{\"aaxis\":{\"endlinecolor\":\"#2a3f5f\",\"gridcolor\":\"white\",\"linecolor\":\"white\",\"minorgridcolor\":\"white\",\"startlinecolor\":\"#2a3f5f\"},\"baxis\":{\"endlinecolor\":\"#2a3f5f\",\"gridcolor\":\"white\",\"linecolor\":\"white\",\"minorgridcolor\":\"white\",\"startlinecolor\":\"#2a3f5f\"},\"type\":\"carpet\"}],\"choropleth\":[{\"colorbar\":{\"outlinewidth\":0,\"ticks\":\"\"},\"type\":\"choropleth\"}],\"contourcarpet\":[{\"colorbar\":{\"outlinewidth\":0,\"ticks\":\"\"},\"type\":\"contourcarpet\"}],\"contour\":[{\"colorbar\":{\"outlinewidth\":0,\"ticks\":\"\"},\"colorscale\":[[0.0,\"#0d0887\"],[0.1111111111111111,\"#46039f\"],[0.2222222222222222,\"#7201a8\"],[0.3333333333333333,\"#9c179e\"],[0.4444444444444444,\"#bd3786\"],[0.5555555555555556,\"#d8576b\"],[0.6666666666666666,\"#ed7953\"],[0.7777777777777778,\"#fb9f3a\"],[0.8888888888888888,\"#fdca26\"],[1.0,\"#f0f921\"]],\"type\":\"contour\"}],\"heatmapgl\":[{\"colorbar\":{\"outlinewidth\":0,\"ticks\":\"\"},\"colorscale\":[[0.0,\"#0d0887\"],[0.1111111111111111,\"#46039f\"],[0.2222222222222222,\"#7201a8\"],[0.3333333333333333,\"#9c179e\"],[0.4444444444444444,\"#bd3786\"],[0.5555555555555556,\"#d8576b\"],[0.6666666666666666,\"#ed7953\"],[0.7777777777777778,\"#fb9f3a\"],[0.8888888888888888,\"#fdca26\"],[1.0,\"#f0f921\"]],\"type\":\"heatmapgl\"}],\"heatmap\":[{\"colorbar\":{\"outlinewidth\":0,\"ticks\":\"\"},\"colorscale\":[[0.0,\"#0d0887\"],[0.1111111111111111,\"#46039f\"],[0.2222222222222222,\"#7201a8\"],[0.3333333333333333,\"#9c179e\"],[0.4444444444444444,\"#bd3786\"],[0.5555555555555556,\"#d8576b\"],[0.6666666666666666,\"#ed7953\"],[0.7777777777777778,\"#fb9f3a\"],[0.8888888888888888,\"#fdca26\"],[1.0,\"#f0f921\"]],\"type\":\"heatmap\"}],\"histogram2dcontour\":[{\"colorbar\":{\"outlinewidth\":0,\"ticks\":\"\"},\"colorscale\":[[0.0,\"#0d0887\"],[0.1111111111111111,\"#46039f\"],[0.2222222222222222,\"#7201a8\"],[0.3333333333333333,\"#9c179e\"],[0.4444444444444444,\"#bd3786\"],[0.5555555555555556,\"#d8576b\"],[0.6666666666666666,\"#ed7953\"],[0.7777777777777778,\"#fb9f3a\"],[0.8888888888888888,\"#fdca26\"],[1.0,\"#f0f921\"]],\"type\":\"histogram2dcontour\"}],\"histogram2d\":[{\"colorbar\":{\"outlinewidth\":0,\"ticks\":\"\"},\"colorscale\":[[0.0,\"#0d0887\"],[0.1111111111111111,\"#46039f\"],[0.2222222222222222,\"#7201a8\"],[0.3333333333333333,\"#9c179e\"],[0.4444444444444444,\"#bd3786\"],[0.5555555555555556,\"#d8576b\"],[0.6666666666666666,\"#ed7953\"],[0.7777777777777778,\"#fb9f3a\"],[0.8888888888888888,\"#fdca26\"],[1.0,\"#f0f921\"]],\"type\":\"histogram2d\"}],\"histogram\":[{\"marker\":{\"pattern\":{\"fillmode\":\"overlay\",\"size\":10,\"solidity\":0.2}},\"type\":\"histogram\"}],\"mesh3d\":[{\"colorbar\":{\"outlinewidth\":0,\"ticks\":\"\"},\"type\":\"mesh3d\"}],\"parcoords\":[{\"line\":{\"colorbar\":{\"outlinewidth\":0,\"ticks\":\"\"}},\"type\":\"parcoords\"}],\"pie\":[{\"automargin\":true,\"type\":\"pie\"}],\"scatter3d\":[{\"line\":{\"colorbar\":{\"outlinewidth\":0,\"ticks\":\"\"}},\"marker\":{\"colorbar\":{\"outlinewidth\":0,\"ticks\":\"\"}},\"type\":\"scatter3d\"}],\"scattercarpet\":[{\"marker\":{\"colorbar\":{\"outlinewidth\":0,\"ticks\":\"\"}},\"type\":\"scattercarpet\"}],\"scattergeo\":[{\"marker\":{\"colorbar\":{\"outlinewidth\":0,\"ticks\":\"\"}},\"type\":\"scattergeo\"}],\"scattergl\":[{\"marker\":{\"colorbar\":{\"outlinewidth\":0,\"ticks\":\"\"}},\"type\":\"scattergl\"}],\"scattermapbox\":[{\"marker\":{\"colorbar\":{\"outlinewidth\":0,\"ticks\":\"\"}},\"type\":\"scattermapbox\"}],\"scatterpolargl\":[{\"marker\":{\"colorbar\":{\"outlinewidth\":0,\"ticks\":\"\"}},\"type\":\"scatterpolargl\"}],\"scatterpolar\":[{\"marker\":{\"colorbar\":{\"outlinewidth\":0,\"ticks\":\"\"}},\"type\":\"scatterpolar\"}],\"scatter\":[{\"fillpattern\":{\"fillmode\":\"overlay\",\"size\":10,\"solidity\":0.2},\"type\":\"scatter\"}],\"scatterternary\":[{\"marker\":{\"colorbar\":{\"outlinewidth\":0,\"ticks\":\"\"}},\"type\":\"scatterternary\"}],\"surface\":[{\"colorbar\":{\"outlinewidth\":0,\"ticks\":\"\"},\"colorscale\":[[0.0,\"#0d0887\"],[0.1111111111111111,\"#46039f\"],[0.2222222222222222,\"#7201a8\"],[0.3333333333333333,\"#9c179e\"],[0.4444444444444444,\"#bd3786\"],[0.5555555555555556,\"#d8576b\"],[0.6666666666666666,\"#ed7953\"],[0.7777777777777778,\"#fb9f3a\"],[0.8888888888888888,\"#fdca26\"],[1.0,\"#f0f921\"]],\"type\":\"surface\"}],\"table\":[{\"cells\":{\"fill\":{\"color\":\"#EBF0F8\"},\"line\":{\"color\":\"white\"}},\"header\":{\"fill\":{\"color\":\"#C8D4E3\"},\"line\":{\"color\":\"white\"}},\"type\":\"table\"}]},\"layout\":{\"annotationdefaults\":{\"arrowcolor\":\"#2a3f5f\",\"arrowhead\":0,\"arrowwidth\":1},\"autotypenumbers\":\"strict\",\"coloraxis\":{\"colorbar\":{\"outlinewidth\":0,\"ticks\":\"\"}},\"colorscale\":{\"diverging\":[[0,\"#8e0152\"],[0.1,\"#c51b7d\"],[0.2,\"#de77ae\"],[0.3,\"#f1b6da\"],[0.4,\"#fde0ef\"],[0.5,\"#f7f7f7\"],[0.6,\"#e6f5d0\"],[0.7,\"#b8e186\"],[0.8,\"#7fbc41\"],[0.9,\"#4d9221\"],[1,\"#276419\"]],\"sequential\":[[0.0,\"#0d0887\"],[0.1111111111111111,\"#46039f\"],[0.2222222222222222,\"#7201a8\"],[0.3333333333333333,\"#9c179e\"],[0.4444444444444444,\"#bd3786\"],[0.5555555555555556,\"#d8576b\"],[0.6666666666666666,\"#ed7953\"],[0.7777777777777778,\"#fb9f3a\"],[0.8888888888888888,\"#fdca26\"],[1.0,\"#f0f921\"]],\"sequentialminus\":[[0.0,\"#0d0887\"],[0.1111111111111111,\"#46039f\"],[0.2222222222222222,\"#7201a8\"],[0.3333333333333333,\"#9c179e\"],[0.4444444444444444,\"#bd3786\"],[0.5555555555555556,\"#d8576b\"],[0.6666666666666666,\"#ed7953\"],[0.7777777777777778,\"#fb9f3a\"],[0.8888888888888888,\"#fdca26\"],[1.0,\"#f0f921\"]]},\"colorway\":[\"#636efa\",\"#EF553B\",\"#00cc96\",\"#ab63fa\",\"#FFA15A\",\"#19d3f3\",\"#FF6692\",\"#B6E880\",\"#FF97FF\",\"#FECB52\"],\"font\":{\"color\":\"#2a3f5f\"},\"geo\":{\"bgcolor\":\"white\",\"lakecolor\":\"white\",\"landcolor\":\"#E5ECF6\",\"showlakes\":true,\"showland\":true,\"subunitcolor\":\"white\"},\"hoverlabel\":{\"align\":\"left\"},\"hovermode\":\"closest\",\"mapbox\":{\"style\":\"light\"},\"paper_bgcolor\":\"white\",\"plot_bgcolor\":\"#E5ECF6\",\"polar\":{\"angularaxis\":{\"gridcolor\":\"white\",\"linecolor\":\"white\",\"ticks\":\"\"},\"bgcolor\":\"#E5ECF6\",\"radialaxis\":{\"gridcolor\":\"white\",\"linecolor\":\"white\",\"ticks\":\"\"}},\"scene\":{\"xaxis\":{\"backgroundcolor\":\"#E5ECF6\",\"gridcolor\":\"white\",\"gridwidth\":2,\"linecolor\":\"white\",\"showbackground\":true,\"ticks\":\"\",\"zerolinecolor\":\"white\"},\"yaxis\":{\"backgroundcolor\":\"#E5ECF6\",\"gridcolor\":\"white\",\"gridwidth\":2,\"linecolor\":\"white\",\"showbackground\":true,\"ticks\":\"\",\"zerolinecolor\":\"white\"},\"zaxis\":{\"backgroundcolor\":\"#E5ECF6\",\"gridcolor\":\"white\",\"gridwidth\":2,\"linecolor\":\"white\",\"showbackground\":true,\"ticks\":\"\",\"zerolinecolor\":\"white\"}},\"shapedefaults\":{\"line\":{\"color\":\"#2a3f5f\"}},\"ternary\":{\"aaxis\":{\"gridcolor\":\"white\",\"linecolor\":\"white\",\"ticks\":\"\"},\"baxis\":{\"gridcolor\":\"white\",\"linecolor\":\"white\",\"ticks\":\"\"},\"bgcolor\":\"#E5ECF6\",\"caxis\":{\"gridcolor\":\"white\",\"linecolor\":\"white\",\"ticks\":\"\"}},\"title\":{\"x\":0.05},\"xaxis\":{\"automargin\":true,\"gridcolor\":\"white\",\"linecolor\":\"white\",\"ticks\":\"\",\"title\":{\"standoff\":15},\"zerolinecolor\":\"white\",\"zerolinewidth\":2},\"yaxis\":{\"automargin\":true,\"gridcolor\":\"white\",\"linecolor\":\"white\",\"ticks\":\"\",\"title\":{\"standoff\":15},\"zerolinecolor\":\"white\",\"zerolinewidth\":2}}},\"xaxis\":{\"anchor\":\"y\",\"domain\":[0.0,1.0],\"title\":{\"text\":\"Year\"}},\"yaxis\":{\"anchor\":\"x\",\"domain\":[0.0,1.0],\"title\":{\"text\":\"Rating\"}}},                        {\"responsive\": true}                    ).then(function(){\n",
       "                            \n",
       "var gd = document.getElementById('7641d872-6cd4-49c4-a35b-080787b9d26c');\n",
       "var x = new MutationObserver(function (mutations, observer) {{\n",
       "        var display = window.getComputedStyle(gd).display;\n",
       "        if (!display || display === 'none') {{\n",
       "            console.log([gd, 'removed!']);\n",
       "            Plotly.purge(gd);\n",
       "            observer.disconnect();\n",
       "        }}\n",
       "}});\n",
       "\n",
       "// Listen for the removal of the full notebook cells\n",
       "var notebookContainer = gd.closest('#notebook-container');\n",
       "if (notebookContainer) {{\n",
       "    x.observe(notebookContainer, {childList: true});\n",
       "}}\n",
       "\n",
       "// Listen for the clearing of the current output cell\n",
       "var outputEl = gd.closest('.output');\n",
       "if (outputEl) {{\n",
       "    x.observe(outputEl, {childList: true});\n",
       "}}\n",
       "\n",
       "                        })                };                });            </script>        </div>"
      ]
     },
     "metadata": {},
     "output_type": "display_data"
    }
   ],
   "source": [
    "iplot(px.line(data_frame=Rating_by_years,x=\"Year\",y=\"Rating\",markers=True,color_discrete_sequence=[\"orange\"],height=400))"
   ]
  },
  {
   "cell_type": "code",
   "execution_count": 32,
   "id": "0df09301",
   "metadata": {
    "ExecuteTime": {
     "end_time": "2024-06-23T23:34:46.642035Z",
     "start_time": "2024-06-23T23:34:46.586132Z"
    },
    "execution": {
     "iopub.execute_input": "2024-09-02T07:55:06.647034Z",
     "iopub.status.busy": "2024-09-02T07:55:06.646647Z",
     "iopub.status.idle": "2024-09-02T07:55:06.745004Z",
     "shell.execute_reply": "2024-09-02T07:55:06.743780Z"
    },
    "papermill": {
     "duration": 0.137722,
     "end_time": "2024-09-02T07:55:06.747548",
     "exception": false,
     "start_time": "2024-09-02T07:55:06.609826",
     "status": "completed"
    },
    "tags": []
   },
   "outputs": [
    {
     "data": {
      "text/html": [
       "<div>                            <div id=\"31a18081-8176-4399-84ab-0d3d87f52c98\" class=\"plotly-graph-div\" style=\"height:400px; width:100%;\"></div>            <script type=\"text/javascript\">                require([\"plotly\"], function(Plotly) {                    window.PLOTLYENV=window.PLOTLYENV || {};                                    if (document.getElementById(\"31a18081-8176-4399-84ab-0d3d87f52c98\")) {                    Plotly.newPlot(                        \"31a18081-8176-4399-84ab-0d3d87f52c98\",                        [{\"hovertemplate\":\"Year=%{x}\\u003cbr\\u003eVotes=%{y}\\u003cextra\\u003e\\u003c\\u002fextra\\u003e\",\"legendgroup\":\"\",\"line\":{\"color\":\"Red\",\"dash\":\"solid\"},\"marker\":{\"symbol\":\"circle\"},\"mode\":\"lines+markers\",\"name\":\"\",\"orientation\":\"v\",\"showlegend\":false,\"x\":[1931,1933,1934,1935,1936,1937,1938,1939,1940,1941,1942,1943,1944,1945,1946,1947,1948,1949,1950,1951,1952,1953,1954,1955,1956,1957,1958,1959,1960,1961,1962,1963,1964,1965,1966,1967,1968,1969,1970,1971,1972,1973,1974,1975,1976,1977,1978,1979,1980,1981,1982,1983,1984,1985,1986,1987,1988,1989,1990,1991,1992,1993,1994,1995,1996,1997,1998,1999,2000,2001,2002,2003,2004,2005,2006,2007,2008,2009,2010,2011,2012,2013,2014,2015,2016,2017,2018,2019,2020,2021],\"xaxis\":\"x\",\"y\":[118,12,17,89,264,318,53,19,146,80,94,229,84,63,329,239,747,1671,579,4649,1505,2909,1902,5898,2420,18780,4445,3983,3316,3007,4346,2650,5050,13576,5410,6723,9846,6238,6894,39708,13422,16873,8832,30265,11325,17315,21817,28784,17598,20228,23336,33978,10727,12764,17180,19887,33996,36547,33699,35104,75854,87545,93625,67397,51195,137081,119710,148447,110486,135786,173245,189872,260243,278639,336131,344345,265936,342783,401983,392805,466242,548250,432656,598639,610192,519043,651092,607584,440999,94150],\"yaxis\":\"y\",\"type\":\"scatter\"}],                        {\"height\":400,\"legend\":{\"tracegroupgap\":0},\"margin\":{\"t\":60},\"template\":{\"data\":{\"barpolar\":[{\"marker\":{\"line\":{\"color\":\"#E5ECF6\",\"width\":0.5},\"pattern\":{\"fillmode\":\"overlay\",\"size\":10,\"solidity\":0.2}},\"type\":\"barpolar\"}],\"bar\":[{\"error_x\":{\"color\":\"#2a3f5f\"},\"error_y\":{\"color\":\"#2a3f5f\"},\"marker\":{\"line\":{\"color\":\"#E5ECF6\",\"width\":0.5},\"pattern\":{\"fillmode\":\"overlay\",\"size\":10,\"solidity\":0.2}},\"type\":\"bar\"}],\"carpet\":[{\"aaxis\":{\"endlinecolor\":\"#2a3f5f\",\"gridcolor\":\"white\",\"linecolor\":\"white\",\"minorgridcolor\":\"white\",\"startlinecolor\":\"#2a3f5f\"},\"baxis\":{\"endlinecolor\":\"#2a3f5f\",\"gridcolor\":\"white\",\"linecolor\":\"white\",\"minorgridcolor\":\"white\",\"startlinecolor\":\"#2a3f5f\"},\"type\":\"carpet\"}],\"choropleth\":[{\"colorbar\":{\"outlinewidth\":0,\"ticks\":\"\"},\"type\":\"choropleth\"}],\"contourcarpet\":[{\"colorbar\":{\"outlinewidth\":0,\"ticks\":\"\"},\"type\":\"contourcarpet\"}],\"contour\":[{\"colorbar\":{\"outlinewidth\":0,\"ticks\":\"\"},\"colorscale\":[[0.0,\"#0d0887\"],[0.1111111111111111,\"#46039f\"],[0.2222222222222222,\"#7201a8\"],[0.3333333333333333,\"#9c179e\"],[0.4444444444444444,\"#bd3786\"],[0.5555555555555556,\"#d8576b\"],[0.6666666666666666,\"#ed7953\"],[0.7777777777777778,\"#fb9f3a\"],[0.8888888888888888,\"#fdca26\"],[1.0,\"#f0f921\"]],\"type\":\"contour\"}],\"heatmapgl\":[{\"colorbar\":{\"outlinewidth\":0,\"ticks\":\"\"},\"colorscale\":[[0.0,\"#0d0887\"],[0.1111111111111111,\"#46039f\"],[0.2222222222222222,\"#7201a8\"],[0.3333333333333333,\"#9c179e\"],[0.4444444444444444,\"#bd3786\"],[0.5555555555555556,\"#d8576b\"],[0.6666666666666666,\"#ed7953\"],[0.7777777777777778,\"#fb9f3a\"],[0.8888888888888888,\"#fdca26\"],[1.0,\"#f0f921\"]],\"type\":\"heatmapgl\"}],\"heatmap\":[{\"colorbar\":{\"outlinewidth\":0,\"ticks\":\"\"},\"colorscale\":[[0.0,\"#0d0887\"],[0.1111111111111111,\"#46039f\"],[0.2222222222222222,\"#7201a8\"],[0.3333333333333333,\"#9c179e\"],[0.4444444444444444,\"#bd3786\"],[0.5555555555555556,\"#d8576b\"],[0.6666666666666666,\"#ed7953\"],[0.7777777777777778,\"#fb9f3a\"],[0.8888888888888888,\"#fdca26\"],[1.0,\"#f0f921\"]],\"type\":\"heatmap\"}],\"histogram2dcontour\":[{\"colorbar\":{\"outlinewidth\":0,\"ticks\":\"\"},\"colorscale\":[[0.0,\"#0d0887\"],[0.1111111111111111,\"#46039f\"],[0.2222222222222222,\"#7201a8\"],[0.3333333333333333,\"#9c179e\"],[0.4444444444444444,\"#bd3786\"],[0.5555555555555556,\"#d8576b\"],[0.6666666666666666,\"#ed7953\"],[0.7777777777777778,\"#fb9f3a\"],[0.8888888888888888,\"#fdca26\"],[1.0,\"#f0f921\"]],\"type\":\"histogram2dcontour\"}],\"histogram2d\":[{\"colorbar\":{\"outlinewidth\":0,\"ticks\":\"\"},\"colorscale\":[[0.0,\"#0d0887\"],[0.1111111111111111,\"#46039f\"],[0.2222222222222222,\"#7201a8\"],[0.3333333333333333,\"#9c179e\"],[0.4444444444444444,\"#bd3786\"],[0.5555555555555556,\"#d8576b\"],[0.6666666666666666,\"#ed7953\"],[0.7777777777777778,\"#fb9f3a\"],[0.8888888888888888,\"#fdca26\"],[1.0,\"#f0f921\"]],\"type\":\"histogram2d\"}],\"histogram\":[{\"marker\":{\"pattern\":{\"fillmode\":\"overlay\",\"size\":10,\"solidity\":0.2}},\"type\":\"histogram\"}],\"mesh3d\":[{\"colorbar\":{\"outlinewidth\":0,\"ticks\":\"\"},\"type\":\"mesh3d\"}],\"parcoords\":[{\"line\":{\"colorbar\":{\"outlinewidth\":0,\"ticks\":\"\"}},\"type\":\"parcoords\"}],\"pie\":[{\"automargin\":true,\"type\":\"pie\"}],\"scatter3d\":[{\"line\":{\"colorbar\":{\"outlinewidth\":0,\"ticks\":\"\"}},\"marker\":{\"colorbar\":{\"outlinewidth\":0,\"ticks\":\"\"}},\"type\":\"scatter3d\"}],\"scattercarpet\":[{\"marker\":{\"colorbar\":{\"outlinewidth\":0,\"ticks\":\"\"}},\"type\":\"scattercarpet\"}],\"scattergeo\":[{\"marker\":{\"colorbar\":{\"outlinewidth\":0,\"ticks\":\"\"}},\"type\":\"scattergeo\"}],\"scattergl\":[{\"marker\":{\"colorbar\":{\"outlinewidth\":0,\"ticks\":\"\"}},\"type\":\"scattergl\"}],\"scattermapbox\":[{\"marker\":{\"colorbar\":{\"outlinewidth\":0,\"ticks\":\"\"}},\"type\":\"scattermapbox\"}],\"scatterpolargl\":[{\"marker\":{\"colorbar\":{\"outlinewidth\":0,\"ticks\":\"\"}},\"type\":\"scatterpolargl\"}],\"scatterpolar\":[{\"marker\":{\"colorbar\":{\"outlinewidth\":0,\"ticks\":\"\"}},\"type\":\"scatterpolar\"}],\"scatter\":[{\"fillpattern\":{\"fillmode\":\"overlay\",\"size\":10,\"solidity\":0.2},\"type\":\"scatter\"}],\"scatterternary\":[{\"marker\":{\"colorbar\":{\"outlinewidth\":0,\"ticks\":\"\"}},\"type\":\"scatterternary\"}],\"surface\":[{\"colorbar\":{\"outlinewidth\":0,\"ticks\":\"\"},\"colorscale\":[[0.0,\"#0d0887\"],[0.1111111111111111,\"#46039f\"],[0.2222222222222222,\"#7201a8\"],[0.3333333333333333,\"#9c179e\"],[0.4444444444444444,\"#bd3786\"],[0.5555555555555556,\"#d8576b\"],[0.6666666666666666,\"#ed7953\"],[0.7777777777777778,\"#fb9f3a\"],[0.8888888888888888,\"#fdca26\"],[1.0,\"#f0f921\"]],\"type\":\"surface\"}],\"table\":[{\"cells\":{\"fill\":{\"color\":\"#EBF0F8\"},\"line\":{\"color\":\"white\"}},\"header\":{\"fill\":{\"color\":\"#C8D4E3\"},\"line\":{\"color\":\"white\"}},\"type\":\"table\"}]},\"layout\":{\"annotationdefaults\":{\"arrowcolor\":\"#2a3f5f\",\"arrowhead\":0,\"arrowwidth\":1},\"autotypenumbers\":\"strict\",\"coloraxis\":{\"colorbar\":{\"outlinewidth\":0,\"ticks\":\"\"}},\"colorscale\":{\"diverging\":[[0,\"#8e0152\"],[0.1,\"#c51b7d\"],[0.2,\"#de77ae\"],[0.3,\"#f1b6da\"],[0.4,\"#fde0ef\"],[0.5,\"#f7f7f7\"],[0.6,\"#e6f5d0\"],[0.7,\"#b8e186\"],[0.8,\"#7fbc41\"],[0.9,\"#4d9221\"],[1,\"#276419\"]],\"sequential\":[[0.0,\"#0d0887\"],[0.1111111111111111,\"#46039f\"],[0.2222222222222222,\"#7201a8\"],[0.3333333333333333,\"#9c179e\"],[0.4444444444444444,\"#bd3786\"],[0.5555555555555556,\"#d8576b\"],[0.6666666666666666,\"#ed7953\"],[0.7777777777777778,\"#fb9f3a\"],[0.8888888888888888,\"#fdca26\"],[1.0,\"#f0f921\"]],\"sequentialminus\":[[0.0,\"#0d0887\"],[0.1111111111111111,\"#46039f\"],[0.2222222222222222,\"#7201a8\"],[0.3333333333333333,\"#9c179e\"],[0.4444444444444444,\"#bd3786\"],[0.5555555555555556,\"#d8576b\"],[0.6666666666666666,\"#ed7953\"],[0.7777777777777778,\"#fb9f3a\"],[0.8888888888888888,\"#fdca26\"],[1.0,\"#f0f921\"]]},\"colorway\":[\"#636efa\",\"#EF553B\",\"#00cc96\",\"#ab63fa\",\"#FFA15A\",\"#19d3f3\",\"#FF6692\",\"#B6E880\",\"#FF97FF\",\"#FECB52\"],\"font\":{\"color\":\"#2a3f5f\"},\"geo\":{\"bgcolor\":\"white\",\"lakecolor\":\"white\",\"landcolor\":\"#E5ECF6\",\"showlakes\":true,\"showland\":true,\"subunitcolor\":\"white\"},\"hoverlabel\":{\"align\":\"left\"},\"hovermode\":\"closest\",\"mapbox\":{\"style\":\"light\"},\"paper_bgcolor\":\"white\",\"plot_bgcolor\":\"#E5ECF6\",\"polar\":{\"angularaxis\":{\"gridcolor\":\"white\",\"linecolor\":\"white\",\"ticks\":\"\"},\"bgcolor\":\"#E5ECF6\",\"radialaxis\":{\"gridcolor\":\"white\",\"linecolor\":\"white\",\"ticks\":\"\"}},\"scene\":{\"xaxis\":{\"backgroundcolor\":\"#E5ECF6\",\"gridcolor\":\"white\",\"gridwidth\":2,\"linecolor\":\"white\",\"showbackground\":true,\"ticks\":\"\",\"zerolinecolor\":\"white\"},\"yaxis\":{\"backgroundcolor\":\"#E5ECF6\",\"gridcolor\":\"white\",\"gridwidth\":2,\"linecolor\":\"white\",\"showbackground\":true,\"ticks\":\"\",\"zerolinecolor\":\"white\"},\"zaxis\":{\"backgroundcolor\":\"#E5ECF6\",\"gridcolor\":\"white\",\"gridwidth\":2,\"linecolor\":\"white\",\"showbackground\":true,\"ticks\":\"\",\"zerolinecolor\":\"white\"}},\"shapedefaults\":{\"line\":{\"color\":\"#2a3f5f\"}},\"ternary\":{\"aaxis\":{\"gridcolor\":\"white\",\"linecolor\":\"white\",\"ticks\":\"\"},\"baxis\":{\"gridcolor\":\"white\",\"linecolor\":\"white\",\"ticks\":\"\"},\"bgcolor\":\"#E5ECF6\",\"caxis\":{\"gridcolor\":\"white\",\"linecolor\":\"white\",\"ticks\":\"\"}},\"title\":{\"x\":0.05},\"xaxis\":{\"automargin\":true,\"gridcolor\":\"white\",\"linecolor\":\"white\",\"ticks\":\"\",\"title\":{\"standoff\":15},\"zerolinecolor\":\"white\",\"zerolinewidth\":2},\"yaxis\":{\"automargin\":true,\"gridcolor\":\"white\",\"linecolor\":\"white\",\"ticks\":\"\",\"title\":{\"standoff\":15},\"zerolinecolor\":\"white\",\"zerolinewidth\":2}}},\"xaxis\":{\"anchor\":\"y\",\"domain\":[0.0,1.0],\"title\":{\"text\":\"Year\"}},\"yaxis\":{\"anchor\":\"x\",\"domain\":[0.0,1.0],\"title\":{\"text\":\"Votes\"}}},                        {\"responsive\": true}                    ).then(function(){\n",
       "                            \n",
       "var gd = document.getElementById('31a18081-8176-4399-84ab-0d3d87f52c98');\n",
       "var x = new MutationObserver(function (mutations, observer) {{\n",
       "        var display = window.getComputedStyle(gd).display;\n",
       "        if (!display || display === 'none') {{\n",
       "            console.log([gd, 'removed!']);\n",
       "            Plotly.purge(gd);\n",
       "            observer.disconnect();\n",
       "        }}\n",
       "}});\n",
       "\n",
       "// Listen for the removal of the full notebook cells\n",
       "var notebookContainer = gd.closest('#notebook-container');\n",
       "if (notebookContainer) {{\n",
       "    x.observe(notebookContainer, {childList: true});\n",
       "}}\n",
       "\n",
       "// Listen for the clearing of the current output cell\n",
       "var outputEl = gd.closest('.output');\n",
       "if (outputEl) {{\n",
       "    x.observe(outputEl, {childList: true});\n",
       "}}\n",
       "\n",
       "                        })                };                });            </script>        </div>"
      ]
     },
     "metadata": {},
     "output_type": "display_data"
    }
   ],
   "source": [
    "iplot(px.line(data_frame=Rating_by_years,x=\"Year\",y=\"Votes\",color_discrete_sequence=[\"Red\"],markers=True,height=400))"
   ]
  },
  {
   "cell_type": "markdown",
   "id": "4743946b",
   "metadata": {
    "papermill": {
     "duration": 0.033898,
     "end_time": "2024-09-02T07:55:06.814404",
     "exception": false,
     "start_time": "2024-09-02T07:55:06.780506",
     "status": "completed"
    },
    "tags": []
   },
   "source": [
    "* While rating is higher in the early years (before 1990) votes are extemely low compared to after 1999\n",
    "* Votes started increasing after 1990 to almost double in the next year and peaked at 650k in 2018"
   ]
  },
  {
   "cell_type": "code",
   "execution_count": 33,
   "id": "b6498f75",
   "metadata": {
    "ExecuteTime": {
     "end_time": "2024-06-23T23:34:46.648066Z",
     "start_time": "2024-06-23T23:34:46.644042Z"
    },
    "execution": {
     "iopub.execute_input": "2024-09-02T07:55:06.884016Z",
     "iopub.status.busy": "2024-09-02T07:55:06.883615Z",
     "iopub.status.idle": "2024-09-02T07:55:06.890090Z",
     "shell.execute_reply": "2024-09-02T07:55:06.888914Z"
    },
    "papermill": {
     "duration": 0.043269,
     "end_time": "2024-09-02T07:55:06.892956",
     "exception": false,
     "start_time": "2024-09-02T07:55:06.849687",
     "status": "completed"
    },
    "tags": []
   },
   "outputs": [],
   "source": [
    "def top_10_rating(col):\n",
    "    return data.groupby(col)[\"Rating\"].agg([\"mean\",\"count\"])\\\n",
    "    .query(\"count >=10\")\\\n",
    "    .sort_values(by=\"mean\",ascending=False)[:10]\\\n",
    "    .reset_index()"
   ]
  },
  {
   "cell_type": "code",
   "execution_count": 34,
   "id": "82b531b4",
   "metadata": {
    "ExecuteTime": {
     "end_time": "2024-06-23T23:34:46.775499Z",
     "start_time": "2024-06-23T23:34:46.71511Z"
    },
    "execution": {
     "iopub.execute_input": "2024-09-02T07:55:06.960256Z",
     "iopub.status.busy": "2024-09-02T07:55:06.959805Z",
     "iopub.status.idle": "2024-09-02T07:55:07.073927Z",
     "shell.execute_reply": "2024-09-02T07:55:07.072755Z"
    },
    "papermill": {
     "duration": 0.151116,
     "end_time": "2024-09-02T07:55:07.076761",
     "exception": false,
     "start_time": "2024-09-02T07:55:06.925645",
     "status": "completed"
    },
    "tags": []
   },
   "outputs": [
    {
     "data": {
      "text/html": [
       "<div>                            <div id=\"88b4525c-226e-42a6-b427-5fc44f6483fa\" class=\"plotly-graph-div\" style=\"height:525px; width:100%;\"></div>            <script type=\"text/javascript\">                require([\"plotly\"], function(Plotly) {                    window.PLOTLYENV=window.PLOTLYENV || {};                                    if (document.getElementById(\"88b4525c-226e-42a6-b427-5fc44f6483fa\")) {                    Plotly.newPlot(                        \"88b4525c-226e-42a6-b427-5fc44f6483fa\",                        [{\"alignmentgroup\":\"True\",\"hovertemplate\":\"Director=%{x}\\u003cbr\\u003eRating=%{y}\\u003cbr\\u003eNumber of movies=%{text}\\u003cextra\\u003e\\u003c\\u002fextra\\u003e\",\"legendgroup\":\"\",\"marker\":{\"color\":\"#636efa\",\"pattern\":{\"shape\":\"\"}},\"name\":\"\",\"offsetgroup\":\"\",\"orientation\":\"v\",\"showlegend\":false,\"text\":[17.0,12.0,12.0,11.0,33.0,22.0,11.0,11.0,12.0,15.0],\"textposition\":\"auto\",\"x\":[\"Gulzar\",\"Bimal Roy\",\"Anurag Kashyap\",\"Vijay Anand\",\"Hrishikesh Mukherjee\",\"Shyam Benegal\",\"Govind Nihalani\",\"Nagesh Kukunoor\",\"Chetan Anand\",\"B.R. Chopra\"],\"xaxis\":\"x\",\"y\":[7.552941176470589,7.375,7.333333333333333,7.281818181818181,7.266666666666667,7.25,7.236363636363635,7.072727272727272,7.016666666666667,7.006666666666666],\"yaxis\":\"y\",\"type\":\"bar\"}],                        {\"barmode\":\"relative\",\"legend\":{\"tracegroupgap\":0},\"template\":{\"data\":{\"barpolar\":[{\"marker\":{\"line\":{\"color\":\"#E5ECF6\",\"width\":0.5},\"pattern\":{\"fillmode\":\"overlay\",\"size\":10,\"solidity\":0.2}},\"type\":\"barpolar\"}],\"bar\":[{\"error_x\":{\"color\":\"#2a3f5f\"},\"error_y\":{\"color\":\"#2a3f5f\"},\"marker\":{\"line\":{\"color\":\"#E5ECF6\",\"width\":0.5},\"pattern\":{\"fillmode\":\"overlay\",\"size\":10,\"solidity\":0.2}},\"type\":\"bar\"}],\"carpet\":[{\"aaxis\":{\"endlinecolor\":\"#2a3f5f\",\"gridcolor\":\"white\",\"linecolor\":\"white\",\"minorgridcolor\":\"white\",\"startlinecolor\":\"#2a3f5f\"},\"baxis\":{\"endlinecolor\":\"#2a3f5f\",\"gridcolor\":\"white\",\"linecolor\":\"white\",\"minorgridcolor\":\"white\",\"startlinecolor\":\"#2a3f5f\"},\"type\":\"carpet\"}],\"choropleth\":[{\"colorbar\":{\"outlinewidth\":0,\"ticks\":\"\"},\"type\":\"choropleth\"}],\"contourcarpet\":[{\"colorbar\":{\"outlinewidth\":0,\"ticks\":\"\"},\"type\":\"contourcarpet\"}],\"contour\":[{\"colorbar\":{\"outlinewidth\":0,\"ticks\":\"\"},\"colorscale\":[[0.0,\"#0d0887\"],[0.1111111111111111,\"#46039f\"],[0.2222222222222222,\"#7201a8\"],[0.3333333333333333,\"#9c179e\"],[0.4444444444444444,\"#bd3786\"],[0.5555555555555556,\"#d8576b\"],[0.6666666666666666,\"#ed7953\"],[0.7777777777777778,\"#fb9f3a\"],[0.8888888888888888,\"#fdca26\"],[1.0,\"#f0f921\"]],\"type\":\"contour\"}],\"heatmapgl\":[{\"colorbar\":{\"outlinewidth\":0,\"ticks\":\"\"},\"colorscale\":[[0.0,\"#0d0887\"],[0.1111111111111111,\"#46039f\"],[0.2222222222222222,\"#7201a8\"],[0.3333333333333333,\"#9c179e\"],[0.4444444444444444,\"#bd3786\"],[0.5555555555555556,\"#d8576b\"],[0.6666666666666666,\"#ed7953\"],[0.7777777777777778,\"#fb9f3a\"],[0.8888888888888888,\"#fdca26\"],[1.0,\"#f0f921\"]],\"type\":\"heatmapgl\"}],\"heatmap\":[{\"colorbar\":{\"outlinewidth\":0,\"ticks\":\"\"},\"colorscale\":[[0.0,\"#0d0887\"],[0.1111111111111111,\"#46039f\"],[0.2222222222222222,\"#7201a8\"],[0.3333333333333333,\"#9c179e\"],[0.4444444444444444,\"#bd3786\"],[0.5555555555555556,\"#d8576b\"],[0.6666666666666666,\"#ed7953\"],[0.7777777777777778,\"#fb9f3a\"],[0.8888888888888888,\"#fdca26\"],[1.0,\"#f0f921\"]],\"type\":\"heatmap\"}],\"histogram2dcontour\":[{\"colorbar\":{\"outlinewidth\":0,\"ticks\":\"\"},\"colorscale\":[[0.0,\"#0d0887\"],[0.1111111111111111,\"#46039f\"],[0.2222222222222222,\"#7201a8\"],[0.3333333333333333,\"#9c179e\"],[0.4444444444444444,\"#bd3786\"],[0.5555555555555556,\"#d8576b\"],[0.6666666666666666,\"#ed7953\"],[0.7777777777777778,\"#fb9f3a\"],[0.8888888888888888,\"#fdca26\"],[1.0,\"#f0f921\"]],\"type\":\"histogram2dcontour\"}],\"histogram2d\":[{\"colorbar\":{\"outlinewidth\":0,\"ticks\":\"\"},\"colorscale\":[[0.0,\"#0d0887\"],[0.1111111111111111,\"#46039f\"],[0.2222222222222222,\"#7201a8\"],[0.3333333333333333,\"#9c179e\"],[0.4444444444444444,\"#bd3786\"],[0.5555555555555556,\"#d8576b\"],[0.6666666666666666,\"#ed7953\"],[0.7777777777777778,\"#fb9f3a\"],[0.8888888888888888,\"#fdca26\"],[1.0,\"#f0f921\"]],\"type\":\"histogram2d\"}],\"histogram\":[{\"marker\":{\"pattern\":{\"fillmode\":\"overlay\",\"size\":10,\"solidity\":0.2}},\"type\":\"histogram\"}],\"mesh3d\":[{\"colorbar\":{\"outlinewidth\":0,\"ticks\":\"\"},\"type\":\"mesh3d\"}],\"parcoords\":[{\"line\":{\"colorbar\":{\"outlinewidth\":0,\"ticks\":\"\"}},\"type\":\"parcoords\"}],\"pie\":[{\"automargin\":true,\"type\":\"pie\"}],\"scatter3d\":[{\"line\":{\"colorbar\":{\"outlinewidth\":0,\"ticks\":\"\"}},\"marker\":{\"colorbar\":{\"outlinewidth\":0,\"ticks\":\"\"}},\"type\":\"scatter3d\"}],\"scattercarpet\":[{\"marker\":{\"colorbar\":{\"outlinewidth\":0,\"ticks\":\"\"}},\"type\":\"scattercarpet\"}],\"scattergeo\":[{\"marker\":{\"colorbar\":{\"outlinewidth\":0,\"ticks\":\"\"}},\"type\":\"scattergeo\"}],\"scattergl\":[{\"marker\":{\"colorbar\":{\"outlinewidth\":0,\"ticks\":\"\"}},\"type\":\"scattergl\"}],\"scattermapbox\":[{\"marker\":{\"colorbar\":{\"outlinewidth\":0,\"ticks\":\"\"}},\"type\":\"scattermapbox\"}],\"scatterpolargl\":[{\"marker\":{\"colorbar\":{\"outlinewidth\":0,\"ticks\":\"\"}},\"type\":\"scatterpolargl\"}],\"scatterpolar\":[{\"marker\":{\"colorbar\":{\"outlinewidth\":0,\"ticks\":\"\"}},\"type\":\"scatterpolar\"}],\"scatter\":[{\"fillpattern\":{\"fillmode\":\"overlay\",\"size\":10,\"solidity\":0.2},\"type\":\"scatter\"}],\"scatterternary\":[{\"marker\":{\"colorbar\":{\"outlinewidth\":0,\"ticks\":\"\"}},\"type\":\"scatterternary\"}],\"surface\":[{\"colorbar\":{\"outlinewidth\":0,\"ticks\":\"\"},\"colorscale\":[[0.0,\"#0d0887\"],[0.1111111111111111,\"#46039f\"],[0.2222222222222222,\"#7201a8\"],[0.3333333333333333,\"#9c179e\"],[0.4444444444444444,\"#bd3786\"],[0.5555555555555556,\"#d8576b\"],[0.6666666666666666,\"#ed7953\"],[0.7777777777777778,\"#fb9f3a\"],[0.8888888888888888,\"#fdca26\"],[1.0,\"#f0f921\"]],\"type\":\"surface\"}],\"table\":[{\"cells\":{\"fill\":{\"color\":\"#EBF0F8\"},\"line\":{\"color\":\"white\"}},\"header\":{\"fill\":{\"color\":\"#C8D4E3\"},\"line\":{\"color\":\"white\"}},\"type\":\"table\"}]},\"layout\":{\"annotationdefaults\":{\"arrowcolor\":\"#2a3f5f\",\"arrowhead\":0,\"arrowwidth\":1},\"autotypenumbers\":\"strict\",\"coloraxis\":{\"colorbar\":{\"outlinewidth\":0,\"ticks\":\"\"}},\"colorscale\":{\"diverging\":[[0,\"#8e0152\"],[0.1,\"#c51b7d\"],[0.2,\"#de77ae\"],[0.3,\"#f1b6da\"],[0.4,\"#fde0ef\"],[0.5,\"#f7f7f7\"],[0.6,\"#e6f5d0\"],[0.7,\"#b8e186\"],[0.8,\"#7fbc41\"],[0.9,\"#4d9221\"],[1,\"#276419\"]],\"sequential\":[[0.0,\"#0d0887\"],[0.1111111111111111,\"#46039f\"],[0.2222222222222222,\"#7201a8\"],[0.3333333333333333,\"#9c179e\"],[0.4444444444444444,\"#bd3786\"],[0.5555555555555556,\"#d8576b\"],[0.6666666666666666,\"#ed7953\"],[0.7777777777777778,\"#fb9f3a\"],[0.8888888888888888,\"#fdca26\"],[1.0,\"#f0f921\"]],\"sequentialminus\":[[0.0,\"#0d0887\"],[0.1111111111111111,\"#46039f\"],[0.2222222222222222,\"#7201a8\"],[0.3333333333333333,\"#9c179e\"],[0.4444444444444444,\"#bd3786\"],[0.5555555555555556,\"#d8576b\"],[0.6666666666666666,\"#ed7953\"],[0.7777777777777778,\"#fb9f3a\"],[0.8888888888888888,\"#fdca26\"],[1.0,\"#f0f921\"]]},\"colorway\":[\"#636efa\",\"#EF553B\",\"#00cc96\",\"#ab63fa\",\"#FFA15A\",\"#19d3f3\",\"#FF6692\",\"#B6E880\",\"#FF97FF\",\"#FECB52\"],\"font\":{\"color\":\"#2a3f5f\"},\"geo\":{\"bgcolor\":\"white\",\"lakecolor\":\"white\",\"landcolor\":\"#E5ECF6\",\"showlakes\":true,\"showland\":true,\"subunitcolor\":\"white\"},\"hoverlabel\":{\"align\":\"left\"},\"hovermode\":\"closest\",\"mapbox\":{\"style\":\"light\"},\"paper_bgcolor\":\"white\",\"plot_bgcolor\":\"#E5ECF6\",\"polar\":{\"angularaxis\":{\"gridcolor\":\"white\",\"linecolor\":\"white\",\"ticks\":\"\"},\"bgcolor\":\"#E5ECF6\",\"radialaxis\":{\"gridcolor\":\"white\",\"linecolor\":\"white\",\"ticks\":\"\"}},\"scene\":{\"xaxis\":{\"backgroundcolor\":\"#E5ECF6\",\"gridcolor\":\"white\",\"gridwidth\":2,\"linecolor\":\"white\",\"showbackground\":true,\"ticks\":\"\",\"zerolinecolor\":\"white\"},\"yaxis\":{\"backgroundcolor\":\"#E5ECF6\",\"gridcolor\":\"white\",\"gridwidth\":2,\"linecolor\":\"white\",\"showbackground\":true,\"ticks\":\"\",\"zerolinecolor\":\"white\"},\"zaxis\":{\"backgroundcolor\":\"#E5ECF6\",\"gridcolor\":\"white\",\"gridwidth\":2,\"linecolor\":\"white\",\"showbackground\":true,\"ticks\":\"\",\"zerolinecolor\":\"white\"}},\"shapedefaults\":{\"line\":{\"color\":\"#2a3f5f\"}},\"ternary\":{\"aaxis\":{\"gridcolor\":\"white\",\"linecolor\":\"white\",\"ticks\":\"\"},\"baxis\":{\"gridcolor\":\"white\",\"linecolor\":\"white\",\"ticks\":\"\"},\"bgcolor\":\"#E5ECF6\",\"caxis\":{\"gridcolor\":\"white\",\"linecolor\":\"white\",\"ticks\":\"\"}},\"title\":{\"x\":0.05},\"xaxis\":{\"automargin\":true,\"gridcolor\":\"white\",\"linecolor\":\"white\",\"ticks\":\"\",\"title\":{\"standoff\":15},\"zerolinecolor\":\"white\",\"zerolinewidth\":2},\"yaxis\":{\"automargin\":true,\"gridcolor\":\"white\",\"linecolor\":\"white\",\"ticks\":\"\",\"title\":{\"standoff\":15},\"zerolinecolor\":\"white\",\"zerolinewidth\":2}}},\"title\":{\"text\":\"Top 10 Directors with more than 10 movies by rating\"},\"xaxis\":{\"anchor\":\"y\",\"domain\":[0.0,1.0],\"title\":{\"text\":\"Director\"}},\"yaxis\":{\"anchor\":\"x\",\"domain\":[0.0,1.0],\"title\":{\"text\":\"Rating\"}}},                        {\"responsive\": true}                    ).then(function(){\n",
       "                            \n",
       "var gd = document.getElementById('88b4525c-226e-42a6-b427-5fc44f6483fa');\n",
       "var x = new MutationObserver(function (mutations, observer) {{\n",
       "        var display = window.getComputedStyle(gd).display;\n",
       "        if (!display || display === 'none') {{\n",
       "            console.log([gd, 'removed!']);\n",
       "            Plotly.purge(gd);\n",
       "            observer.disconnect();\n",
       "        }}\n",
       "}});\n",
       "\n",
       "// Listen for the removal of the full notebook cells\n",
       "var notebookContainer = gd.closest('#notebook-container');\n",
       "if (notebookContainer) {{\n",
       "    x.observe(notebookContainer, {childList: true});\n",
       "}}\n",
       "\n",
       "// Listen for the clearing of the current output cell\n",
       "var outputEl = gd.closest('.output');\n",
       "if (outputEl) {{\n",
       "    x.observe(outputEl, {childList: true});\n",
       "}}\n",
       "\n",
       "                        })                };                });            </script>        </div>"
      ]
     },
     "metadata": {},
     "output_type": "display_data"
    }
   ],
   "source": [
    "top_10_director = top_10_rating(\"Director\")\n",
    "\n",
    "iplot(px.bar(data_frame=top_10_director,x=\"Director\",y=\"mean\",text=\"count\",labels = {'mean':'Rating','count':'Number of movies'},\\\n",
    "            title=\"Top 10 Directors with more than 10 movies by rating\"))"
   ]
  },
  {
   "cell_type": "code",
   "execution_count": 35,
   "id": "36d33a7b",
   "metadata": {
    "ExecuteTime": {
     "end_time": "2024-06-23T23:34:46.712098Z",
     "start_time": "2024-06-23T23:34:46.649572Z"
    },
    "execution": {
     "iopub.execute_input": "2024-09-02T07:55:07.147219Z",
     "iopub.status.busy": "2024-09-02T07:55:07.146761Z",
     "iopub.status.idle": "2024-09-02T07:55:07.258659Z",
     "shell.execute_reply": "2024-09-02T07:55:07.257059Z"
    },
    "papermill": {
     "duration": 0.150022,
     "end_time": "2024-09-02T07:55:07.261542",
     "exception": false,
     "start_time": "2024-09-02T07:55:07.111520",
     "status": "completed"
    },
    "tags": []
   },
   "outputs": [
    {
     "data": {
      "text/html": [
       "<div>                            <div id=\"baecbbd2-9c58-46bb-b631-5710f2284298\" class=\"plotly-graph-div\" style=\"height:525px; width:100%;\"></div>            <script type=\"text/javascript\">                require([\"plotly\"], function(Plotly) {                    window.PLOTLYENV=window.PLOTLYENV || {};                                    if (document.getElementById(\"baecbbd2-9c58-46bb-b631-5710f2284298\")) {                    Plotly.newPlot(                        \"baecbbd2-9c58-46bb-b631-5710f2284298\",                        [{\"alignmentgroup\":\"True\",\"hovertemplate\":\"Main Actor=%{x}\\u003cbr\\u003eRating=%{y}\\u003cbr\\u003eNumber of movies=%{text}\\u003cextra\\u003e\\u003c\\u002fextra\\u003e\",\"legendgroup\":\"\",\"marker\":{\"color\":\"#636efa\",\"pattern\":{\"shape\":\"\"}},\"name\":\"\",\"offsetgroup\":\"\",\"orientation\":\"v\",\"showlegend\":false,\"text\":[22.0,13.0,16.0,13.0,29.0,11.0,12.0,34.0,19.0,29.0],\"textposition\":\"auto\",\"x\":[\"Nargis\",\"Balraj Sahni\",\"Irrfan Khan\",\"Amol Palekar\",\"Dilip Kumar\",\"Rajkummar Rao\",\"Ayushmann Khurrana\",\"Shammi Kapoor\",\"Meena Kumari\",\"Raj Kapoor\"],\"xaxis\":\"x\",\"y\":[7.454545454545454,7.130769230769231,7.1125,7.061538461538461,7.051724137931035,7.027272727272727,6.941666666666666,6.911764705882353,6.8999999999999995,6.862068965517241],\"yaxis\":\"y\",\"type\":\"bar\"}],                        {\"barmode\":\"relative\",\"legend\":{\"tracegroupgap\":0},\"template\":{\"data\":{\"barpolar\":[{\"marker\":{\"line\":{\"color\":\"#E5ECF6\",\"width\":0.5},\"pattern\":{\"fillmode\":\"overlay\",\"size\":10,\"solidity\":0.2}},\"type\":\"barpolar\"}],\"bar\":[{\"error_x\":{\"color\":\"#2a3f5f\"},\"error_y\":{\"color\":\"#2a3f5f\"},\"marker\":{\"line\":{\"color\":\"#E5ECF6\",\"width\":0.5},\"pattern\":{\"fillmode\":\"overlay\",\"size\":10,\"solidity\":0.2}},\"type\":\"bar\"}],\"carpet\":[{\"aaxis\":{\"endlinecolor\":\"#2a3f5f\",\"gridcolor\":\"white\",\"linecolor\":\"white\",\"minorgridcolor\":\"white\",\"startlinecolor\":\"#2a3f5f\"},\"baxis\":{\"endlinecolor\":\"#2a3f5f\",\"gridcolor\":\"white\",\"linecolor\":\"white\",\"minorgridcolor\":\"white\",\"startlinecolor\":\"#2a3f5f\"},\"type\":\"carpet\"}],\"choropleth\":[{\"colorbar\":{\"outlinewidth\":0,\"ticks\":\"\"},\"type\":\"choropleth\"}],\"contourcarpet\":[{\"colorbar\":{\"outlinewidth\":0,\"ticks\":\"\"},\"type\":\"contourcarpet\"}],\"contour\":[{\"colorbar\":{\"outlinewidth\":0,\"ticks\":\"\"},\"colorscale\":[[0.0,\"#0d0887\"],[0.1111111111111111,\"#46039f\"],[0.2222222222222222,\"#7201a8\"],[0.3333333333333333,\"#9c179e\"],[0.4444444444444444,\"#bd3786\"],[0.5555555555555556,\"#d8576b\"],[0.6666666666666666,\"#ed7953\"],[0.7777777777777778,\"#fb9f3a\"],[0.8888888888888888,\"#fdca26\"],[1.0,\"#f0f921\"]],\"type\":\"contour\"}],\"heatmapgl\":[{\"colorbar\":{\"outlinewidth\":0,\"ticks\":\"\"},\"colorscale\":[[0.0,\"#0d0887\"],[0.1111111111111111,\"#46039f\"],[0.2222222222222222,\"#7201a8\"],[0.3333333333333333,\"#9c179e\"],[0.4444444444444444,\"#bd3786\"],[0.5555555555555556,\"#d8576b\"],[0.6666666666666666,\"#ed7953\"],[0.7777777777777778,\"#fb9f3a\"],[0.8888888888888888,\"#fdca26\"],[1.0,\"#f0f921\"]],\"type\":\"heatmapgl\"}],\"heatmap\":[{\"colorbar\":{\"outlinewidth\":0,\"ticks\":\"\"},\"colorscale\":[[0.0,\"#0d0887\"],[0.1111111111111111,\"#46039f\"],[0.2222222222222222,\"#7201a8\"],[0.3333333333333333,\"#9c179e\"],[0.4444444444444444,\"#bd3786\"],[0.5555555555555556,\"#d8576b\"],[0.6666666666666666,\"#ed7953\"],[0.7777777777777778,\"#fb9f3a\"],[0.8888888888888888,\"#fdca26\"],[1.0,\"#f0f921\"]],\"type\":\"heatmap\"}],\"histogram2dcontour\":[{\"colorbar\":{\"outlinewidth\":0,\"ticks\":\"\"},\"colorscale\":[[0.0,\"#0d0887\"],[0.1111111111111111,\"#46039f\"],[0.2222222222222222,\"#7201a8\"],[0.3333333333333333,\"#9c179e\"],[0.4444444444444444,\"#bd3786\"],[0.5555555555555556,\"#d8576b\"],[0.6666666666666666,\"#ed7953\"],[0.7777777777777778,\"#fb9f3a\"],[0.8888888888888888,\"#fdca26\"],[1.0,\"#f0f921\"]],\"type\":\"histogram2dcontour\"}],\"histogram2d\":[{\"colorbar\":{\"outlinewidth\":0,\"ticks\":\"\"},\"colorscale\":[[0.0,\"#0d0887\"],[0.1111111111111111,\"#46039f\"],[0.2222222222222222,\"#7201a8\"],[0.3333333333333333,\"#9c179e\"],[0.4444444444444444,\"#bd3786\"],[0.5555555555555556,\"#d8576b\"],[0.6666666666666666,\"#ed7953\"],[0.7777777777777778,\"#fb9f3a\"],[0.8888888888888888,\"#fdca26\"],[1.0,\"#f0f921\"]],\"type\":\"histogram2d\"}],\"histogram\":[{\"marker\":{\"pattern\":{\"fillmode\":\"overlay\",\"size\":10,\"solidity\":0.2}},\"type\":\"histogram\"}],\"mesh3d\":[{\"colorbar\":{\"outlinewidth\":0,\"ticks\":\"\"},\"type\":\"mesh3d\"}],\"parcoords\":[{\"line\":{\"colorbar\":{\"outlinewidth\":0,\"ticks\":\"\"}},\"type\":\"parcoords\"}],\"pie\":[{\"automargin\":true,\"type\":\"pie\"}],\"scatter3d\":[{\"line\":{\"colorbar\":{\"outlinewidth\":0,\"ticks\":\"\"}},\"marker\":{\"colorbar\":{\"outlinewidth\":0,\"ticks\":\"\"}},\"type\":\"scatter3d\"}],\"scattercarpet\":[{\"marker\":{\"colorbar\":{\"outlinewidth\":0,\"ticks\":\"\"}},\"type\":\"scattercarpet\"}],\"scattergeo\":[{\"marker\":{\"colorbar\":{\"outlinewidth\":0,\"ticks\":\"\"}},\"type\":\"scattergeo\"}],\"scattergl\":[{\"marker\":{\"colorbar\":{\"outlinewidth\":0,\"ticks\":\"\"}},\"type\":\"scattergl\"}],\"scattermapbox\":[{\"marker\":{\"colorbar\":{\"outlinewidth\":0,\"ticks\":\"\"}},\"type\":\"scattermapbox\"}],\"scatterpolargl\":[{\"marker\":{\"colorbar\":{\"outlinewidth\":0,\"ticks\":\"\"}},\"type\":\"scatterpolargl\"}],\"scatterpolar\":[{\"marker\":{\"colorbar\":{\"outlinewidth\":0,\"ticks\":\"\"}},\"type\":\"scatterpolar\"}],\"scatter\":[{\"fillpattern\":{\"fillmode\":\"overlay\",\"size\":10,\"solidity\":0.2},\"type\":\"scatter\"}],\"scatterternary\":[{\"marker\":{\"colorbar\":{\"outlinewidth\":0,\"ticks\":\"\"}},\"type\":\"scatterternary\"}],\"surface\":[{\"colorbar\":{\"outlinewidth\":0,\"ticks\":\"\"},\"colorscale\":[[0.0,\"#0d0887\"],[0.1111111111111111,\"#46039f\"],[0.2222222222222222,\"#7201a8\"],[0.3333333333333333,\"#9c179e\"],[0.4444444444444444,\"#bd3786\"],[0.5555555555555556,\"#d8576b\"],[0.6666666666666666,\"#ed7953\"],[0.7777777777777778,\"#fb9f3a\"],[0.8888888888888888,\"#fdca26\"],[1.0,\"#f0f921\"]],\"type\":\"surface\"}],\"table\":[{\"cells\":{\"fill\":{\"color\":\"#EBF0F8\"},\"line\":{\"color\":\"white\"}},\"header\":{\"fill\":{\"color\":\"#C8D4E3\"},\"line\":{\"color\":\"white\"}},\"type\":\"table\"}]},\"layout\":{\"annotationdefaults\":{\"arrowcolor\":\"#2a3f5f\",\"arrowhead\":0,\"arrowwidth\":1},\"autotypenumbers\":\"strict\",\"coloraxis\":{\"colorbar\":{\"outlinewidth\":0,\"ticks\":\"\"}},\"colorscale\":{\"diverging\":[[0,\"#8e0152\"],[0.1,\"#c51b7d\"],[0.2,\"#de77ae\"],[0.3,\"#f1b6da\"],[0.4,\"#fde0ef\"],[0.5,\"#f7f7f7\"],[0.6,\"#e6f5d0\"],[0.7,\"#b8e186\"],[0.8,\"#7fbc41\"],[0.9,\"#4d9221\"],[1,\"#276419\"]],\"sequential\":[[0.0,\"#0d0887\"],[0.1111111111111111,\"#46039f\"],[0.2222222222222222,\"#7201a8\"],[0.3333333333333333,\"#9c179e\"],[0.4444444444444444,\"#bd3786\"],[0.5555555555555556,\"#d8576b\"],[0.6666666666666666,\"#ed7953\"],[0.7777777777777778,\"#fb9f3a\"],[0.8888888888888888,\"#fdca26\"],[1.0,\"#f0f921\"]],\"sequentialminus\":[[0.0,\"#0d0887\"],[0.1111111111111111,\"#46039f\"],[0.2222222222222222,\"#7201a8\"],[0.3333333333333333,\"#9c179e\"],[0.4444444444444444,\"#bd3786\"],[0.5555555555555556,\"#d8576b\"],[0.6666666666666666,\"#ed7953\"],[0.7777777777777778,\"#fb9f3a\"],[0.8888888888888888,\"#fdca26\"],[1.0,\"#f0f921\"]]},\"colorway\":[\"#636efa\",\"#EF553B\",\"#00cc96\",\"#ab63fa\",\"#FFA15A\",\"#19d3f3\",\"#FF6692\",\"#B6E880\",\"#FF97FF\",\"#FECB52\"],\"font\":{\"color\":\"#2a3f5f\"},\"geo\":{\"bgcolor\":\"white\",\"lakecolor\":\"white\",\"landcolor\":\"#E5ECF6\",\"showlakes\":true,\"showland\":true,\"subunitcolor\":\"white\"},\"hoverlabel\":{\"align\":\"left\"},\"hovermode\":\"closest\",\"mapbox\":{\"style\":\"light\"},\"paper_bgcolor\":\"white\",\"plot_bgcolor\":\"#E5ECF6\",\"polar\":{\"angularaxis\":{\"gridcolor\":\"white\",\"linecolor\":\"white\",\"ticks\":\"\"},\"bgcolor\":\"#E5ECF6\",\"radialaxis\":{\"gridcolor\":\"white\",\"linecolor\":\"white\",\"ticks\":\"\"}},\"scene\":{\"xaxis\":{\"backgroundcolor\":\"#E5ECF6\",\"gridcolor\":\"white\",\"gridwidth\":2,\"linecolor\":\"white\",\"showbackground\":true,\"ticks\":\"\",\"zerolinecolor\":\"white\"},\"yaxis\":{\"backgroundcolor\":\"#E5ECF6\",\"gridcolor\":\"white\",\"gridwidth\":2,\"linecolor\":\"white\",\"showbackground\":true,\"ticks\":\"\",\"zerolinecolor\":\"white\"},\"zaxis\":{\"backgroundcolor\":\"#E5ECF6\",\"gridcolor\":\"white\",\"gridwidth\":2,\"linecolor\":\"white\",\"showbackground\":true,\"ticks\":\"\",\"zerolinecolor\":\"white\"}},\"shapedefaults\":{\"line\":{\"color\":\"#2a3f5f\"}},\"ternary\":{\"aaxis\":{\"gridcolor\":\"white\",\"linecolor\":\"white\",\"ticks\":\"\"},\"baxis\":{\"gridcolor\":\"white\",\"linecolor\":\"white\",\"ticks\":\"\"},\"bgcolor\":\"#E5ECF6\",\"caxis\":{\"gridcolor\":\"white\",\"linecolor\":\"white\",\"ticks\":\"\"}},\"title\":{\"x\":0.05},\"xaxis\":{\"automargin\":true,\"gridcolor\":\"white\",\"linecolor\":\"white\",\"ticks\":\"\",\"title\":{\"standoff\":15},\"zerolinecolor\":\"white\",\"zerolinewidth\":2},\"yaxis\":{\"automargin\":true,\"gridcolor\":\"white\",\"linecolor\":\"white\",\"ticks\":\"\",\"title\":{\"standoff\":15},\"zerolinecolor\":\"white\",\"zerolinewidth\":2}}},\"title\":{\"text\":\"Top 10 Main actors with more than 10 movies by rating\"},\"xaxis\":{\"anchor\":\"y\",\"domain\":[0.0,1.0],\"title\":{\"text\":\"Main Actor\"}},\"yaxis\":{\"anchor\":\"x\",\"domain\":[0.0,1.0],\"title\":{\"text\":\"Rating\"}}},                        {\"responsive\": true}                    ).then(function(){\n",
       "                            \n",
       "var gd = document.getElementById('baecbbd2-9c58-46bb-b631-5710f2284298');\n",
       "var x = new MutationObserver(function (mutations, observer) {{\n",
       "        var display = window.getComputedStyle(gd).display;\n",
       "        if (!display || display === 'none') {{\n",
       "            console.log([gd, 'removed!']);\n",
       "            Plotly.purge(gd);\n",
       "            observer.disconnect();\n",
       "        }}\n",
       "}});\n",
       "\n",
       "// Listen for the removal of the full notebook cells\n",
       "var notebookContainer = gd.closest('#notebook-container');\n",
       "if (notebookContainer) {{\n",
       "    x.observe(notebookContainer, {childList: true});\n",
       "}}\n",
       "\n",
       "// Listen for the clearing of the current output cell\n",
       "var outputEl = gd.closest('.output');\n",
       "if (outputEl) {{\n",
       "    x.observe(outputEl, {childList: true});\n",
       "}}\n",
       "\n",
       "                        })                };                });            </script>        </div>"
      ]
     },
     "metadata": {},
     "output_type": "display_data"
    }
   ],
   "source": [
    "top_10_actors1 = top_10_rating(\"Actor 1\")\n",
    "\n",
    "iplot(px.bar(data_frame=top_10_actors1,x=\"Actor 1\",y=\"mean\",text=\"count\",\\\n",
    "    labels = {'Actor 1':'Main Actor','mean':'Rating','count':'Number of movies'},\\\n",
    "             title=\"Top 10 Main actors with more than 10 movies by rating\"))"
   ]
  },
  {
   "cell_type": "code",
   "execution_count": 36,
   "id": "2e004a97",
   "metadata": {
    "ExecuteTime": {
     "end_time": "2024-06-23T23:34:46.83935Z",
     "start_time": "2024-06-23T23:34:46.777506Z"
    },
    "execution": {
     "iopub.execute_input": "2024-09-02T07:55:07.341131Z",
     "iopub.status.busy": "2024-09-02T07:55:07.340690Z",
     "iopub.status.idle": "2024-09-02T07:55:07.465561Z",
     "shell.execute_reply": "2024-09-02T07:55:07.464266Z"
    },
    "papermill": {
     "duration": 0.171721,
     "end_time": "2024-09-02T07:55:07.468374",
     "exception": false,
     "start_time": "2024-09-02T07:55:07.296653",
     "status": "completed"
    },
    "tags": []
   },
   "outputs": [
    {
     "data": {
      "text/html": [
       "<div>                            <div id=\"acf1ffee-e6dc-45f5-8409-4d296dcd06f0\" class=\"plotly-graph-div\" style=\"height:525px; width:100%;\"></div>            <script type=\"text/javascript\">                require([\"plotly\"], function(Plotly) {                    window.PLOTLYENV=window.PLOTLYENV || {};                                    if (document.getElementById(\"acf1ffee-e6dc-45f5-8409-4d296dcd06f0\")) {                    Plotly.newPlot(                        \"acf1ffee-e6dc-45f5-8409-4d296dcd06f0\",                        [{\"alignmentgroup\":\"True\",\"hovertemplate\":\"Actor 2=%{x}\\u003cbr\\u003eRating=%{y}\\u003cbr\\u003eNumber of movies=%{text}\\u003cextra\\u003e\\u003c\\u002fextra\\u003e\",\"legendgroup\":\"\",\"marker\":{\"color\":\"#636efa\",\"pattern\":{\"shape\":\"\"}},\"name\":\"\",\"offsetgroup\":\"\",\"orientation\":\"v\",\"showlegend\":false,\"text\":[15.0,13.0,10.0,15.0,12.0,32.0,13.0,26.0,10.0,26.0],\"textposition\":\"auto\",\"x\":[\"Raj Kapoor\",\"Madhubala\",\"Sadhana\",\"Jaya Bachchan\",\"Manoj Kumar\",\"Sharmila Tagore\",\"Dilip Kumar\",\"Waheeda Rehman\",\"Raaj Kumar\",\"Shashi Kapoor\"],\"xaxis\":\"x\",\"y\":[7.346666666666667,7.346153846153846,7.220000000000001,7.133333333333334,6.991666666666667,6.978125,6.93076923076923,6.8961538461538465,6.87,6.857692307692308],\"yaxis\":\"y\",\"type\":\"bar\"}],                        {\"barmode\":\"relative\",\"legend\":{\"tracegroupgap\":0},\"template\":{\"data\":{\"barpolar\":[{\"marker\":{\"line\":{\"color\":\"#E5ECF6\",\"width\":0.5},\"pattern\":{\"fillmode\":\"overlay\",\"size\":10,\"solidity\":0.2}},\"type\":\"barpolar\"}],\"bar\":[{\"error_x\":{\"color\":\"#2a3f5f\"},\"error_y\":{\"color\":\"#2a3f5f\"},\"marker\":{\"line\":{\"color\":\"#E5ECF6\",\"width\":0.5},\"pattern\":{\"fillmode\":\"overlay\",\"size\":10,\"solidity\":0.2}},\"type\":\"bar\"}],\"carpet\":[{\"aaxis\":{\"endlinecolor\":\"#2a3f5f\",\"gridcolor\":\"white\",\"linecolor\":\"white\",\"minorgridcolor\":\"white\",\"startlinecolor\":\"#2a3f5f\"},\"baxis\":{\"endlinecolor\":\"#2a3f5f\",\"gridcolor\":\"white\",\"linecolor\":\"white\",\"minorgridcolor\":\"white\",\"startlinecolor\":\"#2a3f5f\"},\"type\":\"carpet\"}],\"choropleth\":[{\"colorbar\":{\"outlinewidth\":0,\"ticks\":\"\"},\"type\":\"choropleth\"}],\"contourcarpet\":[{\"colorbar\":{\"outlinewidth\":0,\"ticks\":\"\"},\"type\":\"contourcarpet\"}],\"contour\":[{\"colorbar\":{\"outlinewidth\":0,\"ticks\":\"\"},\"colorscale\":[[0.0,\"#0d0887\"],[0.1111111111111111,\"#46039f\"],[0.2222222222222222,\"#7201a8\"],[0.3333333333333333,\"#9c179e\"],[0.4444444444444444,\"#bd3786\"],[0.5555555555555556,\"#d8576b\"],[0.6666666666666666,\"#ed7953\"],[0.7777777777777778,\"#fb9f3a\"],[0.8888888888888888,\"#fdca26\"],[1.0,\"#f0f921\"]],\"type\":\"contour\"}],\"heatmapgl\":[{\"colorbar\":{\"outlinewidth\":0,\"ticks\":\"\"},\"colorscale\":[[0.0,\"#0d0887\"],[0.1111111111111111,\"#46039f\"],[0.2222222222222222,\"#7201a8\"],[0.3333333333333333,\"#9c179e\"],[0.4444444444444444,\"#bd3786\"],[0.5555555555555556,\"#d8576b\"],[0.6666666666666666,\"#ed7953\"],[0.7777777777777778,\"#fb9f3a\"],[0.8888888888888888,\"#fdca26\"],[1.0,\"#f0f921\"]],\"type\":\"heatmapgl\"}],\"heatmap\":[{\"colorbar\":{\"outlinewidth\":0,\"ticks\":\"\"},\"colorscale\":[[0.0,\"#0d0887\"],[0.1111111111111111,\"#46039f\"],[0.2222222222222222,\"#7201a8\"],[0.3333333333333333,\"#9c179e\"],[0.4444444444444444,\"#bd3786\"],[0.5555555555555556,\"#d8576b\"],[0.6666666666666666,\"#ed7953\"],[0.7777777777777778,\"#fb9f3a\"],[0.8888888888888888,\"#fdca26\"],[1.0,\"#f0f921\"]],\"type\":\"heatmap\"}],\"histogram2dcontour\":[{\"colorbar\":{\"outlinewidth\":0,\"ticks\":\"\"},\"colorscale\":[[0.0,\"#0d0887\"],[0.1111111111111111,\"#46039f\"],[0.2222222222222222,\"#7201a8\"],[0.3333333333333333,\"#9c179e\"],[0.4444444444444444,\"#bd3786\"],[0.5555555555555556,\"#d8576b\"],[0.6666666666666666,\"#ed7953\"],[0.7777777777777778,\"#fb9f3a\"],[0.8888888888888888,\"#fdca26\"],[1.0,\"#f0f921\"]],\"type\":\"histogram2dcontour\"}],\"histogram2d\":[{\"colorbar\":{\"outlinewidth\":0,\"ticks\":\"\"},\"colorscale\":[[0.0,\"#0d0887\"],[0.1111111111111111,\"#46039f\"],[0.2222222222222222,\"#7201a8\"],[0.3333333333333333,\"#9c179e\"],[0.4444444444444444,\"#bd3786\"],[0.5555555555555556,\"#d8576b\"],[0.6666666666666666,\"#ed7953\"],[0.7777777777777778,\"#fb9f3a\"],[0.8888888888888888,\"#fdca26\"],[1.0,\"#f0f921\"]],\"type\":\"histogram2d\"}],\"histogram\":[{\"marker\":{\"pattern\":{\"fillmode\":\"overlay\",\"size\":10,\"solidity\":0.2}},\"type\":\"histogram\"}],\"mesh3d\":[{\"colorbar\":{\"outlinewidth\":0,\"ticks\":\"\"},\"type\":\"mesh3d\"}],\"parcoords\":[{\"line\":{\"colorbar\":{\"outlinewidth\":0,\"ticks\":\"\"}},\"type\":\"parcoords\"}],\"pie\":[{\"automargin\":true,\"type\":\"pie\"}],\"scatter3d\":[{\"line\":{\"colorbar\":{\"outlinewidth\":0,\"ticks\":\"\"}},\"marker\":{\"colorbar\":{\"outlinewidth\":0,\"ticks\":\"\"}},\"type\":\"scatter3d\"}],\"scattercarpet\":[{\"marker\":{\"colorbar\":{\"outlinewidth\":0,\"ticks\":\"\"}},\"type\":\"scattercarpet\"}],\"scattergeo\":[{\"marker\":{\"colorbar\":{\"outlinewidth\":0,\"ticks\":\"\"}},\"type\":\"scattergeo\"}],\"scattergl\":[{\"marker\":{\"colorbar\":{\"outlinewidth\":0,\"ticks\":\"\"}},\"type\":\"scattergl\"}],\"scattermapbox\":[{\"marker\":{\"colorbar\":{\"outlinewidth\":0,\"ticks\":\"\"}},\"type\":\"scattermapbox\"}],\"scatterpolargl\":[{\"marker\":{\"colorbar\":{\"outlinewidth\":0,\"ticks\":\"\"}},\"type\":\"scatterpolargl\"}],\"scatterpolar\":[{\"marker\":{\"colorbar\":{\"outlinewidth\":0,\"ticks\":\"\"}},\"type\":\"scatterpolar\"}],\"scatter\":[{\"fillpattern\":{\"fillmode\":\"overlay\",\"size\":10,\"solidity\":0.2},\"type\":\"scatter\"}],\"scatterternary\":[{\"marker\":{\"colorbar\":{\"outlinewidth\":0,\"ticks\":\"\"}},\"type\":\"scatterternary\"}],\"surface\":[{\"colorbar\":{\"outlinewidth\":0,\"ticks\":\"\"},\"colorscale\":[[0.0,\"#0d0887\"],[0.1111111111111111,\"#46039f\"],[0.2222222222222222,\"#7201a8\"],[0.3333333333333333,\"#9c179e\"],[0.4444444444444444,\"#bd3786\"],[0.5555555555555556,\"#d8576b\"],[0.6666666666666666,\"#ed7953\"],[0.7777777777777778,\"#fb9f3a\"],[0.8888888888888888,\"#fdca26\"],[1.0,\"#f0f921\"]],\"type\":\"surface\"}],\"table\":[{\"cells\":{\"fill\":{\"color\":\"#EBF0F8\"},\"line\":{\"color\":\"white\"}},\"header\":{\"fill\":{\"color\":\"#C8D4E3\"},\"line\":{\"color\":\"white\"}},\"type\":\"table\"}]},\"layout\":{\"annotationdefaults\":{\"arrowcolor\":\"#2a3f5f\",\"arrowhead\":0,\"arrowwidth\":1},\"autotypenumbers\":\"strict\",\"coloraxis\":{\"colorbar\":{\"outlinewidth\":0,\"ticks\":\"\"}},\"colorscale\":{\"diverging\":[[0,\"#8e0152\"],[0.1,\"#c51b7d\"],[0.2,\"#de77ae\"],[0.3,\"#f1b6da\"],[0.4,\"#fde0ef\"],[0.5,\"#f7f7f7\"],[0.6,\"#e6f5d0\"],[0.7,\"#b8e186\"],[0.8,\"#7fbc41\"],[0.9,\"#4d9221\"],[1,\"#276419\"]],\"sequential\":[[0.0,\"#0d0887\"],[0.1111111111111111,\"#46039f\"],[0.2222222222222222,\"#7201a8\"],[0.3333333333333333,\"#9c179e\"],[0.4444444444444444,\"#bd3786\"],[0.5555555555555556,\"#d8576b\"],[0.6666666666666666,\"#ed7953\"],[0.7777777777777778,\"#fb9f3a\"],[0.8888888888888888,\"#fdca26\"],[1.0,\"#f0f921\"]],\"sequentialminus\":[[0.0,\"#0d0887\"],[0.1111111111111111,\"#46039f\"],[0.2222222222222222,\"#7201a8\"],[0.3333333333333333,\"#9c179e\"],[0.4444444444444444,\"#bd3786\"],[0.5555555555555556,\"#d8576b\"],[0.6666666666666666,\"#ed7953\"],[0.7777777777777778,\"#fb9f3a\"],[0.8888888888888888,\"#fdca26\"],[1.0,\"#f0f921\"]]},\"colorway\":[\"#636efa\",\"#EF553B\",\"#00cc96\",\"#ab63fa\",\"#FFA15A\",\"#19d3f3\",\"#FF6692\",\"#B6E880\",\"#FF97FF\",\"#FECB52\"],\"font\":{\"color\":\"#2a3f5f\"},\"geo\":{\"bgcolor\":\"white\",\"lakecolor\":\"white\",\"landcolor\":\"#E5ECF6\",\"showlakes\":true,\"showland\":true,\"subunitcolor\":\"white\"},\"hoverlabel\":{\"align\":\"left\"},\"hovermode\":\"closest\",\"mapbox\":{\"style\":\"light\"},\"paper_bgcolor\":\"white\",\"plot_bgcolor\":\"#E5ECF6\",\"polar\":{\"angularaxis\":{\"gridcolor\":\"white\",\"linecolor\":\"white\",\"ticks\":\"\"},\"bgcolor\":\"#E5ECF6\",\"radialaxis\":{\"gridcolor\":\"white\",\"linecolor\":\"white\",\"ticks\":\"\"}},\"scene\":{\"xaxis\":{\"backgroundcolor\":\"#E5ECF6\",\"gridcolor\":\"white\",\"gridwidth\":2,\"linecolor\":\"white\",\"showbackground\":true,\"ticks\":\"\",\"zerolinecolor\":\"white\"},\"yaxis\":{\"backgroundcolor\":\"#E5ECF6\",\"gridcolor\":\"white\",\"gridwidth\":2,\"linecolor\":\"white\",\"showbackground\":true,\"ticks\":\"\",\"zerolinecolor\":\"white\"},\"zaxis\":{\"backgroundcolor\":\"#E5ECF6\",\"gridcolor\":\"white\",\"gridwidth\":2,\"linecolor\":\"white\",\"showbackground\":true,\"ticks\":\"\",\"zerolinecolor\":\"white\"}},\"shapedefaults\":{\"line\":{\"color\":\"#2a3f5f\"}},\"ternary\":{\"aaxis\":{\"gridcolor\":\"white\",\"linecolor\":\"white\",\"ticks\":\"\"},\"baxis\":{\"gridcolor\":\"white\",\"linecolor\":\"white\",\"ticks\":\"\"},\"bgcolor\":\"#E5ECF6\",\"caxis\":{\"gridcolor\":\"white\",\"linecolor\":\"white\",\"ticks\":\"\"}},\"title\":{\"x\":0.05},\"xaxis\":{\"automargin\":true,\"gridcolor\":\"white\",\"linecolor\":\"white\",\"ticks\":\"\",\"title\":{\"standoff\":15},\"zerolinecolor\":\"white\",\"zerolinewidth\":2},\"yaxis\":{\"automargin\":true,\"gridcolor\":\"white\",\"linecolor\":\"white\",\"ticks\":\"\",\"title\":{\"standoff\":15},\"zerolinecolor\":\"white\",\"zerolinewidth\":2}}},\"title\":{\"text\":\"Top 10 secondary actors with more than 10 movies by rating\"},\"xaxis\":{\"anchor\":\"y\",\"domain\":[0.0,1.0],\"title\":{\"text\":\"Actor 2\"}},\"yaxis\":{\"anchor\":\"x\",\"domain\":[0.0,1.0],\"title\":{\"text\":\"Rating\"}}},                        {\"responsive\": true}                    ).then(function(){\n",
       "                            \n",
       "var gd = document.getElementById('acf1ffee-e6dc-45f5-8409-4d296dcd06f0');\n",
       "var x = new MutationObserver(function (mutations, observer) {{\n",
       "        var display = window.getComputedStyle(gd).display;\n",
       "        if (!display || display === 'none') {{\n",
       "            console.log([gd, 'removed!']);\n",
       "            Plotly.purge(gd);\n",
       "            observer.disconnect();\n",
       "        }}\n",
       "}});\n",
       "\n",
       "// Listen for the removal of the full notebook cells\n",
       "var notebookContainer = gd.closest('#notebook-container');\n",
       "if (notebookContainer) {{\n",
       "    x.observe(notebookContainer, {childList: true});\n",
       "}}\n",
       "\n",
       "// Listen for the clearing of the current output cell\n",
       "var outputEl = gd.closest('.output');\n",
       "if (outputEl) {{\n",
       "    x.observe(outputEl, {childList: true});\n",
       "}}\n",
       "\n",
       "                        })                };                });            </script>        </div>"
      ]
     },
     "metadata": {},
     "output_type": "display_data"
    }
   ],
   "source": [
    "top_10_actors2 = top_10_rating(\"Actor 2\")\n",
    "\n",
    "iplot(px.bar(data_frame=top_10_actors2,x=\"Actor 2\",y=\"mean\",text=\"count\",labels = {'mean':'Rating','count':'Number of movies'},\\\n",
    "            title=\"Top 10 secondary actors with more than 10 movies by rating\"))"
   ]
  },
  {
   "cell_type": "code",
   "execution_count": 37,
   "id": "85b77628",
   "metadata": {
    "ExecuteTime": {
     "end_time": "2024-06-23T23:43:08.456491Z",
     "start_time": "2024-06-23T23:43:08.395803Z"
    },
    "execution": {
     "iopub.execute_input": "2024-09-02T07:55:07.560359Z",
     "iopub.status.busy": "2024-09-02T07:55:07.559772Z",
     "iopub.status.idle": "2024-09-02T07:55:07.676483Z",
     "shell.execute_reply": "2024-09-02T07:55:07.675363Z"
    },
    "papermill": {
     "duration": 0.167962,
     "end_time": "2024-09-02T07:55:07.679231",
     "exception": false,
     "start_time": "2024-09-02T07:55:07.511269",
     "status": "completed"
    },
    "tags": []
   },
   "outputs": [
    {
     "data": {
      "text/html": [
       "<div>                            <div id=\"2c55eb61-0958-486e-bf0c-11e9191a7440\" class=\"plotly-graph-div\" style=\"height:525px; width:100%;\"></div>            <script type=\"text/javascript\">                require([\"plotly\"], function(Plotly) {                    window.PLOTLYENV=window.PLOTLYENV || {};                                    if (document.getElementById(\"2c55eb61-0958-486e-bf0c-11e9191a7440\")) {                    Plotly.newPlot(                        \"2c55eb61-0958-486e-bf0c-11e9191a7440\",                        [{\"alignmentgroup\":\"True\",\"hovertemplate\":\"Actor 3=%{x}\\u003cbr\\u003eRating=%{y}\\u003cbr\\u003eNumber of movies=%{text}\\u003cextra\\u003e\\u003c\\u002fextra\\u003e\",\"legendgroup\":\"\",\"marker\":{\"color\":\"#636efa\",\"pattern\":{\"shape\":\"\"}},\"name\":\"\",\"offsetgroup\":\"\",\"orientation\":\"v\",\"showlegend\":false,\"text\":[11.0,11.0,10.0,12.0,14.0,12.0,10.0,12.0,22.0,12.0],\"textposition\":\"auto\",\"x\":[\"Rakhee Gulzar\",\"Lalita Pawar\",\"Rehman\",\"Balraj Sahni\",\"Shashikala\",\"Agha\",\"Utpal Dutt\",\"Tanuja\",\"Naseeruddin Shah\",\"Shabana Azmi\"],\"xaxis\":\"x\",\"y\":[7.009090909090909,6.9818181818181815,6.890000000000001,6.841666666666666,6.828571428571428,6.716666666666666,6.7,6.683333333333334,6.622727272727272,6.583333333333333],\"yaxis\":\"y\",\"type\":\"bar\"}],                        {\"barmode\":\"relative\",\"legend\":{\"tracegroupgap\":0},\"template\":{\"data\":{\"barpolar\":[{\"marker\":{\"line\":{\"color\":\"#E5ECF6\",\"width\":0.5},\"pattern\":{\"fillmode\":\"overlay\",\"size\":10,\"solidity\":0.2}},\"type\":\"barpolar\"}],\"bar\":[{\"error_x\":{\"color\":\"#2a3f5f\"},\"error_y\":{\"color\":\"#2a3f5f\"},\"marker\":{\"line\":{\"color\":\"#E5ECF6\",\"width\":0.5},\"pattern\":{\"fillmode\":\"overlay\",\"size\":10,\"solidity\":0.2}},\"type\":\"bar\"}],\"carpet\":[{\"aaxis\":{\"endlinecolor\":\"#2a3f5f\",\"gridcolor\":\"white\",\"linecolor\":\"white\",\"minorgridcolor\":\"white\",\"startlinecolor\":\"#2a3f5f\"},\"baxis\":{\"endlinecolor\":\"#2a3f5f\",\"gridcolor\":\"white\",\"linecolor\":\"white\",\"minorgridcolor\":\"white\",\"startlinecolor\":\"#2a3f5f\"},\"type\":\"carpet\"}],\"choropleth\":[{\"colorbar\":{\"outlinewidth\":0,\"ticks\":\"\"},\"type\":\"choropleth\"}],\"contourcarpet\":[{\"colorbar\":{\"outlinewidth\":0,\"ticks\":\"\"},\"type\":\"contourcarpet\"}],\"contour\":[{\"colorbar\":{\"outlinewidth\":0,\"ticks\":\"\"},\"colorscale\":[[0.0,\"#0d0887\"],[0.1111111111111111,\"#46039f\"],[0.2222222222222222,\"#7201a8\"],[0.3333333333333333,\"#9c179e\"],[0.4444444444444444,\"#bd3786\"],[0.5555555555555556,\"#d8576b\"],[0.6666666666666666,\"#ed7953\"],[0.7777777777777778,\"#fb9f3a\"],[0.8888888888888888,\"#fdca26\"],[1.0,\"#f0f921\"]],\"type\":\"contour\"}],\"heatmapgl\":[{\"colorbar\":{\"outlinewidth\":0,\"ticks\":\"\"},\"colorscale\":[[0.0,\"#0d0887\"],[0.1111111111111111,\"#46039f\"],[0.2222222222222222,\"#7201a8\"],[0.3333333333333333,\"#9c179e\"],[0.4444444444444444,\"#bd3786\"],[0.5555555555555556,\"#d8576b\"],[0.6666666666666666,\"#ed7953\"],[0.7777777777777778,\"#fb9f3a\"],[0.8888888888888888,\"#fdca26\"],[1.0,\"#f0f921\"]],\"type\":\"heatmapgl\"}],\"heatmap\":[{\"colorbar\":{\"outlinewidth\":0,\"ticks\":\"\"},\"colorscale\":[[0.0,\"#0d0887\"],[0.1111111111111111,\"#46039f\"],[0.2222222222222222,\"#7201a8\"],[0.3333333333333333,\"#9c179e\"],[0.4444444444444444,\"#bd3786\"],[0.5555555555555556,\"#d8576b\"],[0.6666666666666666,\"#ed7953\"],[0.7777777777777778,\"#fb9f3a\"],[0.8888888888888888,\"#fdca26\"],[1.0,\"#f0f921\"]],\"type\":\"heatmap\"}],\"histogram2dcontour\":[{\"colorbar\":{\"outlinewidth\":0,\"ticks\":\"\"},\"colorscale\":[[0.0,\"#0d0887\"],[0.1111111111111111,\"#46039f\"],[0.2222222222222222,\"#7201a8\"],[0.3333333333333333,\"#9c179e\"],[0.4444444444444444,\"#bd3786\"],[0.5555555555555556,\"#d8576b\"],[0.6666666666666666,\"#ed7953\"],[0.7777777777777778,\"#fb9f3a\"],[0.8888888888888888,\"#fdca26\"],[1.0,\"#f0f921\"]],\"type\":\"histogram2dcontour\"}],\"histogram2d\":[{\"colorbar\":{\"outlinewidth\":0,\"ticks\":\"\"},\"colorscale\":[[0.0,\"#0d0887\"],[0.1111111111111111,\"#46039f\"],[0.2222222222222222,\"#7201a8\"],[0.3333333333333333,\"#9c179e\"],[0.4444444444444444,\"#bd3786\"],[0.5555555555555556,\"#d8576b\"],[0.6666666666666666,\"#ed7953\"],[0.7777777777777778,\"#fb9f3a\"],[0.8888888888888888,\"#fdca26\"],[1.0,\"#f0f921\"]],\"type\":\"histogram2d\"}],\"histogram\":[{\"marker\":{\"pattern\":{\"fillmode\":\"overlay\",\"size\":10,\"solidity\":0.2}},\"type\":\"histogram\"}],\"mesh3d\":[{\"colorbar\":{\"outlinewidth\":0,\"ticks\":\"\"},\"type\":\"mesh3d\"}],\"parcoords\":[{\"line\":{\"colorbar\":{\"outlinewidth\":0,\"ticks\":\"\"}},\"type\":\"parcoords\"}],\"pie\":[{\"automargin\":true,\"type\":\"pie\"}],\"scatter3d\":[{\"line\":{\"colorbar\":{\"outlinewidth\":0,\"ticks\":\"\"}},\"marker\":{\"colorbar\":{\"outlinewidth\":0,\"ticks\":\"\"}},\"type\":\"scatter3d\"}],\"scattercarpet\":[{\"marker\":{\"colorbar\":{\"outlinewidth\":0,\"ticks\":\"\"}},\"type\":\"scattercarpet\"}],\"scattergeo\":[{\"marker\":{\"colorbar\":{\"outlinewidth\":0,\"ticks\":\"\"}},\"type\":\"scattergeo\"}],\"scattergl\":[{\"marker\":{\"colorbar\":{\"outlinewidth\":0,\"ticks\":\"\"}},\"type\":\"scattergl\"}],\"scattermapbox\":[{\"marker\":{\"colorbar\":{\"outlinewidth\":0,\"ticks\":\"\"}},\"type\":\"scattermapbox\"}],\"scatterpolargl\":[{\"marker\":{\"colorbar\":{\"outlinewidth\":0,\"ticks\":\"\"}},\"type\":\"scatterpolargl\"}],\"scatterpolar\":[{\"marker\":{\"colorbar\":{\"outlinewidth\":0,\"ticks\":\"\"}},\"type\":\"scatterpolar\"}],\"scatter\":[{\"fillpattern\":{\"fillmode\":\"overlay\",\"size\":10,\"solidity\":0.2},\"type\":\"scatter\"}],\"scatterternary\":[{\"marker\":{\"colorbar\":{\"outlinewidth\":0,\"ticks\":\"\"}},\"type\":\"scatterternary\"}],\"surface\":[{\"colorbar\":{\"outlinewidth\":0,\"ticks\":\"\"},\"colorscale\":[[0.0,\"#0d0887\"],[0.1111111111111111,\"#46039f\"],[0.2222222222222222,\"#7201a8\"],[0.3333333333333333,\"#9c179e\"],[0.4444444444444444,\"#bd3786\"],[0.5555555555555556,\"#d8576b\"],[0.6666666666666666,\"#ed7953\"],[0.7777777777777778,\"#fb9f3a\"],[0.8888888888888888,\"#fdca26\"],[1.0,\"#f0f921\"]],\"type\":\"surface\"}],\"table\":[{\"cells\":{\"fill\":{\"color\":\"#EBF0F8\"},\"line\":{\"color\":\"white\"}},\"header\":{\"fill\":{\"color\":\"#C8D4E3\"},\"line\":{\"color\":\"white\"}},\"type\":\"table\"}]},\"layout\":{\"annotationdefaults\":{\"arrowcolor\":\"#2a3f5f\",\"arrowhead\":0,\"arrowwidth\":1},\"autotypenumbers\":\"strict\",\"coloraxis\":{\"colorbar\":{\"outlinewidth\":0,\"ticks\":\"\"}},\"colorscale\":{\"diverging\":[[0,\"#8e0152\"],[0.1,\"#c51b7d\"],[0.2,\"#de77ae\"],[0.3,\"#f1b6da\"],[0.4,\"#fde0ef\"],[0.5,\"#f7f7f7\"],[0.6,\"#e6f5d0\"],[0.7,\"#b8e186\"],[0.8,\"#7fbc41\"],[0.9,\"#4d9221\"],[1,\"#276419\"]],\"sequential\":[[0.0,\"#0d0887\"],[0.1111111111111111,\"#46039f\"],[0.2222222222222222,\"#7201a8\"],[0.3333333333333333,\"#9c179e\"],[0.4444444444444444,\"#bd3786\"],[0.5555555555555556,\"#d8576b\"],[0.6666666666666666,\"#ed7953\"],[0.7777777777777778,\"#fb9f3a\"],[0.8888888888888888,\"#fdca26\"],[1.0,\"#f0f921\"]],\"sequentialminus\":[[0.0,\"#0d0887\"],[0.1111111111111111,\"#46039f\"],[0.2222222222222222,\"#7201a8\"],[0.3333333333333333,\"#9c179e\"],[0.4444444444444444,\"#bd3786\"],[0.5555555555555556,\"#d8576b\"],[0.6666666666666666,\"#ed7953\"],[0.7777777777777778,\"#fb9f3a\"],[0.8888888888888888,\"#fdca26\"],[1.0,\"#f0f921\"]]},\"colorway\":[\"#636efa\",\"#EF553B\",\"#00cc96\",\"#ab63fa\",\"#FFA15A\",\"#19d3f3\",\"#FF6692\",\"#B6E880\",\"#FF97FF\",\"#FECB52\"],\"font\":{\"color\":\"#2a3f5f\"},\"geo\":{\"bgcolor\":\"white\",\"lakecolor\":\"white\",\"landcolor\":\"#E5ECF6\",\"showlakes\":true,\"showland\":true,\"subunitcolor\":\"white\"},\"hoverlabel\":{\"align\":\"left\"},\"hovermode\":\"closest\",\"mapbox\":{\"style\":\"light\"},\"paper_bgcolor\":\"white\",\"plot_bgcolor\":\"#E5ECF6\",\"polar\":{\"angularaxis\":{\"gridcolor\":\"white\",\"linecolor\":\"white\",\"ticks\":\"\"},\"bgcolor\":\"#E5ECF6\",\"radialaxis\":{\"gridcolor\":\"white\",\"linecolor\":\"white\",\"ticks\":\"\"}},\"scene\":{\"xaxis\":{\"backgroundcolor\":\"#E5ECF6\",\"gridcolor\":\"white\",\"gridwidth\":2,\"linecolor\":\"white\",\"showbackground\":true,\"ticks\":\"\",\"zerolinecolor\":\"white\"},\"yaxis\":{\"backgroundcolor\":\"#E5ECF6\",\"gridcolor\":\"white\",\"gridwidth\":2,\"linecolor\":\"white\",\"showbackground\":true,\"ticks\":\"\",\"zerolinecolor\":\"white\"},\"zaxis\":{\"backgroundcolor\":\"#E5ECF6\",\"gridcolor\":\"white\",\"gridwidth\":2,\"linecolor\":\"white\",\"showbackground\":true,\"ticks\":\"\",\"zerolinecolor\":\"white\"}},\"shapedefaults\":{\"line\":{\"color\":\"#2a3f5f\"}},\"ternary\":{\"aaxis\":{\"gridcolor\":\"white\",\"linecolor\":\"white\",\"ticks\":\"\"},\"baxis\":{\"gridcolor\":\"white\",\"linecolor\":\"white\",\"ticks\":\"\"},\"bgcolor\":\"#E5ECF6\",\"caxis\":{\"gridcolor\":\"white\",\"linecolor\":\"white\",\"ticks\":\"\"}},\"title\":{\"x\":0.05},\"xaxis\":{\"automargin\":true,\"gridcolor\":\"white\",\"linecolor\":\"white\",\"ticks\":\"\",\"title\":{\"standoff\":15},\"zerolinecolor\":\"white\",\"zerolinewidth\":2},\"yaxis\":{\"automargin\":true,\"gridcolor\":\"white\",\"linecolor\":\"white\",\"ticks\":\"\",\"title\":{\"standoff\":15},\"zerolinecolor\":\"white\",\"zerolinewidth\":2}}},\"title\":{\"text\":\"Top 10 Third main actors with more than 10 movies by rating\"},\"xaxis\":{\"anchor\":\"y\",\"domain\":[0.0,1.0],\"title\":{\"text\":\"Actor 3\"}},\"yaxis\":{\"anchor\":\"x\",\"domain\":[0.0,1.0],\"title\":{\"text\":\"Rating\"}}},                        {\"responsive\": true}                    ).then(function(){\n",
       "                            \n",
       "var gd = document.getElementById('2c55eb61-0958-486e-bf0c-11e9191a7440');\n",
       "var x = new MutationObserver(function (mutations, observer) {{\n",
       "        var display = window.getComputedStyle(gd).display;\n",
       "        if (!display || display === 'none') {{\n",
       "            console.log([gd, 'removed!']);\n",
       "            Plotly.purge(gd);\n",
       "            observer.disconnect();\n",
       "        }}\n",
       "}});\n",
       "\n",
       "// Listen for the removal of the full notebook cells\n",
       "var notebookContainer = gd.closest('#notebook-container');\n",
       "if (notebookContainer) {{\n",
       "    x.observe(notebookContainer, {childList: true});\n",
       "}}\n",
       "\n",
       "// Listen for the clearing of the current output cell\n",
       "var outputEl = gd.closest('.output');\n",
       "if (outputEl) {{\n",
       "    x.observe(outputEl, {childList: true});\n",
       "}}\n",
       "\n",
       "                        })                };                });            </script>        </div>"
      ]
     },
     "metadata": {},
     "output_type": "display_data"
    }
   ],
   "source": [
    "top_10_actors3 = top_10_rating(\"Actor 3\")\n",
    "\n",
    "iplot(px.bar(data_frame=top_10_actors3,x=\"Actor 3\",y=\"mean\",text=\"count\",labels = {'mean':'Rating','count':'Number of movies'},\\\n",
    "            title=\"Top 10 Third main actors with more than 10 movies by rating\"))"
   ]
  },
  {
   "cell_type": "markdown",
   "id": "b3cc3d73",
   "metadata": {
    "papermill": {
     "duration": 0.034059,
     "end_time": "2024-09-02T07:55:07.747059",
     "exception": false,
     "start_time": "2024-09-02T07:55:07.713000",
     "status": "completed"
    },
    "tags": []
   },
   "source": [
    "# Importing libraries for machine learning and transforming data"
   ]
  },
  {
   "cell_type": "code",
   "execution_count": 38,
   "id": "491fc6c2",
   "metadata": {
    "ExecuteTime": {
     "end_time": "2024-06-23T23:34:46.84613Z",
     "start_time": "2024-06-23T23:34:46.841361Z"
    },
    "execution": {
     "iopub.execute_input": "2024-09-02T07:55:07.816957Z",
     "iopub.status.busy": "2024-09-02T07:55:07.816566Z",
     "iopub.status.idle": "2024-09-02T07:55:10.622744Z",
     "shell.execute_reply": "2024-09-02T07:55:10.621135Z"
    },
    "papermill": {
     "duration": 2.844327,
     "end_time": "2024-09-02T07:55:10.625843",
     "exception": false,
     "start_time": "2024-09-02T07:55:07.781516",
     "status": "completed"
    },
    "tags": []
   },
   "outputs": [],
   "source": [
    "from sklearn.model_selection import train_test_split,cross_val_score\n",
    "from lightgbm import LGBMRegressor\n",
    "from xgboost import XGBRegressor\n",
    "from sklearn.ensemble import GradientBoostingRegressor,RandomForestRegressor\n",
    "from sklearn.preprocessing import RobustScaler,StandardScaler,MaxAbsScaler,MinMaxScaler\n",
    "from sklearn.ensemble import StackingRegressor\n",
    "from sklearn.linear_model import RidgeCV\n",
    "import sklearn.metrics as metrics\n",
    "import scikitplot as skplt\n",
    "import category_encoders as ce"
   ]
  },
  {
   "cell_type": "code",
   "execution_count": 39,
   "id": "c310fcf0",
   "metadata": {
    "ExecuteTime": {
     "end_time": "2024-06-23T23:34:46.858781Z",
     "start_time": "2024-06-23T23:34:46.848663Z"
    },
    "execution": {
     "iopub.execute_input": "2024-09-02T07:55:10.700757Z",
     "iopub.status.busy": "2024-09-02T07:55:10.700057Z",
     "iopub.status.idle": "2024-09-02T07:55:10.709826Z",
     "shell.execute_reply": "2024-09-02T07:55:10.708514Z"
    },
    "papermill": {
     "duration": 0.051346,
     "end_time": "2024-09-02T07:55:10.712499",
     "exception": false,
     "start_time": "2024-09-02T07:55:10.661153",
     "status": "completed"
    },
    "tags": []
   },
   "outputs": [],
   "source": [
    "def regression_results(y_true, y_pred):\n",
    "\n",
    "    # Regression metrics\n",
    "    explained_variance=metrics.explained_variance_score(y_true, y_pred)\n",
    "    mean_absolute_error=metrics.mean_absolute_error(y_true, y_pred) \n",
    "    mse=metrics.mean_squared_error(y_true, y_pred) \n",
    "    mean_squared_log_error=metrics.mean_squared_log_error(y_true, y_pred)\n",
    "    median_absolute_error=metrics.median_absolute_error(y_true, y_pred)\n",
    "    r2=metrics.r2_score(y_true, y_pred)\n",
    "\n",
    "    print('explained_variance: ', round(explained_variance,4))    \n",
    "    print('mean_squared_log_error: ', round(mean_squared_log_error,4))\n",
    "    print('r2: ', round(r2,4))\n",
    "    print('MAE: ', round(mean_absolute_error,4))\n",
    "    print('MSE: ', round(mse,4))\n",
    "    print('RMSE: ', round(np.sqrt(mse),4))\n",
    "    print('Median absolute error: ',round(median_absolute_error,4))"
   ]
  },
  {
   "cell_type": "markdown",
   "id": "2200c2ba",
   "metadata": {
    "papermill": {
     "duration": 0.035114,
     "end_time": "2024-09-02T07:55:10.785568",
     "exception": false,
     "start_time": "2024-09-02T07:55:10.750454",
     "status": "completed"
    },
    "tags": []
   },
   "source": [
    "## Dropping uncessacry columns and splitting data into x and y"
   ]
  },
  {
   "cell_type": "code",
   "execution_count": 40,
   "id": "41c24bf7",
   "metadata": {
    "ExecuteTime": {
     "end_time": "2024-06-23T23:34:46.870716Z",
     "start_time": "2024-06-23T23:34:46.860792Z"
    },
    "execution": {
     "iopub.execute_input": "2024-09-02T07:55:10.859971Z",
     "iopub.status.busy": "2024-09-02T07:55:10.859533Z",
     "iopub.status.idle": "2024-09-02T07:55:10.867921Z",
     "shell.execute_reply": "2024-09-02T07:55:10.866538Z"
    },
    "papermill": {
     "duration": 0.047975,
     "end_time": "2024-09-02T07:55:10.870903",
     "exception": false,
     "start_time": "2024-09-02T07:55:10.822928",
     "status": "completed"
    },
    "tags": []
   },
   "outputs": [],
   "source": [
    "data =data.drop(columns=[\"Name\",\"Main_genre\"])"
   ]
  },
  {
   "cell_type": "code",
   "execution_count": 41,
   "id": "35664df8",
   "metadata": {
    "ExecuteTime": {
     "end_time": "2024-06-23T23:34:46.88166Z",
     "start_time": "2024-06-23T23:34:46.872724Z"
    },
    "execution": {
     "iopub.execute_input": "2024-09-02T07:55:10.942062Z",
     "iopub.status.busy": "2024-09-02T07:55:10.941180Z",
     "iopub.status.idle": "2024-09-02T07:55:10.949472Z",
     "shell.execute_reply": "2024-09-02T07:55:10.948083Z"
    },
    "papermill": {
     "duration": 0.047677,
     "end_time": "2024-09-02T07:55:10.952817",
     "exception": false,
     "start_time": "2024-09-02T07:55:10.905140",
     "status": "completed"
    },
    "tags": []
   },
   "outputs": [],
   "source": [
    "X = data.drop(columns=\"Rating\")\n",
    "y = data[\"Rating\"]"
   ]
  },
  {
   "cell_type": "code",
   "execution_count": 42,
   "id": "388e3eaf",
   "metadata": {
    "ExecuteTime": {
     "end_time": "2024-06-23T23:34:46.901511Z",
     "start_time": "2024-06-23T23:34:46.890789Z"
    },
    "execution": {
     "iopub.execute_input": "2024-09-02T07:55:11.027902Z",
     "iopub.status.busy": "2024-09-02T07:55:11.027474Z",
     "iopub.status.idle": "2024-09-02T07:55:11.045490Z",
     "shell.execute_reply": "2024-09-02T07:55:11.044243Z"
    },
    "papermill": {
     "duration": 0.060307,
     "end_time": "2024-09-02T07:55:11.048589",
     "exception": false,
     "start_time": "2024-09-02T07:55:10.988282",
     "status": "completed"
    },
    "tags": []
   },
   "outputs": [
    {
     "data": {
      "text/html": [
       "<div>\n",
       "<style scoped>\n",
       "    .dataframe tbody tr th:only-of-type {\n",
       "        vertical-align: middle;\n",
       "    }\n",
       "\n",
       "    .dataframe tbody tr th {\n",
       "        vertical-align: top;\n",
       "    }\n",
       "\n",
       "    .dataframe thead th {\n",
       "        text-align: right;\n",
       "    }\n",
       "</style>\n",
       "<table border=\"1\" class=\"dataframe\">\n",
       "  <thead>\n",
       "    <tr style=\"text-align: right;\">\n",
       "      <th></th>\n",
       "      <th>Year</th>\n",
       "      <th>Duration</th>\n",
       "      <th>Genre</th>\n",
       "      <th>Votes</th>\n",
       "      <th>Director</th>\n",
       "      <th>Actor 1</th>\n",
       "      <th>Actor 2</th>\n",
       "      <th>Actor 3</th>\n",
       "    </tr>\n",
       "  </thead>\n",
       "  <tbody>\n",
       "    <tr>\n",
       "      <th>0</th>\n",
       "      <td>2019</td>\n",
       "      <td>109</td>\n",
       "      <td>Drama</td>\n",
       "      <td>8</td>\n",
       "      <td>Gaurav Bakshi</td>\n",
       "      <td>Rasika Dugal</td>\n",
       "      <td>Vivek Ghamande</td>\n",
       "      <td>Arvind Jangid</td>\n",
       "    </tr>\n",
       "    <tr>\n",
       "      <th>1</th>\n",
       "      <td>2019</td>\n",
       "      <td>110</td>\n",
       "      <td>Comedy, Romance</td>\n",
       "      <td>35</td>\n",
       "      <td>Ovais Khan</td>\n",
       "      <td>Prateik</td>\n",
       "      <td>Ishita Raj</td>\n",
       "      <td>Siddhant Kapoor</td>\n",
       "    </tr>\n",
       "    <tr>\n",
       "      <th>2</th>\n",
       "      <td>1997</td>\n",
       "      <td>147</td>\n",
       "      <td>Comedy, Drama, Music</td>\n",
       "      <td>827</td>\n",
       "      <td>Rahul Rawail</td>\n",
       "      <td>Bobby Deol</td>\n",
       "      <td>Aishwarya Rai Bachchan</td>\n",
       "      <td>Shammi Kapoor</td>\n",
       "    </tr>\n",
       "    <tr>\n",
       "      <th>3</th>\n",
       "      <td>2005</td>\n",
       "      <td>142</td>\n",
       "      <td>Drama, Romance, War</td>\n",
       "      <td>1086</td>\n",
       "      <td>Shoojit Sircar</td>\n",
       "      <td>Jimmy Sheirgill</td>\n",
       "      <td>Minissha Lamba</td>\n",
       "      <td>Yashpal Sharma</td>\n",
       "    </tr>\n",
       "    <tr>\n",
       "      <th>4</th>\n",
       "      <td>2012</td>\n",
       "      <td>82</td>\n",
       "      <td>Horror, Mystery, Thriller</td>\n",
       "      <td>326</td>\n",
       "      <td>Allyson Patel</td>\n",
       "      <td>Yash Dave</td>\n",
       "      <td>Muntazir Ahmad</td>\n",
       "      <td>Kiran Bhatia</td>\n",
       "    </tr>\n",
       "    <tr>\n",
       "      <th>...</th>\n",
       "      <td>...</td>\n",
       "      <td>...</td>\n",
       "      <td>...</td>\n",
       "      <td>...</td>\n",
       "      <td>...</td>\n",
       "      <td>...</td>\n",
       "      <td>...</td>\n",
       "      <td>...</td>\n",
       "    </tr>\n",
       "    <tr>\n",
       "      <th>5652</th>\n",
       "      <td>2015</td>\n",
       "      <td>115</td>\n",
       "      <td>Drama</td>\n",
       "      <td>408</td>\n",
       "      <td>Mozez Singh</td>\n",
       "      <td>Vicky Kaushal</td>\n",
       "      <td>Sarah Jane Dias</td>\n",
       "      <td>Raaghavv Chanana</td>\n",
       "    </tr>\n",
       "    <tr>\n",
       "      <th>5653</th>\n",
       "      <td>2001</td>\n",
       "      <td>153</td>\n",
       "      <td>Biography, Drama, History</td>\n",
       "      <td>1496</td>\n",
       "      <td>Shyam Benegal</td>\n",
       "      <td>Karisma Kapoor</td>\n",
       "      <td>Rekha</td>\n",
       "      <td>Manoj Bajpayee</td>\n",
       "    </tr>\n",
       "    <tr>\n",
       "      <th>5654</th>\n",
       "      <td>1989</td>\n",
       "      <td>125</td>\n",
       "      <td>Action, Crime, Drama</td>\n",
       "      <td>44</td>\n",
       "      <td>S.P. Muthuraman</td>\n",
       "      <td>Chiranjeevi</td>\n",
       "      <td>Jayamalini</td>\n",
       "      <td>Rajinikanth</td>\n",
       "    </tr>\n",
       "    <tr>\n",
       "      <th>5655</th>\n",
       "      <td>1999</td>\n",
       "      <td>129</td>\n",
       "      <td>Action, Drama</td>\n",
       "      <td>655</td>\n",
       "      <td>Kuku Kohli</td>\n",
       "      <td>Akshay Kumar</td>\n",
       "      <td>Twinkle Khanna</td>\n",
       "      <td>Aruna Irani</td>\n",
       "    </tr>\n",
       "    <tr>\n",
       "      <th>5656</th>\n",
       "      <td>1998</td>\n",
       "      <td>130</td>\n",
       "      <td>Action, Drama</td>\n",
       "      <td>20</td>\n",
       "      <td>K.C. Bokadia</td>\n",
       "      <td>Dharmendra</td>\n",
       "      <td>Jaya Prada</td>\n",
       "      <td>Arjun Sarja</td>\n",
       "    </tr>\n",
       "  </tbody>\n",
       "</table>\n",
       "<p>5545 rows × 8 columns</p>\n",
       "</div>"
      ],
      "text/plain": [
       "      Year  Duration                      Genre  Votes         Director  \\\n",
       "0     2019       109                      Drama      8    Gaurav Bakshi   \n",
       "1     2019       110            Comedy, Romance     35       Ovais Khan   \n",
       "2     1997       147       Comedy, Drama, Music    827     Rahul Rawail   \n",
       "3     2005       142        Drama, Romance, War   1086   Shoojit Sircar   \n",
       "4     2012        82  Horror, Mystery, Thriller    326    Allyson Patel   \n",
       "...    ...       ...                        ...    ...              ...   \n",
       "5652  2015       115                      Drama    408      Mozez Singh   \n",
       "5653  2001       153  Biography, Drama, History   1496    Shyam Benegal   \n",
       "5654  1989       125       Action, Crime, Drama     44  S.P. Muthuraman   \n",
       "5655  1999       129              Action, Drama    655       Kuku Kohli   \n",
       "5656  1998       130              Action, Drama     20     K.C. Bokadia   \n",
       "\n",
       "              Actor 1                 Actor 2           Actor 3  \n",
       "0        Rasika Dugal          Vivek Ghamande     Arvind Jangid  \n",
       "1             Prateik              Ishita Raj   Siddhant Kapoor  \n",
       "2          Bobby Deol  Aishwarya Rai Bachchan     Shammi Kapoor  \n",
       "3     Jimmy Sheirgill          Minissha Lamba    Yashpal Sharma  \n",
       "4           Yash Dave          Muntazir Ahmad      Kiran Bhatia  \n",
       "...               ...                     ...               ...  \n",
       "5652    Vicky Kaushal         Sarah Jane Dias  Raaghavv Chanana  \n",
       "5653   Karisma Kapoor                   Rekha    Manoj Bajpayee  \n",
       "5654      Chiranjeevi              Jayamalini       Rajinikanth  \n",
       "5655     Akshay Kumar          Twinkle Khanna       Aruna Irani  \n",
       "5656       Dharmendra              Jaya Prada       Arjun Sarja  \n",
       "\n",
       "[5545 rows x 8 columns]"
      ]
     },
     "execution_count": 42,
     "metadata": {},
     "output_type": "execute_result"
    }
   ],
   "source": [
    "X"
   ]
  },
  {
   "cell_type": "markdown",
   "id": "c9bcbb62",
   "metadata": {
    "papermill": {
     "duration": 0.036526,
     "end_time": "2024-09-02T07:55:11.122003",
     "exception": false,
     "start_time": "2024-09-02T07:55:11.085477",
     "status": "completed"
    },
    "tags": []
   },
   "source": [
    "# Encoding data using JamesSteinEncoder"
   ]
  },
  {
   "cell_type": "code",
   "execution_count": 43,
   "id": "e08956f3",
   "metadata": {
    "ExecuteTime": {
     "end_time": "2024-06-23T23:34:46.908031Z",
     "start_time": "2024-06-23T23:34:46.903528Z"
    },
    "execution": {
     "iopub.execute_input": "2024-09-02T07:55:11.196048Z",
     "iopub.status.busy": "2024-09-02T07:55:11.195611Z",
     "iopub.status.idle": "2024-09-02T07:55:11.201044Z",
     "shell.execute_reply": "2024-09-02T07:55:11.199821Z"
    },
    "papermill": {
     "duration": 0.044051,
     "end_time": "2024-09-02T07:55:11.203683",
     "exception": false,
     "start_time": "2024-09-02T07:55:11.159632",
     "status": "completed"
    },
    "tags": []
   },
   "outputs": [],
   "source": [
    "encoder = ce.JamesSteinEncoder(return_df=True)"
   ]
  },
  {
   "cell_type": "code",
   "execution_count": 44,
   "id": "b09e85a4",
   "metadata": {
    "ExecuteTime": {
     "end_time": "2024-06-23T23:34:46.990355Z",
     "start_time": "2024-06-23T23:34:46.910039Z"
    },
    "execution": {
     "iopub.execute_input": "2024-09-02T07:55:11.276994Z",
     "iopub.status.busy": "2024-09-02T07:55:11.276559Z",
     "iopub.status.idle": "2024-09-02T07:55:11.401449Z",
     "shell.execute_reply": "2024-09-02T07:55:11.400102Z"
    },
    "papermill": {
     "duration": 0.163961,
     "end_time": "2024-09-02T07:55:11.404454",
     "exception": false,
     "start_time": "2024-09-02T07:55:11.240493",
     "status": "completed"
    },
    "tags": []
   },
   "outputs": [],
   "source": [
    "encoder.fit(X,y)\n",
    "X = encoder.transform(X.loc[:,:])"
   ]
  },
  {
   "cell_type": "code",
   "execution_count": 45,
   "id": "34340114",
   "metadata": {
    "ExecuteTime": {
     "end_time": "2024-06-23T23:34:47.005274Z",
     "start_time": "2024-06-23T23:34:46.992364Z"
    },
    "execution": {
     "iopub.execute_input": "2024-09-02T07:55:11.480463Z",
     "iopub.status.busy": "2024-09-02T07:55:11.479940Z",
     "iopub.status.idle": "2024-09-02T07:55:11.502108Z",
     "shell.execute_reply": "2024-09-02T07:55:11.500738Z"
    },
    "papermill": {
     "duration": 0.06383,
     "end_time": "2024-09-02T07:55:11.504957",
     "exception": false,
     "start_time": "2024-09-02T07:55:11.441127",
     "status": "completed"
    },
    "tags": []
   },
   "outputs": [
    {
     "data": {
      "text/html": [
       "<div>\n",
       "<style scoped>\n",
       "    .dataframe tbody tr th:only-of-type {\n",
       "        vertical-align: middle;\n",
       "    }\n",
       "\n",
       "    .dataframe tbody tr th {\n",
       "        vertical-align: top;\n",
       "    }\n",
       "\n",
       "    .dataframe thead th {\n",
       "        text-align: right;\n",
       "    }\n",
       "</style>\n",
       "<table border=\"1\" class=\"dataframe\">\n",
       "  <thead>\n",
       "    <tr style=\"text-align: right;\">\n",
       "      <th></th>\n",
       "      <th>Year</th>\n",
       "      <th>Duration</th>\n",
       "      <th>Genre</th>\n",
       "      <th>Votes</th>\n",
       "      <th>Director</th>\n",
       "      <th>Actor 1</th>\n",
       "      <th>Actor 2</th>\n",
       "      <th>Actor 3</th>\n",
       "    </tr>\n",
       "  </thead>\n",
       "  <tbody>\n",
       "    <tr>\n",
       "      <th>0</th>\n",
       "      <td>2019</td>\n",
       "      <td>109</td>\n",
       "      <td>6.190741</td>\n",
       "      <td>8</td>\n",
       "      <td>7.000000</td>\n",
       "      <td>6.827112</td>\n",
       "      <td>7.000000</td>\n",
       "      <td>7.000000</td>\n",
       "    </tr>\n",
       "    <tr>\n",
       "      <th>1</th>\n",
       "      <td>2019</td>\n",
       "      <td>110</td>\n",
       "      <td>5.792333</td>\n",
       "      <td>35</td>\n",
       "      <td>4.400000</td>\n",
       "      <td>5.598501</td>\n",
       "      <td>4.400000</td>\n",
       "      <td>4.453861</td>\n",
       "    </tr>\n",
       "    <tr>\n",
       "      <th>2</th>\n",
       "      <td>1997</td>\n",
       "      <td>147</td>\n",
       "      <td>5.978972</td>\n",
       "      <td>827</td>\n",
       "      <td>5.590219</td>\n",
       "      <td>5.246126</td>\n",
       "      <td>5.774658</td>\n",
       "      <td>5.878363</td>\n",
       "    </tr>\n",
       "    <tr>\n",
       "      <th>3</th>\n",
       "      <td>2005</td>\n",
       "      <td>142</td>\n",
       "      <td>6.401041</td>\n",
       "      <td>1086</td>\n",
       "      <td>7.173496</td>\n",
       "      <td>5.653301</td>\n",
       "      <td>6.702394</td>\n",
       "      <td>6.198561</td>\n",
       "    </tr>\n",
       "    <tr>\n",
       "      <th>4</th>\n",
       "      <td>2012</td>\n",
       "      <td>82</td>\n",
       "      <td>5.706343</td>\n",
       "      <td>326</td>\n",
       "      <td>5.600000</td>\n",
       "      <td>5.600000</td>\n",
       "      <td>5.884089</td>\n",
       "      <td>5.600000</td>\n",
       "    </tr>\n",
       "    <tr>\n",
       "      <th>...</th>\n",
       "      <td>...</td>\n",
       "      <td>...</td>\n",
       "      <td>...</td>\n",
       "      <td>...</td>\n",
       "      <td>...</td>\n",
       "      <td>...</td>\n",
       "      <td>...</td>\n",
       "      <td>...</td>\n",
       "    </tr>\n",
       "    <tr>\n",
       "      <th>5652</th>\n",
       "      <td>2015</td>\n",
       "      <td>115</td>\n",
       "      <td>6.190741</td>\n",
       "      <td>408</td>\n",
       "      <td>6.100000</td>\n",
       "      <td>6.126083</td>\n",
       "      <td>6.100000</td>\n",
       "      <td>5.852186</td>\n",
       "    </tr>\n",
       "    <tr>\n",
       "      <th>5653</th>\n",
       "      <td>2001</td>\n",
       "      <td>153</td>\n",
       "      <td>6.570957</td>\n",
       "      <td>1496</td>\n",
       "      <td>6.968314</td>\n",
       "      <td>5.248634</td>\n",
       "      <td>5.844167</td>\n",
       "      <td>5.789483</td>\n",
       "    </tr>\n",
       "    <tr>\n",
       "      <th>5654</th>\n",
       "      <td>1989</td>\n",
       "      <td>125</td>\n",
       "      <td>5.801954</td>\n",
       "      <td>44</td>\n",
       "      <td>6.203445</td>\n",
       "      <td>6.208974</td>\n",
       "      <td>5.800000</td>\n",
       "      <td>6.016249</td>\n",
       "    </tr>\n",
       "    <tr>\n",
       "      <th>5655</th>\n",
       "      <td>1999</td>\n",
       "      <td>129</td>\n",
       "      <td>5.676591</td>\n",
       "      <td>655</td>\n",
       "      <td>5.375500</td>\n",
       "      <td>5.582148</td>\n",
       "      <td>4.911970</td>\n",
       "      <td>5.803593</td>\n",
       "    </tr>\n",
       "    <tr>\n",
       "      <th>5656</th>\n",
       "      <td>1998</td>\n",
       "      <td>130</td>\n",
       "      <td>5.676591</td>\n",
       "      <td>20</td>\n",
       "      <td>4.990634</td>\n",
       "      <td>5.908137</td>\n",
       "      <td>5.744632</td>\n",
       "      <td>5.854039</td>\n",
       "    </tr>\n",
       "  </tbody>\n",
       "</table>\n",
       "<p>5545 rows × 8 columns</p>\n",
       "</div>"
      ],
      "text/plain": [
       "      Year  Duration     Genre  Votes  Director   Actor 1   Actor 2   Actor 3\n",
       "0     2019       109  6.190741      8  7.000000  6.827112  7.000000  7.000000\n",
       "1     2019       110  5.792333     35  4.400000  5.598501  4.400000  4.453861\n",
       "2     1997       147  5.978972    827  5.590219  5.246126  5.774658  5.878363\n",
       "3     2005       142  6.401041   1086  7.173496  5.653301  6.702394  6.198561\n",
       "4     2012        82  5.706343    326  5.600000  5.600000  5.884089  5.600000\n",
       "...    ...       ...       ...    ...       ...       ...       ...       ...\n",
       "5652  2015       115  6.190741    408  6.100000  6.126083  6.100000  5.852186\n",
       "5653  2001       153  6.570957   1496  6.968314  5.248634  5.844167  5.789483\n",
       "5654  1989       125  5.801954     44  6.203445  6.208974  5.800000  6.016249\n",
       "5655  1999       129  5.676591    655  5.375500  5.582148  4.911970  5.803593\n",
       "5656  1998       130  5.676591     20  4.990634  5.908137  5.744632  5.854039\n",
       "\n",
       "[5545 rows x 8 columns]"
      ]
     },
     "execution_count": 45,
     "metadata": {},
     "output_type": "execute_result"
    }
   ],
   "source": [
    "X"
   ]
  },
  {
   "cell_type": "markdown",
   "id": "2a7b89c0",
   "metadata": {
    "papermill": {
     "duration": 0.035715,
     "end_time": "2024-09-02T07:55:11.577408",
     "exception": false,
     "start_time": "2024-09-02T07:55:11.541693",
     "status": "completed"
    },
    "tags": []
   },
   "source": [
    "# Normalizing data using Robust scaler"
   ]
  },
  {
   "cell_type": "code",
   "execution_count": 46,
   "id": "5a2abc4d",
   "metadata": {
    "ExecuteTime": {
     "end_time": "2024-06-23T23:34:47.022431Z",
     "start_time": "2024-06-23T23:34:47.007792Z"
    },
    "execution": {
     "iopub.execute_input": "2024-09-02T07:55:11.650064Z",
     "iopub.status.busy": "2024-09-02T07:55:11.649648Z",
     "iopub.status.idle": "2024-09-02T07:55:11.667647Z",
     "shell.execute_reply": "2024-09-02T07:55:11.666539Z"
    },
    "papermill": {
     "duration": 0.058349,
     "end_time": "2024-09-02T07:55:11.670853",
     "exception": false,
     "start_time": "2024-09-02T07:55:11.612504",
     "status": "completed"
    },
    "tags": []
   },
   "outputs": [],
   "source": [
    "scaler = RobustScaler()\n",
    "scaler.fit(X)\n",
    "X.loc[:,:] = scaler.transform(X.loc[:,:])"
   ]
  },
  {
   "cell_type": "code",
   "execution_count": 47,
   "id": "c1bb32f2",
   "metadata": {
    "ExecuteTime": {
     "end_time": "2024-06-23T23:34:47.038924Z",
     "start_time": "2024-06-23T23:34:47.024438Z"
    },
    "execution": {
     "iopub.execute_input": "2024-09-02T07:55:11.744107Z",
     "iopub.status.busy": "2024-09-02T07:55:11.743672Z",
     "iopub.status.idle": "2024-09-02T07:55:11.765767Z",
     "shell.execute_reply": "2024-09-02T07:55:11.764399Z"
    },
    "papermill": {
     "duration": 0.06213,
     "end_time": "2024-09-02T07:55:11.768627",
     "exception": false,
     "start_time": "2024-09-02T07:55:11.706497",
     "status": "completed"
    },
    "tags": []
   },
   "outputs": [
    {
     "data": {
      "text/html": [
       "<div>\n",
       "<style scoped>\n",
       "    .dataframe tbody tr th:only-of-type {\n",
       "        vertical-align: middle;\n",
       "    }\n",
       "\n",
       "    .dataframe tbody tr th {\n",
       "        vertical-align: top;\n",
       "    }\n",
       "\n",
       "    .dataframe thead th {\n",
       "        text-align: right;\n",
       "    }\n",
       "</style>\n",
       "<table border=\"1\" class=\"dataframe\">\n",
       "  <thead>\n",
       "    <tr style=\"text-align: right;\">\n",
       "      <th></th>\n",
       "      <th>Year</th>\n",
       "      <th>Duration</th>\n",
       "      <th>Genre</th>\n",
       "      <th>Votes</th>\n",
       "      <th>Director</th>\n",
       "      <th>Actor 1</th>\n",
       "      <th>Actor 2</th>\n",
       "      <th>Actor 3</th>\n",
       "    </tr>\n",
       "  </thead>\n",
       "  <tbody>\n",
       "    <tr>\n",
       "      <th>0</th>\n",
       "      <td>0.580645</td>\n",
       "      <td>-0.838710</td>\n",
       "      <td>0.625425</td>\n",
       "      <td>-0.141657</td>\n",
       "      <td>1.049219</td>\n",
       "      <td>1.058406</td>\n",
       "      <td>1.166050</td>\n",
       "      <td>1.244936</td>\n",
       "    </tr>\n",
       "    <tr>\n",
       "      <th>1</th>\n",
       "      <td>0.580645</td>\n",
       "      <td>-0.806452</td>\n",
       "      <td>-0.167667</td>\n",
       "      <td>-0.109244</td>\n",
       "      <td>-1.479828</td>\n",
       "      <td>-0.378927</td>\n",
       "      <td>-1.662776</td>\n",
       "      <td>-1.689504</td>\n",
       "    </tr>\n",
       "    <tr>\n",
       "      <th>2</th>\n",
       "      <td>-0.129032</td>\n",
       "      <td>0.387097</td>\n",
       "      <td>0.203867</td>\n",
       "      <td>0.841537</td>\n",
       "      <td>-0.322090</td>\n",
       "      <td>-0.791165</td>\n",
       "      <td>-0.167134</td>\n",
       "      <td>-0.047758</td>\n",
       "    </tr>\n",
       "    <tr>\n",
       "      <th>3</th>\n",
       "      <td>0.129032</td>\n",
       "      <td>0.225806</td>\n",
       "      <td>1.044060</td>\n",
       "      <td>1.152461</td>\n",
       "      <td>1.217981</td>\n",
       "      <td>-0.314818</td>\n",
       "      <td>0.842252</td>\n",
       "      <td>0.321273</td>\n",
       "    </tr>\n",
       "    <tr>\n",
       "      <th>4</th>\n",
       "      <td>0.354839</td>\n",
       "      <td>-1.709677</td>\n",
       "      <td>-0.338843</td>\n",
       "      <td>0.240096</td>\n",
       "      <td>-0.312576</td>\n",
       "      <td>-0.377173</td>\n",
       "      <td>-0.048072</td>\n",
       "      <td>-0.368572</td>\n",
       "    </tr>\n",
       "    <tr>\n",
       "      <th>...</th>\n",
       "      <td>...</td>\n",
       "      <td>...</td>\n",
       "      <td>...</td>\n",
       "      <td>...</td>\n",
       "      <td>...</td>\n",
       "      <td>...</td>\n",
       "      <td>...</td>\n",
       "      <td>...</td>\n",
       "    </tr>\n",
       "    <tr>\n",
       "      <th>5652</th>\n",
       "      <td>0.451613</td>\n",
       "      <td>-0.645161</td>\n",
       "      <td>0.625425</td>\n",
       "      <td>0.338535</td>\n",
       "      <td>0.173780</td>\n",
       "      <td>0.238283</td>\n",
       "      <td>0.186841</td>\n",
       "      <td>-0.077927</td>\n",
       "    </tr>\n",
       "    <tr>\n",
       "      <th>5653</th>\n",
       "      <td>0.000000</td>\n",
       "      <td>0.580645</td>\n",
       "      <td>1.382303</td>\n",
       "      <td>1.644658</td>\n",
       "      <td>1.018398</td>\n",
       "      <td>-0.788231</td>\n",
       "      <td>-0.091508</td>\n",
       "      <td>-0.150192</td>\n",
       "    </tr>\n",
       "    <tr>\n",
       "      <th>5654</th>\n",
       "      <td>-0.387097</td>\n",
       "      <td>-0.322581</td>\n",
       "      <td>-0.148515</td>\n",
       "      <td>-0.098439</td>\n",
       "      <td>0.274402</td>\n",
       "      <td>0.335256</td>\n",
       "      <td>-0.139562</td>\n",
       "      <td>0.111157</td>\n",
       "    </tr>\n",
       "    <tr>\n",
       "      <th>5655</th>\n",
       "      <td>-0.064516</td>\n",
       "      <td>-0.193548</td>\n",
       "      <td>-0.398070</td>\n",
       "      <td>0.635054</td>\n",
       "      <td>-0.530949</td>\n",
       "      <td>-0.398058</td>\n",
       "      <td>-1.105747</td>\n",
       "      <td>-0.133931</td>\n",
       "    </tr>\n",
       "    <tr>\n",
       "      <th>5656</th>\n",
       "      <td>-0.096774</td>\n",
       "      <td>-0.161290</td>\n",
       "      <td>-0.398070</td>\n",
       "      <td>-0.127251</td>\n",
       "      <td>-0.905312</td>\n",
       "      <td>-0.016689</td>\n",
       "      <td>-0.199802</td>\n",
       "      <td>-0.075791</td>\n",
       "    </tr>\n",
       "  </tbody>\n",
       "</table>\n",
       "<p>5545 rows × 8 columns</p>\n",
       "</div>"
      ],
      "text/plain": [
       "          Year  Duration     Genre     Votes  Director   Actor 1   Actor 2  \\\n",
       "0     0.580645 -0.838710  0.625425 -0.141657  1.049219  1.058406  1.166050   \n",
       "1     0.580645 -0.806452 -0.167667 -0.109244 -1.479828 -0.378927 -1.662776   \n",
       "2    -0.129032  0.387097  0.203867  0.841537 -0.322090 -0.791165 -0.167134   \n",
       "3     0.129032  0.225806  1.044060  1.152461  1.217981 -0.314818  0.842252   \n",
       "4     0.354839 -1.709677 -0.338843  0.240096 -0.312576 -0.377173 -0.048072   \n",
       "...        ...       ...       ...       ...       ...       ...       ...   \n",
       "5652  0.451613 -0.645161  0.625425  0.338535  0.173780  0.238283  0.186841   \n",
       "5653  0.000000  0.580645  1.382303  1.644658  1.018398 -0.788231 -0.091508   \n",
       "5654 -0.387097 -0.322581 -0.148515 -0.098439  0.274402  0.335256 -0.139562   \n",
       "5655 -0.064516 -0.193548 -0.398070  0.635054 -0.530949 -0.398058 -1.105747   \n",
       "5656 -0.096774 -0.161290 -0.398070 -0.127251 -0.905312 -0.016689 -0.199802   \n",
       "\n",
       "       Actor 3  \n",
       "0     1.244936  \n",
       "1    -1.689504  \n",
       "2    -0.047758  \n",
       "3     0.321273  \n",
       "4    -0.368572  \n",
       "...        ...  \n",
       "5652 -0.077927  \n",
       "5653 -0.150192  \n",
       "5654  0.111157  \n",
       "5655 -0.133931  \n",
       "5656 -0.075791  \n",
       "\n",
       "[5545 rows x 8 columns]"
      ]
     },
     "execution_count": 47,
     "metadata": {},
     "output_type": "execute_result"
    }
   ],
   "source": [
    "X"
   ]
  },
  {
   "cell_type": "markdown",
   "id": "4f4aa633",
   "metadata": {
    "papermill": {
     "duration": 0.036294,
     "end_time": "2024-09-02T07:55:11.840251",
     "exception": false,
     "start_time": "2024-09-02T07:55:11.803957",
     "status": "completed"
    },
    "tags": []
   },
   "source": [
    "# Training XGBoost model"
   ]
  },
  {
   "cell_type": "code",
   "execution_count": 48,
   "id": "518ea541",
   "metadata": {
    "ExecuteTime": {
     "end_time": "2024-06-23T23:34:47.050773Z",
     "start_time": "2024-06-23T23:34:47.040934Z"
    },
    "execution": {
     "iopub.execute_input": "2024-09-02T07:55:11.913090Z",
     "iopub.status.busy": "2024-09-02T07:55:11.912661Z",
     "iopub.status.idle": "2024-09-02T07:55:11.922278Z",
     "shell.execute_reply": "2024-09-02T07:55:11.921032Z"
    },
    "papermill": {
     "duration": 0.049223,
     "end_time": "2024-09-02T07:55:11.925229",
     "exception": false,
     "start_time": "2024-09-02T07:55:11.876006",
     "status": "completed"
    },
    "tags": []
   },
   "outputs": [],
   "source": [
    "X_train,X_test,y_train,y_test = train_test_split(X,y,test_size=0.2,random_state=7,shuffle=True)"
   ]
  },
  {
   "cell_type": "code",
   "execution_count": 49,
   "id": "a1440a3b",
   "metadata": {
    "ExecuteTime": {
     "end_time": "2024-06-23T23:34:47.060265Z",
     "start_time": "2024-06-23T23:34:47.051779Z"
    },
    "execution": {
     "iopub.execute_input": "2024-09-02T07:55:11.998620Z",
     "iopub.status.busy": "2024-09-02T07:55:11.997488Z",
     "iopub.status.idle": "2024-09-02T07:55:12.003506Z",
     "shell.execute_reply": "2024-09-02T07:55:12.002300Z"
    },
    "papermill": {
     "duration": 0.045116,
     "end_time": "2024-09-02T07:55:12.006005",
     "exception": false,
     "start_time": "2024-09-02T07:55:11.960889",
     "status": "completed"
    },
    "tags": []
   },
   "outputs": [],
   "source": [
    "xgb_model = XGBRegressor(objective ='reg:squarederror',gamma=0.09,learning_rate=0.08,subsample=0.7)"
   ]
  },
  {
   "cell_type": "code",
   "execution_count": 50,
   "id": "e9f3ba1e",
   "metadata": {
    "ExecuteTime": {
     "end_time": "2024-06-23T23:34:47.22447Z",
     "start_time": "2024-06-23T23:34:47.063277Z"
    },
    "execution": {
     "iopub.execute_input": "2024-09-02T07:55:12.081885Z",
     "iopub.status.busy": "2024-09-02T07:55:12.081469Z",
     "iopub.status.idle": "2024-09-02T07:55:12.335850Z",
     "shell.execute_reply": "2024-09-02T07:55:12.334699Z"
    },
    "papermill": {
     "duration": 0.295954,
     "end_time": "2024-09-02T07:55:12.339136",
     "exception": false,
     "start_time": "2024-09-02T07:55:12.043182",
     "status": "completed"
    },
    "tags": []
   },
   "outputs": [
    {
     "data": {
      "text/html": [
       "<style>#sk-container-id-1 {color: black;background-color: white;}#sk-container-id-1 pre{padding: 0;}#sk-container-id-1 div.sk-toggleable {background-color: white;}#sk-container-id-1 label.sk-toggleable__label {cursor: pointer;display: block;width: 100%;margin-bottom: 0;padding: 0.3em;box-sizing: border-box;text-align: center;}#sk-container-id-1 label.sk-toggleable__label-arrow:before {content: \"▸\";float: left;margin-right: 0.25em;color: #696969;}#sk-container-id-1 label.sk-toggleable__label-arrow:hover:before {color: black;}#sk-container-id-1 div.sk-estimator:hover label.sk-toggleable__label-arrow:before {color: black;}#sk-container-id-1 div.sk-toggleable__content {max-height: 0;max-width: 0;overflow: hidden;text-align: left;background-color: #f0f8ff;}#sk-container-id-1 div.sk-toggleable__content pre {margin: 0.2em;color: black;border-radius: 0.25em;background-color: #f0f8ff;}#sk-container-id-1 input.sk-toggleable__control:checked~div.sk-toggleable__content {max-height: 200px;max-width: 100%;overflow: auto;}#sk-container-id-1 input.sk-toggleable__control:checked~label.sk-toggleable__label-arrow:before {content: \"▾\";}#sk-container-id-1 div.sk-estimator input.sk-toggleable__control:checked~label.sk-toggleable__label {background-color: #d4ebff;}#sk-container-id-1 div.sk-label input.sk-toggleable__control:checked~label.sk-toggleable__label {background-color: #d4ebff;}#sk-container-id-1 input.sk-hidden--visually {border: 0;clip: rect(1px 1px 1px 1px);clip: rect(1px, 1px, 1px, 1px);height: 1px;margin: -1px;overflow: hidden;padding: 0;position: absolute;width: 1px;}#sk-container-id-1 div.sk-estimator {font-family: monospace;background-color: #f0f8ff;border: 1px dotted black;border-radius: 0.25em;box-sizing: border-box;margin-bottom: 0.5em;}#sk-container-id-1 div.sk-estimator:hover {background-color: #d4ebff;}#sk-container-id-1 div.sk-parallel-item::after {content: \"\";width: 100%;border-bottom: 1px solid gray;flex-grow: 1;}#sk-container-id-1 div.sk-label:hover label.sk-toggleable__label {background-color: #d4ebff;}#sk-container-id-1 div.sk-serial::before {content: \"\";position: absolute;border-left: 1px solid gray;box-sizing: border-box;top: 0;bottom: 0;left: 50%;z-index: 0;}#sk-container-id-1 div.sk-serial {display: flex;flex-direction: column;align-items: center;background-color: white;padding-right: 0.2em;padding-left: 0.2em;position: relative;}#sk-container-id-1 div.sk-item {position: relative;z-index: 1;}#sk-container-id-1 div.sk-parallel {display: flex;align-items: stretch;justify-content: center;background-color: white;position: relative;}#sk-container-id-1 div.sk-item::before, #sk-container-id-1 div.sk-parallel-item::before {content: \"\";position: absolute;border-left: 1px solid gray;box-sizing: border-box;top: 0;bottom: 0;left: 50%;z-index: -1;}#sk-container-id-1 div.sk-parallel-item {display: flex;flex-direction: column;z-index: 1;position: relative;background-color: white;}#sk-container-id-1 div.sk-parallel-item:first-child::after {align-self: flex-end;width: 50%;}#sk-container-id-1 div.sk-parallel-item:last-child::after {align-self: flex-start;width: 50%;}#sk-container-id-1 div.sk-parallel-item:only-child::after {width: 0;}#sk-container-id-1 div.sk-dashed-wrapped {border: 1px dashed gray;margin: 0 0.4em 0.5em 0.4em;box-sizing: border-box;padding-bottom: 0.4em;background-color: white;}#sk-container-id-1 div.sk-label label {font-family: monospace;font-weight: bold;display: inline-block;line-height: 1.2em;}#sk-container-id-1 div.sk-label-container {text-align: center;}#sk-container-id-1 div.sk-container {/* jupyter's `normalize.less` sets `[hidden] { display: none; }` but bootstrap.min.css set `[hidden] { display: none !important; }` so we also need the `!important` here to be able to override the default hidden behavior on the sphinx rendered scikit-learn.org. See: https://github.com/scikit-learn/scikit-learn/issues/21755 */display: inline-block !important;position: relative;}#sk-container-id-1 div.sk-text-repr-fallback {display: none;}</style><div id=\"sk-container-id-1\" class=\"sk-top-container\"><div class=\"sk-text-repr-fallback\"><pre>XGBRegressor(base_score=None, booster=None, callbacks=None,\n",
       "             colsample_bylevel=None, colsample_bynode=None,\n",
       "             colsample_bytree=None, device=None, early_stopping_rounds=None,\n",
       "             enable_categorical=False, eval_metric=None, feature_types=None,\n",
       "             gamma=0.09, grow_policy=None, importance_type=None,\n",
       "             interaction_constraints=None, learning_rate=0.08, max_bin=None,\n",
       "             max_cat_threshold=None, max_cat_to_onehot=None,\n",
       "             max_delta_step=None, max_depth=None, max_leaves=None,\n",
       "             min_child_weight=None, missing=nan, monotone_constraints=None,\n",
       "             multi_strategy=None, n_estimators=None, n_jobs=None,\n",
       "             num_parallel_tree=None, random_state=None, ...)</pre><b>In a Jupyter environment, please rerun this cell to show the HTML representation or trust the notebook. <br />On GitHub, the HTML representation is unable to render, please try loading this page with nbviewer.org.</b></div><div class=\"sk-container\" hidden><div class=\"sk-item\"><div class=\"sk-estimator sk-toggleable\"><input class=\"sk-toggleable__control sk-hidden--visually\" id=\"sk-estimator-id-1\" type=\"checkbox\" checked><label for=\"sk-estimator-id-1\" class=\"sk-toggleable__label sk-toggleable__label-arrow\">XGBRegressor</label><div class=\"sk-toggleable__content\"><pre>XGBRegressor(base_score=None, booster=None, callbacks=None,\n",
       "             colsample_bylevel=None, colsample_bynode=None,\n",
       "             colsample_bytree=None, device=None, early_stopping_rounds=None,\n",
       "             enable_categorical=False, eval_metric=None, feature_types=None,\n",
       "             gamma=0.09, grow_policy=None, importance_type=None,\n",
       "             interaction_constraints=None, learning_rate=0.08, max_bin=None,\n",
       "             max_cat_threshold=None, max_cat_to_onehot=None,\n",
       "             max_delta_step=None, max_depth=None, max_leaves=None,\n",
       "             min_child_weight=None, missing=nan, monotone_constraints=None,\n",
       "             multi_strategy=None, n_estimators=None, n_jobs=None,\n",
       "             num_parallel_tree=None, random_state=None, ...)</pre></div></div></div></div></div>"
      ],
      "text/plain": [
       "XGBRegressor(base_score=None, booster=None, callbacks=None,\n",
       "             colsample_bylevel=None, colsample_bynode=None,\n",
       "             colsample_bytree=None, device=None, early_stopping_rounds=None,\n",
       "             enable_categorical=False, eval_metric=None, feature_types=None,\n",
       "             gamma=0.09, grow_policy=None, importance_type=None,\n",
       "             interaction_constraints=None, learning_rate=0.08, max_bin=None,\n",
       "             max_cat_threshold=None, max_cat_to_onehot=None,\n",
       "             max_delta_step=None, max_depth=None, max_leaves=None,\n",
       "             min_child_weight=None, missing=nan, monotone_constraints=None,\n",
       "             multi_strategy=None, n_estimators=None, n_jobs=None,\n",
       "             num_parallel_tree=None, random_state=None, ...)"
      ]
     },
     "execution_count": 50,
     "metadata": {},
     "output_type": "execute_result"
    }
   ],
   "source": [
    "xgb_model.fit(X_train,y_train)"
   ]
  },
  {
   "cell_type": "markdown",
   "id": "cd41c736",
   "metadata": {
    "papermill": {
     "duration": 0.035182,
     "end_time": "2024-09-02T07:55:12.411750",
     "exception": false,
     "start_time": "2024-09-02T07:55:12.376568",
     "status": "completed"
    },
    "tags": []
   },
   "source": [
    "# Evaluating XGBoost model"
   ]
  },
  {
   "cell_type": "code",
   "execution_count": 51,
   "id": "de8eac03",
   "metadata": {
    "ExecuteTime": {
     "end_time": "2024-06-23T23:34:47.244647Z",
     "start_time": "2024-06-23T23:34:47.226482Z"
    },
    "execution": {
     "iopub.execute_input": "2024-09-02T07:55:12.489519Z",
     "iopub.status.busy": "2024-09-02T07:55:12.489086Z",
     "iopub.status.idle": "2024-09-02T07:55:12.510458Z",
     "shell.execute_reply": "2024-09-02T07:55:12.508142Z"
    },
    "papermill": {
     "duration": 0.062775,
     "end_time": "2024-09-02T07:55:12.513919",
     "exception": false,
     "start_time": "2024-09-02T07:55:12.451144",
     "status": "completed"
    },
    "tags": []
   },
   "outputs": [
    {
     "data": {
      "text/plain": [
       "0.9303447793703494"
      ]
     },
     "execution_count": 51,
     "metadata": {},
     "output_type": "execute_result"
    }
   ],
   "source": [
    "xgb_model.score(X_train,y_train)"
   ]
  },
  {
   "cell_type": "code",
   "execution_count": 52,
   "id": "58e56b2d",
   "metadata": {
    "ExecuteTime": {
     "end_time": "2024-06-23T23:34:47.259501Z",
     "start_time": "2024-06-23T23:34:47.24818Z"
    },
    "execution": {
     "iopub.execute_input": "2024-09-02T07:55:12.596037Z",
     "iopub.status.busy": "2024-09-02T07:55:12.595602Z",
     "iopub.status.idle": "2024-09-02T07:55:12.612575Z",
     "shell.execute_reply": "2024-09-02T07:55:12.611013Z"
    },
    "papermill": {
     "duration": 0.061834,
     "end_time": "2024-09-02T07:55:12.617102",
     "exception": false,
     "start_time": "2024-09-02T07:55:12.555268",
     "status": "completed"
    },
    "tags": []
   },
   "outputs": [
    {
     "data": {
      "text/plain": [
       "0.858351669095752"
      ]
     },
     "execution_count": 52,
     "metadata": {},
     "output_type": "execute_result"
    }
   ],
   "source": [
    "xgb_model.score(X_test,y_test)"
   ]
  },
  {
   "cell_type": "code",
   "execution_count": 53,
   "id": "73fc779a",
   "metadata": {
    "ExecuteTime": {
     "end_time": "2024-06-23T23:34:47.276245Z",
     "start_time": "2024-06-23T23:34:47.262518Z"
    },
    "execution": {
     "iopub.execute_input": "2024-09-02T07:55:12.696826Z",
     "iopub.status.busy": "2024-09-02T07:55:12.696373Z",
     "iopub.status.idle": "2024-09-02T07:55:12.717596Z",
     "shell.execute_reply": "2024-09-02T07:55:12.716544Z"
    },
    "papermill": {
     "duration": 0.063836,
     "end_time": "2024-09-02T07:55:12.720386",
     "exception": false,
     "start_time": "2024-09-02T07:55:12.656550",
     "status": "completed"
    },
    "tags": []
   },
   "outputs": [
    {
     "name": "stdout",
     "output_type": "stream",
     "text": [
      "Report:Lgbm model\n",
      "explained_variance:  0.8584\n",
      "mean_squared_log_error:  0.0064\n",
      "r2:  0.8584\n",
      "MAE:  0.3425\n",
      "MSE:  0.2459\n",
      "RMSE:  0.4959\n",
      "Median absolute error:  0.2255\n",
      "None\n",
      "\n"
     ]
    }
   ],
   "source": [
    "y_pred = xgb_model.predict(X_test)\n",
    "print(f\"Report:Lgbm model\")\n",
    "print(f\"{regression_results(y_test, y_pred)}\\n\")"
   ]
  },
  {
   "cell_type": "code",
   "execution_count": 54,
   "id": "1efd74dd",
   "metadata": {
    "execution": {
     "iopub.execute_input": "2024-09-02T07:55:12.796833Z",
     "iopub.status.busy": "2024-09-02T07:55:12.796428Z",
     "iopub.status.idle": "2024-09-02T07:55:14.819899Z",
     "shell.execute_reply": "2024-09-02T07:55:14.818886Z"
    },
    "papermill": {
     "duration": 2.067766,
     "end_time": "2024-09-02T07:55:14.825018",
     "exception": false,
     "start_time": "2024-09-02T07:55:12.757252",
     "status": "completed"
    },
    "tags": []
   },
   "outputs": [
    {
     "name": "stdout",
     "output_type": "stream",
     "text": [
      "cross validation score for XGBoost:[0.84958444 0.85796474 0.86210572 0.86311445 0.86657358 0.86424627\n",
      " 0.85113039 0.84348962 0.82976873 0.88102786]\n",
      "average cross validation score for XGBoost:0.8569005800073872\n",
      "\n"
     ]
    }
   ],
   "source": [
    "score = cross_val_score(xgb_model,X,y,cv=10)\n",
    "avg = np.mean(score)\n",
    "print(f\"cross validation score for XGBoost:{score}\")\n",
    "print(f\"average cross validation score for XGBoost:{avg}\\n\")"
   ]
  },
  {
   "cell_type": "markdown",
   "id": "edee3b6f",
   "metadata": {
    "papermill": {
     "duration": 0.036295,
     "end_time": "2024-09-02T07:55:14.902374",
     "exception": false,
     "start_time": "2024-09-02T07:55:14.866079",
     "status": "completed"
    },
    "tags": []
   },
   "source": [
    "## Feature importances by the model"
   ]
  },
  {
   "cell_type": "code",
   "execution_count": 55,
   "id": "dc217f23",
   "metadata": {
    "ExecuteTime": {
     "end_time": "2024-06-23T23:34:47.52951Z",
     "start_time": "2024-06-23T23:34:47.27878Z"
    },
    "execution": {
     "iopub.execute_input": "2024-09-02T07:55:14.979368Z",
     "iopub.status.busy": "2024-09-02T07:55:14.978913Z",
     "iopub.status.idle": "2024-09-02T07:55:15.480599Z",
     "shell.execute_reply": "2024-09-02T07:55:15.479189Z"
    },
    "papermill": {
     "duration": 0.544704,
     "end_time": "2024-09-02T07:55:15.484677",
     "exception": false,
     "start_time": "2024-09-02T07:55:14.939973",
     "status": "completed"
    },
    "tags": []
   },
   "outputs": [
    {
     "data": {
      "image/png": "[encoded data removed]",
      "text/plain": [
       "<Figure size 1200x900 with 1 Axes>"
      ]
     },
     "metadata": {},
     "output_type": "display_data"
    }
   ],
   "source": [
    "# Assuming 'xgb_model' is your trained model and 'X' is your DataFrame\n",
    "fs = xgb_model.feature_importances_\n",
    "feature_names = X.columns\n",
    "\n",
    "# Create a DataFrame for feature importances\n",
    "feature_importances = pd.DataFrame({'Feature': feature_names, 'Importance': fs}).sort_values(by='Importance', ascending=False)\n",
    "\n",
    "# Plot using Seaborn\n",
    "plt.figure(figsize=(12, 9))\n",
    "sns.barplot(x='Importance', y='Feature', data=feature_importances, palette='viridis')\n",
    "plt.title(\"Feature Importances\")\n",
    "plt.xlabel(\"Importance\")\n",
    "plt.ylabel(\"Feature\")\n",
    "plt.show()\n"
   ]
  },
  {
   "cell_type": "markdown",
   "id": "1aa3559b",
   "metadata": {
    "papermill": {
     "duration": 0.040935,
     "end_time": "2024-09-02T07:55:15.567128",
     "exception": false,
     "start_time": "2024-09-02T07:55:15.526193",
     "status": "completed"
    },
    "tags": []
   },
   "source": [
    "# Here we try to predict new data we chose data close to row 10 of the head"
   ]
  },
  {
   "cell_type": "code",
   "execution_count": 56,
   "id": "a119ce4e",
   "metadata": {
    "ExecuteTime": {
     "end_time": "2024-06-23T23:34:47.544562Z",
     "start_time": "2024-06-23T23:34:47.531519Z"
    },
    "execution": {
     "iopub.execute_input": "2024-09-02T07:55:15.651017Z",
     "iopub.status.busy": "2024-09-02T07:55:15.650596Z",
     "iopub.status.idle": "2024-09-02T07:55:15.674293Z",
     "shell.execute_reply": "2024-09-02T07:55:15.672827Z"
    },
    "papermill": {
     "duration": 0.067636,
     "end_time": "2024-09-02T07:55:15.677233",
     "exception": false,
     "start_time": "2024-09-02T07:55:15.609597",
     "status": "completed"
    },
    "tags": []
   },
   "outputs": [
    {
     "data": {
      "text/html": [
       "<div>\n",
       "<style scoped>\n",
       "    .dataframe tbody tr th:only-of-type {\n",
       "        vertical-align: middle;\n",
       "    }\n",
       "\n",
       "    .dataframe tbody tr th {\n",
       "        vertical-align: top;\n",
       "    }\n",
       "\n",
       "    .dataframe thead th {\n",
       "        text-align: right;\n",
       "    }\n",
       "</style>\n",
       "<table border=\"1\" class=\"dataframe\">\n",
       "  <thead>\n",
       "    <tr style=\"text-align: right;\">\n",
       "      <th></th>\n",
       "      <th>Year</th>\n",
       "      <th>Duration</th>\n",
       "      <th>Genre</th>\n",
       "      <th>Rating</th>\n",
       "      <th>Votes</th>\n",
       "      <th>Director</th>\n",
       "      <th>Actor 1</th>\n",
       "      <th>Actor 2</th>\n",
       "      <th>Actor 3</th>\n",
       "    </tr>\n",
       "  </thead>\n",
       "  <tbody>\n",
       "    <tr>\n",
       "      <th>0</th>\n",
       "      <td>2019</td>\n",
       "      <td>109</td>\n",
       "      <td>Drama</td>\n",
       "      <td>7.0</td>\n",
       "      <td>8</td>\n",
       "      <td>Gaurav Bakshi</td>\n",
       "      <td>Rasika Dugal</td>\n",
       "      <td>Vivek Ghamande</td>\n",
       "      <td>Arvind Jangid</td>\n",
       "    </tr>\n",
       "    <tr>\n",
       "      <th>1</th>\n",
       "      <td>2019</td>\n",
       "      <td>110</td>\n",
       "      <td>Comedy, Romance</td>\n",
       "      <td>4.4</td>\n",
       "      <td>35</td>\n",
       "      <td>Ovais Khan</td>\n",
       "      <td>Prateik</td>\n",
       "      <td>Ishita Raj</td>\n",
       "      <td>Siddhant Kapoor</td>\n",
       "    </tr>\n",
       "    <tr>\n",
       "      <th>2</th>\n",
       "      <td>1997</td>\n",
       "      <td>147</td>\n",
       "      <td>Comedy, Drama, Music</td>\n",
       "      <td>4.7</td>\n",
       "      <td>827</td>\n",
       "      <td>Rahul Rawail</td>\n",
       "      <td>Bobby Deol</td>\n",
       "      <td>Aishwarya Rai Bachchan</td>\n",
       "      <td>Shammi Kapoor</td>\n",
       "    </tr>\n",
       "    <tr>\n",
       "      <th>3</th>\n",
       "      <td>2005</td>\n",
       "      <td>142</td>\n",
       "      <td>Drama, Romance, War</td>\n",
       "      <td>7.4</td>\n",
       "      <td>1086</td>\n",
       "      <td>Shoojit Sircar</td>\n",
       "      <td>Jimmy Sheirgill</td>\n",
       "      <td>Minissha Lamba</td>\n",
       "      <td>Yashpal Sharma</td>\n",
       "    </tr>\n",
       "    <tr>\n",
       "      <th>4</th>\n",
       "      <td>2012</td>\n",
       "      <td>82</td>\n",
       "      <td>Horror, Mystery, Thriller</td>\n",
       "      <td>5.6</td>\n",
       "      <td>326</td>\n",
       "      <td>Allyson Patel</td>\n",
       "      <td>Yash Dave</td>\n",
       "      <td>Muntazir Ahmad</td>\n",
       "      <td>Kiran Bhatia</td>\n",
       "    </tr>\n",
       "    <tr>\n",
       "      <th>5</th>\n",
       "      <td>2014</td>\n",
       "      <td>116</td>\n",
       "      <td>Action, Crime, Thriller</td>\n",
       "      <td>4.0</td>\n",
       "      <td>11</td>\n",
       "      <td>Biju Bhaskar Nair</td>\n",
       "      <td>Augustine</td>\n",
       "      <td>Fathima Babu</td>\n",
       "      <td>Byon</td>\n",
       "    </tr>\n",
       "    <tr>\n",
       "      <th>6</th>\n",
       "      <td>2004</td>\n",
       "      <td>96</td>\n",
       "      <td>Drama</td>\n",
       "      <td>6.2</td>\n",
       "      <td>17</td>\n",
       "      <td>Madhu Ambat</td>\n",
       "      <td>Rati Agnihotri</td>\n",
       "      <td>Gulshan Grover</td>\n",
       "      <td>Atul Kulkarni</td>\n",
       "    </tr>\n",
       "    <tr>\n",
       "      <th>7</th>\n",
       "      <td>2016</td>\n",
       "      <td>120</td>\n",
       "      <td>Horror</td>\n",
       "      <td>5.9</td>\n",
       "      <td>59</td>\n",
       "      <td>Arshad Siddiqui</td>\n",
       "      <td>Pankaj Berry</td>\n",
       "      <td>Anubhav Dhir</td>\n",
       "      <td>Hritu Dudani</td>\n",
       "    </tr>\n",
       "    <tr>\n",
       "      <th>8</th>\n",
       "      <td>1991</td>\n",
       "      <td>161</td>\n",
       "      <td>Horror, Romance, Thriller</td>\n",
       "      <td>6.5</td>\n",
       "      <td>983</td>\n",
       "      <td>Partho Ghosh</td>\n",
       "      <td>Jackie Shroff</td>\n",
       "      <td>Madhuri Dixit</td>\n",
       "      <td>Javed Jaffrey</td>\n",
       "    </tr>\n",
       "    <tr>\n",
       "      <th>9</th>\n",
       "      <td>2012</td>\n",
       "      <td>166</td>\n",
       "      <td>Comedy, Drama, Romance</td>\n",
       "      <td>5.7</td>\n",
       "      <td>512</td>\n",
       "      <td>Rabi Kinagi</td>\n",
       "      <td>Jeet</td>\n",
       "      <td>Koyel Mallick</td>\n",
       "      <td>Sujoy Ghosh</td>\n",
       "    </tr>\n",
       "    <tr>\n",
       "      <th>10</th>\n",
       "      <td>2018</td>\n",
       "      <td>102</td>\n",
       "      <td>Comedy, Drama</td>\n",
       "      <td>7.4</td>\n",
       "      <td>6619</td>\n",
       "      <td>Umesh Shukla</td>\n",
       "      <td>Amitabh Bachchan</td>\n",
       "      <td>Rishi Kapoor</td>\n",
       "      <td>Vijay Raaz</td>\n",
       "    </tr>\n",
       "    <tr>\n",
       "      <th>11</th>\n",
       "      <td>2010</td>\n",
       "      <td>87</td>\n",
       "      <td>Comedy, Drama, Romance</td>\n",
       "      <td>6.3</td>\n",
       "      <td>162</td>\n",
       "      <td>Sharat Katariya</td>\n",
       "      <td>Neil Bhoopalam</td>\n",
       "      <td>Anusha Bose</td>\n",
       "      <td>Manu Rishi Chadha</td>\n",
       "    </tr>\n",
       "    <tr>\n",
       "      <th>12</th>\n",
       "      <td>1958</td>\n",
       "      <td>132</td>\n",
       "      <td>Crime, Drama, Mystery</td>\n",
       "      <td>7.2</td>\n",
       "      <td>72</td>\n",
       "      <td>Pramod Chakravorty</td>\n",
       "      <td>Guru Dutt</td>\n",
       "      <td>Waheeda Rehman</td>\n",
       "      <td>Shashikala</td>\n",
       "    </tr>\n",
       "    <tr>\n",
       "      <th>13</th>\n",
       "      <td>2021</td>\n",
       "      <td>105</td>\n",
       "      <td>Horror, Thriller</td>\n",
       "      <td>4.4</td>\n",
       "      <td>63</td>\n",
       "      <td>Ram Gopal Varma</td>\n",
       "      <td>Mithun Chakraborty</td>\n",
       "      <td>Makrand Deshpande</td>\n",
       "      <td>Dalip Tahil</td>\n",
       "    </tr>\n",
       "    <tr>\n",
       "      <th>14</th>\n",
       "      <td>2017</td>\n",
       "      <td>116</td>\n",
       "      <td>Comedy, Horror</td>\n",
       "      <td>6.6</td>\n",
       "      <td>26</td>\n",
       "      <td>Seshu Kmr</td>\n",
       "      <td>Mast Ali</td>\n",
       "      <td>Aziz Naser</td>\n",
       "      <td>Heena Shaik</td>\n",
       "    </tr>\n",
       "  </tbody>\n",
       "</table>\n",
       "</div>"
      ],
      "text/plain": [
       "    Year  Duration                      Genre  Rating  Votes  \\\n",
       "0   2019       109                      Drama     7.0      8   \n",
       "1   2019       110            Comedy, Romance     4.4     35   \n",
       "2   1997       147       Comedy, Drama, Music     4.7    827   \n",
       "3   2005       142        Drama, Romance, War     7.4   1086   \n",
       "4   2012        82  Horror, Mystery, Thriller     5.6    326   \n",
       "5   2014       116    Action, Crime, Thriller     4.0     11   \n",
       "6   2004        96                      Drama     6.2     17   \n",
       "7   2016       120                     Horror     5.9     59   \n",
       "8   1991       161  Horror, Romance, Thriller     6.5    983   \n",
       "9   2012       166     Comedy, Drama, Romance     5.7    512   \n",
       "10  2018       102              Comedy, Drama     7.4   6619   \n",
       "11  2010        87     Comedy, Drama, Romance     6.3    162   \n",
       "12  1958       132      Crime, Drama, Mystery     7.2     72   \n",
       "13  2021       105           Horror, Thriller     4.4     63   \n",
       "14  2017       116             Comedy, Horror     6.6     26   \n",
       "\n",
       "              Director             Actor 1                 Actor 2  \\\n",
       "0        Gaurav Bakshi        Rasika Dugal          Vivek Ghamande   \n",
       "1           Ovais Khan             Prateik              Ishita Raj   \n",
       "2         Rahul Rawail          Bobby Deol  Aishwarya Rai Bachchan   \n",
       "3       Shoojit Sircar     Jimmy Sheirgill          Minissha Lamba   \n",
       "4        Allyson Patel           Yash Dave          Muntazir Ahmad   \n",
       "5    Biju Bhaskar Nair           Augustine            Fathima Babu   \n",
       "6          Madhu Ambat      Rati Agnihotri          Gulshan Grover   \n",
       "7      Arshad Siddiqui        Pankaj Berry            Anubhav Dhir   \n",
       "8         Partho Ghosh       Jackie Shroff           Madhuri Dixit   \n",
       "9          Rabi Kinagi                Jeet           Koyel Mallick   \n",
       "10        Umesh Shukla    Amitabh Bachchan            Rishi Kapoor   \n",
       "11     Sharat Katariya      Neil Bhoopalam             Anusha Bose   \n",
       "12  Pramod Chakravorty           Guru Dutt          Waheeda Rehman   \n",
       "13     Ram Gopal Varma  Mithun Chakraborty       Makrand Deshpande   \n",
       "14           Seshu Kmr            Mast Ali              Aziz Naser   \n",
       "\n",
       "              Actor 3  \n",
       "0       Arvind Jangid  \n",
       "1     Siddhant Kapoor  \n",
       "2       Shammi Kapoor  \n",
       "3      Yashpal Sharma  \n",
       "4        Kiran Bhatia  \n",
       "5                Byon  \n",
       "6       Atul Kulkarni  \n",
       "7        Hritu Dudani  \n",
       "8       Javed Jaffrey  \n",
       "9         Sujoy Ghosh  \n",
       "10         Vijay Raaz  \n",
       "11  Manu Rishi Chadha  \n",
       "12         Shashikala  \n",
       "13        Dalip Tahil  \n",
       "14        Heena Shaik  "
      ]
     },
     "execution_count": 56,
     "metadata": {},
     "output_type": "execute_result"
    }
   ],
   "source": [
    "data.head(15)"
   ]
  },
  {
   "cell_type": "code",
   "execution_count": 57,
   "id": "bc556d2c",
   "metadata": {
    "ExecuteTime": {
     "end_time": "2024-06-23T23:34:47.557735Z",
     "start_time": "2024-06-23T23:34:47.546575Z"
    },
    "execution": {
     "iopub.execute_input": "2024-09-02T07:55:15.760034Z",
     "iopub.status.busy": "2024-09-02T07:55:15.759585Z",
     "iopub.status.idle": "2024-09-02T07:55:15.768196Z",
     "shell.execute_reply": "2024-09-02T07:55:15.766876Z"
    },
    "papermill": {
     "duration": 0.053114,
     "end_time": "2024-09-02T07:55:15.771723",
     "exception": false,
     "start_time": "2024-09-02T07:55:15.718609",
     "status": "completed"
    },
    "tags": []
   },
   "outputs": [],
   "source": [
    "new_data = pd.DataFrame({'Year':[2015],'Duration':[115],\\\n",
    "                         'Genre':'Comedy,Drama','Votes':[7123],'Director':['Sharat Katariya'],\\\n",
    "                         'Actor 1':['Jeet'],'Actor 2':['Rishi Kapoor'],'Actor 3':['Vijay Raaz'],})"
   ]
  },
  {
   "cell_type": "code",
   "execution_count": 58,
   "id": "ccf8bbdd",
   "metadata": {
    "ExecuteTime": {
     "end_time": "2024-06-23T23:34:47.573619Z",
     "start_time": "2024-06-23T23:34:47.560754Z"
    },
    "execution": {
     "iopub.execute_input": "2024-09-02T07:55:15.853471Z",
     "iopub.status.busy": "2024-09-02T07:55:15.853014Z",
     "iopub.status.idle": "2024-09-02T07:55:15.867062Z",
     "shell.execute_reply": "2024-09-02T07:55:15.865824Z"
    },
    "papermill": {
     "duration": 0.058767,
     "end_time": "2024-09-02T07:55:15.869501",
     "exception": false,
     "start_time": "2024-09-02T07:55:15.810734",
     "status": "completed"
    },
    "tags": []
   },
   "outputs": [
    {
     "data": {
      "text/html": [
       "<div>\n",
       "<style scoped>\n",
       "    .dataframe tbody tr th:only-of-type {\n",
       "        vertical-align: middle;\n",
       "    }\n",
       "\n",
       "    .dataframe tbody tr th {\n",
       "        vertical-align: top;\n",
       "    }\n",
       "\n",
       "    .dataframe thead th {\n",
       "        text-align: right;\n",
       "    }\n",
       "</style>\n",
       "<table border=\"1\" class=\"dataframe\">\n",
       "  <thead>\n",
       "    <tr style=\"text-align: right;\">\n",
       "      <th></th>\n",
       "      <th>Year</th>\n",
       "      <th>Duration</th>\n",
       "      <th>Genre</th>\n",
       "      <th>Votes</th>\n",
       "      <th>Director</th>\n",
       "      <th>Actor 1</th>\n",
       "      <th>Actor 2</th>\n",
       "      <th>Actor 3</th>\n",
       "    </tr>\n",
       "  </thead>\n",
       "  <tbody>\n",
       "    <tr>\n",
       "      <th>0</th>\n",
       "      <td>2015</td>\n",
       "      <td>115</td>\n",
       "      <td>Comedy,Drama</td>\n",
       "      <td>7123</td>\n",
       "      <td>Sharat Katariya</td>\n",
       "      <td>Jeet</td>\n",
       "      <td>Rishi Kapoor</td>\n",
       "      <td>Vijay Raaz</td>\n",
       "    </tr>\n",
       "  </tbody>\n",
       "</table>\n",
       "</div>"
      ],
      "text/plain": [
       "   Year  Duration         Genre  Votes         Director Actor 1       Actor 2  \\\n",
       "0  2015       115  Comedy,Drama   7123  Sharat Katariya    Jeet  Rishi Kapoor   \n",
       "\n",
       "      Actor 3  \n",
       "0  Vijay Raaz  "
      ]
     },
     "execution_count": 58,
     "metadata": {},
     "output_type": "execute_result"
    }
   ],
   "source": [
    "new_data"
   ]
  },
  {
   "cell_type": "markdown",
   "id": "e555c93e",
   "metadata": {
    "papermill": {
     "duration": 0.038004,
     "end_time": "2024-09-02T07:55:15.945702",
     "exception": false,
     "start_time": "2024-09-02T07:55:15.907698",
     "status": "completed"
    },
    "tags": []
   },
   "source": [
    "## Scaling and Normalizing new data"
   ]
  },
  {
   "cell_type": "code",
   "execution_count": 59,
   "id": "bcffccb5",
   "metadata": {
    "ExecuteTime": {
     "end_time": "2024-06-23T23:34:47.591665Z",
     "start_time": "2024-06-23T23:34:47.575632Z"
    },
    "execution": {
     "iopub.execute_input": "2024-09-02T07:55:16.024190Z",
     "iopub.status.busy": "2024-09-02T07:55:16.023728Z",
     "iopub.status.idle": "2024-09-02T07:55:16.050380Z",
     "shell.execute_reply": "2024-09-02T07:55:16.049141Z"
    },
    "papermill": {
     "duration": 0.069486,
     "end_time": "2024-09-02T07:55:16.053148",
     "exception": false,
     "start_time": "2024-09-02T07:55:15.983662",
     "status": "completed"
    },
    "tags": []
   },
   "outputs": [],
   "source": [
    "new_data = encoder.transform(new_data)\n",
    "new_data.loc[:,:] = scaler.transform(new_data.loc[:,:])"
   ]
  },
  {
   "cell_type": "code",
   "execution_count": 60,
   "id": "ea9f0dc9",
   "metadata": {
    "ExecuteTime": {
     "end_time": "2024-06-23T23:34:47.606444Z",
     "start_time": "2024-06-23T23:34:47.59468Z"
    },
    "execution": {
     "iopub.execute_input": "2024-09-02T07:55:16.135536Z",
     "iopub.status.busy": "2024-09-02T07:55:16.134469Z",
     "iopub.status.idle": "2024-09-02T07:55:16.150656Z",
     "shell.execute_reply": "2024-09-02T07:55:16.149406Z"
    },
    "papermill": {
     "duration": 0.061074,
     "end_time": "2024-09-02T07:55:16.153057",
     "exception": false,
     "start_time": "2024-09-02T07:55:16.091983",
     "status": "completed"
    },
    "tags": []
   },
   "outputs": [
    {
     "data": {
      "text/html": [
       "<div>\n",
       "<style scoped>\n",
       "    .dataframe tbody tr th:only-of-type {\n",
       "        vertical-align: middle;\n",
       "    }\n",
       "\n",
       "    .dataframe tbody tr th {\n",
       "        vertical-align: top;\n",
       "    }\n",
       "\n",
       "    .dataframe thead th {\n",
       "        text-align: right;\n",
       "    }\n",
       "</style>\n",
       "<table border=\"1\" class=\"dataframe\">\n",
       "  <thead>\n",
       "    <tr style=\"text-align: right;\">\n",
       "      <th></th>\n",
       "      <th>Year</th>\n",
       "      <th>Duration</th>\n",
       "      <th>Genre</th>\n",
       "      <th>Votes</th>\n",
       "      <th>Director</th>\n",
       "      <th>Actor 1</th>\n",
       "      <th>Actor 2</th>\n",
       "      <th>Actor 3</th>\n",
       "    </tr>\n",
       "  </thead>\n",
       "  <tbody>\n",
       "    <tr>\n",
       "      <th>0</th>\n",
       "      <td>0.451613</td>\n",
       "      <td>-0.645161</td>\n",
       "      <td>0.015966</td>\n",
       "      <td>8.39976</td>\n",
       "      <td>0.762922</td>\n",
       "      <td>0.305795</td>\n",
       "      <td>0.320959</td>\n",
       "      <td>0.081981</td>\n",
       "    </tr>\n",
       "  </tbody>\n",
       "</table>\n",
       "</div>"
      ],
      "text/plain": [
       "       Year  Duration     Genre    Votes  Director   Actor 1   Actor 2  \\\n",
       "0  0.451613 -0.645161  0.015966  8.39976  0.762922  0.305795  0.320959   \n",
       "\n",
       "    Actor 3  \n",
       "0  0.081981  "
      ]
     },
     "execution_count": 60,
     "metadata": {},
     "output_type": "execute_result"
    }
   ],
   "source": [
    "new_data"
   ]
  },
  {
   "cell_type": "code",
   "execution_count": 61,
   "id": "0887bfa7",
   "metadata": {
    "ExecuteTime": {
     "end_time": "2024-06-23T23:34:47.62017Z",
     "start_time": "2024-06-23T23:34:47.608974Z"
    },
    "execution": {
     "iopub.execute_input": "2024-09-02T07:55:16.233589Z",
     "iopub.status.busy": "2024-09-02T07:55:16.233159Z",
     "iopub.status.idle": "2024-09-02T07:55:16.248068Z",
     "shell.execute_reply": "2024-09-02T07:55:16.246796Z"
    },
    "papermill": {
     "duration": 0.062691,
     "end_time": "2024-09-02T07:55:16.254266",
     "exception": false,
     "start_time": "2024-09-02T07:55:16.191575",
     "status": "completed"
    },
    "tags": []
   },
   "outputs": [
    {
     "data": {
      "text/plain": [
       "array([6.768497], dtype=float32)"
      ]
     },
     "execution_count": 61,
     "metadata": {},
     "output_type": "execute_result"
    }
   ],
   "source": [
    "xgb_model.predict(new_data)"
   ]
  },
  {
   "cell_type": "markdown",
   "id": "6af6aa4b",
   "metadata": {
    "papermill": {
     "duration": 0.037843,
     "end_time": "2024-09-02T07:55:16.331788",
     "exception": false,
     "start_time": "2024-09-02T07:55:16.293945",
     "status": "completed"
    },
    "tags": []
   },
   "source": [
    "### Conclusion \n",
    "### XGBoost Model predicted 6.8 rating on new data which is close to the 7.4 of row 10 so its robust\n",
    "### It had an an average score of 0.85 in cross validation and no big differences between fold so no overfitting\n",
    "### It achieved an r2 score if 0.86"
   ]
  }
 ],
 "metadata": {
  "kaggle": {
   "accelerator": "none",
   "dataSources": [
    {
     "datasetId": 1416444,
     "sourceId": 2346296,
     "sourceType": "datasetVersion"
    }
   ],
   "dockerImageVersionId": 30732,
   "isGpuEnabled": false,
   "isInternetEnabled": true,
   "language": "python",
   "sourceType": "notebook"
  },
  "kernelspec": {
   "display_name": "Python 3",
   "language": "python",
   "name": "python3"
  },
  "language_info": {
   "codemirror_mode": {
    "name": "ipython",
    "version": 3
   },
   "file_extension": ".py",
   "mimetype": "text/x-python",
   "name": "python",
   "nbconvert_exporter": "python",
   "pygments_lexer": "ipython3",
   "version": "3.10.13"
  },
  "papermill": {
   "default_parameters": {},
   "duration": 25.196358,
   "end_time": "2024-09-02T07:55:17.394740",
   "environment_variables": {},
   "exception": null,
   "input_path": "__notebook__.ipynb",
   "output_path": "__notebook__.ipynb",
   "parameters": {},
   "start_time": "2024-09-02T07:54:52.198382",
   "version": "2.5.0"
  },
  "varInspector": {
   "cols": {
    "lenName": 16,
    "lenType": 16,
    "lenVar": 40
   },
   "kernels_config": {
    "python": {
     "delete_cmd_postfix": "",
     "delete_cmd_prefix": "del ",
     "library": "var_list.py",
     "varRefreshCmd": "print(var_dic_list())"
    },
    "r": {
     "delete_cmd_postfix": ") ",
     "delete_cmd_prefix": "rm(",
     "library": "var_list.r",
     "varRefreshCmd": "cat(var_dic_list()) "
    }
   },
   "types_to_exclude": [
    "module",
    "function",
    "builtin_function_or_method",
    "instance",
    "_Feature"
   ],
   "window_display": false
  }
 },
 "nbformat": 4,
 "nbformat_minor": 5
}
